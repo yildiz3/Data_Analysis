{
 "cells": [
  {
   "cell_type": "markdown",
   "id": "b69b0f38",
   "metadata": {},
   "source": [
    "### Scatter Plot:"
   ]
  },
  {
   "cell_type": "markdown",
   "id": "77257350",
   "metadata": {},
   "source": [
    "seaborn.scatterplot(x=None, y=None, hue=None, data=None,  ci=95, legend='auto')"
   ]
  },
  {
   "cell_type": "markdown",
   "id": "e097fd03",
   "metadata": {},
   "source": [
    "### Histogram:"
   ]
  },
  {
   "cell_type": "markdown",
   "id": "13477d42",
   "metadata": {},
   "source": [
    "seaborn.histplot(data=None,x=None, y=None, hue=None, bins='auto', kde=False)"
   ]
  },
  {
   "cell_type": "markdown",
   "id": "c160f35b",
   "metadata": {},
   "source": [
    "### Displot:"
   ]
  },
  {
   "cell_type": "markdown",
   "id": "7d8bd23e",
   "metadata": {},
   "source": [
    "seaborn.displot(data=None, x=None, y=None, hue=None, rug=False)"
   ]
  },
  {
   "cell_type": "markdown",
   "id": "5e8d4032",
   "metadata": {},
   "source": [
    "### Kernel Density Estimere (KDE) plot:"
   ]
  },
  {
   "cell_type": "markdown",
   "id": "45076b5d",
   "metadata": {},
   "source": [
    "seaborn.kdeplot(x=None, y=None, kernel=None, legend=True, hue=None)"
   ]
  },
  {
   "cell_type": "markdown",
   "id": "a558cfc9",
   "metadata": {},
   "source": [
    "### Barplot:"
   ]
  },
  {
   "cell_type": "markdown",
   "id": "2aa6fed3",
   "metadata": {},
   "source": [
    "seaborn.barplot(x=None, y=None, hue=None, data=None, estimator=function, ci=95)"
   ]
  },
  {
   "cell_type": "markdown",
   "id": "4958546e",
   "metadata": {},
   "source": [
    "### Countplot:"
   ]
  },
  {
   "cell_type": "markdown",
   "id": "4707d50c",
   "metadata": {},
   "source": [
    "seaborn.countplot(x=None, y=None, hue=None, data=None, orient=None)"
   ]
  },
  {
   "cell_type": "markdown",
   "id": "71524fa2",
   "metadata": {},
   "source": [
    "### Boxplot:"
   ]
  },
  {
   "cell_type": "markdown",
   "id": "8a5f233b",
   "metadata": {},
   "source": [
    "seaborn.boxplot(x=None, y=None, hue=None, data=None, orient=None)"
   ]
  },
  {
   "cell_type": "markdown",
   "id": "1e91a4f5",
   "metadata": {},
   "source": [
    "### Violinplot:"
   ]
  },
  {
   "cell_type": "markdown",
   "id": "f26027d6",
   "metadata": {},
   "source": [
    "seaborn.violinplot(x=None, y=None, hue=None, data=None, palette=None)"
   ]
  },
  {
   "cell_type": "markdown",
   "id": "de71ede0",
   "metadata": {},
   "source": [
    "### Catplot:"
   ]
  },
  {
   "cell_type": "markdown",
   "id": "ee3ad0ec",
   "metadata": {},
   "source": [
    "seaborn.catplot(x=None, y=None, hue=None, data=None, row=None, col=None, estimator=function, palette=None, legend=True)"
   ]
  },
  {
   "cell_type": "markdown",
   "id": "902f7904",
   "metadata": {},
   "source": [
    "### JointPlot:"
   ]
  },
  {
   "cell_type": "markdown",
   "id": "32e98f91",
   "metadata": {},
   "source": [
    "seaborn.jointplot(x=None, y=None, data=None, kind='scatter',  hue=None)"
   ]
  },
  {
   "cell_type": "markdown",
   "id": "00e69218",
   "metadata": {},
   "source": [
    "### Pairplot:"
   ]
  },
  {
   "cell_type": "markdown",
   "id": "e1392983",
   "metadata": {},
   "source": [
    "seaborn.pairplot(data, hue=None, palette=None, kind='scatter')"
   ]
  },
  {
   "cell_type": "markdown",
   "id": "6b55eeea",
   "metadata": {},
   "source": [
    "### JointGrid:"
   ]
  },
  {
   "cell_type": "markdown",
   "id": "9b2c352e",
   "metadata": {},
   "source": [
    "seaborn.JointGrid(x=None, y=None, data=None,hue=None, palette=None)"
   ]
  },
  {
   "cell_type": "markdown",
   "id": "1ef77f12",
   "metadata": {},
   "source": [
    "### PairGrid"
   ]
  },
  {
   "cell_type": "markdown",
   "id": "fe8493c2",
   "metadata": {},
   "source": [
    "seaborn.PairGrid(data, hue=None, palette=None)"
   ]
  },
  {
   "cell_type": "markdown",
   "id": "4354a344",
   "metadata": {},
   "source": [
    "### FaceGrid:"
   ]
  },
  {
   "cell_type": "markdown",
   "id": "87a46ead",
   "metadata": {},
   "source": [
    "seaborn.FacetGrid(data, row=None, col=None, hue=None, sharey=True, sharex=True)"
   ]
  },
  {
   "cell_type": "markdown",
   "id": "8efd561f",
   "metadata": {},
   "source": [
    "### HeatMap:"
   ]
  },
  {
   "cell_type": "markdown",
   "id": "b00f0fc7",
   "metadata": {},
   "source": [
    "seaborn.heatmap(data, vmin=None, vmax=None, cmap=None, center=None,  annot=None)"
   ]
  },
  {
   "cell_type": "markdown",
   "id": "6cf86f65",
   "metadata": {},
   "source": [
    "### ClusterMap:"
   ]
  },
  {
   "cell_type": "markdown",
   "id": "82d9ab39",
   "metadata": {},
   "source": [
    "seaborn.clustermap(data, method='average', metric='euclidean')"
   ]
  }
 ],
 "metadata": {
  "kernelspec": {
   "display_name": "Python 3 (ipykernel)",
   "language": "python",
   "name": "python3"
  },
  "language_info": {
   "codemirror_mode": {
    "name": "ipython",
    "version": 3
   },
   "file_extension": ".py",
   "mimetype": "text/x-python",
   "name": "python",
   "nbconvert_exporter": "python",
   "pygments_lexer": "ipython3",
   "version": "3.9.7"
  }
 },
 "nbformat": 4,
 "nbformat_minor": 5
}
