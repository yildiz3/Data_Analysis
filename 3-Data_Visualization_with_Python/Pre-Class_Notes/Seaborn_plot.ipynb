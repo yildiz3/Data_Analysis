{
 "cells": [
  {
   "cell_type": "markdown",
   "id": "b69b0f38",
   "metadata": {
    "id": "b69b0f38"
   },
   "source": [
    "### Scatter Plot:"
   ]
  },
  {
   "cell_type": "markdown",
   "id": "77257350",
   "metadata": {
    "id": "77257350"
   },
   "source": [
    "sns.scatterplot(x=None, y=None, hue=None, data=None,  ci=95, legend='auto')"
   ]
  },
  {
   "cell_type": "markdown",
   "id": "e097fd03",
   "metadata": {
    "id": "e097fd03"
   },
   "source": [
    "### Histogram:"
   ]
  },
  {
   "cell_type": "markdown",
   "id": "13477d42",
   "metadata": {
    "id": "13477d42"
   },
   "source": [
    "sns.histplot(data=None,x=None, y=None, hue=None, bins='auto', kde=False)"
   ]
  },
  {
   "cell_type": "markdown",
   "id": "c160f35b",
   "metadata": {
    "id": "c160f35b"
   },
   "source": [
    "### Displot:"
   ]
  },
  {
   "cell_type": "markdown",
   "id": "7d8bd23e",
   "metadata": {
    "id": "7d8bd23e"
   },
   "source": [
    "sns.displot(data=None, x=None, y=None, hue=None, rug=False)"
   ]
  },
  {
   "cell_type": "markdown",
   "id": "5e8d4032",
   "metadata": {
    "id": "5e8d4032"
   },
   "source": [
    "### Kernel Density Estimere (KDE) plot:"
   ]
  },
  {
   "cell_type": "markdown",
   "id": "45076b5d",
   "metadata": {
    "id": "45076b5d"
   },
   "source": [
    "sns.kdeplot(x=None, y=None, kernel=None, legend=True, hue=None)"
   ]
  },
  {
   "cell_type": "markdown",
   "id": "a558cfc9",
   "metadata": {
    "id": "a558cfc9"
   },
   "source": [
    "### Barplot:"
   ]
  },
  {
   "cell_type": "markdown",
   "id": "2aa6fed3",
   "metadata": {
    "id": "2aa6fed3"
   },
   "source": [
    "sns.barplot(x=None, y=None, hue=None, data=None, estimator=function, ci=95)"
   ]
  },
  {
   "cell_type": "markdown",
   "id": "4958546e",
   "metadata": {
    "id": "4958546e"
   },
   "source": [
    "### Countplot:"
   ]
  },
  {
   "cell_type": "markdown",
   "id": "4707d50c",
   "metadata": {
    "id": "4707d50c"
   },
   "source": [
    "sns.countplot(x=None, y=None, hue=None, data=None, orient=None)"
   ]
  },
  {
   "cell_type": "markdown",
   "id": "71524fa2",
   "metadata": {
    "id": "71524fa2"
   },
   "source": [
    "### Boxplot:"
   ]
  },
  {
   "cell_type": "markdown",
   "id": "8a5f233b",
   "metadata": {
    "id": "8a5f233b"
   },
   "source": [
    "sns.boxplot(x=None, y=None, hue=None, data=None, orient=None)"
   ]
  },
  {
   "cell_type": "markdown",
   "id": "1e91a4f5",
   "metadata": {
    "id": "1e91a4f5"
   },
   "source": [
    "### Violinplot:"
   ]
  },
  {
   "cell_type": "markdown",
   "id": "f26027d6",
   "metadata": {
    "id": "f26027d6"
   },
   "source": [
    "sns.violinplot(x=None, y=None, hue=None, data=None, palette=None)"
   ]
  },
  {
   "cell_type": "markdown",
   "id": "de71ede0",
   "metadata": {
    "id": "de71ede0"
   },
   "source": [
    "### Catplot:"
   ]
  },
  {
   "cell_type": "markdown",
   "id": "ee3ad0ec",
   "metadata": {
    "id": "ee3ad0ec"
   },
   "source": [
    "sns.catplot(x=None, y=None, hue=None, data=None, row=None, col=None, estimator=function, palette=None, legend=True)"
   ]
  },
  {
   "cell_type": "markdown",
   "id": "902f7904",
   "metadata": {
    "id": "902f7904"
   },
   "source": [
    "### JointPlot:"
   ]
  },
  {
   "cell_type": "markdown",
   "id": "32e98f91",
   "metadata": {
    "id": "32e98f91"
   },
   "source": [
    "sns.jointplot(x=None, y=None, data=None, kind='scatter',  hue=None)"
   ]
  },
  {
   "cell_type": "markdown",
   "id": "00e69218",
   "metadata": {
    "id": "00e69218"
   },
   "source": [
    "### Pairplot:"
   ]
  },
  {
   "cell_type": "markdown",
   "id": "e1392983",
   "metadata": {
    "id": "e1392983"
   },
   "source": [
    "sns.pairplot(data, hue=None, palette=None, kind='scatter')"
   ]
  },
  {
   "cell_type": "markdown",
   "id": "b6b5d8bb",
   "metadata": {},
   "source": [
    "### SwarmPlot:"
   ]
  },
  {
   "cell_type": "markdown",
   "id": "53d31e1a",
   "metadata": {},
   "source": [
    "sns.swarmplot(x=None, y=None, hue=None, data=None, order=None, orient=None, color=None, palette=None, size=5,)"
   ]
  },
  {
   "cell_type": "markdown",
   "id": "6b55eeea",
   "metadata": {
    "id": "6b55eeea"
   },
   "source": [
    "### JointGrid:"
   ]
  },
  {
   "cell_type": "markdown",
   "id": "9b2c352e",
   "metadata": {
    "id": "9b2c352e"
   },
   "source": [
    "sns.JointGrid(x=None, y=None, data=None,hue=None, palette=None)"
   ]
  },
  {
   "cell_type": "markdown",
   "id": "1ef77f12",
   "metadata": {
    "id": "1ef77f12"
   },
   "source": [
    "### PairGrid"
   ]
  },
  {
   "cell_type": "markdown",
   "id": "fe8493c2",
   "metadata": {
    "id": "fe8493c2"
   },
   "source": [
    "sns.PairGrid(data, hue=None, palette=None)"
   ]
  },
  {
   "cell_type": "markdown",
   "id": "4354a344",
   "metadata": {
    "id": "4354a344"
   },
   "source": [
    "### FaceGrid:"
   ]
  },
  {
   "cell_type": "markdown",
   "id": "87a46ead",
   "metadata": {
    "id": "87a46ead"
   },
   "source": [
    "sns.FacetGrid(data, row=None, col=None, hue=None, sharey=True, sharex=True)"
   ]
  },
  {
   "cell_type": "markdown",
   "id": "8efd561f",
   "metadata": {
    "id": "8efd561f"
   },
   "source": [
    "### HeatMap:"
   ]
  },
  {
   "cell_type": "markdown",
   "id": "b00f0fc7",
   "metadata": {
    "id": "b00f0fc7"
   },
   "source": [
    "sns.heatmap(data, vmin=None, vmax=None, cmap=None, center=None,  annot=None)"
   ]
  },
  {
   "cell_type": "markdown",
   "id": "6cf86f65",
   "metadata": {
    "id": "6cf86f65"
   },
   "source": [
    "### ClusterMap:"
   ]
  },
  {
   "cell_type": "markdown",
   "id": "82d9ab39",
   "metadata": {
    "id": "82d9ab39"
   },
   "source": [
    "sns.clustermap(data, method='average', metric='euclidean')"
   ]
  }
 ],
 "metadata": {
  "colab": {
   "name": "Seaborn_plot.ipynb",
   "provenance": []
  },
  "kernelspec": {
   "display_name": "Python 3 (ipykernel)",
   "language": "python",
   "name": "python3"
  },
  "language_info": {
   "codemirror_mode": {
    "name": "ipython",
    "version": 3
   },
   "file_extension": ".py",
   "mimetype": "text/x-python",
   "name": "python",
   "nbconvert_exporter": "python",
   "pygments_lexer": "ipython3",
   "version": "3.9.7"
  }
 },
 "nbformat": 4,
 "nbformat_minor": 5
}
