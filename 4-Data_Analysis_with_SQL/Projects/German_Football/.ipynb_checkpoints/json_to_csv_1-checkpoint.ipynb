{
 "cells": [
  {
   "cell_type": "markdown",
   "id": "0209e3bf",
   "metadata": {},
   "source": [
    "### File Convertion Function"
   ]
  },
  {
   "cell_type": "code",
   "execution_count": null,
   "id": "f21e3348",
   "metadata": {
    "ExecuteTime": {
     "end_time": "2022-10-12T14:18:00.483872Z",
     "start_time": "2022-10-12T14:18:00.458889Z"
    }
   },
   "outputs": [],
   "source": [
    "def convert_json_to_csv(file_name_list, file_path, saved_file_path=\"same\", encode=\"LATIN-1\", see_json=\"No\"):\n",
    "    \"\"\"\n",
    "    This function converts your (.json) file to (.csv) file type.\n",
    "    \n",
    "    file_path: Locate your file where you want to convert from \n",
    "            (If your path contains '\\\\' please use r\"your_file_path\" format)\n",
    "    \n",
    "    saved_file_path: (default: same as the original file's path) Locate your file where you want to convert to \n",
    "            (If your path contains '\\\\' please use r\"your_file_path\" format)\n",
    "    \n",
    "    file_name_list: (list format needed []) Type your file name without file extension which you want to convert from\n",
    "    \n",
    "    encode: (default: \"LATIN-1\") Type encoding type what you want to save file as to csv\n",
    "    \n",
    "    see_json: (default: \"No\") If you want to see json file content, please type 'Yes' if not DataFrame will be showed up\n",
    "    \n",
    "    \"\"\"\n",
    "    import pandas as pd\n",
    "    import json\n",
    "    #\n",
    "    #    \n",
    "    file_extension_json = \".json\"\n",
    "    file_extension_csv = \".csv\"\n",
    "    #\n",
    "    #\n",
    "    if type(file_name_list) != list:\n",
    "        raise ValueError(\"List type required for file_name_list. Please use ['file_name', 'other_file_name'] format\")\n",
    "    #\n",
    "    #\n",
    "    if type(file_path) != str:\n",
    "        raise ValueError(\"String type required for file_path.\")\n",
    "\n",
    "    if file_path[-1] != \"\\\\\":\n",
    "        file_path += \"\\\\\"\n",
    "        print(f\"Json file's path: {file_path}\\n\")\n",
    "    #\n",
    "    #\n",
    "    if type(saved_file_path) != str:\n",
    "        raise ValueError(\"String type required for saved_file_path.\")\n",
    "    \n",
    "    elif saved_file_path == \"same\":\n",
    "        saved_file_path = file_path    \n",
    "    \n",
    "    else:\n",
    "        if saved_file_path[-1] != \"\\\\\":\n",
    "            saved_file_path += \"\\\\\"\n",
    "            print(f\"Json file's path: {saved_file_path}\\n\")\n",
    "    #\n",
    "    #\n",
    "    for i in range(len(file_name_list)):\n",
    "        with open((file_path + file_name_list[i] + file_extension_json), 'r', encoding='UTF-8') as f:\n",
    "            data = \"data\"+str(i)\n",
    "            data = json.load(f)\n",
    "        \n",
    "        if see_json == \"Yes\":\n",
    "            print(\"Json File Content:\")\n",
    "            print(\"**************************\")\n",
    "            for key, value in (data).items():\n",
    "                print(f\"\\n\\n*** {key} ***\")\n",
    "                print(\"------------------\")\n",
    "\n",
    "                for i, j in value.items():\n",
    "                    print(i, \": \", j)\n",
    "\n",
    "        else:\n",
    "            print(\"\\n\" * 3)\n",
    "            print(\"From Json File To DataFrame:\")\n",
    "            print(\"*****************************\")\n",
    "            df = pd.DataFrame.from_dict(data)\n",
    "            print(df)\n",
    "    #\n",
    "    #\n",
    "        (df).to_csv((file_name_list[i] + file_extension_csv), encoding=encode, index=False)\n",
    "        print(\"\\n\", \"-----------------------------------------\")\n",
    "        print(f\"Done! Json file {i+1} successfully converted to csv file\")\n",
    "        print(\"-----------------------------------------\", \"\\n\")\n",
    "    #\n",
    "    #\n",
    "        i += 1\n",
    "    #\n",
    "    #\n",
    "    return \"\"\"*** ALL FILE CONVERTION HAS BEEN SUCCESSFULLY COMPLETED ***\"\"\""
   ]
  },
  {
   "cell_type": "code",
   "execution_count": null,
   "id": "0dfb3a83",
   "metadata": {
    "ExecuteTime": {
     "end_time": "2022-10-12T14:18:01.248953Z",
     "start_time": "2022-10-12T14:18:00.706970Z"
    }
   },
   "outputs": [],
   "source": [
    "# 1.Alternative: You can define variables before and then use this variable into convertion function\n",
    "\n",
    "file_name_list = [\"\", \"\"]\n",
    "file_path = r\"\"\n",
    "saved_file_path = \"same\"\n",
    "\n",
    "convert_json_to_csv(file_name_list=file_name_list,\n",
    "                    file_path=file_path,\n",
    "                    saved_file_path=saved_file_path,\n",
    "                    encode=\"LATIN-1\",\n",
    "                    see_json=\"No\")"
   ]
  },
  {
   "cell_type": "code",
   "execution_count": null,
   "id": "8c75b6bf",
   "metadata": {},
   "outputs": [],
   "source": [
    "# 2.Alternative: You can directly type function paramaters into convertion function here\n",
    "# Comment out the function below\n",
    "\n",
    "# def convert_json_to_csv(file_name_list = [\"\"], \n",
    "#                         file_path = \"\", \n",
    "#                         saved_file_path=file_path, \n",
    "#                         encode=\"LATIN-1\", \n",
    "#                         see_json=\"No\")"
   ]
  },
  {
   "cell_type": "code",
   "execution_count": 1,
   "id": "988b1084",
   "metadata": {},
   "outputs": [],
   "source": [
    "import pandas as pd\n",
    "import json"
   ]
  },
  {
   "cell_type": "markdown",
   "id": "a2b5fd33",
   "metadata": {},
   "source": [
    "# Fixtures Liga 3"
   ]
  },
  {
   "cell_type": "code",
   "execution_count": null,
   "id": "0291fd45",
   "metadata": {
    "ExecuteTime": {
     "end_time": "2022-10-12T08:55:51.473759Z",
     "start_time": "2022-10-12T08:55:51.266655Z"
    }
   },
   "outputs": [],
   "source": [
    "file = \"fixtures_full_liga_3\"\n",
    "file_path = r'C:\\Users\\yildi\\OneDrive\\Masaüstü\\git_bash\\Data_Analysis\\4-Data_Analysis_with_SQL\\Projects\\German_Football\\'\n",
    "\n",
    "with open((file_path + file + file_extension_json), 'r', encoding='UTF-8') as f:\n",
    "    data = json.load(f)\n",
    "\n",
    "for key, value in data.items():\n",
    "    print(f\"\\n\\n*** {key} ***\")\n",
    "    print(\"------------------\")\n",
    "    \n",
    "    for i, j in value.items():\n",
    "        print(i, \": \", j)"
   ]
  },
  {
   "cell_type": "code",
   "execution_count": null,
   "id": "4f11f718",
   "metadata": {
    "ExecuteTime": {
     "end_time": "2022-10-11T08:24:04.975628Z",
     "start_time": "2022-10-11T08:24:04.942438Z"
    }
   },
   "outputs": [],
   "source": [
    "df = pd.DataFrame.from_dict(data)\n",
    "df"
   ]
  },
  {
   "cell_type": "code",
   "execution_count": null,
   "id": "ecd571d9",
   "metadata": {
    "ExecuteTime": {
     "end_time": "2022-10-11T08:24:24.512474Z",
     "start_time": "2022-10-11T08:24:24.467010Z"
    }
   },
   "outputs": [],
   "source": [
    "df.to_csv((file + file_extension_csv), encoding='LATIN-1', index=False)"
   ]
  },
  {
   "cell_type": "markdown",
   "id": "cb49a156",
   "metadata": {},
   "source": [
    "# Fixtures Bundesliga"
   ]
  },
  {
   "cell_type": "code",
   "execution_count": null,
   "id": "9a998a35",
   "metadata": {
    "ExecuteTime": {
     "end_time": "2022-10-11T08:26:38.973903Z",
     "start_time": "2022-10-11T08:26:38.864014Z"
    }
   },
   "outputs": [],
   "source": [
    "file = \"fixtures_full_bundesliga\"\n",
    "file_path = 'C:/Users/Mustafa/Desktop/Clarusway Dosyalar/RDB & SQL/German Football/'\n",
    "\n",
    "with open((file_path + file + file_extension_json), 'r', encoding='UTF-8') as f:\n",
    "    data2 = json.load(f)\n",
    "\n",
    "for key, value in data2.items():\n",
    "    print(f\"\\n\\n*** {key} ***\")\n",
    "    print(\"------------------\")\n",
    "    \n",
    "    for i, j in value.items():\n",
    "        print(i, \": \", j)"
   ]
  },
  {
   "cell_type": "code",
   "execution_count": null,
   "id": "9af7df9c",
   "metadata": {
    "ExecuteTime": {
     "end_time": "2022-10-11T08:26:57.152085Z",
     "start_time": "2022-10-11T08:26:57.063171Z"
    }
   },
   "outputs": [],
   "source": [
    "df2 = pd.DataFrame.from_dict(data2)\n",
    "df2"
   ]
  },
  {
   "cell_type": "code",
   "execution_count": null,
   "id": "62606684",
   "metadata": {
    "ExecuteTime": {
     "end_time": "2022-10-11T08:38:27.909049Z",
     "start_time": "2022-10-11T08:38:27.853014Z"
    }
   },
   "outputs": [],
   "source": [
    "df2.to_csv((file + file_extension_csv), encoding='LATIN-1', index=False)"
   ]
  },
  {
   "cell_type": "markdown",
   "id": "75e25c4b",
   "metadata": {},
   "source": [
    "# Fixtures Bundesliga 2"
   ]
  },
  {
   "cell_type": "code",
   "execution_count": null,
   "id": "d6943799",
   "metadata": {
    "ExecuteTime": {
     "end_time": "2022-10-11T08:27:59.218729Z",
     "start_time": "2022-10-11T08:27:59.078732Z"
    }
   },
   "outputs": [],
   "source": [
    "file = \"fixtures_full_bundesliga_2\"\n",
    "file_path = 'C:/Users/Mustafa/Desktop/Clarusway Dosyalar/RDB & SQL/German Football/'\n",
    "\n",
    "with open((file_path + file + file_extension_json), 'r', encoding='UTF-8') as f:\n",
    "    data3 = json.load(f)\n",
    "\n",
    "for key, value in data3.items():\n",
    "    print(f\"\\n\\n*** {key} ***\")\n",
    "    print(\"------------------\")\n",
    "    \n",
    "    for i, j in value.items():\n",
    "        print(i, \": \", j)"
   ]
  },
  {
   "cell_type": "code",
   "execution_count": null,
   "id": "66090c9a",
   "metadata": {
    "ExecuteTime": {
     "end_time": "2022-10-11T08:28:16.419224Z",
     "start_time": "2022-10-11T08:28:16.297831Z"
    }
   },
   "outputs": [],
   "source": [
    "df3 = pd.DataFrame.from_dict(data3)\n",
    "df3"
   ]
  },
  {
   "cell_type": "code",
   "execution_count": null,
   "id": "40960061",
   "metadata": {
    "ExecuteTime": {
     "end_time": "2022-10-11T08:38:44.278892Z",
     "start_time": "2022-10-11T08:38:44.208847Z"
    }
   },
   "outputs": [],
   "source": [
    "df3.to_csv((file + file_extension_csv), encoding='LATIN-1', index=False)"
   ]
  },
  {
   "cell_type": "markdown",
   "id": "d8b355e8",
   "metadata": {},
   "source": [
    "# Ranking Liga 3"
   ]
  },
  {
   "cell_type": "code",
   "execution_count": null,
   "id": "37b10672",
   "metadata": {
    "ExecuteTime": {
     "end_time": "2022-10-11T08:30:32.073991Z",
     "start_time": "2022-10-11T08:30:31.941948Z"
    }
   },
   "outputs": [],
   "source": [
    "file = \"ranking_full_liga_3\"\n",
    "file_path = 'C:/Users/Mustafa/Desktop/Clarusway Dosyalar/RDB & SQL/German Football/'\n",
    "\n",
    "with open((file_path + file + file_extension_json), 'r', encoding='UTF-8') as f:\n",
    "    data4 = json.load(f)\n",
    "\n",
    "for key, value in data4.items():\n",
    "    print(f\"\\n\\n*** {key} ***\")\n",
    "    print(\"------------------\")\n",
    "    \n",
    "    for i, j in value.items():\n",
    "        print(i, \": \", j)"
   ]
  },
  {
   "cell_type": "code",
   "execution_count": null,
   "id": "17b3a47f",
   "metadata": {
    "ExecuteTime": {
     "end_time": "2022-10-11T08:30:57.096448Z",
     "start_time": "2022-10-11T08:30:57.020273Z"
    }
   },
   "outputs": [],
   "source": [
    "df4 = pd.DataFrame.from_dict(data4)\n",
    "df4"
   ]
  },
  {
   "cell_type": "code",
   "execution_count": null,
   "id": "0bf50cad",
   "metadata": {
    "ExecuteTime": {
     "end_time": "2022-10-11T08:39:27.144655Z",
     "start_time": "2022-10-11T08:39:27.101065Z"
    }
   },
   "outputs": [],
   "source": [
    "df4.to_csv((file + file_extension_csv), encoding='LATIN-1', index=False)"
   ]
  },
  {
   "cell_type": "markdown",
   "id": "919dff60",
   "metadata": {},
   "source": [
    "# Ranking Bundesliga"
   ]
  },
  {
   "cell_type": "code",
   "execution_count": null,
   "id": "635eca6a",
   "metadata": {
    "ExecuteTime": {
     "end_time": "2022-10-11T08:33:20.192723Z",
     "start_time": "2022-10-11T08:33:19.828388Z"
    }
   },
   "outputs": [],
   "source": [
    "file = \"ranking_full_bundesliga\"\n",
    "file_path = 'C:/Users/Mustafa/Desktop/Clarusway Dosyalar/RDB & SQL/German Football/'\n",
    "\n",
    "with open((file_path + file + file_extension_json), 'r', encoding='UTF-8') as f:\n",
    "    data5 = json.load(f)\n",
    "\n",
    "for key, value in data5.items():\n",
    "    print(f\"\\n\\n*** {key} ***\")\n",
    "    print(\"------------------\")\n",
    "    \n",
    "    for i, j in value.items():\n",
    "        print(i, \": \", j)"
   ]
  },
  {
   "cell_type": "code",
   "execution_count": null,
   "id": "0483ac84",
   "metadata": {
    "ExecuteTime": {
     "end_time": "2022-10-11T08:34:03.788333Z",
     "start_time": "2022-10-11T08:34:03.588337Z"
    }
   },
   "outputs": [],
   "source": [
    "df5 = pd.DataFrame.from_dict(data5)\n",
    "df5"
   ]
  },
  {
   "cell_type": "code",
   "execution_count": null,
   "id": "f0321416",
   "metadata": {
    "ExecuteTime": {
     "end_time": "2022-10-11T08:39:43.955758Z",
     "start_time": "2022-10-11T08:39:43.797789Z"
    }
   },
   "outputs": [],
   "source": [
    "df5.to_csv((file + file_extension_csv), encoding='LATIN-1', index=False)"
   ]
  },
  {
   "cell_type": "markdown",
   "id": "e9a9c5e9",
   "metadata": {},
   "source": [
    "# Ranking Bundesliga 2"
   ]
  },
  {
   "cell_type": "code",
   "execution_count": null,
   "id": "ba3191b0",
   "metadata": {
    "ExecuteTime": {
     "end_time": "2022-10-11T08:36:53.757389Z",
     "start_time": "2022-10-11T08:36:53.384255Z"
    }
   },
   "outputs": [],
   "source": [
    "file = \"ranking_full_bundesliga_2\"\n",
    "file_path = 'C:/Users/Mustafa/Desktop/Clarusway Dosyalar/RDB & SQL/German Football/'\n",
    "\n",
    "with open((file_path + file + file_extension_json), 'r', encoding='UTF-8') as f:\n",
    "    data6 = json.load(f)\n",
    "\n",
    "for key, value in data6.items():\n",
    "    print(f\"\\n\\n*** {key} ***\")\n",
    "    print(\"------------------\")\n",
    "    \n",
    "    for i, j in value.items():\n",
    "        print(i, \": \", j)"
   ]
  },
  {
   "cell_type": "code",
   "execution_count": null,
   "id": "00e74e42",
   "metadata": {
    "ExecuteTime": {
     "end_time": "2022-10-11T08:37:14.047885Z",
     "start_time": "2022-10-11T08:37:13.783060Z"
    }
   },
   "outputs": [],
   "source": [
    "df6 = pd.DataFrame.from_dict(data6)\n",
    "df6"
   ]
  },
  {
   "cell_type": "code",
   "execution_count": null,
   "id": "8b7d6cc0",
   "metadata": {
    "ExecuteTime": {
     "end_time": "2022-10-11T08:39:57.743150Z",
     "start_time": "2022-10-11T08:39:57.614843Z"
    }
   },
   "outputs": [],
   "source": [
    "df6.to_csv((file + file_extension_csv), encoding='LATIN-1', index=False)"
   ]
  }
 ],
 "metadata": {
  "kernelspec": {
   "display_name": "Python 3 (ipykernel)",
   "language": "python",
   "name": "python3"
  },
  "language_info": {
   "codemirror_mode": {
    "name": "ipython",
    "version": 3
   },
   "file_extension": ".py",
   "mimetype": "text/x-python",
   "name": "python",
   "nbconvert_exporter": "python",
   "pygments_lexer": "ipython3",
   "version": "3.9.13"
  },
  "toc": {
   "base_numbering": 1,
   "nav_menu": {},
   "number_sections": true,
   "sideBar": true,
   "skip_h1_title": false,
   "title_cell": "Table of Contents",
   "title_sidebar": "Contents",
   "toc_cell": false,
   "toc_position": {},
   "toc_section_display": true,
   "toc_window_display": false
  },
  "varInspector": {
   "cols": {
    "lenName": 16,
    "lenType": 16,
    "lenVar": 40
   },
   "kernels_config": {
    "python": {
     "delete_cmd_postfix": "",
     "delete_cmd_prefix": "del ",
     "library": "var_list.py",
     "varRefreshCmd": "print(var_dic_list())"
    },
    "r": {
     "delete_cmd_postfix": ") ",
     "delete_cmd_prefix": "rm(",
     "library": "var_list.r",
     "varRefreshCmd": "cat(var_dic_list()) "
    }
   },
   "types_to_exclude": [
    "module",
    "function",
    "builtin_function_or_method",
    "instance",
    "_Feature"
   ],
   "window_display": false
  }
 },
 "nbformat": 4,
 "nbformat_minor": 5
}
