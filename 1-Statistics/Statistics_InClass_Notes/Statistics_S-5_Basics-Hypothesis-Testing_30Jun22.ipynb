{
 "cells": [
  {
   "attachments": {},
   "cell_type": "markdown",
   "id": "50d32cee",
   "metadata": {},
   "source": [
    "# <p style=\"background-color:#9d4f8c; font-family:newtimeroman; color:#FFF9ED; font-size:150%; text-align:center; border-radius:10px 10px;\">Statistics Session-5 <br> Basic Concepts of Hypothesis Testing <br> (30 Jun 22)</p>"
   ]
  },
  {
   "cell_type": "markdown",
   "id": "17c802d0",
   "metadata": {},
   "source": [
    "## **In-Class**"
   ]
  },
  {
   "cell_type": "markdown",
   "id": "285893e9",
   "metadata": {},
   "source": [
    "### Importing libraries"
   ]
  },
  {
   "cell_type": "code",
   "execution_count": 5,
   "id": "b1f7c337",
   "metadata": {
    "ExecuteTime": {
     "end_time": "2022-06-29T13:18:21.784659Z",
     "start_time": "2022-06-29T13:18:21.426486Z"
    }
   },
   "outputs": [],
   "source": [
    "import numpy as np\n",
    "import matplotlib.pyplot as plt\n",
    "from scipy import stats\n",
    "import seaborn as sns"
   ]
  },
  {
   "cell_type": "markdown",
   "id": "0d87a865",
   "metadata": {},
   "source": [
    "### One Sample t Test"
   ]
  },
  {
   "cell_type": "code",
   "execution_count": 6,
   "id": "7bd661c8",
   "metadata": {},
   "outputs": [],
   "source": [
    "xbar = 10.5\n",
    "sigma = 1.5\n",
    "n = 40\n",
    "mu = 10"
   ]
  },
  {
   "cell_type": "markdown",
   "id": "c00d9f18",
   "metadata": {},
   "source": [
    "H0: mu = 10\n",
    "\n",
    "H1: mu > 10"
   ]
  },
  {
   "cell_type": "markdown",
   "id": "0f284c93",
   "metadata": {},
   "source": [
    "### Test Statistic"
   ]
  },
  {
   "cell_type": "code",
   "execution_count": 7,
   "id": "e6d1d001",
   "metadata": {},
   "outputs": [
    {
     "data": {
      "text/plain": [
       "2.1081851067789197"
      ]
     },
     "execution_count": 7,
     "metadata": {},
     "output_type": "execute_result"
    }
   ],
   "source": [
    "z = (xbar - mu) / (sigma/np.sqrt(n))\n",
    "z"
   ]
  },
  {
   "cell_type": "markdown",
   "id": "8f3cd2ea",
   "metadata": {},
   "source": [
    "### p-value"
   ]
  },
  {
   "cell_type": "code",
   "execution_count": 8,
   "id": "725dd239",
   "metadata": {},
   "outputs": [
    {
     "data": {
      "text/plain": [
       "0.017507490509831247"
      ]
     },
     "execution_count": 8,
     "metadata": {},
     "output_type": "execute_result"
    }
   ],
   "source": [
    "p = 1 - stats.norm.cdf(z)\n",
    "p"
   ]
  },
  {
   "cell_type": "code",
   "execution_count": null,
   "id": "6ce385d0",
   "metadata": {},
   "outputs": [],
   "source": [
    "stats.ttest_1samp(a, 10, alternative='greater') # can't provide array-like sample data"
   ]
  },
  {
   "cell_type": "code",
   "execution_count": 10,
   "id": "3ea35da6",
   "metadata": {},
   "outputs": [
    {
     "data": {
      "text/plain": [
       "['anagrams',\n",
       " 'anscombe',\n",
       " 'attention',\n",
       " 'brain_networks',\n",
       " 'car_crashes',\n",
       " 'diamonds',\n",
       " 'dots',\n",
       " 'exercise',\n",
       " 'flights',\n",
       " 'fmri',\n",
       " 'gammas',\n",
       " 'geyser',\n",
       " 'iris',\n",
       " 'mpg',\n",
       " 'penguins',\n",
       " 'planets',\n",
       " 'taxis',\n",
       " 'tips',\n",
       " 'titanic']"
      ]
     },
     "execution_count": 10,
     "metadata": {},
     "output_type": "execute_result"
    }
   ],
   "source": [
    "sns.get_dataset_names()"
   ]
  },
  {
   "cell_type": "code",
   "execution_count": 11,
   "id": "f2123ec7",
   "metadata": {},
   "outputs": [
    {
     "data": {
      "text/html": [
       "<div>\n",
       "<style scoped>\n",
       "    .dataframe tbody tr th:only-of-type {\n",
       "        vertical-align: middle;\n",
       "    }\n",
       "\n",
       "    .dataframe tbody tr th {\n",
       "        vertical-align: top;\n",
       "    }\n",
       "\n",
       "    .dataframe thead th {\n",
       "        text-align: right;\n",
       "    }\n",
       "</style>\n",
       "<table border=\"1\" class=\"dataframe\">\n",
       "  <thead>\n",
       "    <tr style=\"text-align: right;\">\n",
       "      <th></th>\n",
       "      <th>mpg</th>\n",
       "      <th>cylinders</th>\n",
       "      <th>displacement</th>\n",
       "      <th>horsepower</th>\n",
       "      <th>weight</th>\n",
       "      <th>acceleration</th>\n",
       "      <th>model_year</th>\n",
       "      <th>origin</th>\n",
       "      <th>name</th>\n",
       "    </tr>\n",
       "  </thead>\n",
       "  <tbody>\n",
       "    <tr>\n",
       "      <th>0</th>\n",
       "      <td>18.0</td>\n",
       "      <td>8</td>\n",
       "      <td>307.0</td>\n",
       "      <td>130.0</td>\n",
       "      <td>3504</td>\n",
       "      <td>12.0</td>\n",
       "      <td>70</td>\n",
       "      <td>usa</td>\n",
       "      <td>chevrolet chevelle malibu</td>\n",
       "    </tr>\n",
       "    <tr>\n",
       "      <th>1</th>\n",
       "      <td>15.0</td>\n",
       "      <td>8</td>\n",
       "      <td>350.0</td>\n",
       "      <td>165.0</td>\n",
       "      <td>3693</td>\n",
       "      <td>11.5</td>\n",
       "      <td>70</td>\n",
       "      <td>usa</td>\n",
       "      <td>buick skylark 320</td>\n",
       "    </tr>\n",
       "    <tr>\n",
       "      <th>2</th>\n",
       "      <td>18.0</td>\n",
       "      <td>8</td>\n",
       "      <td>318.0</td>\n",
       "      <td>150.0</td>\n",
       "      <td>3436</td>\n",
       "      <td>11.0</td>\n",
       "      <td>70</td>\n",
       "      <td>usa</td>\n",
       "      <td>plymouth satellite</td>\n",
       "    </tr>\n",
       "    <tr>\n",
       "      <th>3</th>\n",
       "      <td>16.0</td>\n",
       "      <td>8</td>\n",
       "      <td>304.0</td>\n",
       "      <td>150.0</td>\n",
       "      <td>3433</td>\n",
       "      <td>12.0</td>\n",
       "      <td>70</td>\n",
       "      <td>usa</td>\n",
       "      <td>amc rebel sst</td>\n",
       "    </tr>\n",
       "    <tr>\n",
       "      <th>4</th>\n",
       "      <td>17.0</td>\n",
       "      <td>8</td>\n",
       "      <td>302.0</td>\n",
       "      <td>140.0</td>\n",
       "      <td>3449</td>\n",
       "      <td>10.5</td>\n",
       "      <td>70</td>\n",
       "      <td>usa</td>\n",
       "      <td>ford torino</td>\n",
       "    </tr>\n",
       "  </tbody>\n",
       "</table>\n",
       "</div>"
      ],
      "text/plain": [
       "    mpg  cylinders  displacement  horsepower  weight  acceleration  \\\n",
       "0  18.0          8         307.0       130.0    3504          12.0   \n",
       "1  15.0          8         350.0       165.0    3693          11.5   \n",
       "2  18.0          8         318.0       150.0    3436          11.0   \n",
       "3  16.0          8         304.0       150.0    3433          12.0   \n",
       "4  17.0          8         302.0       140.0    3449          10.5   \n",
       "\n",
       "   model_year origin                       name  \n",
       "0          70    usa  chevrolet chevelle malibu  \n",
       "1          70    usa          buick skylark 320  \n",
       "2          70    usa         plymouth satellite  \n",
       "3          70    usa              amc rebel sst  \n",
       "4          70    usa                ford torino  "
      ]
     },
     "execution_count": 11,
     "metadata": {},
     "output_type": "execute_result"
    }
   ],
   "source": [
    "df = sns.load_dataset('mpg')\n",
    "df.head()"
   ]
  },
  {
   "cell_type": "code",
   "execution_count": 12,
   "id": "a7436f82",
   "metadata": {},
   "outputs": [
    {
     "data": {
      "text/html": [
       "<div>\n",
       "<style scoped>\n",
       "    .dataframe tbody tr th:only-of-type {\n",
       "        vertical-align: middle;\n",
       "    }\n",
       "\n",
       "    .dataframe tbody tr th {\n",
       "        vertical-align: top;\n",
       "    }\n",
       "\n",
       "    .dataframe thead th {\n",
       "        text-align: right;\n",
       "    }\n",
       "</style>\n",
       "<table border=\"1\" class=\"dataframe\">\n",
       "  <thead>\n",
       "    <tr style=\"text-align: right;\">\n",
       "      <th></th>\n",
       "      <th>mpg</th>\n",
       "      <th>cylinders</th>\n",
       "      <th>displacement</th>\n",
       "      <th>horsepower</th>\n",
       "      <th>weight</th>\n",
       "      <th>acceleration</th>\n",
       "      <th>model_year</th>\n",
       "    </tr>\n",
       "  </thead>\n",
       "  <tbody>\n",
       "    <tr>\n",
       "      <th>count</th>\n",
       "      <td>249.000000</td>\n",
       "      <td>249.000000</td>\n",
       "      <td>249.000000</td>\n",
       "      <td>245.00000</td>\n",
       "      <td>249.000000</td>\n",
       "      <td>249.000000</td>\n",
       "      <td>249.000000</td>\n",
       "    </tr>\n",
       "    <tr>\n",
       "      <th>mean</th>\n",
       "      <td>20.083534</td>\n",
       "      <td>6.248996</td>\n",
       "      <td>245.901606</td>\n",
       "      <td>119.04898</td>\n",
       "      <td>3361.931727</td>\n",
       "      <td>15.033735</td>\n",
       "      <td>75.610442</td>\n",
       "    </tr>\n",
       "    <tr>\n",
       "      <th>std</th>\n",
       "      <td>6.402892</td>\n",
       "      <td>1.661425</td>\n",
       "      <td>98.501839</td>\n",
       "      <td>39.89779</td>\n",
       "      <td>794.792506</td>\n",
       "      <td>2.751112</td>\n",
       "      <td>3.677094</td>\n",
       "    </tr>\n",
       "    <tr>\n",
       "      <th>min</th>\n",
       "      <td>9.000000</td>\n",
       "      <td>4.000000</td>\n",
       "      <td>85.000000</td>\n",
       "      <td>52.00000</td>\n",
       "      <td>1800.000000</td>\n",
       "      <td>8.000000</td>\n",
       "      <td>70.000000</td>\n",
       "    </tr>\n",
       "    <tr>\n",
       "      <th>25%</th>\n",
       "      <td>15.000000</td>\n",
       "      <td>4.000000</td>\n",
       "      <td>151.000000</td>\n",
       "      <td>88.00000</td>\n",
       "      <td>2720.000000</td>\n",
       "      <td>13.000000</td>\n",
       "      <td>73.000000</td>\n",
       "    </tr>\n",
       "    <tr>\n",
       "      <th>50%</th>\n",
       "      <td>18.500000</td>\n",
       "      <td>6.000000</td>\n",
       "      <td>250.000000</td>\n",
       "      <td>105.00000</td>\n",
       "      <td>3365.000000</td>\n",
       "      <td>15.000000</td>\n",
       "      <td>76.000000</td>\n",
       "    </tr>\n",
       "    <tr>\n",
       "      <th>75%</th>\n",
       "      <td>24.000000</td>\n",
       "      <td>8.000000</td>\n",
       "      <td>318.000000</td>\n",
       "      <td>150.00000</td>\n",
       "      <td>4054.000000</td>\n",
       "      <td>16.900000</td>\n",
       "      <td>79.000000</td>\n",
       "    </tr>\n",
       "    <tr>\n",
       "      <th>max</th>\n",
       "      <td>39.000000</td>\n",
       "      <td>8.000000</td>\n",
       "      <td>455.000000</td>\n",
       "      <td>230.00000</td>\n",
       "      <td>5140.000000</td>\n",
       "      <td>22.200000</td>\n",
       "      <td>82.000000</td>\n",
       "    </tr>\n",
       "  </tbody>\n",
       "</table>\n",
       "</div>"
      ],
      "text/plain": [
       "              mpg   cylinders  displacement  horsepower       weight  \\\n",
       "count  249.000000  249.000000    249.000000   245.00000   249.000000   \n",
       "mean    20.083534    6.248996    245.901606   119.04898  3361.931727   \n",
       "std      6.402892    1.661425     98.501839    39.89779   794.792506   \n",
       "min      9.000000    4.000000     85.000000    52.00000  1800.000000   \n",
       "25%     15.000000    4.000000    151.000000    88.00000  2720.000000   \n",
       "50%     18.500000    6.000000    250.000000   105.00000  3365.000000   \n",
       "75%     24.000000    8.000000    318.000000   150.00000  4054.000000   \n",
       "max     39.000000    8.000000    455.000000   230.00000  5140.000000   \n",
       "\n",
       "       acceleration  model_year  \n",
       "count    249.000000  249.000000  \n",
       "mean      15.033735   75.610442  \n",
       "std        2.751112    3.677094  \n",
       "min        8.000000   70.000000  \n",
       "25%       13.000000   73.000000  \n",
       "50%       15.000000   76.000000  \n",
       "75%       16.900000   79.000000  \n",
       "max       22.200000   82.000000  "
      ]
     },
     "execution_count": 12,
     "metadata": {},
     "output_type": "execute_result"
    }
   ],
   "source": [
    "df[df[\"origin\"] == \"usa\"].describe()"
   ]
  },
  {
   "cell_type": "code",
   "execution_count": 13,
   "id": "0049487c",
   "metadata": {},
   "outputs": [
    {
     "data": {
      "text/html": [
       "<div>\n",
       "<style scoped>\n",
       "    .dataframe tbody tr th:only-of-type {\n",
       "        vertical-align: middle;\n",
       "    }\n",
       "\n",
       "    .dataframe tbody tr th {\n",
       "        vertical-align: top;\n",
       "    }\n",
       "\n",
       "    .dataframe thead th {\n",
       "        text-align: right;\n",
       "    }\n",
       "</style>\n",
       "<table border=\"1\" class=\"dataframe\">\n",
       "  <thead>\n",
       "    <tr style=\"text-align: right;\">\n",
       "      <th></th>\n",
       "      <th>count</th>\n",
       "      <th>mean</th>\n",
       "      <th>std</th>\n",
       "      <th>min</th>\n",
       "      <th>25%</th>\n",
       "      <th>50%</th>\n",
       "      <th>75%</th>\n",
       "      <th>max</th>\n",
       "    </tr>\n",
       "    <tr>\n",
       "      <th>origin</th>\n",
       "      <th></th>\n",
       "      <th></th>\n",
       "      <th></th>\n",
       "      <th></th>\n",
       "      <th></th>\n",
       "      <th></th>\n",
       "      <th></th>\n",
       "      <th></th>\n",
       "    </tr>\n",
       "  </thead>\n",
       "  <tbody>\n",
       "    <tr>\n",
       "      <th>europe</th>\n",
       "      <td>68.0</td>\n",
       "      <td>80.558824</td>\n",
       "      <td>20.157871</td>\n",
       "      <td>46.0</td>\n",
       "      <td>69.75</td>\n",
       "      <td>76.5</td>\n",
       "      <td>90.0</td>\n",
       "      <td>133.0</td>\n",
       "    </tr>\n",
       "    <tr>\n",
       "      <th>japan</th>\n",
       "      <td>79.0</td>\n",
       "      <td>79.835443</td>\n",
       "      <td>17.819199</td>\n",
       "      <td>52.0</td>\n",
       "      <td>67.00</td>\n",
       "      <td>75.0</td>\n",
       "      <td>95.0</td>\n",
       "      <td>132.0</td>\n",
       "    </tr>\n",
       "    <tr>\n",
       "      <th>usa</th>\n",
       "      <td>245.0</td>\n",
       "      <td>119.048980</td>\n",
       "      <td>39.897790</td>\n",
       "      <td>52.0</td>\n",
       "      <td>88.00</td>\n",
       "      <td>105.0</td>\n",
       "      <td>150.0</td>\n",
       "      <td>230.0</td>\n",
       "    </tr>\n",
       "  </tbody>\n",
       "</table>\n",
       "</div>"
      ],
      "text/plain": [
       "        count        mean        std   min    25%    50%    75%    max\n",
       "origin                                                                \n",
       "europe   68.0   80.558824  20.157871  46.0  69.75   76.5   90.0  133.0\n",
       "japan    79.0   79.835443  17.819199  52.0  67.00   75.0   95.0  132.0\n",
       "usa     245.0  119.048980  39.897790  52.0  88.00  105.0  150.0  230.0"
      ]
     },
     "execution_count": 13,
     "metadata": {},
     "output_type": "execute_result"
    }
   ],
   "source": [
    "df.groupby(\"origin\").horsepower.describe() # USA has the highest horsepower"
   ]
  },
  {
   "cell_type": "markdown",
   "id": "391de40c",
   "metadata": {},
   "source": [
    "H0: mu = 110  (horsepower of US origin cars is 110)\n",
    "\n",
    "H1: mu > 110"
   ]
  },
  {
   "cell_type": "code",
   "execution_count": 14,
   "id": "39af51ec",
   "metadata": {},
   "outputs": [
    {
     "data": {
      "text/plain": [
       "Ttest_1sampResult(statistic=nan, pvalue=nan)"
      ]
     },
     "execution_count": 14,
     "metadata": {},
     "output_type": "execute_result"
    }
   ],
   "source": [
    "stats.ttest_1samp(df[df[\"origin\"] == \"usa\"][\"horsepower\"], 110, alternative=\"greater\") # null values in horsepower column"
   ]
  },
  {
   "cell_type": "code",
   "execution_count": 15,
   "id": "e70cd53a",
   "metadata": {},
   "outputs": [
    {
     "data": {
      "text/plain": [
       "Ttest_1sampResult(statistic=3.550044602017898, pvalue=0.0002310035889540432)"
      ]
     },
     "execution_count": 15,
     "metadata": {},
     "output_type": "execute_result"
    }
   ],
   "source": [
    "stats.ttest_1samp(df[df[\"origin\"] == \"usa\"][\"horsepower\"].dropna(), 110, alternative=\"greater\")"
   ]
  },
  {
   "cell_type": "markdown",
   "id": "b66d6a2c",
   "metadata": {},
   "source": [
    "H0: mu = 22  (mpg of US origin cars is 22)\n",
    "\n",
    "H1: mu < 22"
   ]
  },
  {
   "cell_type": "code",
   "execution_count": 16,
   "id": "c332d939",
   "metadata": {},
   "outputs": [
    {
     "data": {
      "text/plain": [
       "Ttest_1sampResult(statistic=-4.723072192881628, pvalue=3.891005205691281e-06)"
      ]
     },
     "execution_count": 16,
     "metadata": {},
     "output_type": "execute_result"
    }
   ],
   "source": [
    "stats.ttest_1samp(df[df[\"origin\"] == \"usa\"][\"mpg\"], 22)"
   ]
  },
  {
   "cell_type": "code",
   "execution_count": 17,
   "id": "d4f3b672",
   "metadata": {},
   "outputs": [
    {
     "data": {
      "text/plain": [
       "Ttest_1sampResult(statistic=-4.723072192881628, pvalue=1.9455026028456406e-06)"
      ]
     },
     "execution_count": 17,
     "metadata": {},
     "output_type": "execute_result"
    }
   ],
   "source": [
    "stats.ttest_1samp(df[df[\"origin\"] == \"usa\"][\"mpg\"], 22, alternative=\"less\")"
   ]
  },
  {
   "cell_type": "markdown",
   "id": "ca8bf14e",
   "metadata": {},
   "source": [
    "H0: mu = 100  (mpg of EU origin cars is 100)\n",
    "\n",
    "H1: mu > 100"
   ]
  },
  {
   "cell_type": "code",
   "execution_count": 18,
   "id": "bd47a30b",
   "metadata": {},
   "outputs": [
    {
     "data": {
      "text/plain": [
       "Ttest_1sampResult(statistic=-89.72485214478651, pvalue=1.0)"
      ]
     },
     "execution_count": 18,
     "metadata": {},
     "output_type": "execute_result"
    }
   ],
   "source": [
    "stats.ttest_1samp(df[df[\"origin\"] == \"europe\"][\"mpg\"], 100, alternative=\"greater\")"
   ]
  },
  {
   "cell_type": "code",
   "execution_count": 19,
   "id": "93d4fb2f",
   "metadata": {},
   "outputs": [
    {
     "data": {
      "text/plain": [
       "Ttest_1sampResult(statistic=-89.72485214478651, pvalue=1.0)"
      ]
     },
     "execution_count": 19,
     "metadata": {},
     "output_type": "execute_result"
    }
   ],
   "source": [
    "stats.ttest_1samp(df[df[\"origin\"] == \"europe\"][\"mpg\"].dropna(), 100, alternative=\"greater\")"
   ]
  },
  {
   "cell_type": "code",
   "execution_count": 20,
   "id": "a6c98fdf",
   "metadata": {},
   "outputs": [
    {
     "data": {
      "text/plain": [
       "0"
      ]
     },
     "execution_count": 20,
     "metadata": {},
     "output_type": "execute_result"
    }
   ],
   "source": [
    "df[df[\"origin\"] == \"europe\"][\"mpg\"].isnull().sum()"
   ]
  },
  {
   "cell_type": "markdown",
   "id": "f7243285",
   "metadata": {},
   "source": [
    "H0: mu = 3000  (weight of EU origin cars is 3000)\n",
    "\n",
    "H1: mu != 3000"
   ]
  },
  {
   "cell_type": "code",
   "execution_count": 21,
   "id": "159e6d48",
   "metadata": {},
   "outputs": [
    {
     "data": {
      "text/plain": [
       "Ttest_1sampResult(statistic=-9.84610838848352, pvalue=8.80766713530181e-15)"
      ]
     },
     "execution_count": 21,
     "metadata": {},
     "output_type": "execute_result"
    }
   ],
   "source": [
    "stats.ttest_1samp(df[df[\"origin\"] == \"europe\"][\"weight\"].dropna(), 3000)"
   ]
  },
  {
   "cell_type": "code",
   "execution_count": 22,
   "id": "9d7cbae7",
   "metadata": {},
   "outputs": [
    {
     "data": {
      "text/plain": [
       "Ttest_1sampResult(statistic=-9.84610838848352, pvalue=8.80766713530181e-15)"
      ]
     },
     "execution_count": 22,
     "metadata": {},
     "output_type": "execute_result"
    }
   ],
   "source": [
    "stats.ttest_1samp(df[df[\"origin\"] == \"europe\"][\"weight\"],3000,nan_policy = 'omit')"
   ]
  },
  {
   "cell_type": "code",
   "execution_count": 23,
   "id": "3307a83a",
   "metadata": {},
   "outputs": [
    {
     "data": {
      "text/plain": [
       "2423.3"
      ]
     },
     "execution_count": 23,
     "metadata": {},
     "output_type": "execute_result"
    }
   ],
   "source": [
    "df[df[\"origin\"] == \"europe\"][\"weight\"].mean()"
   ]
  }
 ],
 "metadata": {
  "kernelspec": {
   "display_name": "Python 3.9.7 ('base')",
   "language": "python",
   "name": "python3"
  },
  "language_info": {
   "codemirror_mode": {
    "name": "ipython",
    "version": 3
   },
   "file_extension": ".py",
   "mimetype": "text/x-python",
   "name": "python",
   "nbconvert_exporter": "python",
   "pygments_lexer": "ipython3",
   "version": "3.9.7"
  },
  "toc": {
   "base_numbering": 1,
   "nav_menu": {
    "height": "146px",
    "width": "160px"
   },
   "number_sections": true,
   "sideBar": true,
   "skip_h1_title": false,
   "title_cell": "Table of Contents",
   "title_sidebar": "Contents",
   "toc_cell": false,
   "toc_position": {},
   "toc_section_display": true,
   "toc_window_display": false
  },
  "varInspector": {
   "cols": {
    "lenName": 16,
    "lenType": 16,
    "lenVar": 40
   },
   "kernels_config": {
    "python": {
     "delete_cmd_postfix": "",
     "delete_cmd_prefix": "del ",
     "library": "var_list.py",
     "varRefreshCmd": "print(var_dic_list())"
    },
    "r": {
     "delete_cmd_postfix": ") ",
     "delete_cmd_prefix": "rm(",
     "library": "var_list.r",
     "varRefreshCmd": "cat(var_dic_list()) "
    }
   },
   "types_to_exclude": [
    "module",
    "function",
    "builtin_function_or_method",
    "instance",
    "_Feature"
   ],
   "window_display": false
  },
  "vscode": {
   "interpreter": {
    "hash": "c0213b4e991faad0eaee93c2092d45d01284204b86fafe651bbf22ab4807397a"
   }
  }
 },
 "nbformat": 4,
 "nbformat_minor": 5
}
