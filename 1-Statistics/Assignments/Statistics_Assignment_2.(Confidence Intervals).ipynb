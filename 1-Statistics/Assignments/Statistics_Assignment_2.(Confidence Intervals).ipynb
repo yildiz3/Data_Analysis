{
 "cells": [
  {
   "cell_type": "markdown",
   "id": "06a7db56",
   "metadata": {},
   "source": [
    "   # STATISTICS\n",
    "   \n",
    "## ASSIGNMENT (CONFIDENCE INTERVALS) \n"
   ]
  },
  {
   "cell_type": "markdown",
   "id": "951720bf",
   "metadata": {},
   "source": [
    "EXERCISE 1. \n",
    "Suppose scores on exams in statistics are normally distributed with an unknown population mean and a population standard deviation of 3 points. A random sample of 36 scores is taken and gives a sample mean (sample  mean score) of 68. Find a confidence interval estimate for the population mean exam score (the mean score on all exams).\n",
    "Find a 90% confidence interval for the true (population) mean of statistics exam scores. "
   ]
  },
  {
   "cell_type": "code",
   "execution_count": 1,
   "id": "c54fad33",
   "metadata": {},
   "outputs": [],
   "source": [
    "import numpy as np\n",
    "from scipy import stats\n",
    "import matplotlib.pyplot as plt\n",
    "import seaborn as sns "
   ]
  },
  {
   "cell_type": "code",
   "execution_count": 2,
   "id": "e2c6f49e",
   "metadata": {},
   "outputs": [
    {
     "name": "stdout",
     "output_type": "stream",
     "text": [
      "( 67.1775  ,  68.8225 )\n"
     ]
    }
   ],
   "source": [
    "#Z Score\n",
    "xbar1=68\n",
    "moe=1.645*3/np.sqrt(36)\n",
    "upper=xbar1+moe\n",
    "lower=xbar1-moe\n",
    "print('(' ,lower ,' , ', upper,')')"
   ]
  },
  {
   "cell_type": "code",
   "execution_count": 3,
   "id": "1dcff963",
   "metadata": {},
   "outputs": [
    {
     "data": {
      "text/plain": [
       "(67.15521377301812, 68.84478622698188)"
      ]
     },
     "execution_count": 3,
     "metadata": {},
     "output_type": "execute_result"
    }
   ],
   "source": [
    "#T Score\n",
    "s1=3\n",
    "n1=36\n",
    "stats.t.interval(alpha=0.90,\n",
    "                df=n1-1,\n",
    "                loc=xbar1,\n",
    "                scale=s1/np.sqrt(n1))"
   ]
  },
  {
   "cell_type": "code",
   "execution_count": 4,
   "id": "fc5c4312",
   "metadata": {},
   "outputs": [
    {
     "data": {
      "text/plain": [
       "(67.17757318652427, 68.82242681347573)"
      ]
     },
     "execution_count": 4,
     "metadata": {},
     "output_type": "execute_result"
    }
   ],
   "source": [
    "#Z Score(norm) \n",
    "stats.norm.interval(alpha=0.90,\n",
    "                    loc=xbar1,\n",
    "                    scale=s1/np.sqrt(n1))"
   ]
  },
  {
   "cell_type": "markdown",
   "id": "d1239c87",
   "metadata": {},
   "source": [
    "EXERCISE 2. \n",
    "What is the normal body temperature for healthy humans? A random sample of 130 healthy human body temperatures provided by Allen Shoemaker7 yielded 98.25 degrees and standard deviation 0.73 degrees. \n",
    "Give a 99% confidence interval for the average body temperature of healthy people.\n"
   ]
  },
  {
   "cell_type": "code",
   "execution_count": 5,
   "id": "0ec0c8b4",
   "metadata": {},
   "outputs": [],
   "source": [
    "# s2=0.73 ,  n2=130    ,    xbar2=98.25  Z=2.58 for 99% "
   ]
  },
  {
   "cell_type": "code",
   "execution_count": 6,
   "id": "7273807d",
   "metadata": {},
   "outputs": [
    {
     "name": "stdout",
     "output_type": "stream",
     "text": [
      "(98.08481489264372 , 98.41518510735628)\n"
     ]
    }
   ],
   "source": [
    "#Z Score\n",
    "xbar2=98.25\n",
    "moe=2.58*0.73/np.sqrt(130)\n",
    "upper=xbar2+moe\n",
    "lower=xbar2-moe\n",
    "print(f\"({lower} , {upper})\")"
   ]
  },
  {
   "cell_type": "code",
   "execution_count": 7,
   "id": "a0f3534f",
   "metadata": {},
   "outputs": [
    {
     "data": {
      "text/plain": [
       "(98.08260738705933, 98.41739261294067)"
      ]
     },
     "execution_count": 7,
     "metadata": {},
     "output_type": "execute_result"
    }
   ],
   "source": [
    "#T Score\n",
    "n2=130\n",
    "s2=0.73\n",
    "stats.t.interval(alpha=0.99,\n",
    "                df=n2-1,\n",
    "                loc=xbar2,\n",
    "                scale=s2/np.sqrt(n2))"
   ]
  },
  {
   "cell_type": "code",
   "execution_count": 8,
   "id": "690b56b7",
   "metadata": {},
   "outputs": [
    {
     "data": {
      "text/plain": [
       "(98.08508192246582, 98.41491807753418)"
      ]
     },
     "execution_count": 8,
     "metadata": {},
     "output_type": "execute_result"
    }
   ],
   "source": [
    "#Z Score(norm) \n",
    "stats.norm.interval(alpha=0.99,\n",
    "                    loc=xbar2,\n",
    "                    scale=s2/np.sqrt(n2))"
   ]
  },
  {
   "cell_type": "markdown",
   "id": "850cf29c",
   "metadata": {},
   "source": [
    "EXERCISE 3. \n",
    "The administrators for a hospital wished to estimate the average number of days required for inpatient treatment of patients between the ages of 25 and 34. A random sample of 500 hospital patients between these ages produced a mean and standard deviation equal to 5.4 and 3.1 days, respectively.\n",
    "Construct a 95% confidence interval for the mean length of stay for the population of patients from which the sample was drawn.\n"
   ]
  },
  {
   "cell_type": "code",
   "execution_count": 9,
   "id": "d3fac163",
   "metadata": {},
   "outputs": [],
   "source": [
    "#n=500   ,     xbar=5.4    ,     s=3.1     Z=1.96 for 95%"
   ]
  },
  {
   "cell_type": "code",
   "execution_count": 10,
   "id": "2cf25031",
   "metadata": {},
   "outputs": [
    {
     "name": "stdout",
     "output_type": "stream",
     "text": [
      "(5.128273019374226 , 5.671726980625775)\n"
     ]
    }
   ],
   "source": [
    "#Z Distribution\n",
    "xbar3=5.4\n",
    "moe= 1.96 * (3.1)/np.sqrt(500)\n",
    "upper=xbar3+moe\n",
    "lower=xbar3-moe\n",
    "print(f\"({lower} , {upper})\")"
   ]
  },
  {
   "cell_type": "code",
   "execution_count": 11,
   "id": "04ba72e1",
   "metadata": {},
   "outputs": [
    {
     "data": {
      "text/plain": [
       "(5.127617354510309, 5.672382645489692)"
      ]
     },
     "execution_count": 11,
     "metadata": {},
     "output_type": "execute_result"
    }
   ],
   "source": [
    "#T Distribution\n",
    "n3=500\n",
    "s3=3.1\n",
    "stats.t.interval(alpha=0.95,\n",
    "                df=n3-1,\n",
    "                loc=xbar3,\n",
    "                scale=s3/np.sqrt(n3))"
   ]
  },
  {
   "cell_type": "code",
   "execution_count": 12,
   "id": "0054bde8",
   "metadata": {},
   "outputs": [
    {
     "data": {
      "text/plain": [
       "(5.12827801242126, 5.67172198757874)"
      ]
     },
     "execution_count": 12,
     "metadata": {},
     "output_type": "execute_result"
    }
   ],
   "source": [
    "#Z(norm) Distribution\n",
    "stats.norm.interval(alpha=0.95,\n",
    "                    loc=xbar3,\n",
    "                    scale=s3/np.sqrt(n3))"
   ]
  }
 ],
 "metadata": {
  "kernelspec": {
   "display_name": "Python 3 (ipykernel)",
   "language": "python",
   "name": "python3"
  },
  "language_info": {
   "codemirror_mode": {
    "name": "ipython",
    "version": 3
   },
   "file_extension": ".py",
   "mimetype": "text/x-python",
   "name": "python",
   "nbconvert_exporter": "python",
   "pygments_lexer": "ipython3",
   "version": "3.9.7"
  },
  "toc": {
   "base_numbering": 1,
   "nav_menu": {},
   "number_sections": true,
   "sideBar": true,
   "skip_h1_title": false,
   "title_cell": "Table of Contents",
   "title_sidebar": "Contents",
   "toc_cell": false,
   "toc_position": {},
   "toc_section_display": true,
   "toc_window_display": false
  }
 },
 "nbformat": 4,
 "nbformat_minor": 5
}
