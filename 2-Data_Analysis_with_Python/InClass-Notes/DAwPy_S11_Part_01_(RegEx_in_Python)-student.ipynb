{
  "cells": [
    {
      "cell_type": "markdown",
      "metadata": {
        "id": "view-in-github",
        "colab_type": "text"
      },
      "source": [
        "<a href=\"https://colab.research.google.com/github/yildiz3/Data_Analysis/blob/master/2-Data_Analysis_with_Python/InClass-Notes/DAwPy_S11_Part_01_(RegEx_in_Python)-student.ipynb\" target=\"_parent\"><img src=\"https://colab.research.google.com/assets/colab-badge.svg\" alt=\"Open In Colab\"/></a>"
      ]
    },
    {
      "cell_type": "markdown",
      "metadata": {
        "id": "ib_EYg_hdUiE"
      },
      "source": [
        "___\n",
        "\n",
        "<p style=\"text-align: center;\"><img src=\"https://docs.google.com/uc?id=1lY0Uj5R04yMY3-ZppPWxqCr5pvBLYPnV\" class=\"img-fluid\" \n",
        "alt=\"CLRSWY\"></p>\n",
        "\n",
        "## <p style=\"background-color:#FDFEFE; font-family:newtimeroman; color:#9d4f8c; font-size:100%; text-align:center; border-radius:10px 10px;\">WAY TO REINVENT YOURSELF</p>"
      ]
    },
    {
      "cell_type": "markdown",
      "metadata": {
        "id": "Qnt55GXJ8pp4"
      },
      "source": [
        "<a id=\"toc\"></a>\n",
        "\n",
        "## <p style=\"background-color:#9d4f8c; font-family:newtimeroman; color:#FFF9ED; font-size:175%; text-align:center; border-radius:10px 10px;\">Content</p>\n",
        "\n",
        "* [IMPORTING LIBRARIES NEEDED IN THIS NOTEBOOK](#0)\n",
        "* [RegEx in PYTHON](#1)\n",
        "* [RAW STRING (\"r/ R\")](#2)\n",
        "* [COMMON PYTHON RegEx FUNCTIONS](#3)    \n",
        "* [PANDAS FUNCTIONS ACCEPTING RegEx](#4)    \n",
        "* [THE END OF THE SESSION - 07](#5)"
      ]
    },
    {
      "cell_type": "markdown",
      "metadata": {
        "id": "dL9aPkG28pp5"
      },
      "source": [
        "## <p style=\"background-color:#9d4f8c; font-family:newtimeroman; color:#FFF9ED; font-size:175%; text-align:center; border-radius:10px 10px;\">Importing Libraries Needed in This Notebook</p>\n",
        "\n",
        "<a id=\"0\"></a>\n",
        "<a href=\"#toc\" class=\"btn btn-primary btn-sm\" role=\"button\" aria-pressed=\"true\" \n",
        "style=\"color:blue; background-color:#dfa8e4\" data-toggle=\"popover\">Content</a>\n",
        "\n",
        "Once you've installed NumPy & Pandas you can import them as a library:"
      ]
    },
    {
      "cell_type": "code",
      "execution_count": null,
      "metadata": {
        "id": "wVg6uhWtxWBo"
      },
      "outputs": [],
      "source": [
        "import numpy as np\n",
        "import pandas as pd\n",
        "import re"
      ]
    },
    {
      "cell_type": "markdown",
      "metadata": {
        "id": "xqrPgp-D8pp8"
      },
      "source": [
        "## <p style=\"background-color:#9d4f8c; font-family:newtimeroman; color:#FFF9ED; font-size:175%; text-align:center; border-radius:10px 10px;\">RegEx in Python</p>\n",
        "\n",
        "<a id=\"1\"></a>\n",
        "<a href=\"#toc\" class=\"btn btn-primary btn-sm\" role=\"button\" aria-pressed=\"true\" \n",
        "style=\"color:blue; background-color:#dfa8e4\" data-toggle=\"popover\">Content</a>\n",
        "\n",
        "- A **Reg**ular **Ex**pression (RegEx) is a special sequence of characters that helps you match or find other strings or sets of strings, using a specialized syntax held in a pattern.\n",
        "\n",
        "- The **Python module** **``re``** provides full support for regular expressions in Python [Source 01](https://docs.python.org/3/library/re.html#re-objects), [Source 02](https://www.tutorialspoint.com/python/python_reg_expressions.htm) & [Source 03](https://www.w3schools.com/python/python_regex.asp).\n",
        "\n",
        "\n",
        "### Common Expressions\n",
        "\n",
        "**``\\d``** Any numeric digit from ``0`` to ``9``.\n",
        "                           \n",
        "**``\\D``** Matches any character which is not a decimal digit. This is the opposite of ``\\d``.\n",
        "                           \n",
        "**``\\w``** Any letter, numeric digit, or the underscore character. (Think of this as matching \"word\" characters.)\n",
        "                           \n",
        "**``\\W``** Any character that is not a letter, numeric digit, or the underscore character.\n",
        "                           \n",
        "**``\\s``** Any space, tab, or newline character. (Think of this as matching white-space characters.)\n",
        "                           \n",
        "**``\\S``** Any character that is not a space, tab, or newline.\n",
        "\n",
        "\n",
        "### Common Metacharacters\n",
        "\n",
        "**``\"[]\"``**\t  A set of characters\t``\"[a-m]\"``\n",
        "\n",
        "**``\"\\\"``**\t      Signals a special sequence (can also be used to escape special characters)\n",
        "\n",
        "**``\".\"``**\t      Any character (except newline character)\n",
        "\n",
        "**``\"^\"``**\t      Starts with\t``\"^hello\"``\n",
        "\n",
        "**``\"$\"``**\t      Ends with\t``\"world$\"``\n",
        "\n",
        "**``\"*\"``**\t      Match zero, one or more of the previous\n",
        "\n",
        "**``\"+\"``**\t      Match one or more of the previous\n",
        "\n",
        "**``\"?\"``**\t      Match zero or one of the previous\n",
        "\n",
        "**``\"{}\"``**\t  Match exactly the specified number of occurrences\n",
        "\n",
        "**``\"|\"``**\t      Either or\t`\"falls|stays\"`\n",
        "\n",
        "**``\"()\"``**\t  Capture and group"
      ]
    },
    {
      "cell_type": "markdown",
      "metadata": {
        "id": "C8q7TEbF8pp9"
      },
      "source": [
        "## <p style=\"background-color:#9d4f8c; font-family:newtimeroman; color:#FFF9ED; font-size:175%; text-align:center; border-radius:10px 10px;\">Raw String (\"r / R\")</p>\n",
        "\n",
        "<a id=\"2\"></a>\n",
        "<a href=\"#toc\" class=\"btn btn-primary btn-sm\" role=\"button\" aria-pressed=\"true\" \n",
        "style=\"color:blue; background-color:#dfa8e4\" data-toggle=\"popover\">Content</a>\n",
        "\n",
        "- Python raw string is created by prefixing a string literal with **'r' or 'R'**.\n",
        "- Python raw string treats **``backslash (\\)``** as a literal character. This is useful when we want to have a string that contains backslash and don’t want it to be treated as an escape character [Source 01](https://blog.devgenius.io/beauty-of-raw-strings-in-python-fa627d674cbf) & [Source 02](https://stackoverflow.com/questions/26318287/what-does-r-mean-before-a-regex-pattern#:~:text=The%20r%20means%20that%20the,escape%20codes%20will%20be%20ignored.)."
      ]
    },
    {
      "cell_type": "code",
      "execution_count": null,
      "metadata": {
        "id": "AJZLHUGl8pp_",
        "outputId": "371bfccc-6cdd-4b20-9b27-c21511cf1fd2"
      },
      "outputs": [
        {
          "name": "stdout",
          "output_type": "stream",
          "text": [
            "backslash: \\\n",
            "new line char: \\n\n"
          ]
        }
      ],
      "source": [
        "print(\"backslash: \\\\\")\n",
        "print(\"new line char: \\\\n\")"
      ]
    },
    {
      "cell_type": "code",
      "execution_count": null,
      "metadata": {
        "id": "vTsfnEqk8pqB",
        "outputId": "729c03ce-2b8a-48e6-af15-625eb902e9f3"
      },
      "outputs": [
        {
          "name": "stdout",
          "output_type": "stream",
          "text": [
            "backslash: \\\\\n",
            "new line char: \\\\n\n"
          ]
        }
      ],
      "source": [
        "print(r\"backslash: \\\\\")\n",
        "print(r\"new line char: \\\\n\")"
      ]
    },
    {
      "cell_type": "code",
      "execution_count": null,
      "metadata": {
        "id": "dvJ8VXMx8pqB",
        "outputId": "10ff3d90-44b7-4db8-e6f9-720881008f6e"
      },
      "outputs": [
        {
          "name": "stdout",
          "output_type": "stream",
          "text": [
            "hello\n",
            "world\n"
          ]
        }
      ],
      "source": [
        "my_string = \"hello\\nworld\"\n",
        "print(my_string)"
      ]
    },
    {
      "cell_type": "code",
      "execution_count": null,
      "metadata": {
        "id": "2oGr2tOK8pqC",
        "outputId": "eb8300fd-fdc3-4487-d8d7-428652d9bb64"
      },
      "outputs": [
        {
          "name": "stdout",
          "output_type": "stream",
          "text": [
            "hello\\nworld\n"
          ]
        }
      ],
      "source": [
        "my_string = r\"hello\\nworld\"\n",
        "print(my_string)"
      ]
    },
    {
      "cell_type": "markdown",
      "metadata": {
        "id": "OeWsK8Ov8pqD"
      },
      "source": [
        "## Invalid Raw String"
      ]
    },
    {
      "cell_type": "code",
      "execution_count": null,
      "metadata": {
        "id": "PskuXmsZ8pqD"
      },
      "outputs": [],
      "source": [
        "#print(\"\\\")"
      ]
    },
    {
      "cell_type": "code",
      "execution_count": null,
      "metadata": {
        "id": "v8nNaT7U8pqE"
      },
      "outputs": [],
      "source": [
        "#print(r\"\\\")"
      ]
    },
    {
      "cell_type": "code",
      "execution_count": null,
      "metadata": {
        "id": "8MJuQLsQ8pqE"
      },
      "outputs": [],
      "source": [
        "#print(r\"abc\\\")"
      ]
    },
    {
      "cell_type": "code",
      "execution_count": null,
      "metadata": {
        "id": "FcN7q3LZ8pqE"
      },
      "outputs": [],
      "source": [
        "#print(r\"abc\\\\\\\")"
      ]
    },
    {
      "cell_type": "code",
      "execution_count": null,
      "metadata": {
        "id": "glwa1-1j8pqF",
        "outputId": "5292db5d-bcdb-475a-efba-1bb9b24e7c7f"
      },
      "outputs": [
        {
          "name": "stdout",
          "output_type": "stream",
          "text": [
            "abc\\ \n"
          ]
        }
      ],
      "source": [
        "print(r\"abc\\ \")"
      ]
    },
    {
      "cell_type": "code",
      "execution_count": null,
      "metadata": {
        "id": "xwX3BoRC8pqF",
        "outputId": "44c7a2ef-0fa6-4713-f10a-e06fbc8dc393"
      },
      "outputs": [
        {
          "name": "stdout",
          "output_type": "stream",
          "text": [
            "abc\\\\\n"
          ]
        }
      ],
      "source": [
        "print(r\"abc\\\\\")"
      ]
    },
    {
      "cell_type": "markdown",
      "metadata": {
        "id": "hhNsTnPH8pqF"
      },
      "source": [
        "## <p style=\"background-color:#9d4f8c; font-family:newtimeroman; color:#FFF9ED; font-size:175%; text-align:center; border-radius:10px 10px;\">Common Python RegEx Functions</p>\n",
        "\n",
        "<a id=\"3\"></a>\n",
        "<a href=\"#toc\" class=\"btn btn-primary btn-sm\" role=\"button\" aria-pressed=\"true\" \n",
        "style=\"color:blue; background-color:#dfa8e4\" data-toggle=\"popover\">Content</a>\n",
        "\n",
        "- **re.search():** Scan through string looking for a match to the pattern.\n",
        "- **re.match():** Try to apply the pattern at the start of the string.\n",
        "- **re.fullmatch():** Try to apply the pattern to all of the string.\n",
        "- **re.findall():** Return a list of all non-overlapping matches in the string.\n",
        "- **re.sub():** Return the string obtained by replacing the leftmost non-overlapping occurrences of the pattern in string by the replacement repl.\n",
        "- **re.split():** Split the source string by the occurrences of the pattern, returning a list containing the resulting substrings."
      ]
    },
    {
      "cell_type": "code",
      "execution_count": null,
      "metadata": {
        "id": "LkEcXn9X8pqG"
      },
      "outputs": [],
      "source": [
        "#dir(re)"
      ]
    },
    {
      "cell_type": "code",
      "execution_count": null,
      "metadata": {
        "id": "SiBwugPY8pqG"
      },
      "outputs": [],
      "source": [
        "#help(re.match)"
      ]
    },
    {
      "cell_type": "markdown",
      "metadata": {
        "id": "cfxuK4ea8pqH"
      },
      "source": [
        "## ``re.search(pattern, string, flags=0)``\n",
        "\n",
        "Scan through string looking for a match to the pattern, returning a Match object, or None if no match was found [Source](https://www.pythontutorial.net/python-regex/python-regex-flags/)."
      ]
    },
    {
      "cell_type": "markdown",
      "metadata": {
        "id": "QdwpQv8tdUio"
      },
      "source": [
        "#### Find numeric digits with search function"
      ]
    },
    {
      "cell_type": "code",
      "execution_count": null,
      "metadata": {
        "id": "90Pa0v1OdUiq"
      },
      "outputs": [],
      "source": [
        "text = \"A78L41K\""
      ]
    },
    {
      "cell_type": "code",
      "execution_count": null,
      "metadata": {
        "id": "twOkw8e18pqI",
        "outputId": "f88c0f67-f459-4977-f787-62eda3622931"
      },
      "outputs": [
        {
          "data": {
            "text/plain": [
              "<re.Match object; span=(1, 3), match='78'>"
            ]
          },
          "execution_count": 22,
          "metadata": {},
          "output_type": "execute_result"
        }
      ],
      "source": [
        "re.search(\"78\", text)"
      ]
    },
    {
      "cell_type": "markdown",
      "metadata": {
        "id": "JGTcFORw8pqI"
      },
      "source": [
        "#### with regular expressions"
      ]
    },
    {
      "cell_type": "code",
      "execution_count": null,
      "metadata": {
        "id": "ZdGUbkY58pqI",
        "outputId": "cba3461d-e3c2-45c2-8e57-a21120244bd2"
      },
      "outputs": [
        {
          "data": {
            "text/plain": [
              "<re.Match object; span=(1, 3), match='78'>"
            ]
          },
          "execution_count": 23,
          "metadata": {},
          "output_type": "execute_result"
        }
      ],
      "source": [
        "re.search(\"\\d\\d\", text)"
      ]
    },
    {
      "cell_type": "markdown",
      "metadata": {
        "id": "ZpLbkSdq8pqI"
      },
      "source": [
        "#### with compile() method"
      ]
    },
    {
      "cell_type": "code",
      "execution_count": null,
      "metadata": {
        "id": "1gN-4Lek8pqJ"
      },
      "outputs": [],
      "source": [
        "comp = re.compile(\"\\d\\d\")"
      ]
    },
    {
      "cell_type": "code",
      "execution_count": null,
      "metadata": {
        "id": "uSZnhZv38pqJ",
        "outputId": "1989c9a0-5f54-43c0-ad88-b8690e6b451f"
      },
      "outputs": [
        {
          "data": {
            "text/plain": [
              "<re.Match object; span=(1, 3), match='78'>"
            ]
          },
          "execution_count": 25,
          "metadata": {},
          "output_type": "execute_result"
        }
      ],
      "source": [
        "comp.search(text)"
      ]
    },
    {
      "cell_type": "code",
      "execution_count": null,
      "metadata": {
        "id": "aNNEPG4C8pqK",
        "outputId": "4a408220-aa6f-4a45-f621-8cb6b1383d90"
      },
      "outputs": [
        {
          "data": {
            "text/plain": [
              "<re.Match object; span=(1, 3), match='78'>"
            ]
          },
          "execution_count": 26,
          "metadata": {},
          "output_type": "execute_result"
        }
      ],
      "source": [
        "num = comp.search(text)\n",
        "num"
      ]
    },
    {
      "cell_type": "code",
      "execution_count": null,
      "metadata": {
        "id": "a9DxP-zo8pqL",
        "outputId": "0454b8b9-c204-47f9-a24f-3b9aaf26e8ab"
      },
      "outputs": [
        {
          "data": {
            "text/plain": [
              "1"
            ]
          },
          "execution_count": 27,
          "metadata": {},
          "output_type": "execute_result"
        }
      ],
      "source": [
        "num.start()"
      ]
    },
    {
      "cell_type": "code",
      "execution_count": null,
      "metadata": {
        "id": "Oyd1qWlm8pqL",
        "outputId": "c286fb30-d6b0-49f4-a95a-bdc1fe9ddbac"
      },
      "outputs": [
        {
          "data": {
            "text/plain": [
              "3"
            ]
          },
          "execution_count": 28,
          "metadata": {},
          "output_type": "execute_result"
        }
      ],
      "source": [
        "num.end()"
      ]
    },
    {
      "cell_type": "code",
      "execution_count": null,
      "metadata": {
        "id": "SgWdiOxP8pqM",
        "outputId": "59c86efb-0909-4b89-9631-bbfe417ab601"
      },
      "outputs": [
        {
          "data": {
            "text/plain": [
              "(1, 3)"
            ]
          },
          "execution_count": 29,
          "metadata": {},
          "output_type": "execute_result"
        }
      ],
      "source": [
        "num.span()"
      ]
    },
    {
      "cell_type": "code",
      "execution_count": null,
      "metadata": {
        "id": "gGY9i-O68pqM",
        "outputId": "f55ad6a0-d5d0-44a7-dcb0-4eb4ae373582"
      },
      "outputs": [
        {
          "data": {
            "text/plain": [
              "'78'"
            ]
          },
          "execution_count": 30,
          "metadata": {},
          "output_type": "execute_result"
        }
      ],
      "source": [
        "num.group()"
      ]
    },
    {
      "cell_type": "markdown",
      "metadata": {
        "id": "sQ3FgmXXdUiy"
      },
      "source": [
        "#### Find non decimal digits with search function"
      ]
    },
    {
      "cell_type": "code",
      "execution_count": null,
      "metadata": {
        "id": "7JcMarW9dUi0"
      },
      "outputs": [],
      "source": [
        "text = \"8PM19MIN\""
      ]
    },
    {
      "cell_type": "code",
      "execution_count": null,
      "metadata": {
        "id": "B77SJo008pqN",
        "outputId": "b7964988-f905-42e9-c0d1-a394da1eb0c3"
      },
      "outputs": [
        {
          "data": {
            "text/plain": [
              "<re.Match object; span=(1, 2), match='P'>"
            ]
          },
          "execution_count": 32,
          "metadata": {},
          "output_type": "execute_result"
        }
      ],
      "source": [
        "re.search(\"\\D\", text)"
      ]
    },
    {
      "cell_type": "code",
      "execution_count": null,
      "metadata": {
        "id": "iT9O_Rex8pqN",
        "outputId": "e20e73ea-746f-4081-d67a-62506e7ccca5"
      },
      "outputs": [
        {
          "data": {
            "text/plain": [
              "<re.Match object; span=(1, 3), match='PM'>"
            ]
          },
          "execution_count": 33,
          "metadata": {},
          "output_type": "execute_result"
        }
      ],
      "source": [
        "re.search(\"\\D\\D\", text)"
      ]
    },
    {
      "cell_type": "code",
      "execution_count": null,
      "metadata": {
        "id": "UCUfaMN_8pqN",
        "outputId": "1d6917d4-e013-4b4b-e59b-337f18273c6d"
      },
      "outputs": [
        {
          "data": {
            "text/plain": [
              "<re.Match object; span=(1, 3), match='PM'>"
            ]
          },
          "execution_count": 34,
          "metadata": {},
          "output_type": "execute_result"
        }
      ],
      "source": [
        "re.search(\"\\D+\", text)"
      ]
    },
    {
      "cell_type": "code",
      "execution_count": null,
      "metadata": {
        "id": "hMZiMBzj8pqO",
        "outputId": "9f84e317-29f3-4278-90e6-ccd6c8d5ada1"
      },
      "outputs": [
        {
          "data": {
            "text/plain": [
              "<re.Match object; span=(0, 0), match=''>"
            ]
          },
          "execution_count": 35,
          "metadata": {},
          "output_type": "execute_result"
        }
      ],
      "source": [
        "re.search(\"\\D*\", text)"
      ]
    },
    {
      "cell_type": "markdown",
      "metadata": {
        "id": "fyUkcboZdUi1"
      },
      "source": [
        "#### Find phone number pattern"
      ]
    },
    {
      "cell_type": "code",
      "execution_count": null,
      "metadata": {
        "id": "DUqBTzUU8pqO"
      },
      "outputs": [],
      "source": [
        "text = 'My phone number is 1234567890'"
      ]
    },
    {
      "cell_type": "code",
      "execution_count": null,
      "metadata": {
        "id": "J3rfWN-t8pqO",
        "outputId": "85c32b50-ad61-4c9e-caea-97bdb7c79ee9"
      },
      "outputs": [
        {
          "data": {
            "text/plain": [
              "<re.Match object; span=(19, 29), match='1234567890'>"
            ]
          },
          "execution_count": 37,
          "metadata": {},
          "output_type": "execute_result"
        }
      ],
      "source": [
        "re.search(\"\\d\\d\\d\\d\\d\\d\\d\\d\\d\\d\", text)"
      ]
    },
    {
      "cell_type": "code",
      "execution_count": null,
      "metadata": {
        "id": "EOHm9jWa8pqO",
        "outputId": "a5421b16-099d-4731-b571-d4ffbf0afdf9"
      },
      "outputs": [
        {
          "data": {
            "text/plain": [
              "<re.Match object; span=(19, 29), match='1234567890'>"
            ]
          },
          "execution_count": 38,
          "metadata": {},
          "output_type": "execute_result"
        }
      ],
      "source": [
        "re.search(\"\\d+\", text)"
      ]
    },
    {
      "cell_type": "code",
      "execution_count": null,
      "metadata": {
        "id": "9t-6zEncdUi2",
        "tags": []
      },
      "outputs": [],
      "source": [
        "text = 'My phone number is 123 456 7890'"
      ]
    },
    {
      "cell_type": "code",
      "execution_count": null,
      "metadata": {
        "id": "JBhd08PE8pqP",
        "outputId": "94f104e2-dfaa-43fc-92bf-57f270ebc695"
      },
      "outputs": [
        {
          "data": {
            "text/plain": [
              "<re.Match object; span=(19, 31), match='123 456 7890'>"
            ]
          },
          "execution_count": 40,
          "metadata": {},
          "output_type": "execute_result"
        }
      ],
      "source": [
        "re.search(\"\\d\\d\\d \\d\\d\\d \\d\\d\\d\\d\", text)"
      ]
    },
    {
      "cell_type": "code",
      "execution_count": null,
      "metadata": {
        "id": "uLEW5Bb28pqP"
      },
      "outputs": [],
      "source": [
        "text = 'My phone number is 123-456-7890'"
      ]
    },
    {
      "cell_type": "code",
      "execution_count": null,
      "metadata": {
        "id": "eYm447Cm8pqP",
        "outputId": "721fd175-7647-45b5-9fc1-9f1aa7eb7526"
      },
      "outputs": [
        {
          "data": {
            "text/plain": [
              "<re.Match object; span=(19, 31), match='123-456-7890'>"
            ]
          },
          "execution_count": 42,
          "metadata": {},
          "output_type": "execute_result"
        }
      ],
      "source": [
        "re.search(\"\\d\\d\\d-\\d\\d\\d-\\d\\d\\d\\d\", text)"
      ]
    },
    {
      "cell_type": "code",
      "execution_count": null,
      "metadata": {
        "id": "IOi7Htv08pqP",
        "outputId": "7507e4be-1ef4-4e8a-b9a8-a027fbc0792d"
      },
      "outputs": [
        {
          "data": {
            "text/plain": [
              "<re.Match object; span=(19, 31), match='123-456-7890'>"
            ]
          },
          "execution_count": 43,
          "metadata": {},
          "output_type": "execute_result"
        }
      ],
      "source": [
        "re.search('\\d'*3 + '-' + '\\d'*3 + '-' + '\\d'*4, text)"
      ]
    },
    {
      "cell_type": "markdown",
      "metadata": {
        "id": "lM-ZB_1WdUi4"
      },
      "source": [
        "#### Find phone number pattern by grouping"
      ]
    },
    {
      "cell_type": "code",
      "execution_count": null,
      "metadata": {
        "id": "uD_0Fpmq8pqQ",
        "outputId": "c34cd313-9fab-4439-fb3c-9ddb79340ea1"
      },
      "outputs": [
        {
          "data": {
            "text/plain": [
              "'My phone number is 123-456-7890'"
            ]
          },
          "execution_count": 44,
          "metadata": {},
          "output_type": "execute_result"
        }
      ],
      "source": [
        "text"
      ]
    },
    {
      "cell_type": "code",
      "execution_count": null,
      "metadata": {
        "id": "GVemNyPS8pqQ",
        "outputId": "901c6f29-65da-4c70-a4bd-e13ab76648ab"
      },
      "outputs": [
        {
          "data": {
            "text/plain": [
              "<re.Match object; span=(19, 31), match='123-456-7890'>"
            ]
          },
          "execution_count": 45,
          "metadata": {},
          "output_type": "execute_result"
        }
      ],
      "source": [
        "re.search(\"(\\d\\d\\d)-(\\d\\d\\d)-(\\d\\d\\d\\d)\", text)"
      ]
    },
    {
      "cell_type": "code",
      "execution_count": null,
      "metadata": {
        "id": "4xNmY5hG8pqQ",
        "outputId": "a38f382a-3fbf-4442-aff0-ca8b4cdbafaf"
      },
      "outputs": [
        {
          "data": {
            "text/plain": [
              "<re.Match object; span=(19, 31), match='123-456-7890'>"
            ]
          },
          "execution_count": 46,
          "metadata": {},
          "output_type": "execute_result"
        }
      ],
      "source": [
        "telno = re.search(\"(\\d\\d\\d)-(\\d\\d\\d)-(\\d\\d\\d\\d)\", text)\n",
        "telno"
      ]
    },
    {
      "cell_type": "code",
      "execution_count": null,
      "metadata": {
        "id": "MRFXYK-P8pqQ",
        "outputId": "81c9f98d-e8d2-48ed-bf2f-16155619a077"
      },
      "outputs": [
        {
          "data": {
            "text/plain": [
              "'7890'"
            ]
          },
          "execution_count": 50,
          "metadata": {},
          "output_type": "execute_result"
        }
      ],
      "source": [
        "telno.group(3)"
      ]
    },
    {
      "cell_type": "code",
      "execution_count": null,
      "metadata": {
        "id": "VcBSanq68pqR",
        "outputId": "53767bdb-1233-4dc0-f526-3a4a59a7ffd6"
      },
      "outputs": [
        {
          "data": {
            "text/plain": [
              "<re.Match object; span=(19, 31), match='123-456-7890'>"
            ]
          },
          "execution_count": 51,
          "metadata": {},
          "output_type": "execute_result"
        }
      ],
      "source": [
        "telno = re.search(\"(\\d+)-(\\d+)-(\\d+)\", text)\n",
        "telno"
      ]
    },
    {
      "cell_type": "code",
      "execution_count": null,
      "metadata": {
        "id": "iEvwsGXn8pqR",
        "outputId": "a9842f3d-3fc7-496f-a132-a72941668b87"
      },
      "outputs": [
        {
          "data": {
            "text/plain": [
              "<re.Match object; span=(19, 31), match='123-456-7890'>"
            ]
          },
          "execution_count": 52,
          "metadata": {},
          "output_type": "execute_result"
        }
      ],
      "source": [
        "telno = re.search(\"(\\d*)-(\\d*)-(\\d*)\", text)\n",
        "telno"
      ]
    },
    {
      "cell_type": "markdown",
      "metadata": {
        "id": "FGNnm_uJdUi7"
      },
      "source": [
        "#### Escaping parentheses and create 2 group -> first group:(415) second group:555-1212 print"
      ]
    },
    {
      "cell_type": "code",
      "execution_count": null,
      "metadata": {
        "id": "kZNl9STIdUi8"
      },
      "outputs": [],
      "source": [
        "text = 'My phone number is (415) 555-1212'"
      ]
    },
    {
      "cell_type": "code",
      "execution_count": null,
      "metadata": {
        "id": "Eq33C87Y8pqR",
        "outputId": "cb40691c-1a46-41b0-c1ff-dcebf8532596"
      },
      "outputs": [
        {
          "data": {
            "text/plain": [
              "<re.Match object; span=(19, 33), match='(415) 555-1212'>"
            ]
          },
          "execution_count": 59,
          "metadata": {},
          "output_type": "execute_result"
        }
      ],
      "source": [
        "re.search(\"(\\(\\d\\d\\d\\)) (\\d\\d\\d)-(\\d\\d\\d\\d)\", text)"
      ]
    },
    {
      "cell_type": "markdown",
      "metadata": {
        "id": "pwz5CSyZ8pqS"
      },
      "source": [
        "## ``re.match(pattern, string, flags=0)``\n",
        "\n",
        "Try to apply the pattern at the start of the string, returning a Match object, or None if no match was found.\n",
        "\n",
        "If you want to locate a match anywhere in string, use search() instead of match()"
      ]
    },
    {
      "cell_type": "code",
      "execution_count": null,
      "metadata": {
        "id": "MWD1El_88pqS"
      },
      "outputs": [],
      "source": [
        "text = \"A78L41K\""
      ]
    },
    {
      "cell_type": "code",
      "execution_count": null,
      "metadata": {
        "id": "oIHu4Sxg8pqS"
      },
      "outputs": [],
      "source": [
        "re.match(\"\\d\\d\", text)"
      ]
    },
    {
      "cell_type": "code",
      "execution_count": null,
      "metadata": {
        "id": "KntxCa2b8pqS",
        "outputId": "1c7c9d5e-7bab-42b3-a5dc-cdcd2a8bab4c"
      },
      "outputs": [
        {
          "data": {
            "text/plain": [
              "<re.Match object; span=(0, 3), match='A78'>"
            ]
          },
          "execution_count": 63,
          "metadata": {},
          "output_type": "execute_result"
        }
      ],
      "source": [
        "re.match(\"\\D\\d\\d\", text)"
      ]
    },
    {
      "cell_type": "code",
      "execution_count": null,
      "metadata": {
        "id": "ITFewNdn8pqS",
        "outputId": "cfb765d4-d9fd-4838-f542-18a927dc16da"
      },
      "outputs": [
        {
          "data": {
            "text/plain": [
              "<re.Match object; span=(0, 3), match='A78'>"
            ]
          },
          "execution_count": 64,
          "metadata": {},
          "output_type": "execute_result"
        }
      ],
      "source": [
        "re.match(\"\\w\\d\\d\", text)"
      ]
    },
    {
      "cell_type": "markdown",
      "metadata": {
        "id": "D3hwGShW8pqT"
      },
      "source": [
        "## ``re.fullmatch(pattern, string, flags=0)``\n",
        "\n",
        "Try to apply the pattern to all of the string"
      ]
    },
    {
      "cell_type": "code",
      "execution_count": null,
      "metadata": {
        "id": "6EU-Et4t8pqT"
      },
      "outputs": [],
      "source": [
        "text = \"A78L41K\""
      ]
    },
    {
      "cell_type": "code",
      "execution_count": null,
      "metadata": {
        "id": "JExkkR0-8pqT",
        "outputId": "43bcacbc-ef82-4c43-eb7b-9bd9d0fb5b42"
      },
      "outputs": [
        {
          "data": {
            "text/plain": [
              "<re.Match object; span=(0, 7), match='A78L41K'>"
            ]
          },
          "execution_count": 68,
          "metadata": {},
          "output_type": "execute_result"
        }
      ],
      "source": [
        "re.fullmatch(\"\\D\\d+\\D\\d+\\D\", text)"
      ]
    },
    {
      "cell_type": "code",
      "execution_count": null,
      "metadata": {
        "id": "-Som7g_Y8pqT",
        "outputId": "5cb42043-a335-4a17-93f6-3c899ba5a9e0"
      },
      "outputs": [
        {
          "data": {
            "text/plain": [
              "<re.Match object; span=(0, 7), match='A78L41K'>"
            ]
          },
          "execution_count": 70,
          "metadata": {},
          "output_type": "execute_result"
        }
      ],
      "source": [
        "re.fullmatch(\"\\w+\", text)"
      ]
    },
    {
      "cell_type": "markdown",
      "metadata": {
        "id": "27jC42YC8pqT"
      },
      "source": [
        "## ``re.findall(pattern, string, flags=0)``\n",
        "\n",
        "Return a list of all non-overlapping matches in the string."
      ]
    },
    {
      "cell_type": "markdown",
      "metadata": {
        "id": "JAIHT45BdUi-"
      },
      "source": [
        "#### Extract numbers from text as a list"
      ]
    },
    {
      "cell_type": "code",
      "execution_count": null,
      "metadata": {
        "id": "Y00SfOrhdUi_"
      },
      "outputs": [],
      "source": [
        "text = \"O 1, t 10, o 100. 100000\""
      ]
    },
    {
      "cell_type": "code",
      "execution_count": null,
      "metadata": {
        "id": "58JG7BhM8pqU",
        "outputId": "97819dd0-617f-42a5-f82d-ca06c5965563"
      },
      "outputs": [
        {
          "data": {
            "text/plain": [
              "['1', '1', '0', '1', '0', '0', '1', '0', '0', '0', '0', '0']"
            ]
          },
          "execution_count": 72,
          "metadata": {},
          "output_type": "execute_result"
        }
      ],
      "source": [
        "re.findall(\"\\d\", text)"
      ]
    },
    {
      "cell_type": "code",
      "execution_count": null,
      "metadata": {
        "id": "dt4nhW3T8pqU",
        "outputId": "04fc8203-f9e8-479c-d67b-8fc5f00da8c8"
      },
      "outputs": [
        {
          "data": {
            "text/plain": [
              "['10', '10', '10', '00', '00']"
            ]
          },
          "execution_count": 73,
          "metadata": {},
          "output_type": "execute_result"
        }
      ],
      "source": [
        "re.findall(\"\\d{2}\", text)"
      ]
    },
    {
      "cell_type": "code",
      "execution_count": null,
      "metadata": {
        "id": "OXPPeEbU8pqU",
        "outputId": "094f227a-83bb-4a66-a5b4-380b31eabbb8"
      },
      "outputs": [
        {
          "data": {
            "text/plain": [
              "['100', '100', '000']"
            ]
          },
          "execution_count": 74,
          "metadata": {},
          "output_type": "execute_result"
        }
      ],
      "source": [
        "re.findall(\"\\d{3}\", text)"
      ]
    },
    {
      "cell_type": "code",
      "execution_count": null,
      "metadata": {
        "id": "rhmcgvrK8pqU",
        "outputId": "3f9a0dc8-38ea-4c74-cc09-b7b4438ecb67"
      },
      "outputs": [
        {
          "data": {
            "text/plain": [
              "['1000']"
            ]
          },
          "execution_count": 75,
          "metadata": {},
          "output_type": "execute_result"
        }
      ],
      "source": [
        "re.findall(\"\\d{4}\", text)"
      ]
    },
    {
      "cell_type": "code",
      "execution_count": null,
      "metadata": {
        "id": "P9KGzNoK8pqV",
        "outputId": "dbb20861-495c-451c-da90-bde4598911bd"
      },
      "outputs": [
        {
          "data": {
            "text/plain": [
              "['1', '10', '100', '100000']"
            ]
          },
          "execution_count": 76,
          "metadata": {},
          "output_type": "execute_result"
        }
      ],
      "source": [
        "re.findall(\"\\d{1,6}\", text)"
      ]
    },
    {
      "cell_type": "code",
      "execution_count": null,
      "metadata": {
        "id": "v0UMat6Z8pqV",
        "outputId": "68b25768-39f5-4114-d580-6c3588efe634"
      },
      "outputs": [
        {
          "data": {
            "text/plain": [
              "['1', '10', '100', '100000']"
            ]
          },
          "execution_count": 77,
          "metadata": {},
          "output_type": "execute_result"
        }
      ],
      "source": [
        "re.findall(\"\\d+\", text)"
      ]
    },
    {
      "cell_type": "markdown",
      "metadata": {
        "id": "N7ZbzuET8pqV"
      },
      "source": [
        "#### Extract words begining with \"f\""
      ]
    },
    {
      "cell_type": "code",
      "execution_count": null,
      "metadata": {
        "id": "qCAAe19e8pqV"
      },
      "outputs": [],
      "source": [
        "text = 'which foot or hand fell fastest'"
      ]
    },
    {
      "cell_type": "code",
      "execution_count": null,
      "metadata": {
        "id": "3fUiIpV_8pqV",
        "outputId": "eebaf466-f3f6-4d66-ca9b-bbf5aa7e16c7"
      },
      "outputs": [
        {
          "data": {
            "text/plain": [
              "['foot', 'fell', 'fastest']"
            ]
          },
          "execution_count": 79,
          "metadata": {},
          "output_type": "execute_result"
        }
      ],
      "source": [
        "re.findall(\"f[a-z]*\", text)"
      ]
    },
    {
      "cell_type": "markdown",
      "metadata": {
        "id": "AMCGU5B88pqW"
      },
      "source": [
        "#### Extract equations made up of words and numbers"
      ]
    },
    {
      "cell_type": "code",
      "execution_count": null,
      "metadata": {
        "id": "iB68yVw48pqW"
      },
      "outputs": [],
      "source": [
        "text = 'set width=20 and height=10'"
      ]
    },
    {
      "cell_type": "code",
      "execution_count": null,
      "metadata": {
        "id": "NG6wpKNQ8pqW",
        "outputId": "4ac8ea1a-35c9-4dd8-aabc-5868419437a2"
      },
      "outputs": [
        {
          "data": {
            "text/plain": [
              "['width=20', 'height=10']"
            ]
          },
          "execution_count": 85,
          "metadata": {},
          "output_type": "execute_result"
        }
      ],
      "source": [
        "re.findall(\"\\w+=\\d+\", text)"
      ]
    },
    {
      "cell_type": "code",
      "execution_count": null,
      "metadata": {
        "id": "azlB8m3Z8pqW",
        "outputId": "62dac7f7-56cc-4bf5-ec6a-3d1e8bbd449e"
      },
      "outputs": [
        {
          "data": {
            "text/plain": [
              "[('width', '20'), ('height', '10')]"
            ]
          },
          "execution_count": 83,
          "metadata": {},
          "output_type": "execute_result"
        }
      ],
      "source": [
        "re.findall(\"(\\w+)=(\\d+)\", text)"
      ]
    },
    {
      "cell_type": "markdown",
      "metadata": {
        "id": "Bl2g3RcBdUjG"
      },
      "source": [
        "#### Check if the string starts with 'hello'"
      ]
    },
    {
      "cell_type": "code",
      "execution_count": null,
      "metadata": {
        "id": "nEFXpIaHdUjH"
      },
      "outputs": [],
      "source": [
        "text = \"hello world\""
      ]
    },
    {
      "cell_type": "code",
      "execution_count": null,
      "metadata": {
        "id": "Z0XN9Zz48pqX",
        "outputId": "81c6e131-cfc9-4679-a938-d60061c12012"
      },
      "outputs": [
        {
          "data": {
            "text/plain": [
              "['hello']"
            ]
          },
          "execution_count": 89,
          "metadata": {},
          "output_type": "execute_result"
        }
      ],
      "source": [
        "re.findall(\"^hello\", text)"
      ]
    },
    {
      "cell_type": "markdown",
      "metadata": {
        "id": "roSdhs4KdUjJ"
      },
      "source": [
        "#### Check if the string ends with 'world'"
      ]
    },
    {
      "cell_type": "code",
      "execution_count": null,
      "metadata": {
        "id": "F2-W7KBS8pqX",
        "outputId": "0daa0fb4-adea-44bf-8dc5-6643d5528ae4"
      },
      "outputs": [
        {
          "data": {
            "text/plain": [
              "['world']"
            ]
          },
          "execution_count": 90,
          "metadata": {},
          "output_type": "execute_result"
        }
      ],
      "source": [
        "re.findall(\"world$\", text)"
      ]
    },
    {
      "cell_type": "markdown",
      "metadata": {
        "id": "O8FBD_DR8pqX"
      },
      "source": [
        "## ``re.sub(pattern, repl, string, count=0, flags=0)``\n",
        "\n",
        "Return the string obtained by replacing the leftmost non-overlapping occurrences of the pattern in string by the replacement repl.  repl can be either a string or a callable; if a string, backslash escapes in it are processed.  If it is a callable, it's passed the Match object and must return a replacement string to be used."
      ]
    },
    {
      "cell_type": "markdown",
      "metadata": {
        "id": "h77aI1DRdUjA"
      },
      "source": [
        "#### Remove anything other than digits"
      ]
    },
    {
      "cell_type": "code",
      "execution_count": null,
      "metadata": {
        "id": "CSV6i0hEdUjB"
      },
      "outputs": [],
      "source": [
        "text = \"2004-959-559 # This is Phone Number\""
      ]
    },
    {
      "cell_type": "code",
      "execution_count": null,
      "metadata": {
        "id": "fkF_shOA8pqY",
        "outputId": "6fa8ef4b-60e4-4ca1-d394-eb3df345f317"
      },
      "outputs": [
        {
          "data": {
            "text/plain": [
              "'2004959559'"
            ]
          },
          "execution_count": 92,
          "metadata": {},
          "output_type": "execute_result"
        }
      ],
      "source": [
        "re.sub(\"\\D\", \"\", text)"
      ]
    },
    {
      "cell_type": "markdown",
      "metadata": {
        "id": "jteADwnbxSGs"
      },
      "source": [
        "#### Remove digits and replace with \".\""
      ]
    },
    {
      "cell_type": "code",
      "execution_count": null,
      "metadata": {
        "id": "-gKNYy7_8pqY",
        "outputId": "bb20df8d-b871-4786-9404-5812ab016e53"
      },
      "outputs": [
        {
          "data": {
            "text/plain": [
              "'....-...-... # This is Phone Number'"
            ]
          },
          "execution_count": 93,
          "metadata": {},
          "output_type": "execute_result"
        }
      ],
      "source": [
        "re.sub(\"\\d\", \".\", text)"
      ]
    },
    {
      "cell_type": "code",
      "execution_count": null,
      "metadata": {
        "id": "-MOruh4y8pqY",
        "outputId": "b1a8d948-7ec3-408f-fd5f-481042865659"
      },
      "outputs": [
        {
          "data": {
            "text/plain": [
              "'....-959-559 # This is Phone Number'"
            ]
          },
          "execution_count": 94,
          "metadata": {},
          "output_type": "execute_result"
        }
      ],
      "source": [
        "re.sub(\"\\d\", \".\", text, count = 4)"
      ]
    },
    {
      "cell_type": "code",
      "execution_count": null,
      "metadata": {
        "id": "zQmcyvWe8pqY",
        "outputId": "2ed5d56e-2141-42d6-e077-d945804e41f2"
      },
      "outputs": [
        {
          "data": {
            "text/plain": [
              "0    ....-...-... # This is Phone Number\n",
              "dtype: object"
            ]
          },
          "execution_count": 98,
          "metadata": {},
          "output_type": "execute_result"
        }
      ],
      "source": [
        "pd.Series(text).str.replace(\"\\d\", \".\", regex = True)"
      ]
    },
    {
      "cell_type": "markdown",
      "metadata": {
        "id": "vZaz1maK8pqZ"
      },
      "source": [
        "## ``re.split(pattern, string, maxsplit=0, flags=0)``\n",
        "\n",
        "Split the source string by the occurrences of the pattern, returning a list containing the resulting substrings."
      ]
    },
    {
      "cell_type": "code",
      "execution_count": null,
      "metadata": {
        "id": "-NxcQkIF8pqZ"
      },
      "outputs": [],
      "source": [
        "text = \"ab56cd78_de fg3hıi49\""
      ]
    },
    {
      "cell_type": "code",
      "execution_count": null,
      "metadata": {
        "id": "6ueVilhI8pqZ",
        "outputId": "15f3be37-4d94-4dd6-8a71-b16da8b1f7e7"
      },
      "outputs": [
        {
          "data": {
            "text/plain": [
              "['', '56', '78', '3', '49']"
            ]
          },
          "execution_count": 101,
          "metadata": {},
          "output_type": "execute_result"
        }
      ],
      "source": [
        "re.split(\"\\D+\", text)"
      ]
    },
    {
      "cell_type": "code",
      "execution_count": null,
      "metadata": {
        "id": "qie2s04b8pqZ",
        "outputId": "ddca19cd-31fe-4a6b-e617-526a61b28d51"
      },
      "outputs": [
        {
          "data": {
            "text/plain": [
              "['', '56', '78_de fg3hıi49']"
            ]
          },
          "execution_count": 102,
          "metadata": {},
          "output_type": "execute_result"
        }
      ],
      "source": [
        "re.split(\"\\D+\", text, maxsplit=2)"
      ]
    },
    {
      "cell_type": "code",
      "execution_count": null,
      "metadata": {
        "id": "e_CJtiUi8pqa",
        "outputId": "51dc773c-0da4-4f96-9a0f-46e94a9ff278"
      },
      "outputs": [
        {
          "data": {
            "text/plain": [
              "['56', '78', '3', '49']"
            ]
          },
          "execution_count": 103,
          "metadata": {},
          "output_type": "execute_result"
        }
      ],
      "source": [
        "re.findall(\"\\d+\", text)"
      ]
    },
    {
      "cell_type": "markdown",
      "metadata": {
        "id": "kGYxJml18pqb"
      },
      "source": [
        "## <p style=\"background-color:#9d4f8c; font-family:newtimeroman; color:#FFF9ED; font-size:175%; text-align:center; border-radius:10px 10px;\">Pandas Functions Accepting RegEx</p>\n",
        "\n",
        "<a id=\"4\"></a>\n",
        "<a href=\"#toc\" class=\"btn btn-primary btn-sm\" role=\"button\" aria-pressed=\"true\" \n",
        "style=\"color:blue; background-color:#dfa8e4\" data-toggle=\"popover\">Content</a>"
      ]
    },
    {
      "cell_type": "markdown",
      "metadata": {
        "id": "PPXkdlLa8pqb"
      },
      "source": [
        "- **count():** Count occurrences of pattern in each string of the Series/Index\n",
        "- **replace():** Replace the search string or pattern with the given value\n",
        "- **contains():** Test if pattern or regex is contained within a string of a Series or Index. Calls re.search() and returns a boolean\n",
        "- **findall():** Find all occurrences of pattern or regular expression in the Series/Index. Equivalent to applying re.findall() on all elements\n",
        "- **match():** Determine if each string matches a regular expression. Calls re.match() and returns a boolean\n",
        "- **split():** Split strings around given separator/delimiter and accepts string or regular expression to split on\n",
        "- **extract():** Extract capture groups in the regex pat as columns in a DataFrame and returns the captured groups"
      ]
    },
    {
      "cell_type": "code",
      "execution_count": null,
      "metadata": {
        "id": "q6WLdO3X8pqc",
        "outputId": "dc8475c6-2bf9-4cd8-d4d6-42d7f8e08ad1"
      },
      "outputs": [
        {
          "data": {
            "text/html": [
              "<div>\n",
              "<style scoped>\n",
              "    .dataframe tbody tr th:only-of-type {\n",
              "        vertical-align: middle;\n",
              "    }\n",
              "\n",
              "    .dataframe tbody tr th {\n",
              "        vertical-align: top;\n",
              "    }\n",
              "\n",
              "    .dataframe thead th {\n",
              "        text-align: right;\n",
              "    }\n",
              "</style>\n",
              "<table border=\"1\" class=\"dataframe\">\n",
              "  <thead>\n",
              "    <tr style=\"text-align: right;\">\n",
              "      <th></th>\n",
              "      <th>name</th>\n",
              "      <th>bloom</th>\n",
              "    </tr>\n",
              "  </thead>\n",
              "  <tbody>\n",
              "    <tr>\n",
              "      <th>0</th>\n",
              "      <td>Evert van Dijk</td>\n",
              "      <td>Carmine-pink, salmon-pink streaks, stripes, fl...</td>\n",
              "    </tr>\n",
              "    <tr>\n",
              "      <th>1</th>\n",
              "      <td>Every Good Gift</td>\n",
              "      <td>Red.  Flowers velvety red.  #079463895689# Mod...</td>\n",
              "    </tr>\n",
              "    <tr>\n",
              "      <th>2</th>\n",
              "      <td>Evghenya</td>\n",
              "      <td>Orange-pink.  75 petals.  Large, very double #...</td>\n",
              "    </tr>\n",
              "    <tr>\n",
              "      <th>3</th>\n",
              "      <td>Evita</td>\n",
              "      <td>White or white blend.  None to mild fragrance....</td>\n",
              "    </tr>\n",
              "    <tr>\n",
              "      <th>4</th>\n",
              "      <td>Evrathin</td>\n",
              "      <td>Light pink. [Deep pink.]  Outer petals white. ...</td>\n",
              "    </tr>\n",
              "    <tr>\n",
              "      <th>5</th>\n",
              "      <td>Evita 2</td>\n",
              "      <td>White, blush shading.  Mild, wild rose fragran...</td>\n",
              "    </tr>\n",
              "  </tbody>\n",
              "</table>\n",
              "</div>"
            ],
            "text/plain": [
              "              name                                              bloom\n",
              "0   Evert van Dijk  Carmine-pink, salmon-pink streaks, stripes, fl...\n",
              "1  Every Good Gift  Red.  Flowers velvety red.  #079463895689# Mod...\n",
              "2         Evghenya  Orange-pink.  75 petals.  Large, very double #...\n",
              "3            Evita  White or white blend.  None to mild fragrance....\n",
              "4         Evrathin  Light pink. [Deep pink.]  Outer petals white. ...\n",
              "5          Evita 2  White, blush shading.  Mild, wild rose fragran..."
            ]
          },
          "execution_count": 104,
          "metadata": {},
          "output_type": "execute_result"
        }
      ],
      "source": [
        "data = [['Evert van Dijk', 'Carmine-pink, salmon-pink streaks, stripes, flecks. #94569# Warm pink, clear carmine pink, rose pink shaded salmon.  Mild fragrance.  Large, very double, in small clusters, high-centered bloom form.  Blooms in flushes throughout the season.'],\n",
        "        ['Every Good Gift', 'Red.  Flowers velvety red.  #079463895689# Moderate fragrance.  Average diameter 4\".  Medium-large, full (26-40 petals), borne mostly solitary bloom form.  Blooms in flushes throughout the season.'], \n",
        "        ['Evghenya', 'Orange-pink.  75 petals.  Large, very double #68345_686# bloom form.  Blooms in flushes throughout the season.'], \n",
        "        ['Evita', 'White or white blend.  None to mild fragrance.  35 petals #9897#.  Large, full (26-40 petals), high-centered bloom form.  Blooms in flushes throughout the season.'],\n",
        "        ['Evrathin', 'Light pink. [Deep pink.]  Outer petals white. Expand rarely #679754YH89#.  Mild fragrance.  35 to 40 petals.  Average diameter 2.5\".  Medium, double (17-25 petals), full (26-40 petals), cluster-flowered, in small clusters bloom form.  Prolific, once-blooming spring or summer.  Glandular sepals, leafy sepals, long sepals buds.'],\n",
        "        ['Evita 2', 'White, blush shading.  Mild, wild rose fragrance #AGHJS876IOP#.  20 to 25 petals.  Average diameter 1.25\".  Small, very double, cluster-flowered bloom form.  Blooms in flushes throughout the season.']]\n",
        "  \n",
        "df = pd.DataFrame(data, columns = ['name', 'bloom']) \n",
        "df "
      ]
    },
    {
      "cell_type": "markdown",
      "metadata": {
        "id": "oKzAGMff8pqc"
      },
      "source": [
        "## ``pandas.Series.str.count(pat, flags=0)``\n",
        "\n",
        "Count occurrences of pattern in each string of the Series/Index.\n",
        "\n",
        "This function is used to count the number of times a particular regex pattern is repeated in each of the string elements of the Series."
      ]
    },
    {
      "cell_type": "markdown",
      "metadata": {
        "id": "HXd2ke7c8pqc"
      },
      "source": [
        "#### How many numerical values are there in each row of \"bloom\" feature?"
      ]
    },
    {
      "cell_type": "code",
      "execution_count": null,
      "metadata": {
        "id": "lvQydlcc8pqc",
        "outputId": "22a57dba-93c4-4f0c-ffa8-afd78074e5f0"
      },
      "outputs": [
        {
          "data": {
            "text/plain": [
              "'Red.  Flowers velvety red.  #079463895689# Moderate fragrance.  Average diameter 4\".  Medium-large, full (26-40 petals), borne mostly solitary bloom form.  Blooms in flushes throughout the season.'"
            ]
          },
          "execution_count": 107,
          "metadata": {},
          "output_type": "execute_result"
        }
      ],
      "source": [
        "df.bloom[1]"
      ]
    },
    {
      "cell_type": "code",
      "execution_count": null,
      "metadata": {
        "id": "B-fGCVUA8pqd",
        "outputId": "8487fc18-bac2-45cc-88c5-f21ef218613b"
      },
      "outputs": [
        {
          "data": {
            "text/plain": [
              "0     1\n",
              "1     4\n",
              "2     3\n",
              "3     4\n",
              "4    10\n",
              "5     5\n",
              "Name: bloom, dtype: int64"
            ]
          },
          "execution_count": 106,
          "metadata": {},
          "output_type": "execute_result"
        }
      ],
      "source": [
        "df.bloom.str.count(\"\\d+\")"
      ]
    },
    {
      "cell_type": "markdown",
      "metadata": {
        "id": "j8XmiD0Q8pqd"
      },
      "source": [
        "#### How many characters are there in each row of \"bloom\" feature?"
      ]
    },
    {
      "cell_type": "code",
      "execution_count": null,
      "metadata": {
        "id": "3pyWgYxt8pqd",
        "outputId": "92332028-9afd-45f9-d05d-911aba558c96"
      },
      "outputs": [
        {
          "data": {
            "text/plain": [
              "0    240\n",
              "1    196\n",
              "2    110\n",
              "3    162\n",
              "4    327\n",
              "5    198\n",
              "Name: bloom, dtype: int64"
            ]
          },
          "execution_count": 108,
          "metadata": {},
          "output_type": "execute_result"
        }
      ],
      "source": [
        "df.bloom.apply(len)"
      ]
    },
    {
      "cell_type": "code",
      "execution_count": null,
      "metadata": {
        "id": "8R9Sh7Wy8pqd",
        "outputId": "38b47856-0e87-406d-e347-ce7e79fa8d48"
      },
      "outputs": [
        {
          "data": {
            "text/plain": [
              "0    240\n",
              "1    196\n",
              "2    110\n",
              "3    162\n",
              "4    327\n",
              "5    198\n",
              "Name: bloom, dtype: int64"
            ]
          },
          "execution_count": 109,
          "metadata": {},
          "output_type": "execute_result"
        }
      ],
      "source": [
        "df.bloom.str.count(\".\")"
      ]
    },
    {
      "cell_type": "markdown",
      "metadata": {
        "id": "4dXAemoT8pqe"
      },
      "source": [
        "#### How many sentences are there in each row of \"bloom\" feature?"
      ]
    },
    {
      "cell_type": "code",
      "execution_count": null,
      "metadata": {
        "id": "ug_0XEhC8pqe",
        "outputId": "398c46b4-475f-4346-ab9a-6b9052d9426e"
      },
      "outputs": [
        {
          "data": {
            "text/plain": [
              "0     5\n",
              "1     6\n",
              "2     4\n",
              "3     5\n",
              "4    11\n",
              "5     7\n",
              "Name: bloom, dtype: int64"
            ]
          },
          "execution_count": 110,
          "metadata": {},
          "output_type": "execute_result"
        }
      ],
      "source": [
        "df.bloom.str.count(\"\\.\")"
      ]
    },
    {
      "cell_type": "markdown",
      "metadata": {
        "id": "YHvyA8e-8pqe"
      },
      "source": [
        "## ``pandas.Series.str.replace(pat, repl, n=- 1, case=None, flags=0, regex=None)``\n",
        "\n",
        "Replace each occurrence of pattern/regex in the Series/Index.\n",
        "\n",
        "Equivalent to str.replace() or re.sub(), depending on the regex value."
      ]
    },
    {
      "cell_type": "markdown",
      "metadata": {
        "id": "HtjQ1NBe8pqe"
      },
      "source": [
        "#### Replace the values finding between the two \"#\" characters (including \"#\" characters) with the \"\" in each row of \"bloom\" feature "
      ]
    },
    {
      "cell_type": "code",
      "execution_count": null,
      "metadata": {
        "id": "taK-wyZW8pqe",
        "outputId": "640cefe7-88ae-4d7b-c26e-a06f55652618"
      },
      "outputs": [
        {
          "data": {
            "text/plain": [
              "'Carmine-pink, salmon-pink streaks, stripes, flecks.  Warm pink, clear carmine pink, rose pink shaded salmon.  Mild fragrance.  Large, very double, in small clusters, high-centered bloom form.  Blooms in flushes throughout the season.'"
            ]
          },
          "execution_count": 112,
          "metadata": {},
          "output_type": "execute_result"
        }
      ],
      "source": [
        "df[\"bloom\"] = df.bloom.str.replace(\"#\\S+#\", \"\", regex = True)\n",
        "df.bloom[0]"
      ]
    },
    {
      "cell_type": "code",
      "execution_count": null,
      "metadata": {
        "id": "EheFWs3Q8pqf",
        "outputId": "2d564ee6-b242-42a2-962a-7addd3b5e946"
      },
      "outputs": [
        {
          "data": {
            "text/plain": [
              "0    0\n",
              "1    0\n",
              "2    0\n",
              "3    0\n",
              "4    0\n",
              "5    0\n",
              "Name: bloom, dtype: int64"
            ]
          },
          "execution_count": 113,
          "metadata": {},
          "output_type": "execute_result"
        }
      ],
      "source": [
        "df.bloom.str.count(\"#\\S+#\")"
      ]
    },
    {
      "cell_type": "markdown",
      "metadata": {
        "id": "q6dRDUcK8pqf"
      },
      "source": [
        "## ``pandas.Series.str.contains(pat, case=True, flags=0, na=None, regex=True)``\n",
        "\n",
        "Test if pattern or regex is contained within a string of a Series or Index.\n",
        "\n",
        "Return boolean Series or Index based on whether a given pattern or regex is contained within a string of a Series or Index."
      ]
    },
    {
      "cell_type": "markdown",
      "metadata": {
        "id": "gobHzO9T8pqf"
      },
      "source": [
        "#### Which rows in \"bloom\" feature includes \"diameter\" value?"
      ]
    },
    {
      "cell_type": "code",
      "execution_count": null,
      "metadata": {
        "id": "4NNgw7-X8pqf",
        "outputId": "3e6095e1-cba8-49c7-f22d-f4b40d2bd7bb"
      },
      "outputs": [
        {
          "data": {
            "text/plain": [
              "'Red.  Flowers velvety red.   Moderate fragrance.  Average diameter 4\".  Medium-large, full (26-40 petals), borne mostly solitary bloom form.  Blooms in flushes throughout the season.'"
            ]
          },
          "execution_count": 117,
          "metadata": {},
          "output_type": "execute_result"
        }
      ],
      "source": [
        "df.bloom[1]"
      ]
    },
    {
      "cell_type": "code",
      "execution_count": null,
      "metadata": {
        "id": "C9swysAn8pqf",
        "outputId": "3a421f72-7619-49b4-ebf5-79f4c355663e"
      },
      "outputs": [
        {
          "data": {
            "text/plain": [
              "0    False\n",
              "1     True\n",
              "2    False\n",
              "3    False\n",
              "4     True\n",
              "5     True\n",
              "Name: bloom, dtype: bool"
            ]
          },
          "execution_count": 118,
          "metadata": {},
          "output_type": "execute_result"
        }
      ],
      "source": [
        "df.bloom.str.contains(\"diameter\")"
      ]
    },
    {
      "cell_type": "code",
      "execution_count": null,
      "metadata": {
        "id": "_D4KeYty8pqg",
        "outputId": "b59b0dd0-f4a6-4937-fcab-9ab44581b27e"
      },
      "outputs": [
        {
          "data": {
            "text/plain": [
              "0    False\n",
              "1     True\n",
              "2    False\n",
              "3    False\n",
              "4     True\n",
              "5     True\n",
              "Name: bloom, dtype: bool"
            ]
          },
          "execution_count": 119,
          "metadata": {},
          "output_type": "execute_result"
        }
      ],
      "source": [
        "df.bloom.str.contains('\\d+\"')"
      ]
    },
    {
      "cell_type": "code",
      "execution_count": null,
      "metadata": {
        "id": "g9egj52R8pqg",
        "outputId": "62e7dcd9-09b8-43ee-eaa7-b00f52a4eb7b"
      },
      "outputs": [
        {
          "data": {
            "text/html": [
              "<div>\n",
              "<style scoped>\n",
              "    .dataframe tbody tr th:only-of-type {\n",
              "        vertical-align: middle;\n",
              "    }\n",
              "\n",
              "    .dataframe tbody tr th {\n",
              "        vertical-align: top;\n",
              "    }\n",
              "\n",
              "    .dataframe thead th {\n",
              "        text-align: right;\n",
              "    }\n",
              "</style>\n",
              "<table border=\"1\" class=\"dataframe\">\n",
              "  <thead>\n",
              "    <tr style=\"text-align: right;\">\n",
              "      <th></th>\n",
              "      <th>name</th>\n",
              "      <th>bloom</th>\n",
              "    </tr>\n",
              "  </thead>\n",
              "  <tbody>\n",
              "    <tr>\n",
              "      <th>1</th>\n",
              "      <td>Every Good Gift</td>\n",
              "      <td>Red.  Flowers velvety red.   Moderate fragranc...</td>\n",
              "    </tr>\n",
              "    <tr>\n",
              "      <th>4</th>\n",
              "      <td>Evrathin</td>\n",
              "      <td>Light pink. [Deep pink.]  Outer petals white. ...</td>\n",
              "    </tr>\n",
              "    <tr>\n",
              "      <th>5</th>\n",
              "      <td>Evita 2</td>\n",
              "      <td>White, blush shading.  Mild, wild rose fragran...</td>\n",
              "    </tr>\n",
              "  </tbody>\n",
              "</table>\n",
              "</div>"
            ],
            "text/plain": [
              "              name                                              bloom\n",
              "1  Every Good Gift  Red.  Flowers velvety red.   Moderate fragranc...\n",
              "4         Evrathin  Light pink. [Deep pink.]  Outer petals white. ...\n",
              "5          Evita 2  White, blush shading.  Mild, wild rose fragran..."
            ]
          },
          "execution_count": 120,
          "metadata": {},
          "output_type": "execute_result"
        }
      ],
      "source": [
        "df.loc[df.bloom.str.contains('\\d+\"')]"
      ]
    },
    {
      "cell_type": "markdown",
      "metadata": {
        "id": "SS3UFwpK8pqg"
      },
      "source": [
        "## ``pandas.Series.str.findall(pat, flags=0)``\n",
        "\n",
        "Find all occurrences of pattern or regular expression in the Series/Index.\n",
        "\n",
        "Equivalent to applying re.findall() to all the elements in the Series/Index."
      ]
    },
    {
      "cell_type": "markdown",
      "metadata": {
        "id": "8eh4RclG8pqh"
      },
      "source": [
        "#### Find all numeric values in each rows of the \"bloom\" feature "
      ]
    },
    {
      "cell_type": "code",
      "execution_count": null,
      "metadata": {
        "id": "HfaM2_WL8pqh",
        "outputId": "223f5b35-9393-4406-c898-2f309df07c22"
      },
      "outputs": [
        {
          "data": {
            "text/plain": [
              "0                                []\n",
              "1                       [4, 26, 40]\n",
              "2                              [75]\n",
              "3                      [35, 26, 40]\n",
              "4    [35, 40, 2, 5, 17, 25, 26, 40]\n",
              "5                   [20, 25, 1, 25]\n",
              "Name: bloom, dtype: object"
            ]
          },
          "execution_count": 121,
          "metadata": {},
          "output_type": "execute_result"
        }
      ],
      "source": [
        "df.bloom.str.findall(\"\\d+\")"
      ]
    },
    {
      "cell_type": "markdown",
      "metadata": {
        "id": "G9juMevu8pqh"
      },
      "source": [
        "#### Find diameter values in each rows of the \"bloom\" feature"
      ]
    },
    {
      "cell_type": "code",
      "execution_count": null,
      "metadata": {
        "id": "-WyCR-hK8pqi",
        "outputId": "beed9a3d-c335-4814-d34e-6cc14bb9e311"
      },
      "outputs": [
        {
          "data": {
            "text/plain": [
              "0         []\n",
              "1       [4\"]\n",
              "2         []\n",
              "3         []\n",
              "4     [2.5\"]\n",
              "5    [1.25\"]\n",
              "Name: bloom, dtype: object"
            ]
          },
          "execution_count": 122,
          "metadata": {},
          "output_type": "execute_result"
        }
      ],
      "source": [
        "df.bloom.str.findall('\\d+\\.\\d+\"|\\d+\"')"
      ]
    },
    {
      "cell_type": "code",
      "execution_count": null,
      "metadata": {
        "id": "Yoygw7wC8pqi",
        "outputId": "7614ceba-63d0-4ede-b4da-bed8afad1eea"
      },
      "outputs": [
        {
          "data": {
            "text/plain": [
              "0         []\n",
              "1       [4\"]\n",
              "2         []\n",
              "3         []\n",
              "4     [2.5\"]\n",
              "5    [1.25\"]\n",
              "Name: bloom, dtype: object"
            ]
          },
          "execution_count": 123,
          "metadata": {},
          "output_type": "execute_result"
        }
      ],
      "source": [
        "df.bloom.str.findall('\\d+\"|\\d+\\.\\d+\"')"
      ]
    },
    {
      "cell_type": "markdown",
      "metadata": {
        "id": "dWTGSAaA8pqi"
      },
      "source": [
        "## ``pandas.Series.str.match(pat, case=True, flags=0, na=None)``\n",
        "\n",
        "Determine if each string starts with a match of a regular expression."
      ]
    },
    {
      "cell_type": "markdown",
      "metadata": {
        "id": "LGROcA1Z8pqj"
      },
      "source": [
        "#### Find the rows of pink blooms (this information is available in the first words of the rows)"
      ]
    },
    {
      "cell_type": "code",
      "execution_count": null,
      "metadata": {
        "id": "rxj3Fy_J8pqj",
        "outputId": "3b2ffdf6-8ddb-4174-a7e0-b3ba72a96b9a"
      },
      "outputs": [
        {
          "data": {
            "text/plain": [
              "0    Carmine-pink, salmon-pink streaks, stripes, fl...\n",
              "1    Red.  Flowers velvety red.   Moderate fragranc...\n",
              "2    Orange-pink.  75 petals.  Large, very double  ...\n",
              "3    White or white blend.  None to mild fragrance....\n",
              "4    Light pink. [Deep pink.]  Outer petals white. ...\n",
              "5    White, blush shading.  Mild, wild rose fragran...\n",
              "Name: bloom, dtype: object"
            ]
          },
          "execution_count": 124,
          "metadata": {},
          "output_type": "execute_result"
        }
      ],
      "source": [
        "df.bloom"
      ]
    },
    {
      "cell_type": "code",
      "execution_count": null,
      "metadata": {
        "id": "6iG8NJ5x8pqj",
        "outputId": "ad1d46e4-98c0-457a-e141-c6a841549168"
      },
      "outputs": [
        {
          "data": {
            "text/plain": [
              "0     True\n",
              "1    False\n",
              "2     True\n",
              "3    False\n",
              "4     True\n",
              "5    False\n",
              "Name: bloom, dtype: bool"
            ]
          },
          "execution_count": 125,
          "metadata": {},
          "output_type": "execute_result"
        }
      ],
      "source": [
        "df.bloom.str.match(\"pink|\\w+-pink|\\w+ pink\")"
      ]
    },
    {
      "cell_type": "code",
      "execution_count": null,
      "metadata": {
        "id": "ggssjMqd8pqj",
        "outputId": "b64f3fc1-39de-4a32-865b-25b909619bed"
      },
      "outputs": [
        {
          "data": {
            "text/plain": [
              "0     True\n",
              "1    False\n",
              "2     True\n",
              "3    False\n",
              "4     True\n",
              "5    False\n",
              "Name: bloom, dtype: bool"
            ]
          },
          "execution_count": 126,
          "metadata": {},
          "output_type": "execute_result"
        }
      ],
      "source": [
        "df.bloom.str.match(\"pink|\\w+[- ]?pink\")"
      ]
    },
    {
      "cell_type": "code",
      "execution_count": null,
      "metadata": {
        "id": "MxnkoXF28pqk",
        "outputId": "d79991a4-34be-4b0a-de37-ef1e0497b5fe"
      },
      "outputs": [
        {
          "data": {
            "text/plain": [
              "0     True\n",
              "1    False\n",
              "2     True\n",
              "3    False\n",
              "4     True\n",
              "5    False\n",
              "Name: bloom, dtype: bool"
            ]
          },
          "execution_count": 127,
          "metadata": {},
          "output_type": "execute_result"
        }
      ],
      "source": [
        "df.bloom.str.match(\".+pink\")"
      ]
    },
    {
      "cell_type": "markdown",
      "metadata": {
        "id": "9zkbq7WN8pqk"
      },
      "source": [
        "## ``pandas.Series.str.split(pat=None, n=- 1, expand=False, *, regex=None)``\n",
        "\n",
        "Split strings around given separator/delimiter.\n",
        "\n",
        "Splits the string in the Series/Index from the beginning, at the specified delimiter string."
      ]
    },
    {
      "cell_type": "markdown",
      "metadata": {
        "id": "rdqhQ-dO8pqk"
      },
      "source": [
        "#### Split each rows of \"bloom\" feature from the dot character as sentences "
      ]
    },
    {
      "cell_type": "code",
      "execution_count": null,
      "metadata": {
        "id": "uumaGPEN8pqk",
        "outputId": "6af794e8-c71b-4a3e-b850-ae2016fddb4a"
      },
      "outputs": [
        {
          "data": {
            "text/plain": [
              "0    [Carmine-pink, salmon-pink streaks, stripes, f...\n",
              "1    [Red,  Flowers velvety red,   Moderate fragran...\n",
              "2    [Orange-pink,  75 petals,  Large, very double ...\n",
              "3    [White or white blend,  None to mild fragrance...\n",
              "4    [Light pink, [Deep pink.]  Outer petals white,...\n",
              "5    [White, blush shading,  Mild, wild rose fragra...\n",
              "Name: bloom, dtype: object"
            ]
          },
          "execution_count": 128,
          "metadata": {},
          "output_type": "execute_result"
        }
      ],
      "source": [
        "df.bloom.str.split(\"\\. \")"
      ]
    },
    {
      "cell_type": "code",
      "execution_count": null,
      "metadata": {
        "id": "L3jFpi4g8pqk",
        "outputId": "fae9cd6b-ab7d-408f-aa0b-60ca2e528c45"
      },
      "outputs": [
        {
          "data": {
            "text/html": [
              "<div>\n",
              "<style scoped>\n",
              "    .dataframe tbody tr th:only-of-type {\n",
              "        vertical-align: middle;\n",
              "    }\n",
              "\n",
              "    .dataframe tbody tr th {\n",
              "        vertical-align: top;\n",
              "    }\n",
              "\n",
              "    .dataframe thead th {\n",
              "        text-align: right;\n",
              "    }\n",
              "</style>\n",
              "<table border=\"1\" class=\"dataframe\">\n",
              "  <thead>\n",
              "    <tr style=\"text-align: right;\">\n",
              "      <th></th>\n",
              "      <th>0</th>\n",
              "      <th>1</th>\n",
              "      <th>2</th>\n",
              "      <th>3</th>\n",
              "      <th>4</th>\n",
              "      <th>5</th>\n",
              "      <th>6</th>\n",
              "      <th>7</th>\n",
              "      <th>8</th>\n",
              "    </tr>\n",
              "  </thead>\n",
              "  <tbody>\n",
              "    <tr>\n",
              "      <th>0</th>\n",
              "      <td>Carmine-pink, salmon-pink streaks, stripes, fl...</td>\n",
              "      <td>Warm pink, clear carmine pink, rose pink shad...</td>\n",
              "      <td>Mild fragrance</td>\n",
              "      <td>Large, very double, in small clusters, high-c...</td>\n",
              "      <td>Blooms in flushes throughout the season.</td>\n",
              "      <td>None</td>\n",
              "      <td>None</td>\n",
              "      <td>None</td>\n",
              "      <td>None</td>\n",
              "    </tr>\n",
              "    <tr>\n",
              "      <th>1</th>\n",
              "      <td>Red</td>\n",
              "      <td>Flowers velvety red</td>\n",
              "      <td>Moderate fragrance</td>\n",
              "      <td>Average diameter 4\"</td>\n",
              "      <td>Medium-large, full (26-40 petals), borne most...</td>\n",
              "      <td>Blooms in flushes throughout the season.</td>\n",
              "      <td>None</td>\n",
              "      <td>None</td>\n",
              "      <td>None</td>\n",
              "    </tr>\n",
              "    <tr>\n",
              "      <th>2</th>\n",
              "      <td>Orange-pink</td>\n",
              "      <td>75 petals</td>\n",
              "      <td>Large, very double  bloom form</td>\n",
              "      <td>Blooms in flushes throughout the season.</td>\n",
              "      <td>None</td>\n",
              "      <td>None</td>\n",
              "      <td>None</td>\n",
              "      <td>None</td>\n",
              "      <td>None</td>\n",
              "    </tr>\n",
              "    <tr>\n",
              "      <th>3</th>\n",
              "      <td>White or white blend</td>\n",
              "      <td>None to mild fragrance</td>\n",
              "      <td>35 petals</td>\n",
              "      <td>Large, full (26-40 petals), high-centered blo...</td>\n",
              "      <td>Blooms in flushes throughout the season.</td>\n",
              "      <td>None</td>\n",
              "      <td>None</td>\n",
              "      <td>None</td>\n",
              "      <td>None</td>\n",
              "    </tr>\n",
              "    <tr>\n",
              "      <th>4</th>\n",
              "      <td>Light pink</td>\n",
              "      <td>[Deep pink.]  Outer petals white</td>\n",
              "      <td>Expand rarely</td>\n",
              "      <td>Mild fragrance</td>\n",
              "      <td>35 to 40 petals</td>\n",
              "      <td>Average diameter 2.5\"</td>\n",
              "      <td>Medium, double (17-25 petals), full (26-40 pe...</td>\n",
              "      <td>Prolific, once-blooming spring or summer</td>\n",
              "      <td>Glandular sepals, leafy sepals, long sepals b...</td>\n",
              "    </tr>\n",
              "    <tr>\n",
              "      <th>5</th>\n",
              "      <td>White, blush shading</td>\n",
              "      <td>Mild, wild rose fragrance</td>\n",
              "      <td>20 to 25 petals</td>\n",
              "      <td>Average diameter 1.25\"</td>\n",
              "      <td>Small, very double, cluster-flowered bloom form</td>\n",
              "      <td>Blooms in flushes throughout the season.</td>\n",
              "      <td>None</td>\n",
              "      <td>None</td>\n",
              "      <td>None</td>\n",
              "    </tr>\n",
              "  </tbody>\n",
              "</table>\n",
              "</div>"
            ],
            "text/plain": [
              "                                                   0  ...                                                  8\n",
              "0  Carmine-pink, salmon-pink streaks, stripes, fl...  ...                                               None\n",
              "1                                                Red  ...                                               None\n",
              "2                                        Orange-pink  ...                                               None\n",
              "3                               White or white blend  ...                                               None\n",
              "4                                         Light pink  ...   Glandular sepals, leafy sepals, long sepals b...\n",
              "5                               White, blush shading  ...                                               None\n",
              "\n",
              "[6 rows x 9 columns]"
            ]
          },
          "execution_count": 129,
          "metadata": {},
          "output_type": "execute_result"
        }
      ],
      "source": [
        "df.bloom.str.split(\"\\. \", expand = True)"
      ]
    },
    {
      "cell_type": "code",
      "execution_count": null,
      "metadata": {
        "id": "hxVFLmGZ8pqk",
        "outputId": "ae94936e-ddb5-4e18-a18c-6fb2857cf378"
      },
      "outputs": [
        {
          "data": {
            "text/plain": [
              "0    id:345, age:25, salary:1200\n",
              "1    id:346, age:32, salary:1500\n",
              "2    id:347, age:28, salary:1400\n",
              "dtype: object"
            ]
          },
          "execution_count": 130,
          "metadata": {},
          "output_type": "execute_result"
        }
      ],
      "source": [
        "info = [\"id:345, age:25, salary:1200\", \"id:346, age:32, salary:1500\", \"id:347, age:28, salary:1400\"]\n",
        "s = pd.Series(info)\n",
        "s"
      ]
    },
    {
      "cell_type": "markdown",
      "metadata": {
        "id": "GtQBoTL-8pql"
      },
      "source": [
        "#### Split the serie to create a dataframe consisting of \"id, age and salary\" columns."
      ]
    },
    {
      "cell_type": "code",
      "execution_count": null,
      "metadata": {
        "id": "6X2agvt08pql",
        "outputId": "7da39bf6-c56e-42ce-dbea-ef4ce6aa4afc"
      },
      "outputs": [
        {
          "data": {
            "text/html": [
              "<div>\n",
              "<style scoped>\n",
              "    .dataframe tbody tr th:only-of-type {\n",
              "        vertical-align: middle;\n",
              "    }\n",
              "\n",
              "    .dataframe tbody tr th {\n",
              "        vertical-align: top;\n",
              "    }\n",
              "\n",
              "    .dataframe thead th {\n",
              "        text-align: right;\n",
              "    }\n",
              "</style>\n",
              "<table border=\"1\" class=\"dataframe\">\n",
              "  <thead>\n",
              "    <tr style=\"text-align: right;\">\n",
              "      <th></th>\n",
              "      <th>0</th>\n",
              "      <th>1</th>\n",
              "      <th>2</th>\n",
              "      <th>3</th>\n",
              "    </tr>\n",
              "  </thead>\n",
              "  <tbody>\n",
              "    <tr>\n",
              "      <th>0</th>\n",
              "      <td></td>\n",
              "      <td>345</td>\n",
              "      <td>25</td>\n",
              "      <td>1200</td>\n",
              "    </tr>\n",
              "    <tr>\n",
              "      <th>1</th>\n",
              "      <td></td>\n",
              "      <td>346</td>\n",
              "      <td>32</td>\n",
              "      <td>1500</td>\n",
              "    </tr>\n",
              "    <tr>\n",
              "      <th>2</th>\n",
              "      <td></td>\n",
              "      <td>347</td>\n",
              "      <td>28</td>\n",
              "      <td>1400</td>\n",
              "    </tr>\n",
              "  </tbody>\n",
              "</table>\n",
              "</div>"
            ],
            "text/plain": [
              "  0    1   2     3\n",
              "0    345  25  1200\n",
              "1    346  32  1500\n",
              "2    347  28  1400"
            ]
          },
          "execution_count": 132,
          "metadata": {},
          "output_type": "execute_result"
        }
      ],
      "source": [
        "s.str.split(\"\\D+\", expand=True)"
      ]
    },
    {
      "cell_type": "code",
      "execution_count": null,
      "metadata": {
        "id": "m8thsnUi8pql",
        "outputId": "a073f570-8bf2-4e4a-a50e-0bb3ac3bf767"
      },
      "outputs": [
        {
          "data": {
            "text/html": [
              "<div>\n",
              "<style scoped>\n",
              "    .dataframe tbody tr th:only-of-type {\n",
              "        vertical-align: middle;\n",
              "    }\n",
              "\n",
              "    .dataframe tbody tr th {\n",
              "        vertical-align: top;\n",
              "    }\n",
              "\n",
              "    .dataframe thead th {\n",
              "        text-align: right;\n",
              "    }\n",
              "</style>\n",
              "<table border=\"1\" class=\"dataframe\">\n",
              "  <thead>\n",
              "    <tr style=\"text-align: right;\">\n",
              "      <th></th>\n",
              "      <th>1</th>\n",
              "      <th>2</th>\n",
              "      <th>3</th>\n",
              "    </tr>\n",
              "  </thead>\n",
              "  <tbody>\n",
              "    <tr>\n",
              "      <th>0</th>\n",
              "      <td>345</td>\n",
              "      <td>25</td>\n",
              "      <td>1200</td>\n",
              "    </tr>\n",
              "    <tr>\n",
              "      <th>1</th>\n",
              "      <td>346</td>\n",
              "      <td>32</td>\n",
              "      <td>1500</td>\n",
              "    </tr>\n",
              "    <tr>\n",
              "      <th>2</th>\n",
              "      <td>347</td>\n",
              "      <td>28</td>\n",
              "      <td>1400</td>\n",
              "    </tr>\n",
              "  </tbody>\n",
              "</table>\n",
              "</div>"
            ],
            "text/plain": [
              "     1   2     3\n",
              "0  345  25  1200\n",
              "1  346  32  1500\n",
              "2  347  28  1400"
            ]
          },
          "execution_count": 134,
          "metadata": {},
          "output_type": "execute_result"
        }
      ],
      "source": [
        "df = s.str.split(\"\\D+\", expand=True).iloc[:,1:]\n",
        "df"
      ]
    },
    {
      "cell_type": "code",
      "execution_count": null,
      "metadata": {
        "id": "LzinS9kq8pql",
        "outputId": "00db92f2-3e29-48c1-fe53-9d80cfbb4b4a"
      },
      "outputs": [
        {
          "data": {
            "text/html": [
              "<div>\n",
              "<style scoped>\n",
              "    .dataframe tbody tr th:only-of-type {\n",
              "        vertical-align: middle;\n",
              "    }\n",
              "\n",
              "    .dataframe tbody tr th {\n",
              "        vertical-align: top;\n",
              "    }\n",
              "\n",
              "    .dataframe thead th {\n",
              "        text-align: right;\n",
              "    }\n",
              "</style>\n",
              "<table border=\"1\" class=\"dataframe\">\n",
              "  <thead>\n",
              "    <tr style=\"text-align: right;\">\n",
              "      <th></th>\n",
              "      <th>id</th>\n",
              "      <th>age</th>\n",
              "      <th>salary</th>\n",
              "    </tr>\n",
              "  </thead>\n",
              "  <tbody>\n",
              "    <tr>\n",
              "      <th>0</th>\n",
              "      <td>345</td>\n",
              "      <td>25</td>\n",
              "      <td>1200</td>\n",
              "    </tr>\n",
              "    <tr>\n",
              "      <th>1</th>\n",
              "      <td>346</td>\n",
              "      <td>32</td>\n",
              "      <td>1500</td>\n",
              "    </tr>\n",
              "    <tr>\n",
              "      <th>2</th>\n",
              "      <td>347</td>\n",
              "      <td>28</td>\n",
              "      <td>1400</td>\n",
              "    </tr>\n",
              "  </tbody>\n",
              "</table>\n",
              "</div>"
            ],
            "text/plain": [
              "    id age salary\n",
              "0  345  25   1200\n",
              "1  346  32   1500\n",
              "2  347  28   1400"
            ]
          },
          "execution_count": 135,
          "metadata": {},
          "output_type": "execute_result"
        }
      ],
      "source": [
        "df.columns = [\"id\", \"age\", \"salary\"]\n",
        "df"
      ]
    },
    {
      "cell_type": "markdown",
      "metadata": {
        "id": "R2LLuXyc8pqm"
      },
      "source": [
        "## ``pandas.Series.str.extract(pat, flags=0, expand=True)``\n",
        "\n",
        "Extract capture groups in the regex pat as columns in a DataFrame.\n",
        "\n",
        "For each subject string in the Series, extract groups from the first match of regular expression pat."
      ]
    },
    {
      "cell_type": "markdown",
      "metadata": {
        "id": "_1kItwoRdUjL"
      },
      "source": [
        "#### Extract just numbers"
      ]
    },
    {
      "cell_type": "code",
      "execution_count": null,
      "metadata": {
        "id": "eJleWhx58pqm",
        "outputId": "92cc4254-cb13-4826-fc02-afdf2867cc74"
      },
      "outputs": [
        {
          "data": {
            "text/plain": [
              "0    a3aa\n",
              "1    b4aa\n",
              "2    c5aa\n",
              "dtype: object"
            ]
          },
          "execution_count": 136,
          "metadata": {},
          "output_type": "execute_result"
        }
      ],
      "source": [
        "s = pd.Series(['a3aa', 'b4aa', 'c5aa'])\n",
        "s"
      ]
    },
    {
      "cell_type": "code",
      "execution_count": null,
      "metadata": {
        "id": "425AaRLw8pqn",
        "outputId": "2c1904ae-9833-4ad2-9a0c-3f0afca0e2d3"
      },
      "outputs": [
        {
          "data": {
            "text/html": [
              "<div>\n",
              "<style scoped>\n",
              "    .dataframe tbody tr th:only-of-type {\n",
              "        vertical-align: middle;\n",
              "    }\n",
              "\n",
              "    .dataframe tbody tr th {\n",
              "        vertical-align: top;\n",
              "    }\n",
              "\n",
              "    .dataframe thead th {\n",
              "        text-align: right;\n",
              "    }\n",
              "</style>\n",
              "<table border=\"1\" class=\"dataframe\">\n",
              "  <thead>\n",
              "    <tr style=\"text-align: right;\">\n",
              "      <th></th>\n",
              "      <th>0</th>\n",
              "    </tr>\n",
              "  </thead>\n",
              "  <tbody>\n",
              "    <tr>\n",
              "      <th>0</th>\n",
              "      <td>3</td>\n",
              "    </tr>\n",
              "    <tr>\n",
              "      <th>1</th>\n",
              "      <td>4</td>\n",
              "    </tr>\n",
              "    <tr>\n",
              "      <th>2</th>\n",
              "      <td>5</td>\n",
              "    </tr>\n",
              "  </tbody>\n",
              "</table>\n",
              "</div>"
            ],
            "text/plain": [
              "   0\n",
              "0  3\n",
              "1  4\n",
              "2  5"
            ]
          },
          "execution_count": 138,
          "metadata": {},
          "output_type": "execute_result"
        }
      ],
      "source": [
        "s.str.extract(\"(\\d+)\")"
      ]
    },
    {
      "cell_type": "markdown",
      "metadata": {
        "id": "ihTzCERldUjN"
      },
      "source": [
        "#### Extract just letters"
      ]
    },
    {
      "cell_type": "code",
      "execution_count": null,
      "metadata": {
        "id": "xxBTxORs8pqo",
        "outputId": "532f4aec-284d-4b35-e7fa-27278086c790"
      },
      "outputs": [
        {
          "data": {
            "text/html": [
              "<div>\n",
              "<style scoped>\n",
              "    .dataframe tbody tr th:only-of-type {\n",
              "        vertical-align: middle;\n",
              "    }\n",
              "\n",
              "    .dataframe tbody tr th {\n",
              "        vertical-align: top;\n",
              "    }\n",
              "\n",
              "    .dataframe thead th {\n",
              "        text-align: right;\n",
              "    }\n",
              "</style>\n",
              "<table border=\"1\" class=\"dataframe\">\n",
              "  <thead>\n",
              "    <tr style=\"text-align: right;\">\n",
              "      <th></th>\n",
              "      <th>0</th>\n",
              "    </tr>\n",
              "  </thead>\n",
              "  <tbody>\n",
              "    <tr>\n",
              "      <th>0</th>\n",
              "      <td>a3aa</td>\n",
              "    </tr>\n",
              "    <tr>\n",
              "      <th>1</th>\n",
              "      <td>b4aa</td>\n",
              "    </tr>\n",
              "    <tr>\n",
              "      <th>2</th>\n",
              "      <td>c5aa</td>\n",
              "    </tr>\n",
              "  </tbody>\n",
              "</table>\n",
              "</div>"
            ],
            "text/plain": [
              "      0\n",
              "0  a3aa\n",
              "1  b4aa\n",
              "2  c5aa"
            ]
          },
          "execution_count": 141,
          "metadata": {},
          "output_type": "execute_result"
        }
      ],
      "source": [
        "s.str.extract(\"(\\D+\\d\\D+)\")"
      ]
    },
    {
      "cell_type": "code",
      "execution_count": null,
      "metadata": {
        "id": "WC_xxeEd8pqo",
        "outputId": "b21a365a-dbf0-411a-90bb-174e7cce6591"
      },
      "outputs": [
        {
          "data": {
            "text/html": [
              "<div>\n",
              "<style scoped>\n",
              "    .dataframe tbody tr th:only-of-type {\n",
              "        vertical-align: middle;\n",
              "    }\n",
              "\n",
              "    .dataframe tbody tr th {\n",
              "        vertical-align: top;\n",
              "    }\n",
              "\n",
              "    .dataframe thead th {\n",
              "        text-align: right;\n",
              "    }\n",
              "</style>\n",
              "<table border=\"1\" class=\"dataframe\">\n",
              "  <thead>\n",
              "    <tr style=\"text-align: right;\">\n",
              "      <th></th>\n",
              "      <th>0</th>\n",
              "      <th>1</th>\n",
              "    </tr>\n",
              "  </thead>\n",
              "  <tbody>\n",
              "    <tr>\n",
              "      <th>0</th>\n",
              "      <td>a</td>\n",
              "      <td>aa</td>\n",
              "    </tr>\n",
              "    <tr>\n",
              "      <th>1</th>\n",
              "      <td>b</td>\n",
              "      <td>aa</td>\n",
              "    </tr>\n",
              "    <tr>\n",
              "      <th>2</th>\n",
              "      <td>c</td>\n",
              "      <td>aa</td>\n",
              "    </tr>\n",
              "  </tbody>\n",
              "</table>\n",
              "</div>"
            ],
            "text/plain": [
              "   0   1\n",
              "0  a  aa\n",
              "1  b  aa\n",
              "2  c  aa"
            ]
          },
          "execution_count": 139,
          "metadata": {},
          "output_type": "execute_result"
        }
      ],
      "source": [
        "s.str.extract(\"(\\D+)\\d(\\D+)\")"
      ]
    },
    {
      "cell_type": "code",
      "execution_count": null,
      "metadata": {
        "id": "sZ_UhkHk8pqo",
        "outputId": "917198f9-7067-4b20-fa35-20b589ed172c"
      },
      "outputs": [
        {
          "data": {
            "text/html": [
              "<div>\n",
              "<style scoped>\n",
              "    .dataframe tbody tr th:only-of-type {\n",
              "        vertical-align: middle;\n",
              "    }\n",
              "\n",
              "    .dataframe tbody tr th {\n",
              "        vertical-align: top;\n",
              "    }\n",
              "\n",
              "    .dataframe thead th {\n",
              "        text-align: right;\n",
              "    }\n",
              "</style>\n",
              "<table border=\"1\" class=\"dataframe\">\n",
              "  <thead>\n",
              "    <tr style=\"text-align: right;\">\n",
              "      <th></th>\n",
              "      <th>0</th>\n",
              "      <th>1</th>\n",
              "      <th>2</th>\n",
              "    </tr>\n",
              "  </thead>\n",
              "  <tbody>\n",
              "    <tr>\n",
              "      <th>0</th>\n",
              "      <td>a</td>\n",
              "      <td>a</td>\n",
              "      <td>a</td>\n",
              "    </tr>\n",
              "    <tr>\n",
              "      <th>1</th>\n",
              "      <td>b</td>\n",
              "      <td>a</td>\n",
              "      <td>a</td>\n",
              "    </tr>\n",
              "    <tr>\n",
              "      <th>2</th>\n",
              "      <td>c</td>\n",
              "      <td>a</td>\n",
              "      <td>a</td>\n",
              "    </tr>\n",
              "  </tbody>\n",
              "</table>\n",
              "</div>"
            ],
            "text/plain": [
              "   0  1  2\n",
              "0  a  a  a\n",
              "1  b  a  a\n",
              "2  c  a  a"
            ]
          },
          "execution_count": 140,
          "metadata": {},
          "output_type": "execute_result"
        }
      ],
      "source": [
        "s.str.extract(\"(\\D+)\\d(\\D)(\\D)\")"
      ]
    },
    {
      "cell_type": "markdown",
      "metadata": {
        "id": "HWKz6RXa8pqp"
      },
      "source": [
        "#### Extract \"id, age and salary\" values to create a dataframe consisting of \"id, age and salary\" columns."
      ]
    },
    {
      "cell_type": "code",
      "execution_count": null,
      "metadata": {
        "id": "pR5ZaOMl8pqp",
        "outputId": "da2cdf66-609e-43d4-9cd0-34c6dc144a6f"
      },
      "outputs": [
        {
          "data": {
            "text/plain": [
              "0    id:345, age:25, salary:1200\n",
              "1    id:346, age:32, salary:1500\n",
              "2    id:347, age:28, salary:1400\n",
              "dtype: object"
            ]
          },
          "execution_count": 142,
          "metadata": {},
          "output_type": "execute_result"
        }
      ],
      "source": [
        "info = [\"id:345, age:25, salary:1200\", \"id:346, age:32, salary:1500\", \"id:347, age:28, salary:1400\"]\n",
        "s = pd.Series(info)\n",
        "s"
      ]
    },
    {
      "cell_type": "code",
      "execution_count": null,
      "metadata": {
        "id": "0OGb5AgT8pqp",
        "outputId": "6f31b323-5ecf-48bf-90e8-03b28d40b2ec"
      },
      "outputs": [
        {
          "data": {
            "text/html": [
              "<div>\n",
              "<style scoped>\n",
              "    .dataframe tbody tr th:only-of-type {\n",
              "        vertical-align: middle;\n",
              "    }\n",
              "\n",
              "    .dataframe tbody tr th {\n",
              "        vertical-align: top;\n",
              "    }\n",
              "\n",
              "    .dataframe thead th {\n",
              "        text-align: right;\n",
              "    }\n",
              "</style>\n",
              "<table border=\"1\" class=\"dataframe\">\n",
              "  <thead>\n",
              "    <tr style=\"text-align: right;\">\n",
              "      <th></th>\n",
              "      <th>0</th>\n",
              "      <th>1</th>\n",
              "      <th>2</th>\n",
              "    </tr>\n",
              "  </thead>\n",
              "  <tbody>\n",
              "    <tr>\n",
              "      <th>0</th>\n",
              "      <td>345</td>\n",
              "      <td>25</td>\n",
              "      <td>1200</td>\n",
              "    </tr>\n",
              "    <tr>\n",
              "      <th>1</th>\n",
              "      <td>346</td>\n",
              "      <td>32</td>\n",
              "      <td>1500</td>\n",
              "    </tr>\n",
              "    <tr>\n",
              "      <th>2</th>\n",
              "      <td>347</td>\n",
              "      <td>28</td>\n",
              "      <td>1400</td>\n",
              "    </tr>\n",
              "  </tbody>\n",
              "</table>\n",
              "</div>"
            ],
            "text/plain": [
              "     0   1     2\n",
              "0  345  25  1200\n",
              "1  346  32  1500\n",
              "2  347  28  1400"
            ]
          },
          "execution_count": 143,
          "metadata": {},
          "output_type": "execute_result"
        }
      ],
      "source": [
        "df = s.str.extract(\"(\\d+)\\D+(\\d+)\\D+(\\d+)\")\n",
        "df"
      ]
    },
    {
      "cell_type": "markdown",
      "metadata": {
        "id": "O10GpuGmdUjP"
      },
      "source": [
        "#### Extract first number"
      ]
    },
    {
      "cell_type": "code",
      "execution_count": null,
      "metadata": {
        "id": "bisP5kkOdUjQ",
        "outputId": "b8d9049a-7f05-4bd3-c8bb-b9e2dc270f1f"
      },
      "outputs": [
        {
          "data": {
            "text/plain": [
              "0       40 l/100 km (comb)\n",
              "1       38 l/100 km (comb)\n",
              "2      6.4 l/100 km (comb)\n",
              "3     8.3 kg/100 km (comb)\n",
              "4     5.1 kg/100 km (comb)\n",
              "5      5.4 l/100 km (comb)\n",
              "6      6.7 l/100 km (comb)\n",
              "7      6.2 l/100 km (comb)\n",
              "8      7.3 l/100 km (comb)\n",
              "9      6.3 l/100 km (comb)\n",
              "10     5.7 l/100 km (comb)\n",
              "11     6.1 l/100 km (comb)\n",
              "12     6.8 l/100 km (comb)\n",
              "13     7.5 l/100 km (comb)\n",
              "14     7.4 l/100 km (comb)\n",
              "15    3.6 kg/100 km (comb)\n",
              "16       0 l/100 km (comb)\n",
              "17     7.8 l/100 km (comb)\n",
              "dtype: object"
            ]
          },
          "execution_count": 144,
          "metadata": {},
          "output_type": "execute_result"
        }
      ],
      "source": [
        "s= pd.Series(['40 l/100 km (comb)', \n",
        "        '38 l/100 km (comb)', '6.4 l/100 km (comb)',\n",
        "       '8.3 kg/100 km (comb)', '5.1 kg/100 km (comb)',\n",
        "       '5.4 l/100 km (comb)', '6.7 l/100 km (comb)',\n",
        "       '6.2 l/100 km (comb)', '7.3 l/100 km (comb)',\n",
        "       '6.3 l/100 km (comb)', '5.7 l/100 km (comb)',\n",
        "       '6.1 l/100 km (comb)', '6.8 l/100 km (comb)',\n",
        "       '7.5 l/100 km (comb)', '7.4 l/100 km (comb)',\n",
        "       '3.6 kg/100 km (comb)', '0 l/100 km (comb)', \n",
        "       '7.8 l/100 km (comb)'])\n",
        "s"
      ]
    },
    {
      "cell_type": "code",
      "execution_count": null,
      "metadata": {
        "id": "ZgvlIT8O8pqq",
        "outputId": "1a406139-b184-446d-9588-2cb5c408b1ce"
      },
      "outputs": [
        {
          "data": {
            "text/html": [
              "<div>\n",
              "<style scoped>\n",
              "    .dataframe tbody tr th:only-of-type {\n",
              "        vertical-align: middle;\n",
              "    }\n",
              "\n",
              "    .dataframe tbody tr th {\n",
              "        vertical-align: top;\n",
              "    }\n",
              "\n",
              "    .dataframe thead th {\n",
              "        text-align: right;\n",
              "    }\n",
              "</style>\n",
              "<table border=\"1\" class=\"dataframe\">\n",
              "  <thead>\n",
              "    <tr style=\"text-align: right;\">\n",
              "      <th></th>\n",
              "      <th>0</th>\n",
              "    </tr>\n",
              "  </thead>\n",
              "  <tbody>\n",
              "    <tr>\n",
              "      <th>0</th>\n",
              "      <td>40</td>\n",
              "    </tr>\n",
              "    <tr>\n",
              "      <th>1</th>\n",
              "      <td>38</td>\n",
              "    </tr>\n",
              "    <tr>\n",
              "      <th>2</th>\n",
              "      <td>6.4</td>\n",
              "    </tr>\n",
              "    <tr>\n",
              "      <th>3</th>\n",
              "      <td>8.3</td>\n",
              "    </tr>\n",
              "    <tr>\n",
              "      <th>4</th>\n",
              "      <td>5.1</td>\n",
              "    </tr>\n",
              "    <tr>\n",
              "      <th>5</th>\n",
              "      <td>5.4</td>\n",
              "    </tr>\n",
              "    <tr>\n",
              "      <th>6</th>\n",
              "      <td>6.7</td>\n",
              "    </tr>\n",
              "    <tr>\n",
              "      <th>7</th>\n",
              "      <td>6.2</td>\n",
              "    </tr>\n",
              "    <tr>\n",
              "      <th>8</th>\n",
              "      <td>7.3</td>\n",
              "    </tr>\n",
              "    <tr>\n",
              "      <th>9</th>\n",
              "      <td>6.3</td>\n",
              "    </tr>\n",
              "    <tr>\n",
              "      <th>10</th>\n",
              "      <td>5.7</td>\n",
              "    </tr>\n",
              "    <tr>\n",
              "      <th>11</th>\n",
              "      <td>6.1</td>\n",
              "    </tr>\n",
              "    <tr>\n",
              "      <th>12</th>\n",
              "      <td>6.8</td>\n",
              "    </tr>\n",
              "    <tr>\n",
              "      <th>13</th>\n",
              "      <td>7.5</td>\n",
              "    </tr>\n",
              "    <tr>\n",
              "      <th>14</th>\n",
              "      <td>7.4</td>\n",
              "    </tr>\n",
              "    <tr>\n",
              "      <th>15</th>\n",
              "      <td>3.6</td>\n",
              "    </tr>\n",
              "    <tr>\n",
              "      <th>16</th>\n",
              "      <td>0</td>\n",
              "    </tr>\n",
              "    <tr>\n",
              "      <th>17</th>\n",
              "      <td>7.8</td>\n",
              "    </tr>\n",
              "  </tbody>\n",
              "</table>\n",
              "</div>"
            ],
            "text/plain": [
              "      0\n",
              "0    40\n",
              "1    38\n",
              "2   6.4\n",
              "3   8.3\n",
              "4   5.1\n",
              "5   5.4\n",
              "6   6.7\n",
              "7   6.2\n",
              "8   7.3\n",
              "9   6.3\n",
              "10  5.7\n",
              "11  6.1\n",
              "12  6.8\n",
              "13  7.5\n",
              "14  7.4\n",
              "15  3.6\n",
              "16    0\n",
              "17  7.8"
            ]
          },
          "execution_count": 150,
          "metadata": {},
          "output_type": "execute_result"
        }
      ],
      "source": [
        "#s.str.extract(\"(\\d+\\.\\d+|\\d+)\")\n",
        "#s.str.extract(\"(\\d*\\.?\\d*)\")\n",
        "s.str.extract(\"(\\S+)\")"
      ]
    },
    {
      "cell_type": "markdown",
      "metadata": {
        "id": "sXgABgETdUjS"
      },
      "source": [
        "#### Extract first and second number"
      ]
    },
    {
      "cell_type": "code",
      "execution_count": null,
      "metadata": {
        "id": "tlq-GF0d8pqr",
        "outputId": "9a1f3f15-4ec5-44ee-94ee-b722864f17ee"
      },
      "outputs": [
        {
          "data": {
            "text/plain": [
              "0       40 l/100 km (comb)\n",
              "1       38 l/100 km (comb)\n",
              "2      6.4 l/100 km (comb)\n",
              "3     8.3 kg/100 km (comb)\n",
              "4     5.1 kg/100 km (comb)\n",
              "5      5.4 l/100 km (comb)\n",
              "6      6.7 l/100 km (comb)\n",
              "7      6.2 l/100 km (comb)\n",
              "8      7.3 l/100 km (comb)\n",
              "9      6.3 l/100 km (comb)\n",
              "10     5.7 l/100 km (comb)\n",
              "11     6.1 l/100 km (comb)\n",
              "12     6.8 l/100 km (comb)\n",
              "13     7.5 l/100 km (comb)\n",
              "14     7.4 l/100 km (comb)\n",
              "15    3.6 kg/100 km (comb)\n",
              "16       0 l/100 km (comb)\n",
              "17     7.8 l/100 km (comb)\n",
              "dtype: object"
            ]
          },
          "execution_count": 151,
          "metadata": {},
          "output_type": "execute_result"
        }
      ],
      "source": [
        "s"
      ]
    },
    {
      "cell_type": "code",
      "execution_count": null,
      "metadata": {
        "id": "C74iYTah8pqs",
        "outputId": "73659ffd-8d19-4e21-89fe-27be5dc26b8e"
      },
      "outputs": [
        {
          "data": {
            "text/html": [
              "<div>\n",
              "<style scoped>\n",
              "    .dataframe tbody tr th:only-of-type {\n",
              "        vertical-align: middle;\n",
              "    }\n",
              "\n",
              "    .dataframe tbody tr th {\n",
              "        vertical-align: top;\n",
              "    }\n",
              "\n",
              "    .dataframe thead th {\n",
              "        text-align: right;\n",
              "    }\n",
              "</style>\n",
              "<table border=\"1\" class=\"dataframe\">\n",
              "  <thead>\n",
              "    <tr style=\"text-align: right;\">\n",
              "      <th></th>\n",
              "      <th>0</th>\n",
              "      <th>1</th>\n",
              "    </tr>\n",
              "  </thead>\n",
              "  <tbody>\n",
              "    <tr>\n",
              "      <th>0</th>\n",
              "      <td>40</td>\n",
              "      <td>100</td>\n",
              "    </tr>\n",
              "    <tr>\n",
              "      <th>1</th>\n",
              "      <td>38</td>\n",
              "      <td>100</td>\n",
              "    </tr>\n",
              "    <tr>\n",
              "      <th>2</th>\n",
              "      <td>6.4</td>\n",
              "      <td>100</td>\n",
              "    </tr>\n",
              "    <tr>\n",
              "      <th>3</th>\n",
              "      <td>8.3</td>\n",
              "      <td>100</td>\n",
              "    </tr>\n",
              "    <tr>\n",
              "      <th>4</th>\n",
              "      <td>5.1</td>\n",
              "      <td>100</td>\n",
              "    </tr>\n",
              "    <tr>\n",
              "      <th>5</th>\n",
              "      <td>5.4</td>\n",
              "      <td>100</td>\n",
              "    </tr>\n",
              "    <tr>\n",
              "      <th>6</th>\n",
              "      <td>6.7</td>\n",
              "      <td>100</td>\n",
              "    </tr>\n",
              "    <tr>\n",
              "      <th>7</th>\n",
              "      <td>6.2</td>\n",
              "      <td>100</td>\n",
              "    </tr>\n",
              "    <tr>\n",
              "      <th>8</th>\n",
              "      <td>7.3</td>\n",
              "      <td>100</td>\n",
              "    </tr>\n",
              "    <tr>\n",
              "      <th>9</th>\n",
              "      <td>6.3</td>\n",
              "      <td>100</td>\n",
              "    </tr>\n",
              "    <tr>\n",
              "      <th>10</th>\n",
              "      <td>5.7</td>\n",
              "      <td>100</td>\n",
              "    </tr>\n",
              "    <tr>\n",
              "      <th>11</th>\n",
              "      <td>6.1</td>\n",
              "      <td>100</td>\n",
              "    </tr>\n",
              "    <tr>\n",
              "      <th>12</th>\n",
              "      <td>6.8</td>\n",
              "      <td>100</td>\n",
              "    </tr>\n",
              "    <tr>\n",
              "      <th>13</th>\n",
              "      <td>7.5</td>\n",
              "      <td>100</td>\n",
              "    </tr>\n",
              "    <tr>\n",
              "      <th>14</th>\n",
              "      <td>7.4</td>\n",
              "      <td>100</td>\n",
              "    </tr>\n",
              "    <tr>\n",
              "      <th>15</th>\n",
              "      <td>3.6</td>\n",
              "      <td>100</td>\n",
              "    </tr>\n",
              "    <tr>\n",
              "      <th>16</th>\n",
              "      <td>0</td>\n",
              "      <td>100</td>\n",
              "    </tr>\n",
              "    <tr>\n",
              "      <th>17</th>\n",
              "      <td>7.8</td>\n",
              "      <td>100</td>\n",
              "    </tr>\n",
              "  </tbody>\n",
              "</table>\n",
              "</div>"
            ],
            "text/plain": [
              "      0    1\n",
              "0   40   100\n",
              "1   38   100\n",
              "2   6.4  100\n",
              "3   8.3  100\n",
              "4   5.1  100\n",
              "5   5.4  100\n",
              "6   6.7  100\n",
              "7   6.2  100\n",
              "8   7.3  100\n",
              "9   6.3  100\n",
              "10  5.7  100\n",
              "11  6.1  100\n",
              "12  6.8  100\n",
              "13  7.5  100\n",
              "14  7.4  100\n",
              "15  3.6  100\n",
              "16   0   100\n",
              "17  7.8  100"
            ]
          },
          "execution_count": 157,
          "metadata": {},
          "output_type": "execute_result"
        }
      ],
      "source": [
        "s.str.extract('(\\d*.\\d*).+/(\\d+)')"
      ]
    },
    {
      "cell_type": "markdown",
      "metadata": {
        "id": "Pic_ApcgdUjU"
      },
      "source": [
        "#### Extract date as month and year separately"
      ]
    },
    {
      "cell_type": "code",
      "execution_count": null,
      "metadata": {
        "id": "p6mWmQ9tdUjV",
        "outputId": "d7ee6a62-12c2-4868-de59-712905543b03"
      },
      "outputs": [
        {
          "data": {
            "text/plain": [
              "0     06/2020\\n\\n4.9 l/100 km (comb)\n",
              "1     11/2020\\n\\n166 g CO2/km (comb)\n",
              "2     10/2019\\n\\n5.3 l/100 km (comb)\n",
              "3     05/2022\\n\\n6.3 l/100 km (comb)\n",
              "4     07/2019\\n\\n128 g CO2/km (comb)\n",
              "5     06/2022\\n\\n112 g CO2/km (comb)\n",
              "6     01/2022\\n\\n5.8 l/100 km (comb)\n",
              "7     11/2020\\n\\n106 g CO2/km (comb)\n",
              "8     04/2019\\n\\n105 g CO2/km (comb)\n",
              "9     08/2020\\n\\n133 g CO2/km (comb)\n",
              "10    04/2022\\n\\n133 g CO2/km (comb)\n",
              "dtype: object"
            ]
          },
          "execution_count": 158,
          "metadata": {},
          "output_type": "execute_result"
        }
      ],
      "source": [
        "s = pd.Series(['06/2020\\n\\n4.9 l/100 km (comb)',\n",
        "'11/2020\\n\\n166 g CO2/km (comb)',                                 \n",
        "'10/2019\\n\\n5.3 l/100 km (comb)',\n",
        "'05/2022\\n\\n6.3 l/100 km (comb)',\n",
        "'07/2019\\n\\n128 g CO2/km (comb)',\n",
        "'06/2022\\n\\n112 g CO2/km (comb)',                                                 \n",
        "'01/2022\\n\\n5.8 l/100 km (comb)',\n",
        "'11/2020\\n\\n106 g CO2/km (comb)',\n",
        "'04/2019\\n\\n105 g CO2/km (comb)',\n",
        "'08/2020\\n\\n133 g CO2/km (comb)',\n",
        "'04/2022\\n\\n133 g CO2/km (comb)'])\n",
        "s"
      ]
    },
    {
      "cell_type": "code",
      "execution_count": null,
      "metadata": {
        "id": "AeO9yz1a8pqs",
        "outputId": "8174af08-b54d-4433-e99c-bf8ab22233ae"
      },
      "outputs": [
        {
          "data": {
            "text/html": [
              "<div>\n",
              "<style scoped>\n",
              "    .dataframe tbody tr th:only-of-type {\n",
              "        vertical-align: middle;\n",
              "    }\n",
              "\n",
              "    .dataframe tbody tr th {\n",
              "        vertical-align: top;\n",
              "    }\n",
              "\n",
              "    .dataframe thead th {\n",
              "        text-align: right;\n",
              "    }\n",
              "</style>\n",
              "<table border=\"1\" class=\"dataframe\">\n",
              "  <thead>\n",
              "    <tr style=\"text-align: right;\">\n",
              "      <th></th>\n",
              "      <th>0</th>\n",
              "      <th>1</th>\n",
              "    </tr>\n",
              "  </thead>\n",
              "  <tbody>\n",
              "    <tr>\n",
              "      <th>0</th>\n",
              "      <td>06</td>\n",
              "      <td>2020</td>\n",
              "    </tr>\n",
              "    <tr>\n",
              "      <th>1</th>\n",
              "      <td>11</td>\n",
              "      <td>2020</td>\n",
              "    </tr>\n",
              "    <tr>\n",
              "      <th>2</th>\n",
              "      <td>10</td>\n",
              "      <td>2019</td>\n",
              "    </tr>\n",
              "    <tr>\n",
              "      <th>3</th>\n",
              "      <td>05</td>\n",
              "      <td>2022</td>\n",
              "    </tr>\n",
              "    <tr>\n",
              "      <th>4</th>\n",
              "      <td>07</td>\n",
              "      <td>2019</td>\n",
              "    </tr>\n",
              "    <tr>\n",
              "      <th>5</th>\n",
              "      <td>06</td>\n",
              "      <td>2022</td>\n",
              "    </tr>\n",
              "    <tr>\n",
              "      <th>6</th>\n",
              "      <td>01</td>\n",
              "      <td>2022</td>\n",
              "    </tr>\n",
              "    <tr>\n",
              "      <th>7</th>\n",
              "      <td>11</td>\n",
              "      <td>2020</td>\n",
              "    </tr>\n",
              "    <tr>\n",
              "      <th>8</th>\n",
              "      <td>04</td>\n",
              "      <td>2019</td>\n",
              "    </tr>\n",
              "    <tr>\n",
              "      <th>9</th>\n",
              "      <td>08</td>\n",
              "      <td>2020</td>\n",
              "    </tr>\n",
              "    <tr>\n",
              "      <th>10</th>\n",
              "      <td>04</td>\n",
              "      <td>2022</td>\n",
              "    </tr>\n",
              "  </tbody>\n",
              "</table>\n",
              "</div>"
            ],
            "text/plain": [
              "     0     1\n",
              "0   06  2020\n",
              "1   11  2020\n",
              "2   10  2019\n",
              "3   05  2022\n",
              "4   07  2019\n",
              "5   06  2022\n",
              "6   01  2022\n",
              "7   11  2020\n",
              "8   04  2019\n",
              "9   08  2020\n",
              "10  04  2022"
            ]
          },
          "execution_count": 159,
          "metadata": {},
          "output_type": "execute_result"
        }
      ],
      "source": [
        "s.str.extract(\"(\\d\\d).(\\d\\d\\d\\d)\")\n",
        "#s.str.extract(\"(\\d{2}).(\\d{4})\")\n",
        "#s.str.extract(\"(\\d*).(\\d*)\")\n",
        "#s.str.extract(\"(\\d\\d)/(\\d*)\")\n",
        "#s.str.extract(\"(\\d\\d)/(\\d\\d\\d\\d)\")\n",
        "#s.str.extract(\"(\\d+).(\\d+)\")\n",
        "#s.str.extract(\"(\\S+)/(\\S+)\")"
      ]
    },
    {
      "cell_type": "markdown",
      "metadata": {
        "id": "QpV_XrLDdUjc"
      },
      "source": [
        "#### Extract date and comsuption value -> 4.9"
      ]
    },
    {
      "cell_type": "code",
      "execution_count": null,
      "metadata": {
        "id": "65tBTcic8pqt",
        "outputId": "8161e8a2-883c-4550-bc6c-21aa3cd4ef00"
      },
      "outputs": [
        {
          "data": {
            "text/plain": [
              "0     06/2020\\n\\n4.9 l/100 km (comb)\n",
              "1     11/2020\\n\\n166 g CO2/km (comb)\n",
              "2     10/2019\\n\\n5.3 l/100 km (comb)\n",
              "3     05/2022\\n\\n6.3 l/100 km (comb)\n",
              "4     07/2019\\n\\n128 g CO2/km (comb)\n",
              "5     06/2022\\n\\n112 g CO2/km (comb)\n",
              "6     01/2022\\n\\n5.8 l/100 km (comb)\n",
              "7     11/2020\\n\\n106 g CO2/km (comb)\n",
              "8     04/2019\\n\\n105 g CO2/km (comb)\n",
              "9     08/2020\\n\\n133 g CO2/km (comb)\n",
              "10    04/2022\\n\\n133 g CO2/km (comb)\n",
              "dtype: object"
            ]
          },
          "execution_count": 160,
          "metadata": {},
          "output_type": "execute_result"
        }
      ],
      "source": [
        "s"
      ]
    },
    {
      "cell_type": "code",
      "execution_count": null,
      "metadata": {
        "id": "FJzcKUtW8pqu",
        "outputId": "69c42f29-5fa8-4462-806e-dab474d59e25"
      },
      "outputs": [
        {
          "data": {
            "text/html": [
              "<div>\n",
              "<style scoped>\n",
              "    .dataframe tbody tr th:only-of-type {\n",
              "        vertical-align: middle;\n",
              "    }\n",
              "\n",
              "    .dataframe tbody tr th {\n",
              "        vertical-align: top;\n",
              "    }\n",
              "\n",
              "    .dataframe thead th {\n",
              "        text-align: right;\n",
              "    }\n",
              "</style>\n",
              "<table border=\"1\" class=\"dataframe\">\n",
              "  <thead>\n",
              "    <tr style=\"text-align: right;\">\n",
              "      <th></th>\n",
              "      <th>0</th>\n",
              "      <th>1</th>\n",
              "    </tr>\n",
              "  </thead>\n",
              "  <tbody>\n",
              "    <tr>\n",
              "      <th>0</th>\n",
              "      <td>06/2020</td>\n",
              "      <td>4.9</td>\n",
              "    </tr>\n",
              "    <tr>\n",
              "      <th>1</th>\n",
              "      <td>11/2020</td>\n",
              "      <td>166</td>\n",
              "    </tr>\n",
              "    <tr>\n",
              "      <th>2</th>\n",
              "      <td>10/2019</td>\n",
              "      <td>5.3</td>\n",
              "    </tr>\n",
              "    <tr>\n",
              "      <th>3</th>\n",
              "      <td>05/2022</td>\n",
              "      <td>6.3</td>\n",
              "    </tr>\n",
              "    <tr>\n",
              "      <th>4</th>\n",
              "      <td>07/2019</td>\n",
              "      <td>128</td>\n",
              "    </tr>\n",
              "    <tr>\n",
              "      <th>5</th>\n",
              "      <td>06/2022</td>\n",
              "      <td>112</td>\n",
              "    </tr>\n",
              "    <tr>\n",
              "      <th>6</th>\n",
              "      <td>01/2022</td>\n",
              "      <td>5.8</td>\n",
              "    </tr>\n",
              "    <tr>\n",
              "      <th>7</th>\n",
              "      <td>11/2020</td>\n",
              "      <td>106</td>\n",
              "    </tr>\n",
              "    <tr>\n",
              "      <th>8</th>\n",
              "      <td>04/2019</td>\n",
              "      <td>105</td>\n",
              "    </tr>\n",
              "    <tr>\n",
              "      <th>9</th>\n",
              "      <td>08/2020</td>\n",
              "      <td>133</td>\n",
              "    </tr>\n",
              "    <tr>\n",
              "      <th>10</th>\n",
              "      <td>04/2022</td>\n",
              "      <td>133</td>\n",
              "    </tr>\n",
              "  </tbody>\n",
              "</table>\n",
              "</div>"
            ],
            "text/plain": [
              "          0    1\n",
              "0   06/2020  4.9\n",
              "1   11/2020  166\n",
              "2   10/2019  5.3\n",
              "3   05/2022  6.3\n",
              "4   07/2019  128\n",
              "5   06/2022  112\n",
              "6   01/2022  5.8\n",
              "7   11/2020  106\n",
              "8   04/2019  105\n",
              "9   08/2020  133\n",
              "10  04/2022  133"
            ]
          },
          "execution_count": 161,
          "metadata": {},
          "output_type": "execute_result"
        }
      ],
      "source": [
        "s.str.extract('(\\d+/\\d+)\\s+(\\d+.\\d+|\\d+)')"
      ]
    },
    {
      "cell_type": "markdown",
      "metadata": {
        "id": "TGl67t2e8pqu"
      },
      "source": [
        "#### Extract date as month and year separately"
      ]
    },
    {
      "cell_type": "code",
      "execution_count": null,
      "metadata": {
        "id": "IMuUZcTgdUjd",
        "outputId": "0d39df29-e025-424b-fa58-5964b60120c8"
      },
      "outputs": [
        {
          "data": {
            "text/plain": [
              "0    \\n\\n4.9 06/2020 l/100 km (comb)\n",
              "1    \\n\\n166 11/2020 g CO2/km (comb)\n",
              "2    \\n\\n5.3 10/2019 l/100 km (comb)\n",
              "3    \\n\\n6.3 05/2022 l/100 km (comb)\n",
              "4    \\n\\n128 07/2019 g CO2/km (comb)\n",
              "5    \\n\\n112 06/2022 g CO2/km (comb)\n",
              "6    \\n\\n5.8 01/2022 l/100 km (comb)\n",
              "dtype: object"
            ]
          },
          "execution_count": 162,
          "metadata": {},
          "output_type": "execute_result"
        }
      ],
      "source": [
        "s = pd.Series(['\\n\\n4.9 06/2020 l/100 km (comb)',\n",
        "'\\n\\n166 11/2020 g CO2/km (comb)',                                 \n",
        "'\\n\\n5.3 10/2019 l/100 km (comb)',\n",
        "'\\n\\n6.3 05/2022 l/100 km (comb)',\n",
        "'\\n\\n128 07/2019 g CO2/km (comb)',\n",
        "'\\n\\n112 06/2022 g CO2/km (comb)',                                                 \n",
        "'\\n\\n5.8 01/2022 l/100 km (comb)'])\n",
        "s"
      ]
    },
    {
      "cell_type": "code",
      "execution_count": null,
      "metadata": {
        "id": "23cBsLVX8pqv",
        "outputId": "f538119a-1bfd-4302-b2d3-dfb156c614b9"
      },
      "outputs": [
        {
          "data": {
            "text/html": [
              "<div>\n",
              "<style scoped>\n",
              "    .dataframe tbody tr th:only-of-type {\n",
              "        vertical-align: middle;\n",
              "    }\n",
              "\n",
              "    .dataframe tbody tr th {\n",
              "        vertical-align: top;\n",
              "    }\n",
              "\n",
              "    .dataframe thead th {\n",
              "        text-align: right;\n",
              "    }\n",
              "</style>\n",
              "<table border=\"1\" class=\"dataframe\">\n",
              "  <thead>\n",
              "    <tr style=\"text-align: right;\">\n",
              "      <th></th>\n",
              "      <th>0</th>\n",
              "      <th>1</th>\n",
              "    </tr>\n",
              "  </thead>\n",
              "  <tbody>\n",
              "    <tr>\n",
              "      <th>0</th>\n",
              "      <td>06</td>\n",
              "      <td>2020</td>\n",
              "    </tr>\n",
              "    <tr>\n",
              "      <th>1</th>\n",
              "      <td>11</td>\n",
              "      <td>2020</td>\n",
              "    </tr>\n",
              "    <tr>\n",
              "      <th>2</th>\n",
              "      <td>10</td>\n",
              "      <td>2019</td>\n",
              "    </tr>\n",
              "    <tr>\n",
              "      <th>3</th>\n",
              "      <td>05</td>\n",
              "      <td>2022</td>\n",
              "    </tr>\n",
              "    <tr>\n",
              "      <th>4</th>\n",
              "      <td>07</td>\n",
              "      <td>2019</td>\n",
              "    </tr>\n",
              "    <tr>\n",
              "      <th>5</th>\n",
              "      <td>06</td>\n",
              "      <td>2022</td>\n",
              "    </tr>\n",
              "    <tr>\n",
              "      <th>6</th>\n",
              "      <td>01</td>\n",
              "      <td>2022</td>\n",
              "    </tr>\n",
              "  </tbody>\n",
              "</table>\n",
              "</div>"
            ],
            "text/plain": [
              "    0     1\n",
              "0  06  2020\n",
              "1  11  2020\n",
              "2  10  2019\n",
              "3  05  2022\n",
              "4  07  2019\n",
              "5  06  2022\n",
              "6  01  2022"
            ]
          },
          "execution_count": 163,
          "metadata": {},
          "output_type": "execute_result"
        }
      ],
      "source": [
        "s.str.extract(\"\\S+\\s(\\d+)/(\\d+)\")"
      ]
    },
    {
      "cell_type": "markdown",
      "metadata": {
        "id": "-5_okS_U8pqv"
      },
      "source": [
        "## <p style=\"background-color:#FDFEFE; font-family:newtimeroman; color:#9d4f8c; font-size:150%; text-align:center; border-radius:10px 10px;\">The End of The Session - 11 (Part - 01)</p>\n",
        "\n",
        "<a id=\"5\"></a>\n",
        "<a href=\"#toc\" class=\"btn btn-primary btn-sm\" role=\"button\" aria-pressed=\"true\" \n",
        "style=\"color:blue; background-color:#dfa8e4\" data-toggle=\"popover\">Content</a>"
      ]
    },
    {
      "cell_type": "markdown",
      "metadata": {
        "id": "Pe34nWhUdUje"
      },
      "source": [
        "<p style=\"text-align: center;\"><img src=\"https://docs.google.com/uc?id=1lY0Uj5R04yMY3-ZppPWxqCr5pvBLYPnV\" class=\"img-fluid\" \n",
        "alt=\"CLRSWY\"></p>\n",
        "\n",
        "## <p style=\"background-color:#FDFEFE; font-family:newtimeroman; color:#9d4f8c; font-size:100%; text-align:center; border-radius:10px 10px;\">WAY TO REINVENT YOURSELF</p>\n",
        "\n",
        "____"
      ]
    }
  ],
  "metadata": {
    "colab": {
      "collapsed_sections": [],
      "name": "Regex-LabSession-5(Student).ipynb",
      "provenance": [],
      "include_colab_link": true
    },
    "kernelspec": {
      "display_name": "Python 3",
      "language": "python",
      "name": "python3"
    },
    "language_info": {
      "codemirror_mode": {
        "name": "ipython",
        "version": 3
      },
      "file_extension": ".py",
      "mimetype": "text/x-python",
      "name": "python",
      "nbconvert_exporter": "python",
      "pygments_lexer": "ipython3",
      "version": "3.7.6"
    },
    "toc": {
      "base_numbering": 1,
      "nav_menu": {},
      "number_sections": false,
      "sideBar": true,
      "skip_h1_title": false,
      "title_cell": "Table of Contents",
      "title_sidebar": "Contents",
      "toc_cell": false,
      "toc_position": {},
      "toc_section_display": true,
      "toc_window_display": false
    }
  },
  "nbformat": 4,
  "nbformat_minor": 0
}