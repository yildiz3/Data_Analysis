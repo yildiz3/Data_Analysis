{
  "cells": [
    {
      "cell_type": "markdown",
      "metadata": {
        "id": "MkTCBtBXuPZA"
      },
      "source": [
        "___\n",
        "\n",
        "<p style=\"text-align: center;\"><img src=\"https://docs.google.com/uc?id=1lY0Uj5R04yMY3-ZppPWxqCr5pvBLYPnV\" class=\"img-fluid\" \n",
        "alt=\"CLRSWY\"></p>\n",
        "\n",
        "## <p style=\"background-color:#FDFEFE; font-family:newtimeroman; color:#9d4f8c; font-size:100%; text-align:center; border-radius:10px 10px;\">WAY TO REINVENT YOURSELF</p>"
      ]
    },
    {
      "cell_type": "markdown",
      "metadata": {
        "id": "oYZhcPa6v0D8"
      },
      "source": [
        "<img src=https://i.ibb.co/6gCsHd6/1200px-Pandas-logo-svg.png width=\"700\" height=\"200\">\n",
        "\n",
        "## <p style=\"background-color:#FDFEFE; font-family:newtimeroman; color:#060108; font-size:200%; text-align:center; border-radius:10px 10px;\">Data Analysis with Python</p>\n",
        "\n",
        "## <p style=\"background-color:#FDFEFE; font-family:newtimeroman; color:#060108; font-size:150%; text-align:center; border-radius:10px 10px;\">Lab-01 Session</p>\n",
        "\n",
        "## <p style=\"background-color:#FDFEFE; font-family:newtimeroman; color:#4d77cf; font-size:200%; text-align:center; border-radius:10px 10px;\">Playing with Pandas Series & DataFrames</p>"
      ]
    },
    {
      "cell_type": "markdown",
      "metadata": {
        "id": "4Oh1knsnv0D9"
      },
      "source": [
        "<a id=\"toc\"></a>\n",
        "\n",
        "## <p style=\"background-color:#9d4f8c; font-family:newtimeroman; color:#FFF9ED; font-size:175%; text-align:center; border-radius:10px 10px;\">Content</p>\n",
        "\n",
        "* [OVERVIEW](#0)\n",
        "* [IMPORTING LIBRARIES NEEDED IN THIS NOTEBOOK](#1)\n",
        "* [CREATING A PANDAS SERIES](#2)\n",
        "* [WORKING WITH SERIES DATA STRUCTURE](#3)\n",
        "* [CREATING A PANDAS DATAFRAMES](#4)\n",
        "* [WORKING WITH DATAFRAMES](#5)\n",
        "* [INDEXING, SLICING & SELECTION](#6)\n",
        "* [THE END OF THE LAB-01 SESSION](#7)"
      ]
    },
    {
      "cell_type": "markdown",
      "metadata": {
        "id": "yKHlsj7Wv0EA"
      },
      "source": [
        "## <p style=\"background-color:#9d4f8c; font-family:newtimeroman; color:#FFF9ED; font-size:175%; text-align:center; border-radius:10px 10px;\">Overview</p>\n",
        "\n",
        "<a id=\"0\"></a>\n",
        "<a href=\"#toc\" class=\"btn btn-primary btn-sm\" role=\"button\" aria-pressed=\"true\" \n",
        "style=\"color:blue; background-color:#dfa8e4\" data-toggle=\"popover\">Content</a>\n",
        "\n",
        "## What is Pandas in Python?\n",
        "\n",
        "[**Pandas**](http://pandas.pydata.org/) is the most famous python library providing fast, flexible, and expressive data structures designed to make working with \"relational\" or \"labeled\" data both easy and intuitive. It aims to be the fundamental high-level building block for doing practical, real world data analysis in Python. Additionally, it has the broader goal of becoming the most powerful and flexible open source data analysis / manipulation tool available in any language. It is already well on its way towards this goal.\n",
        "\n",
        "In Pandas, the data is usually utilized to support the statistical analysis in SciPy, plotting functions from Matplotlib, and machine learning algorithms in Scikit-learn.\n",
        "\n",
        "Its popularity has surged in recent years, coincident with the rise of fields such as data science and machine learning. Here’s a popularity comparison over time against STATA, SAS, and [dplyr](https://dplyr.tidyverse.org/) courtesy of Stack Overflow Trends\n",
        "\n",
        "<img src=\"https://i.ibb.co/crf3ksp/pandas-vs-rest.png\" style=\"\">\n",
        "\n",
        "## Core Components of Pandas Data Structure\n",
        "\n",
        "Organizing any data in a particular way is known as a data structure. **``Pandas``** have **two core data structure** components, and all operations are based on those two objects. Here are the two pandas data structures:\n",
        "\n",
        "  - [**Series :**](https://pandas.pydata.org/docs/reference/api/pandas.Series.html) A kind of one-dimensional array of any data type that we specified in the pandas module.\n",
        "  - [**DataFrame :**](https://pandas.pydata.org/docs/reference/api/pandas.DataFrame.html) a 2 dimensional data structure, like a 2 dimensional array, or a table with rows and columns of potentially different types.\n",
        "\n",
        "## Main Features\n",
        "\n",
        "Just as [**NumPy**](http://www.numpy.org/) provides the basic array data type plus core array operations, **``Pandas``**;\n",
        "\n",
        "1. defines fundamental structures for working with data and  \n",
        "1. endows them with methods that facilitate operations such as  \n",
        "  \n",
        "  - reading in data  \n",
        "  - adjusting indices  \n",
        "  - working with dates and time series  \n",
        "  - sorting, grouping, re-ordering and general data munging <sup><a href=#mung id=mung-link>[1]</a></sup>  \n",
        "  - dealing with missing values, etc., etc.  \n",
        "  \n",
        "Here are just a few of the things that pandas does well:\n",
        "\n",
        "  - Easy handling of [missing data](https://pandas.pydata.org/pandas-docs/stable/user_guide/missing_data.html) (represented as **``NaN``**) in floating point as well as non-floating point data\n",
        "  - Size mutability: columns can be [inserted and deleted](https://pandas.pydata.org/pandas-docs/stable/user_guide/dsintro.html) from DataFrame and higher dimensional objects\n",
        "  - Automatic and explicit [data alignment](https://pandas.pydata.org/pandas-docs/stable/user_guide/dsintro.html): objects can be explicitly aligned to a set of labels, or the user can simply ignore the labels and let **``Series``**, **``DataFrame``**, etc. automatically align the data for you in computations\n",
        "  - Powerful, flexible [group by](https://pandas.pydata.org/pandas-docs/stable/user_guide/groupby.html) functionality to perform split-apply-combine operations on data sets, for both aggregating and transforming data\n",
        "  - Make it [easy to convert](https://pandas.pydata.org/pandas-docs/stable/user_guide/dsintro.html) ragged, differently-indexed data in other Python and NumPy data structures into DataFrame objects\n",
        "  - Intelligent label-based [slicing](https://pandas.pydata.org/pandas-docs/stable/user_guide/indexing.html), [fancy indexing](https://pandas.pydata.org/pandas-docs/stable/user_guide/indexing.html), and [subsetting](https://pandas.pydata.org/pandas-docs/stable/user_guide/indexing.html) of large data sets\n",
        "  - Intuitive [merging](https://pandas.pydata.org/pandas-docs/stable/user_guide/merging.html) and [joining](https://pandas.pydata.org/pandas-docs/stable/user_guide/merging.html) datasets\n",
        "  - Flexible [reshaping](https://pandas.pydata.org/pandas-docs/stable/user_guide/reshaping.html) and [pivoting](https://pandas.pydata.org/pandas-docs/stable/user_guide/reshaping.html) of datasets\n",
        "  - [Hierarchical labeling](https://pandas.pydata.org/pandas-docs/stable/user_guide/indexing.html) of axes (possible to have multiple labels per tick)\n",
        "  - Robust IO tools for loading data from [flat files](https://pandas.pydata.org/pandas-docs/stable/user_guide/io.html) (CSV and delimited), [Excel files](https://pandas.pydata.org/pandas-docs/stable/user_guide/io.html), [databases](https://pandas.pydata.org/pandas-docs/stable/user_guide/io.html), and saving/loading data from the ultrafast [HDF5 format](https://pandas.pydata.org/pandas-docs/stable/user_guide/io.html)\n",
        "  - [Time series](https://pandas.pydata.org/pandas-docs/stable/user_guide/timeseries.html)-specific functionality: date range generation and frequency conversion, moving window statistics, moving window linear regressions, date shifting and lagging, etc.\n",
        "\n",
        "More sophisticated statistical functionality is left to other packages, such as [statsmodels](http://www.statsmodels.org/) and [scikit-learn](http://scikit-learn.org/), which are built on top of pandas.\n",
        "\n",
        "This session will provide a basic introduction to Pandas. Throughout the session, we will assume that the following imports have taken place."
      ]
    },
    {
      "cell_type": "markdown",
      "metadata": {
        "id": "7PlfJUQqv0ED"
      },
      "source": [
        "## <p style=\"background-color:#9d4f8c; font-family:newtimeroman; color:#FFF9ED; font-size:175%; text-align:center; border-radius:10px 10px;\">Importing Libraries Needed in This Notebook</p>\n",
        "\n",
        "<a id=\"1\"></a>\n",
        "<a href=\"#toc\" class=\"btn btn-primary btn-sm\" role=\"button\" aria-pressed=\"true\" \n",
        "style=\"color:blue; background-color:#dfa8e4\" data-toggle=\"popover\">Content</a>\n",
        "\n",
        "Once you've installed NumPy & Pandas you can import them as a library:"
      ]
    },
    {
      "cell_type": "code",
      "execution_count": 1,
      "metadata": {
        "id": "i7VkXwmNuPZL"
      },
      "outputs": [],
      "source": [
        "import numpy as np\n",
        "import pandas as pd\n",
        "\n",
        "pd.options.display.float_format = '{:20,.2f}'.format  # Suppressing scientific notation in pandas"
      ]
    },
    {
      "cell_type": "markdown",
      "metadata": {
        "id": "Zqn8xVx9v0EF"
      },
      "source": [
        "## <p style=\"background-color:#9d4f8c; font-family:newtimeroman; color:#FFF9ED; font-size:175%; text-align:center; border-radius:10px 10px;\">Creating a Pandas Series</p>\n",
        "\n",
        "<a id=\"2\"></a>\n",
        "<a href=\"#toc\" class=\"btn btn-primary btn-sm\" role=\"button\" aria-pressed=\"true\" \n",
        "style=\"color:blue; background-color:#dfa8e4\" data-toggle=\"popover\">Content</a>\n",
        "\n",
        "**``Pandas Series``** is a **one-dimensional** data structure. It can hold data of many types including **``objects``**, **``floats``**, **``strings``** and **``integers``**. You can create a Series by calling **``pandas.Series()``**. A **``list``**, **``numpy array``**, **``dict``** can be turned into a **``Pandas Series``**. You should use the simplest data structure that meets your needs [Source](https://pythonbasics.org/pandas-series/). The **``axis labels``** are collectively called **``index``**. **``Labels``** need not to be unique but must be a [**hashable type**](https://stackoverflow.com/questions/14535730/what-does-hashable-mean-in-python#:~:text=In%20Python%2C%20any%20immutable%20object,sets%20to%20track%20unique%20values.). The object supports both integer and label-based indexing and provides a host of methods for performing operations involving the index [Source](https://www.geeksforgeeks.org/creating-a-pandas-series/).\n",
        "\n",
        "**``Series``** and **``DataFrame``** are two important data types defined by Pandas.\n",
        "\n",
        "You can think of a Series as a “column” of data, such as a collection of observations on a single variable.\n",
        "\n",
        "A DataFrame is an object for storing related columns of data or combination of Series.\n",
        "\n",
        "**``A Series``** holding a variety of object types is a **one-dimensional data structure** and **homogeneous**; that is, all data are of the same type and are implicitly labelled with an index. For example, we can have a Series of integers, real numbers, characters, strings, dictionaries, etc. We can conveniently manipulate these series performing operations like adding, deleting, ordering, joining, filtering, vectorized operations, statistical analysis, plotting, etc. \n",
        "\n",
        "**``A Series``** is very **similar to a NumPy array** (in fact it is built on top of the NumPy array object). **What differentiates** the NumPy array from a Series, is that a Series can **have axis labels**, meaning it can be indexed by a label, instead of just a number location. It also doesn’t need to hold numeric data, it can hold any arbitrary Python Object [Source](http://www.datasciencelovers.com/python-for-data-science/pandas-series/).\n",
        "\n",
        "So important point to remember for Pandas series is:\n",
        "\n",
        "- Homogeneous data\n",
        "- Size Immutable\n",
        "- Values of Data Mutable\n",
        "\n",
        "**You can create a Series by calling** **``pandas.Series()``** . A **``list``**, **``numpy array``**, **``dict``** can be turned into a Pandas Series.\n",
        "\n",
        "**``pd.Series(data=None, index=None, dtype=None, name=None, copy=False, fastpath=False)``**"
      ]
    },
    {
      "cell_type": "code",
      "execution_count": 2,
      "metadata": {
        "id": "hB59iFCUv0EI",
        "outputId": "167b6db0-6c32-4df7-869a-b38e8c1eef49",
        "colab": {
          "base_uri": "https://localhost:8080/"
        }
      },
      "outputs": [
        {
          "output_type": "execute_result",
          "data": {
            "text/plain": [
              "0    a\n",
              "1    b\n",
              "2    c\n",
              "3    d\n",
              "4    e\n",
              "dtype: object"
            ]
          },
          "metadata": {},
          "execution_count": 2
        }
      ],
      "source": [
        "# First, let's create a Python Pandas Series of characters:\n",
        "\n",
        "s = pd.Series(['a', 'b', 'c', 'd', 'e'])\n",
        "s"
      ]
    },
    {
      "cell_type": "code",
      "execution_count": 3,
      "metadata": {
        "id": "D4k2cmXFv0EL",
        "outputId": "bf4dc622-2fa1-4b0f-ed80-6aad2a18d65d",
        "colab": {
          "base_uri": "https://localhost:8080/"
        }
      },
      "outputs": [
        {
          "output_type": "execute_result",
          "data": {
            "text/plain": [
              "0    a\n",
              "1    b\n",
              "2    c\n",
              "3    d\n",
              "4    e\n",
              "dtype: object"
            ]
          },
          "metadata": {},
          "execution_count": 3
        }
      ],
      "source": [
        "pd.Series(('a', 'b', 'c', 'd', 'e'))"
      ]
    },
    {
      "cell_type": "code",
      "execution_count": 4,
      "metadata": {
        "id": "cGnUpne6v0EM",
        "outputId": "5d14db90-d94b-41d9-d3d4-6825d75de20c",
        "colab": {
          "base_uri": "https://localhost:8080/"
        }
      },
      "outputs": [
        {
          "output_type": "execute_result",
          "data": {
            "text/plain": [
              "0                   0.95\n",
              "1                  -1.15\n",
              "2                   0.32\n",
              "3                  -1.52\n",
              "Name: Daily Returns, dtype: float64"
            ]
          },
          "metadata": {},
          "execution_count": 4
        }
      ],
      "source": [
        "# Let's create a random Python Pandas Series of float numbers:\n",
        "\n",
        "s = pd.Series(np.random.randn(4), name='Daily Returns')\n",
        "s"
      ]
    },
    {
      "cell_type": "code",
      "execution_count": 5,
      "metadata": {
        "id": "QIxauOPMv0EN",
        "outputId": "07a5dfcd-9d10-4610-8015-cdb0e2c6e2a7",
        "colab": {
          "base_uri": "https://localhost:8080/",
          "height": 36
        }
      },
      "outputs": [
        {
          "output_type": "execute_result",
          "data": {
            "text/plain": [
              "'Daily Returns'"
            ],
            "application/vnd.google.colaboratory.intrinsic+json": {
              "type": "string"
            }
          },
          "metadata": {},
          "execution_count": 5
        }
      ],
      "source": [
        "s.name"
      ]
    },
    {
      "cell_type": "markdown",
      "metadata": {
        "id": "HYzFFsxkv0EN"
      },
      "source": [
        "We have allowed the index label to appear by default. It starts at 0, and we can check the index as:"
      ]
    },
    {
      "cell_type": "code",
      "execution_count": 6,
      "metadata": {
        "id": "xu_M6ltSv0EP",
        "outputId": "acfd22a6-67d1-42a1-ae47-e4ada0f54570",
        "colab": {
          "base_uri": "https://localhost:8080/"
        }
      },
      "outputs": [
        {
          "output_type": "execute_result",
          "data": {
            "text/plain": [
              "RangeIndex(start=0, stop=4, step=1)"
            ]
          },
          "metadata": {},
          "execution_count": 6
        }
      ],
      "source": [
        "s.index"
      ]
    },
    {
      "cell_type": "markdown",
      "metadata": {
        "id": "8wtVfrjMv0EQ"
      },
      "source": [
        "Here you can imagine the indices of `0, 1, 2, 3` as if four listed companies, and the values being daily returns on their shares."
      ]
    },
    {
      "cell_type": "markdown",
      "metadata": {
        "id": "G9JIftXgv0ER"
      },
      "source": [
        "One of the essential pieces of NumPy is the ability to perform quick element-wise operations, both with basic arithmetic (addition, subtraction, multiplication, etc.) and with more sophisticated operations (trigonometric functions, exponential and logarithmic functions, etc.). \n",
        "\n",
        "**``Pandas Series``** **are built on top of** **``NumPy arrays``** **and support many** **``similar operations:``**"
      ]
    },
    {
      "cell_type": "code",
      "execution_count": null,
      "metadata": {
        "id": "PiI7ftclv0ER",
        "outputId": "fb749a57-f9f7-409b-f73a-3bd39084e25e"
      },
      "outputs": [
        {
          "data": {
            "text/plain": [
              "[1, 2, 3, 4, 1, 2, 3, 4, 1, 2, 3, 4]"
            ]
          },
          "execution_count": 84,
          "metadata": {},
          "output_type": "execute_result"
        }
      ],
      "source": [
        "[1, 2, 3, 4] * 3   # DIKKAT: Değerleri 3 ile çarpmaz numpy ın aksine 3 adet aynı listeden oluşturduk"
      ]
    },
    {
      "cell_type": "code",
      "execution_count": null,
      "metadata": {
        "id": "n7sB3lFHv0ES",
        "outputId": "6e448e7d-c47a-415c-8e49-589a20ce4060"
      },
      "outputs": [
        {
          "data": {
            "text/plain": [
              "array([0, 3, 6, 9])"
            ]
          },
          "execution_count": 19,
          "metadata": {},
          "output_type": "execute_result"
        }
      ],
      "source": [
        "a = np.arange(4)\n",
        "a*3"
      ]
    },
    {
      "cell_type": "markdown",
      "metadata": {
        "id": "z3j0FLw9v0ES"
      },
      "source": [
        "In mathematics, element-wise operations refer to operations on individual elements of a matrix. Any arithmetic operations in arrays applies the operation elementwise. **[NumPy Basics: Arrays and Vectorized Computation](https://www.oreilly.com/library/view/python-for-data/9781449323592/ch04.html)** & **[Numerical Operations on Arrays](https://scipy-lectures.org/intro/numpy/operations.html)**"
      ]
    },
    {
      "cell_type": "code",
      "execution_count": null,
      "metadata": {
        "id": "NzBv5QGMv0ES",
        "outputId": "a8831dbf-d2b0-481a-b7ef-bac47dc87165"
      },
      "outputs": [
        {
          "data": {
            "text/plain": [
              "0                 -46.07\n",
              "1                 -93.86\n",
              "2                 105.24\n",
              "3                 126.50\n",
              "Name: Daily Returns, dtype: float64"
            ]
          },
          "execution_count": 85,
          "metadata": {},
          "output_type": "execute_result"
        }
      ],
      "source": [
        "s * 100"
      ]
    },
    {
      "cell_type": "code",
      "execution_count": null,
      "metadata": {
        "id": "TujIce2nv0ET",
        "outputId": "bfcb0634-6fed-477e-e79e-5b88f51ba818"
      },
      "outputs": [
        {
          "data": {
            "text/plain": [
              "0                   0.46\n",
              "1                   0.94\n",
              "2                   1.05\n",
              "3                   1.26\n",
              "Name: Daily Returns, dtype: float64"
            ]
          },
          "execution_count": 86,
          "metadata": {},
          "output_type": "execute_result"
        }
      ],
      "source": [
        "np.abs(s)"
      ]
    },
    {
      "cell_type": "markdown",
      "metadata": {
        "id": "flDYM5DOv0ET"
      },
      "source": [
        "But `Series` provide more than NumPy arrays.\n",
        "\n",
        "Not only do they have some additional (statistically oriented) methods"
      ]
    },
    {
      "cell_type": "code",
      "execution_count": null,
      "metadata": {
        "id": "ZuzM-b5dv0EU",
        "outputId": "beb162a9-2e92-40bc-bb1d-c015b28bd9ac"
      },
      "outputs": [
        {
          "data": {
            "text/plain": [
              "count                   4.00\n",
              "mean                    0.23\n",
              "std                     1.09\n",
              "min                    -0.94\n",
              "25%                    -0.58\n",
              "50%                     0.30\n",
              "75%                     1.11\n",
              "max                     1.26\n",
              "Name: Daily Returns, dtype: float64"
            ]
          },
          "execution_count": 87,
          "metadata": {},
          "output_type": "execute_result"
        }
      ],
      "source": [
        "s.describe()   # Serinin Betimsel istatistikleri gösterir"
      ]
    },
    {
      "cell_type": "code",
      "execution_count": null,
      "metadata": {
        "id": "7SQp3GXlv0EU",
        "outputId": "e55339fc-8514-47bf-8b63-733141b2ce48"
      },
      "outputs": [
        {
          "data": {
            "text/plain": [
              "1.0939616138788835"
            ]
          },
          "execution_count": 88,
          "metadata": {},
          "output_type": "execute_result"
        }
      ],
      "source": [
        "s.std()       # Serinin standart sapmasını gösterir"
      ]
    },
    {
      "cell_type": "markdown",
      "metadata": {
        "id": "c8T2hnkXv0EV"
      },
      "source": [
        "But their indices are more flexible and we can specify the index we need:"
      ]
    },
    {
      "cell_type": "code",
      "execution_count": null,
      "metadata": {
        "id": "dBHkuJPfv0EV",
        "outputId": "7bbecb9d-3e0b-45ff-d3c1-dc9d17a99f98"
      },
      "outputs": [
        {
          "data": {
            "text/plain": [
              "AMZN                  -0.46\n",
              "AAPL                  -0.94\n",
              "MSFT                   1.05\n",
              "GOOG                   1.26\n",
              "Name: Daily Returns, dtype: float64"
            ]
          },
          "execution_count": 89,
          "metadata": {},
          "output_type": "execute_result"
        }
      ],
      "source": [
        "s.index = ['AMZN', 'AAPL', 'MSFT', 'GOOG']  # İndex isimlerini değiştirdik burada\n",
        "s"
      ]
    },
    {
      "cell_type": "markdown",
      "metadata": {
        "id": "UKshyycfv0EV"
      },
      "source": [
        "Viewed in this way, `Series` are like fast, efficient Python dictionaries (with the restriction that the items in the dictionary all have the same type—in this case, floats).\n",
        "\n",
        "In fact, you can use much of the same syntax as Python dictionaries"
      ]
    },
    {
      "cell_type": "code",
      "execution_count": null,
      "metadata": {
        "id": "SxbV46pPv0EW",
        "outputId": "d16ed190-10f5-42ed-c407-2f83e2c4649f"
      },
      "outputs": [
        {
          "data": {
            "text/plain": [
              "-0.46067834411257047"
            ]
          },
          "execution_count": 90,
          "metadata": {},
          "output_type": "execute_result"
        }
      ],
      "source": [
        "s['AMZN']       # \"AMZN\" indexinin değerini görüntüledik"
      ]
    },
    {
      "cell_type": "markdown",
      "metadata": {
        "id": "qdaFCy_Lv0EW"
      },
      "source": [
        "It is also possible to assign a new value (Remember and compare it with **[Broadcasting](https://numpy.org/doc/stable/user/basics.broadcasting.html#general-broadcasting-rules)**)"
      ]
    },
    {
      "cell_type": "code",
      "execution_count": null,
      "metadata": {
        "id": "yGg-o3qdv0EX",
        "outputId": "211be86b-70fa-4110-be3b-e1835fd38da5"
      },
      "outputs": [
        {
          "data": {
            "text/plain": [
              "AMZN                 999.00\n",
              "AAPL                  -0.94\n",
              "MSFT                   1.05\n",
              "GOOG                   1.26\n",
              "Name: Daily Returns, dtype: float64"
            ]
          },
          "execution_count": 91,
          "metadata": {},
          "output_type": "execute_result"
        }
      ],
      "source": [
        "s['AMZN'] = 999    # \"AMZN\" indexinin değerini değiştirdik\n",
        "s "
      ]
    },
    {
      "cell_type": "markdown",
      "metadata": {
        "id": "Q5H1KV4Pv0EX"
      },
      "source": [
        "**[Vectorization in Python](https://www.askpython.com/python-modules/numpy/vectorization-numpy):** Vectorization is a technique of implementing array operations without using for loops.<br>\n",
        "**[A Gentle Introduction to Broadcasting with NumPy Arrays](https://machinelearningmastery.com/broadcasting-with-numpy-arrays/):** Broadcasting is the name given to the method that NumPy uses to allow array arithmetic between arrays with a different shape or size.<br>\n",
        "Broadcasting is an operation of matching the dimensions of differently shaped arrays in order to be able to perform further operations on those arrays (eg per-element arithmetic).<br>\n",
        "**[Broadcasting in NumPy](https://towardsdatascience.com/broadcasting-in-numpy-58856f926d73):** Broadcasting is an operation of matching the dimensions of differently shaped arrays in order to be able to perform further operations on those arrays (eg per-element arithmetic)."
      ]
    },
    {
      "cell_type": "code",
      "execution_count": null,
      "metadata": {
        "id": "ylIrxG74v0EX",
        "outputId": "7c79b6bf-888d-4f3f-d929-d7c045af995b"
      },
      "outputs": [
        {
          "data": {
            "text/plain": [
              "True"
            ]
          },
          "execution_count": 92,
          "metadata": {},
          "output_type": "execute_result"
        }
      ],
      "source": [
        "'AAPL' in s   # 'AAPL indexi \"s\" serisinin içinde mi # True"
      ]
    },
    {
      "cell_type": "markdown",
      "metadata": {
        "id": "Eaw6ooxbv0EY"
      },
      "source": [
        "## <p style=\"background-color:#9d4f8c; font-family:newtimeroman; color:#FFF9ED; font-size:175%; text-align:center; border-radius:10px 10px;\">Working with Series Data Structure</p>\n",
        "\n",
        "<a id=\"3\"></a>\n",
        "<a href=\"#toc\" class=\"btn btn-primary btn-sm\" role=\"button\" aria-pressed=\"true\" \n",
        "style=\"color:blue; background-color:#dfa8e4\" data-toggle=\"popover\">Content</a>\n",
        "\n",
        "**SOME COMMON ATTRIBUTES** [Official Pandas API Document](https://pandas.pydata.org/docs/reference/api/pandas.Series.html)<br>\n",
        "\n",
        "**Series.index**\tDefines the index of the Series.<br>\n",
        "**Series.values**   Returns Series as ndarray or ndarray-like depending on the dtype.<br>\n",
        "**Series.shape**\tIt returns a tuple of shape of the data.<br>\n",
        "**Series.dtype**\tIt returns the data type of the data.<br>\n",
        "**Series.size**\tIt returns the size of the data.<br>\n",
        "**Series.empty**\tIt returns True if Series object is empty, otherwise returns false.<br>\n",
        "**Series.hasnans**\tIt returns True if there are any NaN values, otherwise returns false.<br>\n",
        "**Series.nbytes**\tIt returns the number of bytes in the data.<br>\n",
        "**Series.ndim**\tIt returns the number of dimensions in the data.<br>"
      ]
    },
    {
      "cell_type": "code",
      "execution_count": null,
      "metadata": {
        "id": "Oj8Q_Ptdv0EY",
        "outputId": "81b89859-705e-454f-c6ad-4405af8e7759"
      },
      "outputs": [
        {
          "data": {
            "text/html": [
              "<div>\n",
              "<style scoped>\n",
              "    .dataframe tbody tr th:only-of-type {\n",
              "        vertical-align: middle;\n",
              "    }\n",
              "\n",
              "    .dataframe tbody tr th {\n",
              "        vertical-align: top;\n",
              "    }\n",
              "\n",
              "    .dataframe thead th {\n",
              "        text-align: right;\n",
              "    }\n",
              "</style>\n",
              "<table border=\"1\" class=\"dataframe\">\n",
              "  <thead>\n",
              "    <tr style=\"text-align: right;\">\n",
              "      <th></th>\n",
              "      <th>Rank</th>\n",
              "      <th>Name</th>\n",
              "      <th>Platform</th>\n",
              "      <th>Year</th>\n",
              "      <th>Genre</th>\n",
              "      <th>Publisher</th>\n",
              "      <th>NA_Sales</th>\n",
              "      <th>EU_Sales</th>\n",
              "      <th>JP_Sales</th>\n",
              "      <th>Other_Sales</th>\n",
              "      <th>Global_Sales</th>\n",
              "    </tr>\n",
              "  </thead>\n",
              "  <tbody>\n",
              "    <tr>\n",
              "      <th>0</th>\n",
              "      <td>1</td>\n",
              "      <td>Wii Sports</td>\n",
              "      <td>Wii</td>\n",
              "      <td>2,006.00</td>\n",
              "      <td>Sports</td>\n",
              "      <td>Nintendo</td>\n",
              "      <td>41.49</td>\n",
              "      <td>29.02</td>\n",
              "      <td>3.77</td>\n",
              "      <td>8.46</td>\n",
              "      <td>82.74</td>\n",
              "    </tr>\n",
              "    <tr>\n",
              "      <th>1</th>\n",
              "      <td>2</td>\n",
              "      <td>Super Mario Bros.</td>\n",
              "      <td>NES</td>\n",
              "      <td>1,985.00</td>\n",
              "      <td>Platform</td>\n",
              "      <td>Nintendo</td>\n",
              "      <td>29.08</td>\n",
              "      <td>3.58</td>\n",
              "      <td>6.81</td>\n",
              "      <td>0.77</td>\n",
              "      <td>40.24</td>\n",
              "    </tr>\n",
              "    <tr>\n",
              "      <th>2</th>\n",
              "      <td>3</td>\n",
              "      <td>Mario Kart Wii</td>\n",
              "      <td>Wii</td>\n",
              "      <td>2,008.00</td>\n",
              "      <td>Racing</td>\n",
              "      <td>Nintendo</td>\n",
              "      <td>15.85</td>\n",
              "      <td>12.88</td>\n",
              "      <td>3.79</td>\n",
              "      <td>3.31</td>\n",
              "      <td>35.82</td>\n",
              "    </tr>\n",
              "    <tr>\n",
              "      <th>3</th>\n",
              "      <td>4</td>\n",
              "      <td>Wii Sports Resort</td>\n",
              "      <td>Wii</td>\n",
              "      <td>2,009.00</td>\n",
              "      <td>Sports</td>\n",
              "      <td>Nintendo</td>\n",
              "      <td>15.75</td>\n",
              "      <td>11.01</td>\n",
              "      <td>3.28</td>\n",
              "      <td>2.96</td>\n",
              "      <td>33.00</td>\n",
              "    </tr>\n",
              "    <tr>\n",
              "      <th>4</th>\n",
              "      <td>5</td>\n",
              "      <td>Pokemon Red/Pokemon Blue</td>\n",
              "      <td>GB</td>\n",
              "      <td>1,996.00</td>\n",
              "      <td>Role-Playing</td>\n",
              "      <td>Nintendo</td>\n",
              "      <td>11.27</td>\n",
              "      <td>8.89</td>\n",
              "      <td>10.22</td>\n",
              "      <td>1.00</td>\n",
              "      <td>31.37</td>\n",
              "    </tr>\n",
              "    <tr>\n",
              "      <th>...</th>\n",
              "      <td>...</td>\n",
              "      <td>...</td>\n",
              "      <td>...</td>\n",
              "      <td>...</td>\n",
              "      <td>...</td>\n",
              "      <td>...</td>\n",
              "      <td>...</td>\n",
              "      <td>...</td>\n",
              "      <td>...</td>\n",
              "      <td>...</td>\n",
              "      <td>...</td>\n",
              "    </tr>\n",
              "    <tr>\n",
              "      <th>16593</th>\n",
              "      <td>16596</td>\n",
              "      <td>Woody Woodpecker in Crazy Castle 5</td>\n",
              "      <td>GBA</td>\n",
              "      <td>2,002.00</td>\n",
              "      <td>Platform</td>\n",
              "      <td>Kemco</td>\n",
              "      <td>0.01</td>\n",
              "      <td>0.00</td>\n",
              "      <td>0.00</td>\n",
              "      <td>0.00</td>\n",
              "      <td>0.01</td>\n",
              "    </tr>\n",
              "    <tr>\n",
              "      <th>16594</th>\n",
              "      <td>16597</td>\n",
              "      <td>Men in Black II: Alien Escape</td>\n",
              "      <td>GC</td>\n",
              "      <td>2,003.00</td>\n",
              "      <td>Shooter</td>\n",
              "      <td>Infogrames</td>\n",
              "      <td>0.01</td>\n",
              "      <td>0.00</td>\n",
              "      <td>0.00</td>\n",
              "      <td>0.00</td>\n",
              "      <td>0.01</td>\n",
              "    </tr>\n",
              "    <tr>\n",
              "      <th>16595</th>\n",
              "      <td>16598</td>\n",
              "      <td>SCORE International Baja 1000: The Official Game</td>\n",
              "      <td>PS2</td>\n",
              "      <td>2,008.00</td>\n",
              "      <td>Racing</td>\n",
              "      <td>Activision</td>\n",
              "      <td>0.00</td>\n",
              "      <td>0.00</td>\n",
              "      <td>0.00</td>\n",
              "      <td>0.00</td>\n",
              "      <td>0.01</td>\n",
              "    </tr>\n",
              "    <tr>\n",
              "      <th>16596</th>\n",
              "      <td>16599</td>\n",
              "      <td>Know How 2</td>\n",
              "      <td>DS</td>\n",
              "      <td>2,010.00</td>\n",
              "      <td>Puzzle</td>\n",
              "      <td>7G//AMES</td>\n",
              "      <td>0.00</td>\n",
              "      <td>0.01</td>\n",
              "      <td>0.00</td>\n",
              "      <td>0.00</td>\n",
              "      <td>0.01</td>\n",
              "    </tr>\n",
              "    <tr>\n",
              "      <th>16597</th>\n",
              "      <td>16600</td>\n",
              "      <td>Spirits &amp; Spells</td>\n",
              "      <td>GBA</td>\n",
              "      <td>2,003.00</td>\n",
              "      <td>Platform</td>\n",
              "      <td>Wanadoo</td>\n",
              "      <td>0.01</td>\n",
              "      <td>0.00</td>\n",
              "      <td>0.00</td>\n",
              "      <td>0.00</td>\n",
              "      <td>0.01</td>\n",
              "    </tr>\n",
              "  </tbody>\n",
              "</table>\n",
              "<p>16598 rows × 11 columns</p>\n",
              "</div>"
            ],
            "text/plain": [
              "        Rank                                              Name Platform  \\\n",
              "0          1                                        Wii Sports      Wii   \n",
              "1          2                                 Super Mario Bros.      NES   \n",
              "2          3                                    Mario Kart Wii      Wii   \n",
              "3          4                                 Wii Sports Resort      Wii   \n",
              "4          5                          Pokemon Red/Pokemon Blue       GB   \n",
              "...      ...                                               ...      ...   \n",
              "16593  16596                Woody Woodpecker in Crazy Castle 5      GBA   \n",
              "16594  16597                     Men in Black II: Alien Escape       GC   \n",
              "16595  16598  SCORE International Baja 1000: The Official Game      PS2   \n",
              "16596  16599                                        Know How 2       DS   \n",
              "16597  16600                                  Spirits & Spells      GBA   \n",
              "\n",
              "                      Year         Genre   Publisher             NA_Sales  \\\n",
              "0                 2,006.00        Sports    Nintendo                41.49   \n",
              "1                 1,985.00      Platform    Nintendo                29.08   \n",
              "2                 2,008.00        Racing    Nintendo                15.85   \n",
              "3                 2,009.00        Sports    Nintendo                15.75   \n",
              "4                 1,996.00  Role-Playing    Nintendo                11.27   \n",
              "...                    ...           ...         ...                  ...   \n",
              "16593             2,002.00      Platform       Kemco                 0.01   \n",
              "16594             2,003.00       Shooter  Infogrames                 0.01   \n",
              "16595             2,008.00        Racing  Activision                 0.00   \n",
              "16596             2,010.00        Puzzle    7G//AMES                 0.00   \n",
              "16597             2,003.00      Platform     Wanadoo                 0.01   \n",
              "\n",
              "                  EU_Sales             JP_Sales          Other_Sales  \\\n",
              "0                    29.02                 3.77                 8.46   \n",
              "1                     3.58                 6.81                 0.77   \n",
              "2                    12.88                 3.79                 3.31   \n",
              "3                    11.01                 3.28                 2.96   \n",
              "4                     8.89                10.22                 1.00   \n",
              "...                    ...                  ...                  ...   \n",
              "16593                 0.00                 0.00                 0.00   \n",
              "16594                 0.00                 0.00                 0.00   \n",
              "16595                 0.00                 0.00                 0.00   \n",
              "16596                 0.01                 0.00                 0.00   \n",
              "16597                 0.00                 0.00                 0.00   \n",
              "\n",
              "              Global_Sales  \n",
              "0                    82.74  \n",
              "1                    40.24  \n",
              "2                    35.82  \n",
              "3                    33.00  \n",
              "4                    31.37  \n",
              "...                    ...  \n",
              "16593                 0.01  \n",
              "16594                 0.01  \n",
              "16595                 0.01  \n",
              "16596                 0.01  \n",
              "16597                 0.01  \n",
              "\n",
              "[16598 rows x 11 columns]"
            ]
          },
          "execution_count": 4,
          "metadata": {},
          "output_type": "execute_result"
        }
      ],
      "source": [
        "games = pd.read_csv(\"vgsalesGlobale.csv\") # read_csv ile csv dosyalarını okutuyoruz\n",
        "games"
      ]
    },
    {
      "cell_type": "markdown",
      "metadata": {
        "id": "RvVnRCAnv0EZ"
      },
      "source": [
        "[**head(n=5)**](https://pandas.pydata.org/docs/reference/api/pandas.DataFrame.head.html) function returns the first n rows for the object based on position. It is useful for quickly testing if your object has the right type of data in it.\n",
        "\n",
        "For negative values of n, this function returns all rows except the last n rows, equivalent to df[:-n]."
      ]
    },
    {
      "cell_type": "code",
      "execution_count": null,
      "metadata": {
        "id": "3iyHS0JIv0EZ",
        "outputId": "d25157a1-ec9c-480a-e8be-9a5ea84ea8c0"
      },
      "outputs": [
        {
          "data": {
            "text/html": [
              "<div>\n",
              "<style scoped>\n",
              "    .dataframe tbody tr th:only-of-type {\n",
              "        vertical-align: middle;\n",
              "    }\n",
              "\n",
              "    .dataframe tbody tr th {\n",
              "        vertical-align: top;\n",
              "    }\n",
              "\n",
              "    .dataframe thead th {\n",
              "        text-align: right;\n",
              "    }\n",
              "</style>\n",
              "<table border=\"1\" class=\"dataframe\">\n",
              "  <thead>\n",
              "    <tr style=\"text-align: right;\">\n",
              "      <th></th>\n",
              "      <th>Rank</th>\n",
              "      <th>Name</th>\n",
              "      <th>Platform</th>\n",
              "      <th>Year</th>\n",
              "      <th>Genre</th>\n",
              "      <th>Publisher</th>\n",
              "      <th>NA_Sales</th>\n",
              "      <th>EU_Sales</th>\n",
              "      <th>JP_Sales</th>\n",
              "      <th>Other_Sales</th>\n",
              "      <th>Global_Sales</th>\n",
              "    </tr>\n",
              "  </thead>\n",
              "  <tbody>\n",
              "    <tr>\n",
              "      <th>0</th>\n",
              "      <td>1</td>\n",
              "      <td>Wii Sports</td>\n",
              "      <td>Wii</td>\n",
              "      <td>2,006.00</td>\n",
              "      <td>Sports</td>\n",
              "      <td>Nintendo</td>\n",
              "      <td>41.49</td>\n",
              "      <td>29.02</td>\n",
              "      <td>3.77</td>\n",
              "      <td>8.46</td>\n",
              "      <td>82.74</td>\n",
              "    </tr>\n",
              "    <tr>\n",
              "      <th>1</th>\n",
              "      <td>2</td>\n",
              "      <td>Super Mario Bros.</td>\n",
              "      <td>NES</td>\n",
              "      <td>1,985.00</td>\n",
              "      <td>Platform</td>\n",
              "      <td>Nintendo</td>\n",
              "      <td>29.08</td>\n",
              "      <td>3.58</td>\n",
              "      <td>6.81</td>\n",
              "      <td>0.77</td>\n",
              "      <td>40.24</td>\n",
              "    </tr>\n",
              "    <tr>\n",
              "      <th>2</th>\n",
              "      <td>3</td>\n",
              "      <td>Mario Kart Wii</td>\n",
              "      <td>Wii</td>\n",
              "      <td>2,008.00</td>\n",
              "      <td>Racing</td>\n",
              "      <td>Nintendo</td>\n",
              "      <td>15.85</td>\n",
              "      <td>12.88</td>\n",
              "      <td>3.79</td>\n",
              "      <td>3.31</td>\n",
              "      <td>35.82</td>\n",
              "    </tr>\n",
              "    <tr>\n",
              "      <th>3</th>\n",
              "      <td>4</td>\n",
              "      <td>Wii Sports Resort</td>\n",
              "      <td>Wii</td>\n",
              "      <td>2,009.00</td>\n",
              "      <td>Sports</td>\n",
              "      <td>Nintendo</td>\n",
              "      <td>15.75</td>\n",
              "      <td>11.01</td>\n",
              "      <td>3.28</td>\n",
              "      <td>2.96</td>\n",
              "      <td>33.00</td>\n",
              "    </tr>\n",
              "    <tr>\n",
              "      <th>4</th>\n",
              "      <td>5</td>\n",
              "      <td>Pokemon Red/Pokemon Blue</td>\n",
              "      <td>GB</td>\n",
              "      <td>1,996.00</td>\n",
              "      <td>Role-Playing</td>\n",
              "      <td>Nintendo</td>\n",
              "      <td>11.27</td>\n",
              "      <td>8.89</td>\n",
              "      <td>10.22</td>\n",
              "      <td>1.00</td>\n",
              "      <td>31.37</td>\n",
              "    </tr>\n",
              "  </tbody>\n",
              "</table>\n",
              "</div>"
            ],
            "text/plain": [
              "   Rank                      Name Platform                 Year         Genre  \\\n",
              "0     1                Wii Sports      Wii             2,006.00        Sports   \n",
              "1     2         Super Mario Bros.      NES             1,985.00      Platform   \n",
              "2     3            Mario Kart Wii      Wii             2,008.00        Racing   \n",
              "3     4         Wii Sports Resort      Wii             2,009.00        Sports   \n",
              "4     5  Pokemon Red/Pokemon Blue       GB             1,996.00  Role-Playing   \n",
              "\n",
              "  Publisher             NA_Sales             EU_Sales             JP_Sales  \\\n",
              "0  Nintendo                41.49                29.02                 3.77   \n",
              "1  Nintendo                29.08                 3.58                 6.81   \n",
              "2  Nintendo                15.85                12.88                 3.79   \n",
              "3  Nintendo                15.75                11.01                 3.28   \n",
              "4  Nintendo                11.27                 8.89                10.22   \n",
              "\n",
              "           Other_Sales         Global_Sales  \n",
              "0                 8.46                82.74  \n",
              "1                 0.77                40.24  \n",
              "2                 3.31                35.82  \n",
              "3                 2.96                33.00  \n",
              "4                 1.00                31.37  "
            ]
          },
          "execution_count": 5,
          "metadata": {},
          "output_type": "execute_result"
        }
      ],
      "source": [
        "games.head() # dataframe in ilk 5 değeri verir. Kaç satır görmek istersek arantez içine rakam yazabiliriz"
      ]
    },
    {
      "cell_type": "markdown",
      "metadata": {
        "id": "Hp4JhmI7v0EZ"
      },
      "source": [
        "**[tail()](https://pandas.pydata.org/docs/reference/api/pandas.DataFrame.tail.html)** function returns last n rows from the object based on position. It is useful for quickly verifying data, for example, after sorting or appending rows."
      ]
    },
    {
      "cell_type": "code",
      "execution_count": null,
      "metadata": {
        "id": "atdXM9r3v0EZ",
        "outputId": "81b1d405-6acf-43bd-98e7-98afb5f8d106"
      },
      "outputs": [
        {
          "data": {
            "text/html": [
              "<div>\n",
              "<style scoped>\n",
              "    .dataframe tbody tr th:only-of-type {\n",
              "        vertical-align: middle;\n",
              "    }\n",
              "\n",
              "    .dataframe tbody tr th {\n",
              "        vertical-align: top;\n",
              "    }\n",
              "\n",
              "    .dataframe thead th {\n",
              "        text-align: right;\n",
              "    }\n",
              "</style>\n",
              "<table border=\"1\" class=\"dataframe\">\n",
              "  <thead>\n",
              "    <tr style=\"text-align: right;\">\n",
              "      <th></th>\n",
              "      <th>Rank</th>\n",
              "      <th>Name</th>\n",
              "      <th>Platform</th>\n",
              "      <th>Year</th>\n",
              "      <th>Genre</th>\n",
              "      <th>Publisher</th>\n",
              "      <th>NA_Sales</th>\n",
              "      <th>EU_Sales</th>\n",
              "      <th>JP_Sales</th>\n",
              "      <th>Other_Sales</th>\n",
              "      <th>Global_Sales</th>\n",
              "    </tr>\n",
              "  </thead>\n",
              "  <tbody>\n",
              "    <tr>\n",
              "      <th>16593</th>\n",
              "      <td>16596</td>\n",
              "      <td>Woody Woodpecker in Crazy Castle 5</td>\n",
              "      <td>GBA</td>\n",
              "      <td>2,002.00</td>\n",
              "      <td>Platform</td>\n",
              "      <td>Kemco</td>\n",
              "      <td>0.01</td>\n",
              "      <td>0.00</td>\n",
              "      <td>0.00</td>\n",
              "      <td>0.00</td>\n",
              "      <td>0.01</td>\n",
              "    </tr>\n",
              "    <tr>\n",
              "      <th>16594</th>\n",
              "      <td>16597</td>\n",
              "      <td>Men in Black II: Alien Escape</td>\n",
              "      <td>GC</td>\n",
              "      <td>2,003.00</td>\n",
              "      <td>Shooter</td>\n",
              "      <td>Infogrames</td>\n",
              "      <td>0.01</td>\n",
              "      <td>0.00</td>\n",
              "      <td>0.00</td>\n",
              "      <td>0.00</td>\n",
              "      <td>0.01</td>\n",
              "    </tr>\n",
              "    <tr>\n",
              "      <th>16595</th>\n",
              "      <td>16598</td>\n",
              "      <td>SCORE International Baja 1000: The Official Game</td>\n",
              "      <td>PS2</td>\n",
              "      <td>2,008.00</td>\n",
              "      <td>Racing</td>\n",
              "      <td>Activision</td>\n",
              "      <td>0.00</td>\n",
              "      <td>0.00</td>\n",
              "      <td>0.00</td>\n",
              "      <td>0.00</td>\n",
              "      <td>0.01</td>\n",
              "    </tr>\n",
              "    <tr>\n",
              "      <th>16596</th>\n",
              "      <td>16599</td>\n",
              "      <td>Know How 2</td>\n",
              "      <td>DS</td>\n",
              "      <td>2,010.00</td>\n",
              "      <td>Puzzle</td>\n",
              "      <td>7G//AMES</td>\n",
              "      <td>0.00</td>\n",
              "      <td>0.01</td>\n",
              "      <td>0.00</td>\n",
              "      <td>0.00</td>\n",
              "      <td>0.01</td>\n",
              "    </tr>\n",
              "    <tr>\n",
              "      <th>16597</th>\n",
              "      <td>16600</td>\n",
              "      <td>Spirits &amp; Spells</td>\n",
              "      <td>GBA</td>\n",
              "      <td>2,003.00</td>\n",
              "      <td>Platform</td>\n",
              "      <td>Wanadoo</td>\n",
              "      <td>0.01</td>\n",
              "      <td>0.00</td>\n",
              "      <td>0.00</td>\n",
              "      <td>0.00</td>\n",
              "      <td>0.01</td>\n",
              "    </tr>\n",
              "  </tbody>\n",
              "</table>\n",
              "</div>"
            ],
            "text/plain": [
              "        Rank                                              Name Platform  \\\n",
              "16593  16596                Woody Woodpecker in Crazy Castle 5      GBA   \n",
              "16594  16597                     Men in Black II: Alien Escape       GC   \n",
              "16595  16598  SCORE International Baja 1000: The Official Game      PS2   \n",
              "16596  16599                                        Know How 2       DS   \n",
              "16597  16600                                  Spirits & Spells      GBA   \n",
              "\n",
              "                      Year     Genre   Publisher             NA_Sales  \\\n",
              "16593             2,002.00  Platform       Kemco                 0.01   \n",
              "16594             2,003.00   Shooter  Infogrames                 0.01   \n",
              "16595             2,008.00    Racing  Activision                 0.00   \n",
              "16596             2,010.00    Puzzle    7G//AMES                 0.00   \n",
              "16597             2,003.00  Platform     Wanadoo                 0.01   \n",
              "\n",
              "                  EU_Sales             JP_Sales          Other_Sales  \\\n",
              "16593                 0.00                 0.00                 0.00   \n",
              "16594                 0.00                 0.00                 0.00   \n",
              "16595                 0.00                 0.00                 0.00   \n",
              "16596                 0.01                 0.00                 0.00   \n",
              "16597                 0.00                 0.00                 0.00   \n",
              "\n",
              "              Global_Sales  \n",
              "16593                 0.01  \n",
              "16594                 0.01  \n",
              "16595                 0.01  \n",
              "16596                 0.01  \n",
              "16597                 0.01  "
            ]
          },
          "execution_count": 95,
          "metadata": {},
          "output_type": "execute_result"
        }
      ],
      "source": [
        "games.tail() # dataframe in son 5 değeri verir. Kaç satır görmek istersek arantez içine rakam yazabiliriz"
      ]
    },
    {
      "cell_type": "code",
      "execution_count": null,
      "metadata": {
        "id": "2Bz8ZZfev0Ea",
        "outputId": "28ed562e-7bdb-4560-a4a1-7036196c2db8"
      },
      "outputs": [
        {
          "data": {
            "text/html": [
              "<div>\n",
              "<style scoped>\n",
              "    .dataframe tbody tr th:only-of-type {\n",
              "        vertical-align: middle;\n",
              "    }\n",
              "\n",
              "    .dataframe tbody tr th {\n",
              "        vertical-align: top;\n",
              "    }\n",
              "\n",
              "    .dataframe thead th {\n",
              "        text-align: right;\n",
              "    }\n",
              "</style>\n",
              "<table border=\"1\" class=\"dataframe\">\n",
              "  <thead>\n",
              "    <tr style=\"text-align: right;\">\n",
              "      <th></th>\n",
              "      <th>Rank</th>\n",
              "      <th>Name</th>\n",
              "      <th>Platform</th>\n",
              "      <th>Year</th>\n",
              "      <th>Genre</th>\n",
              "      <th>Publisher</th>\n",
              "      <th>NA_Sales</th>\n",
              "      <th>EU_Sales</th>\n",
              "      <th>JP_Sales</th>\n",
              "      <th>Other_Sales</th>\n",
              "      <th>Global_Sales</th>\n",
              "    </tr>\n",
              "  </thead>\n",
              "  <tbody>\n",
              "    <tr>\n",
              "      <th>5634</th>\n",
              "      <td>5636</td>\n",
              "      <td>Fortress</td>\n",
              "      <td>GBA</td>\n",
              "      <td>2,001.00</td>\n",
              "      <td>Action</td>\n",
              "      <td>Majesco Entertainment</td>\n",
              "      <td>0.23</td>\n",
              "      <td>0.08</td>\n",
              "      <td>0.00</td>\n",
              "      <td>0.01</td>\n",
              "      <td>0.32</td>\n",
              "    </tr>\n",
              "  </tbody>\n",
              "</table>\n",
              "</div>"
            ],
            "text/plain": [
              "      Rank      Name Platform                 Year   Genre  \\\n",
              "5634  5636  Fortress      GBA             2,001.00  Action   \n",
              "\n",
              "                  Publisher             NA_Sales             EU_Sales  \\\n",
              "5634  Majesco Entertainment                 0.23                 0.08   \n",
              "\n",
              "                 JP_Sales          Other_Sales         Global_Sales  \n",
              "5634                 0.00                 0.01                 0.32  "
            ]
          },
          "execution_count": 20,
          "metadata": {},
          "output_type": "execute_result"
        }
      ],
      "source": [
        "games.sample(4) # # dataframe den rasgele 1 değer verir. Kaç satır görmek istersek arantez içine rakam yazabiliriz"
      ]
    },
    {
      "cell_type": "markdown",
      "metadata": {
        "id": "7tU660vZv0Ea"
      },
      "source": [
        "[**dtypes**](https://pandas.pydata.org/docs/reference/api/pandas.DataFrame.dtypes.html) attribute returns a Series with the data type of each column. The result’s index is the original DataFrame’s columns. Columns with **mixed data types** are stored with the **``object dtype``**. See the [User Guide](https://pandas.pydata.org/docs/user_guide/basics.html#basics-dtypes) for more.\n",
        "\n",
        "![image.png](attachment:image.png)"
      ]
    },
    {
      "cell_type": "code",
      "execution_count": null,
      "metadata": {
        "id": "-RLCEDwxv0Ea",
        "outputId": "ae5cd527-0e10-47d7-8a81-2c081971fe96"
      },
      "outputs": [
        {
          "name": "stdout",
          "output_type": "stream",
          "text": [
            "                 float  int   datetime string\n",
            "0                 1.00    1 2018-12-01    foo\n",
            "1                 2.20    2 2018-12-02      2\n",
            "**************************************************\n",
            "float              float64\n",
            "int                  int64\n",
            "datetime    datetime64[ns]\n",
            "string              object\n",
            "dtype: object\n"
          ]
        }
      ],
      "source": [
        "df = pd.DataFrame({'float': [1.0, 2.2],\n",
        "                   'int': [1, 2],\n",
        "                   'datetime': pd.date_range('12/1/2018', periods=2, freq='D'),\n",
        "                   'string': ['foo', 2]})\n",
        "\n",
        "print(df)\n",
        "print(\"*\"*50)\n",
        "print(df.dtypes)"
      ]
    },
    {
      "cell_type": "code",
      "execution_count": null,
      "metadata": {
        "id": "wJRebLVLv0Eb",
        "outputId": "43dc6b41-6bbc-4ea8-be76-689b8a599acd"
      },
      "outputs": [
        {
          "data": {
            "text/plain": [
              "Rank              int64\n",
              "Name             object\n",
              "Platform         object\n",
              "Year            float64\n",
              "Genre            object\n",
              "Publisher        object\n",
              "NA_Sales        float64\n",
              "EU_Sales        float64\n",
              "JP_Sales        float64\n",
              "Other_Sales     float64\n",
              "Global_Sales    float64\n",
              "dtype: object"
            ]
          },
          "execution_count": 7,
          "metadata": {},
          "output_type": "execute_result"
        }
      ],
      "source": [
        "games.dtypes  # games dataframe inin içindeki sütunların ve dataframe in veritiplerini verir"
      ]
    },
    {
      "cell_type": "code",
      "execution_count": null,
      "metadata": {
        "id": "C7WuBE6vv0Eb",
        "outputId": "cd8b085c-bae0-463c-fd55-a445129554ec"
      },
      "outputs": [
        {
          "data": {
            "text/plain": [
              "dtype('O')"
            ]
          },
          "execution_count": 98,
          "metadata": {},
          "output_type": "execute_result"
        }
      ],
      "source": [
        "games.Genre.dtypes  # games dataframe inin içindeki \"Genre\" sütununun veri tipini verir"
      ]
    },
    {
      "cell_type": "code",
      "execution_count": null,
      "metadata": {
        "id": "wxK6zr6Pv0Ec",
        "outputId": "4d60c40b-15f5-4b55-ecbb-5558cb418bc8"
      },
      "outputs": [
        {
          "data": {
            "text/plain": [
              "0          Sports\n",
              "1        Platform\n",
              "2          Racing\n",
              "3          Sports\n",
              "4    Role-Playing\n",
              "Name: Genre, dtype: object"
            ]
          },
          "execution_count": 9,
          "metadata": {},
          "output_type": "execute_result"
        }
      ],
      "source": [
        "games.Genre.head() # games dataframe inin içindeki \"Genre\" sütununun ilk 5 değerini verir"
      ]
    },
    {
      "cell_type": "code",
      "execution_count": null,
      "metadata": {
        "id": "BSsg_Eogv0Ec",
        "outputId": "0784ec33-297e-40e2-f631-06d77af2a69b"
      },
      "outputs": [
        {
          "data": {
            "text/plain": [
              "count      16598\n",
              "unique        12\n",
              "top       Action\n",
              "freq        3316\n",
              "Name: Genre, dtype: object"
            ]
          },
          "execution_count": 8,
          "metadata": {},
          "output_type": "execute_result"
        }
      ],
      "source": [
        "games.Genre.describe() # games dataframe inin içindeki \"Genre\" sütununun betimsel istatistiklerini verir"
      ]
    },
    {
      "cell_type": "markdown",
      "metadata": {
        "id": "EkuggBS9v0Ec"
      },
      "source": [
        "[**value_counts()**](https://pandas.pydata.org/docs/reference/api/pandas.DataFrame.value_counts.html) returns a Series containing counts of unique values.\n",
        "\n",
        "The resulting object will be in descending order so that the first element is the most frequently-occurring element. Excludes NA values by default."
      ]
    },
    {
      "cell_type": "code",
      "execution_count": null,
      "metadata": {
        "id": "PuXH09M9v0Ed",
        "outputId": "a140c6af-9581-4cbc-f3de-6ee44fb35b75"
      },
      "outputs": [
        {
          "data": {
            "text/plain": [
              "Action          3316\n",
              "Sports          2346\n",
              "Misc            1739\n",
              "Role-Playing    1488\n",
              "Shooter         1310\n",
              "Adventure       1286\n",
              "Racing          1249\n",
              "Platform         886\n",
              "Simulation       867\n",
              "Fighting         848\n",
              "Strategy         681\n",
              "Puzzle           582\n",
              "Name: Genre, dtype: int64"
            ]
          },
          "execution_count": 100,
          "metadata": {},
          "output_type": "execute_result"
        }
      ],
      "source": [
        "games.Genre.value_counts() # games dataframe inin içindeki \"Genre\" sütununun  Unique value leri döndürüyor"
      ]
    },
    {
      "cell_type": "markdown",
      "metadata": {
        "id": "A7CZRLjFv0Ed"
      },
      "source": [
        "With normalize set to True, returns the relative frequency by dividing all values by the sum of values."
      ]
    },
    {
      "cell_type": "code",
      "execution_count": null,
      "metadata": {
        "id": "3n96riEVv0Ed",
        "outputId": "bf825e59-e4bd-4d60-a2c5-c20f5e308da0"
      },
      "outputs": [
        {
          "data": {
            "text/plain": [
              "Action                         0.20\n",
              "Sports                         0.14\n",
              "Misc                           0.10\n",
              "Role-Playing                   0.09\n",
              "Shooter                        0.08\n",
              "Adventure                      0.08\n",
              "Racing                         0.08\n",
              "Platform                       0.05\n",
              "Simulation                     0.05\n",
              "Fighting                       0.05\n",
              "Strategy                       0.04\n",
              "Puzzle                         0.04\n",
              "Name: Genre, dtype: float64"
            ]
          },
          "execution_count": 101,
          "metadata": {},
          "output_type": "execute_result"
        }
      ],
      "source": [
        "games.Genre.value_counts(normalize=True) # Aynı kod ama normalize var burada\n",
        "# .. yüzdesel hesap veriyor. Bu yüzdeleri toplarsanız 1 eder.\n",
        "# Not: Bunlar yuvarlanmış hallerdir. 100 ile çarparak daha net görürüz"
      ]
    },
    {
      "cell_type": "markdown",
      "metadata": {
        "id": "4uv94bPKv0Ed"
      },
      "source": [
        "20% of the computer games sold are action games"
      ]
    },
    {
      "cell_type": "markdown",
      "metadata": {
        "id": "GUSWQHcSv0Ed"
      },
      "source": [
        "**``bin``** parameter inside value_counts() is probably the most underutilized one. value_counts() can be used to bin continuous data into discrete intervals with the help of the bin parameter. This option works only with numerical data. It is similar to the **``pd.cut()``** function. "
      ]
    },
    {
      "cell_type": "code",
      "execution_count": null,
      "metadata": {
        "id": "tQHML2_pv0Ee",
        "outputId": "f39b0a60-799b-4712-bd2c-1cac4ea5e741"
      },
      "outputs": [
        {
          "data": {
            "text/plain": [
              " 0.00    5730\n",
              " 0.01    1496\n",
              " 0.02    1269\n",
              " 0.03     934\n",
              " 0.04     748\n",
              "         ... \n",
              " 3.42       1\n",
              " 2.38       1\n",
              " 1.99       1\n",
              " 2.10       1\n",
              "29.02       1\n",
              "Name: EU_Sales, Length: 305, dtype: int64"
            ]
          },
          "execution_count": 102,
          "metadata": {},
          "output_type": "execute_result"
        }
      ],
      "source": [
        "games.EU_Sales.value_counts()  # Toplamda 305 değer var. Bunları bir arada görmem mümkün değil\n",
        "# .. O yüzden bunları 4 gruba bölelim alttaki kodda"
      ]
    },
    {
      "cell_type": "markdown",
      "metadata": {
        "id": "sU7FXRFhv0Ee"
      },
      "source": [
        "Using value_counts() in a plain way sometimes doesn’t convey much information as the output contains a lot of categories for every value of related feature. Instead, let’s group them into 4 bins."
      ]
    },
    {
      "cell_type": "code",
      "execution_count": null,
      "metadata": {
        "id": "VEdDAc5cv0Ee",
        "outputId": "0f16aa34-da37-49f6-aa48-0cb17ec83a6a"
      },
      "outputs": [
        {
          "data": {
            "text/plain": [
              "(-0.030000000000000002, 7.255]    16586\n",
              "(7.255, 14.51]                       11\n",
              "(21.765, 29.02]                       1\n",
              "(14.51, 21.765]                       0\n",
              "Name: EU_Sales, dtype: int64"
            ]
          },
          "execution_count": 103,
          "metadata": {},
          "output_type": "execute_result"
        }
      ],
      "source": [
        "games.EU_Sales.value_counts(bins=4) # games dataframe inin içindeki \"EU_Sales\" sütununu belli aralıklara ayırdık ve \n",
        "# .. hangi aralıkta ne kadar değer var gördük "
      ]
    },
    {
      "cell_type": "markdown",
      "metadata": {
        "id": "dCyFw1ZAv0Ee"
      },
      "source": [
        "Binning makes it easy to understand the idea being conveyed. We can easily see that most of the gamers in EU paid less than 7.255 for their games. Also, we can see that having four bins serves our purpose since no sales falls into the last bin."
      ]
    },
    {
      "cell_type": "code",
      "execution_count": null,
      "metadata": {
        "id": "1eTnszjRv0Ef",
        "outputId": "e12f5d7f-b43c-4ac9-f99b-0bf91a3021ec"
      },
      "outputs": [
        {
          "data": {
            "text/plain": [
              "pandas.core.series.Series"
            ]
          },
          "execution_count": 104,
          "metadata": {},
          "output_type": "execute_result"
        }
      ],
      "source": [
        "type(games.Genre.value_counts())"
      ]
    },
    {
      "cell_type": "code",
      "execution_count": null,
      "metadata": {
        "id": "X_aQwp6Yv0Eg",
        "outputId": "2599b921-1703-42d0-ca8d-9ba0318d24be"
      },
      "outputs": [
        {
          "data": {
            "text/plain": [
              "array(['Sports', 'Platform', 'Racing', 'Role-Playing', 'Puzzle', 'Misc',\n",
              "       'Shooter', 'Simulation', 'Action', 'Fighting', 'Adventure',\n",
              "       'Strategy'], dtype=object)"
            ]
          },
          "execution_count": 105,
          "metadata": {},
          "output_type": "execute_result"
        }
      ],
      "source": [
        "games.Genre.unique() # 12 tane unique değer varmış bunlar hangileri görüyoruz"
      ]
    },
    {
      "cell_type": "code",
      "execution_count": null,
      "metadata": {
        "id": "ltGG52bov0Eg",
        "outputId": "2e2c5756-f9a7-4229-c219-c171b44b2323"
      },
      "outputs": [
        {
          "data": {
            "text/plain": [
              "12"
            ]
          },
          "execution_count": 106,
          "metadata": {},
          "output_type": "execute_result"
        }
      ],
      "source": [
        "games.Genre.nunique() # Bu unique değerler kaç tane 12 taneymiş"
      ]
    },
    {
      "cell_type": "code",
      "execution_count": null,
      "metadata": {
        "id": "vY3KQt4uv0Eh",
        "outputId": "5b2054a2-0b8b-4a14-af92-e74169aca50d"
      },
      "outputs": [
        {
          "data": {
            "text/plain": [
              "12"
            ]
          },
          "execution_count": 107,
          "metadata": {},
          "output_type": "execute_result"
        }
      ],
      "source": [
        "len(games.Genre.value_counts()) # Bu da 12 sonucunu verecektir"
      ]
    },
    {
      "cell_type": "code",
      "execution_count": null,
      "metadata": {
        "id": "Ek2GPunTv0Eh",
        "outputId": "0abd3441-4b9f-49db-ec5d-95113f373257"
      },
      "outputs": [
        {
          "data": {
            "text/plain": [
              "1"
            ]
          },
          "execution_count": 108,
          "metadata": {},
          "output_type": "execute_result"
        }
      ],
      "source": [
        "games.Genre.ndim  # Sütun şeklinde olduğu için dimension = 1"
      ]
    },
    {
      "cell_type": "code",
      "execution_count": null,
      "metadata": {
        "id": "LObdGeE3v0Ei",
        "outputId": "84e259c9-41b6-402c-8aa3-3ee5cf2c00d4"
      },
      "outputs": [
        {
          "data": {
            "text/plain": [
              "16598"
            ]
          },
          "execution_count": 109,
          "metadata": {},
          "output_type": "execute_result"
        }
      ],
      "source": [
        "games.Genre.size # games dataframe içindeki \"Genre\" sütunundak satır sayısı(eleman sayısı) aslında bu, çünkü seri olduğu için direk sütunda kaç satır olduğunu saydı"
      ]
    },
    {
      "cell_type": "markdown",
      "metadata": {
        "id": "9St032sYv0Ei"
      },
      "source": [
        "We can also obtain its dimension and size by just another attribute, **``shape``**, returns a tuple of the shape of the underlying data."
      ]
    },
    {
      "cell_type": "code",
      "execution_count": null,
      "metadata": {
        "id": "r3AtIIEDv0Ei",
        "outputId": "fcecffe9-5701-4520-ffd1-e907e7643ca5"
      },
      "outputs": [
        {
          "data": {
            "text/plain": [
              "(16598,)"
            ]
          },
          "execution_count": 110,
          "metadata": {},
          "output_type": "execute_result"
        }
      ],
      "source": [
        "games.Genre.shape   # games dataframe i içindeki \"Genre\" serisinin kaça kaçlık olduğu bilgisi"
      ]
    },
    {
      "cell_type": "code",
      "execution_count": null,
      "metadata": {
        "id": "gPPCZMJ1v0Ei",
        "outputId": "14d6bf14-4aa0-4e0c-886c-d548a54c0679"
      },
      "outputs": [
        {
          "data": {
            "text/plain": [
              "RangeIndex(start=0, stop=16598, step=1)"
            ]
          },
          "execution_count": 111,
          "metadata": {},
          "output_type": "execute_result"
        }
      ],
      "source": [
        "games.Genre.index # games dataframe i içindeki \"Genre\" serisinin index bilgisi"
      ]
    },
    {
      "cell_type": "code",
      "execution_count": null,
      "metadata": {
        "id": "9AnhMXVjv0Ei",
        "outputId": "52a2783e-6dc8-4297-b0c5-c4a52a65b547"
      },
      "outputs": [
        {
          "data": {
            "text/plain": [
              "count              16,598.00\n",
              "mean                    0.54\n",
              "std                     1.56\n",
              "min                     0.01\n",
              "25%                     0.06\n",
              "50%                     0.17\n",
              "75%                     0.47\n",
              "max                    82.74\n",
              "Name: Global_Sales, dtype: float64"
            ]
          },
          "execution_count": 112,
          "metadata": {},
          "output_type": "execute_result"
        }
      ],
      "source": [
        "games.Global_Sales.describe() # games dataframe i içindeki \"Global_Sales\" serisi  için betimsel istatistik bilgiler"
      ]
    },
    {
      "cell_type": "code",
      "execution_count": null,
      "metadata": {
        "id": "Jx5M2dnEv0Ej",
        "outputId": "67b18284-d045-41af-ca0d-6ba5e09b439c"
      },
      "outputs": [
        {
          "data": {
            "text/plain": [
              "0.53744065550074"
            ]
          },
          "execution_count": 113,
          "metadata": {},
          "output_type": "execute_result"
        }
      ],
      "source": [
        "games.Global_Sales.mean() # games dataframe i içindeki \"Global_Sales\" serisi  ortalaması"
      ]
    },
    {
      "cell_type": "code",
      "execution_count": null,
      "metadata": {
        "id": "TQ7Nsty1v0Eo",
        "outputId": "c9c40cdd-01ab-41d4-c35c-3f5920908bea"
      },
      "outputs": [
        {
          "data": {
            "text/plain": [
              "0.17"
            ]
          },
          "execution_count": 114,
          "metadata": {},
          "output_type": "execute_result"
        }
      ],
      "source": [
        "games.Global_Sales.median() # games dataframe i içindeki \"Global_Sales\" serisi median ı"
      ]
    },
    {
      "cell_type": "code",
      "execution_count": null,
      "metadata": {
        "id": "_2aUWqHFv0Eo",
        "outputId": "8d31bc6d-8158-4a90-f4da-97bd67137934"
      },
      "outputs": [
        {
          "data": {
            "text/plain": [
              "0.25                   0.06\n",
              "0.50                   0.17\n",
              "0.75                   0.47\n",
              "Name: Global_Sales, dtype: float64"
            ]
          },
          "execution_count": 11,
          "metadata": {},
          "output_type": "execute_result"
        }
      ],
      "source": [
        "games.Global_Sales.quantile(q=[0.25, 0.5, 0.75], interpolation='linear') # games dataframe i içindeki \"Global_Sales\" serisi çeyreklik bilgileri"
      ]
    },
    {
      "cell_type": "code",
      "execution_count": null,
      "metadata": {
        "id": "wODl_KEmv0Eo",
        "outputId": "db014556-60c5-4c13-d763-1873d3c63ce4"
      },
      "outputs": [
        {
          "data": {
            "text/plain": [
              "RangeIndex(start=0, stop=16598, step=1)"
            ]
          },
          "execution_count": 116,
          "metadata": {},
          "output_type": "execute_result"
        }
      ],
      "source": [
        "games.Global_Sales.index"
      ]
    },
    {
      "cell_type": "markdown",
      "metadata": {
        "id": "lpY-8-47v0Eo"
      },
      "source": [
        "## <p style=\"background-color:#9d4f8c; font-family:newtimeroman; color:#FFF9ED; font-size:175%; text-align:center; border-radius:10px 10px;\">Creating a Pandas DataFrames</p>\n",
        "\n",
        "<a id=\"4\"></a>\n",
        "<a href=\"#toc\" class=\"btn btn-primary btn-sm\" role=\"button\" aria-pressed=\"true\" \n",
        "style=\"color:blue; background-color:#dfa8e4\" data-toggle=\"popover\">Content</a>\n",
        "\n",
        "Pandas DataFrame is a 2-dimensional labeled data structure with columns of potentially different types. It is generally the most commonly used pandas object. Pandas DataFrame can be created in multiple ways:\n",
        "\n",
        "  - Creating Pandas DataFrame from lists of lists.\n",
        "  - Creating DataFrame from dict of narray/lists.\n",
        "  - Creating Dataframe from list of dicts.\n",
        "  - Creating DataFrame using zip() function.\n",
        "  - Creating DataFrame from Dicts of series.\n",
        "  \n",
        "[Source](https://pandas.pydata.org/docs/reference/api/pandas.DataFrame.html), [Source](https://www.javatpoint.com/how-to-create-a-dataframes-in-python), [Source](https://towardsdatascience.com/15-ways-to-create-a-pandas-dataframe-754ecc082c17)\n",
        "\n",
        "**Let's remember how to create a DataFrame in Pandas:**"
      ]
    },
    {
      "cell_type": "code",
      "execution_count": null,
      "metadata": {
        "id": "yP7oA0Ajv0Ep",
        "outputId": "f47266d9-d64f-4520-8395-2d782dffcde8"
      },
      "outputs": [
        {
          "data": {
            "text/plain": [
              "{'name': ['Bill', 'Tom', 'Tim', 'John', 'Alex', 'Vanessa', 'Kate'],\n",
              " 'score': [90, 80, 85, 75, 95, 60, 65],\n",
              " 'sport': ['Wrestling',\n",
              "  'Football',\n",
              "  'Skiing',\n",
              "  'Swimming',\n",
              "  'Tennis',\n",
              "  'Karete',\n",
              "  'Surfing'],\n",
              " 'sex': ['M', 'M', 'M', 'M', 'F', 'F', 'F']}"
            ]
          },
          "execution_count": 117,
          "metadata": {},
          "output_type": "execute_result"
        }
      ],
      "source": [
        "data = {\"name\":[\"Bill\", \"Tom\", \"Tim\", \"John\", \"Alex\", \"Vanessa\", \"Kate\"],\n",
        "        \"score\":[90, 80, 85, 75, 95, 60, 65],\n",
        "        \"sport\":[\"Wrestling\", \"Football\", \"Skiing\", \"Swimming\", \"Tennis\", \"Karete\", \"Surfing\"],\n",
        "        \"sex\":[\"M\", \"M\", \"M\", \"M\", \"F\", \"F\", \"F\"]}\n",
        "data\n",
        "# Dictionary oluşrutduk burada. Bunu aşağıda bir dataframe(df) e çeviriyoruz"
      ]
    },
    {
      "cell_type": "markdown",
      "metadata": {
        "id": "2j6_g3nPv0Ep"
      },
      "source": [
        "As seen, we have created a Dictionary and assigned it to an object named \"data\".\n",
        "\n",
        "**pandas.DataFrame(data=None, index=None, columns=None, dtype=None, copy=None)** [Official Pandas API](https://pandas.pydata.org/docs/reference/api/pandas.DataFrame.html)"
      ]
    },
    {
      "cell_type": "code",
      "execution_count": null,
      "metadata": {
        "id": "YoR2WUCFv0Ep",
        "outputId": "76264aeb-23c7-48a9-d766-5fcc24536611"
      },
      "outputs": [
        {
          "data": {
            "text/html": [
              "<div>\n",
              "<style scoped>\n",
              "    .dataframe tbody tr th:only-of-type {\n",
              "        vertical-align: middle;\n",
              "    }\n",
              "\n",
              "    .dataframe tbody tr th {\n",
              "        vertical-align: top;\n",
              "    }\n",
              "\n",
              "    .dataframe thead th {\n",
              "        text-align: right;\n",
              "    }\n",
              "</style>\n",
              "<table border=\"1\" class=\"dataframe\">\n",
              "  <thead>\n",
              "    <tr style=\"text-align: right;\">\n",
              "      <th></th>\n",
              "      <th>name</th>\n",
              "      <th>score</th>\n",
              "      <th>sport</th>\n",
              "      <th>sex</th>\n",
              "    </tr>\n",
              "  </thead>\n",
              "  <tbody>\n",
              "    <tr>\n",
              "      <th>0</th>\n",
              "      <td>Bill</td>\n",
              "      <td>90</td>\n",
              "      <td>Wrestling</td>\n",
              "      <td>M</td>\n",
              "    </tr>\n",
              "    <tr>\n",
              "      <th>1</th>\n",
              "      <td>Tom</td>\n",
              "      <td>80</td>\n",
              "      <td>Football</td>\n",
              "      <td>M</td>\n",
              "    </tr>\n",
              "    <tr>\n",
              "      <th>2</th>\n",
              "      <td>Tim</td>\n",
              "      <td>85</td>\n",
              "      <td>Skiing</td>\n",
              "      <td>M</td>\n",
              "    </tr>\n",
              "    <tr>\n",
              "      <th>3</th>\n",
              "      <td>John</td>\n",
              "      <td>75</td>\n",
              "      <td>Swimming</td>\n",
              "      <td>M</td>\n",
              "    </tr>\n",
              "    <tr>\n",
              "      <th>4</th>\n",
              "      <td>Alex</td>\n",
              "      <td>95</td>\n",
              "      <td>Tennis</td>\n",
              "      <td>F</td>\n",
              "    </tr>\n",
              "    <tr>\n",
              "      <th>5</th>\n",
              "      <td>Vanessa</td>\n",
              "      <td>60</td>\n",
              "      <td>Karete</td>\n",
              "      <td>F</td>\n",
              "    </tr>\n",
              "    <tr>\n",
              "      <th>6</th>\n",
              "      <td>Kate</td>\n",
              "      <td>65</td>\n",
              "      <td>Surfing</td>\n",
              "      <td>F</td>\n",
              "    </tr>\n",
              "  </tbody>\n",
              "</table>\n",
              "</div>"
            ],
            "text/plain": [
              "      name  score      sport sex\n",
              "0     Bill     90  Wrestling   M\n",
              "1      Tom     80   Football   M\n",
              "2      Tim     85     Skiing   M\n",
              "3     John     75   Swimming   M\n",
              "4     Alex     95     Tennis   F\n",
              "5  Vanessa     60     Karete   F\n",
              "6     Kate     65    Surfing   F"
            ]
          },
          "execution_count": 118,
          "metadata": {},
          "output_type": "execute_result"
        }
      ],
      "source": [
        "df = pd.DataFrame(data) # df e çevirdik üstteki dictionary yi\n",
        "df"
      ]
    },
    {
      "cell_type": "markdown",
      "metadata": {
        "id": "FAx9kOF7v0Ep"
      },
      "source": [
        "## <p style=\"background-color:#9d4f8c; font-family:newtimeroman; color:#FFF9ED; font-size:175%; text-align:center; border-radius:10px 10px;\">Working with DataFrames</p>\n",
        "\n",
        "<a id=\"5\"></a>\n",
        "<a href=\"#toc\" class=\"btn btn-primary btn-sm\" role=\"button\" aria-pressed=\"true\" \n",
        "style=\"color:blue; background-color:#dfa8e4\" data-toggle=\"popover\">Content</a>\n",
        "\n",
        "While a `Series` is a single column of data, a `DataFrame` is several columns, one for each variable.\n",
        "\n",
        "In essence, a `DataFrame` in pandas is analogous to a (highly optimized) Excel spreadsheet.\n",
        "\n",
        "The two main data structures in pandas both have at least one axis. A **Series** has **one axis**, the index. A **DataFrame** has **two axes**, the index and the columns. It’s useful to note here that in all the DataFrame functions that can be applied to either rows or columns, an axis of 0 refers to the index, an axis of 1 refers to the columns.\n",
        "\n",
        "Thus, it is a powerful tool for representing and analyzing data that are naturally organized into rows and columns, often with  descriptive indexes for individual rows and individual columns.\n",
        "\n",
        "Let’s look at an example that reads data from the CSV file named `test_lab.csv`. "
      ]
    },
    {
      "cell_type": "code",
      "execution_count": null,
      "metadata": {
        "id": "-uS9qbw5v0Ep",
        "outputId": "64dd3302-399d-47af-eb9e-5ec5a1e14b03"
      },
      "outputs": [
        {
          "name": "stdout",
          "output_type": "stream",
          "text": [
            "\u001b[1mThe type of test_lab.csv is\u001b[0m <class 'pandas.core.frame.DataFrame'>\n"
          ]
        },
        {
          "data": {
            "text/html": [
              "<div>\n",
              "<style scoped>\n",
              "    .dataframe tbody tr th:only-of-type {\n",
              "        vertical-align: middle;\n",
              "    }\n",
              "\n",
              "    .dataframe tbody tr th {\n",
              "        vertical-align: top;\n",
              "    }\n",
              "\n",
              "    .dataframe thead th {\n",
              "        text-align: right;\n",
              "    }\n",
              "</style>\n",
              "<table border=\"1\" class=\"dataframe\">\n",
              "  <thead>\n",
              "    <tr style=\"text-align: right;\">\n",
              "      <th></th>\n",
              "      <th>country</th>\n",
              "      <th>country isocode</th>\n",
              "      <th>year</th>\n",
              "      <th>POP</th>\n",
              "      <th>XRAT</th>\n",
              "      <th>tcgdp</th>\n",
              "      <th>cc</th>\n",
              "      <th>cg</th>\n",
              "    </tr>\n",
              "  </thead>\n",
              "  <tbody>\n",
              "    <tr>\n",
              "      <th>0</th>\n",
              "      <td>Argentina</td>\n",
              "      <td>ARG</td>\n",
              "      <td>2000</td>\n",
              "      <td>37,335.65</td>\n",
              "      <td>1.00</td>\n",
              "      <td>295,072.22</td>\n",
              "      <td>75.72</td>\n",
              "      <td>5.58</td>\n",
              "    </tr>\n",
              "    <tr>\n",
              "      <th>1</th>\n",
              "      <td>Australia</td>\n",
              "      <td>AUS</td>\n",
              "      <td>2000</td>\n",
              "      <td>19,053.19</td>\n",
              "      <td>1.72</td>\n",
              "      <td>541,804.65</td>\n",
              "      <td>67.76</td>\n",
              "      <td>6.72</td>\n",
              "    </tr>\n",
              "    <tr>\n",
              "      <th>2</th>\n",
              "      <td>India</td>\n",
              "      <td>IND</td>\n",
              "      <td>2000</td>\n",
              "      <td>1,006,300.30</td>\n",
              "      <td>44.94</td>\n",
              "      <td>1,728,144.37</td>\n",
              "      <td>64.58</td>\n",
              "      <td>14.07</td>\n",
              "    </tr>\n",
              "    <tr>\n",
              "      <th>3</th>\n",
              "      <td>Israel</td>\n",
              "      <td>ISR</td>\n",
              "      <td>2000</td>\n",
              "      <td>6,114.57</td>\n",
              "      <td>4.08</td>\n",
              "      <td>129,253.89</td>\n",
              "      <td>64.44</td>\n",
              "      <td>10.27</td>\n",
              "    </tr>\n",
              "    <tr>\n",
              "      <th>4</th>\n",
              "      <td>Malawi</td>\n",
              "      <td>MWI</td>\n",
              "      <td>2000</td>\n",
              "      <td>11,801.50</td>\n",
              "      <td>59.54</td>\n",
              "      <td>5,026.22</td>\n",
              "      <td>74.71</td>\n",
              "      <td>11.66</td>\n",
              "    </tr>\n",
              "    <tr>\n",
              "      <th>5</th>\n",
              "      <td>South Africa</td>\n",
              "      <td>ZAF</td>\n",
              "      <td>2000</td>\n",
              "      <td>45,064.10</td>\n",
              "      <td>6.94</td>\n",
              "      <td>227,242.37</td>\n",
              "      <td>72.72</td>\n",
              "      <td>5.73</td>\n",
              "    </tr>\n",
              "    <tr>\n",
              "      <th>6</th>\n",
              "      <td>United States</td>\n",
              "      <td>USA</td>\n",
              "      <td>2000</td>\n",
              "      <td>282,171.96</td>\n",
              "      <td>1.00</td>\n",
              "      <td>9,898,700.00</td>\n",
              "      <td>72.35</td>\n",
              "      <td>6.03</td>\n",
              "    </tr>\n",
              "    <tr>\n",
              "      <th>7</th>\n",
              "      <td>Uruguay</td>\n",
              "      <td>URY</td>\n",
              "      <td>2000</td>\n",
              "      <td>3,219.79</td>\n",
              "      <td>12.10</td>\n",
              "      <td>25,255.96</td>\n",
              "      <td>78.98</td>\n",
              "      <td>5.11</td>\n",
              "    </tr>\n",
              "  </tbody>\n",
              "</table>\n",
              "</div>"
            ],
            "text/plain": [
              "         country country isocode  year                  POP  \\\n",
              "0      Argentina             ARG  2000            37,335.65   \n",
              "1      Australia             AUS  2000            19,053.19   \n",
              "2          India             IND  2000         1,006,300.30   \n",
              "3         Israel             ISR  2000             6,114.57   \n",
              "4         Malawi             MWI  2000            11,801.50   \n",
              "5   South Africa             ZAF  2000            45,064.10   \n",
              "6  United States             USA  2000           282,171.96   \n",
              "7        Uruguay             URY  2000             3,219.79   \n",
              "\n",
              "                  XRAT                tcgdp                   cc  \\\n",
              "0                 1.00           295,072.22                75.72   \n",
              "1                 1.72           541,804.65                67.76   \n",
              "2                44.94         1,728,144.37                64.58   \n",
              "3                 4.08           129,253.89                64.44   \n",
              "4                59.54             5,026.22                74.71   \n",
              "5                 6.94           227,242.37                72.72   \n",
              "6                 1.00         9,898,700.00                72.35   \n",
              "7                12.10            25,255.96                78.98   \n",
              "\n",
              "                    cg  \n",
              "0                 5.58  \n",
              "1                 6.72  \n",
              "2                14.07  \n",
              "3                10.27  \n",
              "4                11.66  \n",
              "5                 5.73  \n",
              "6                 6.03  \n",
              "7                 5.11  "
            ]
          },
          "execution_count": 12,
          "metadata": {},
          "output_type": "execute_result"
        }
      ],
      "source": [
        "df = pd.read_csv('test_lab.csv')\n",
        "print(f\"\\033[1mThe type of test_lab.csv is\\033[0m {type(df)}\")\n",
        "df"
      ]
    },
    {
      "cell_type": "markdown",
      "metadata": {
        "id": "kb_c7NkUv0Eq"
      },
      "source": [
        "[**info()**](https://pandas.pydata.org/docs/reference/api/pandas.DataFrame.info.html) prints a concise summary of a DataFrame. This method prints information about a DataFrame including the number of columns, column labels, column data types, memory usage, range index, and the number of cells in each column (non-null values)."
      ]
    },
    {
      "cell_type": "code",
      "execution_count": null,
      "metadata": {
        "id": "orOWPNw1v0Eq",
        "outputId": "1767bc78-1695-4802-9e7b-8fff8d4f7e0c"
      },
      "outputs": [
        {
          "name": "stdout",
          "output_type": "stream",
          "text": [
            "<class 'pandas.core.frame.DataFrame'>\n",
            "RangeIndex: 8 entries, 0 to 7\n",
            "Data columns (total 8 columns):\n",
            " #   Column           Non-Null Count  Dtype  \n",
            "---  ------           --------------  -----  \n",
            " 0   country          8 non-null      object \n",
            " 1   country isocode  8 non-null      object \n",
            " 2   year             8 non-null      int64  \n",
            " 3   POP              8 non-null      float64\n",
            " 4   XRAT             8 non-null      float64\n",
            " 5   tcgdp            8 non-null      float64\n",
            " 6   cc               8 non-null      float64\n",
            " 7   cg               8 non-null      float64\n",
            "dtypes: float64(5), int64(1), object(2)\n",
            "memory usage: 640.0+ bytes\n"
          ]
        }
      ],
      "source": [
        "df.info() # Veri hakkında özet bilgiyi burada veriyor"
      ]
    },
    {
      "cell_type": "code",
      "execution_count": null,
      "metadata": {
        "id": "cRDi3m_rv0Eq",
        "outputId": "47fa252c-fe8b-4f18-b788-933680e56699"
      },
      "outputs": [
        {
          "data": {
            "text/plain": [
              "(8, 8)"
            ]
          },
          "execution_count": 121,
          "metadata": {},
          "output_type": "execute_result"
        }
      ],
      "source": [
        "df.shape"
      ]
    },
    {
      "cell_type": "code",
      "execution_count": null,
      "metadata": {
        "id": "E6NxN4-av0Eq",
        "outputId": "5227c952-5fe5-4e7f-e71b-c912b6db7e8b"
      },
      "outputs": [
        {
          "data": {
            "text/plain": [
              "64"
            ]
          },
          "execution_count": 122,
          "metadata": {},
          "output_type": "execute_result"
        }
      ],
      "source": [
        "df.size"
      ]
    },
    {
      "cell_type": "code",
      "execution_count": null,
      "metadata": {
        "id": "1tTITL5sv0Eq",
        "outputId": "7c8a3a56-8f84-46d3-9f68-3a67f96024b8"
      },
      "outputs": [
        {
          "data": {
            "text/plain": [
              "2"
            ]
          },
          "execution_count": 123,
          "metadata": {},
          "output_type": "execute_result"
        }
      ],
      "source": [
        "df.ndim"
      ]
    },
    {
      "cell_type": "code",
      "execution_count": null,
      "metadata": {
        "id": "-bmJ6OZHv0Er",
        "outputId": "7900cc0a-c195-44e8-a843-02abf17b5efc"
      },
      "outputs": [
        {
          "data": {
            "text/plain": [
              "Index(['country', 'country isocode', 'year', 'POP', 'XRAT', 'tcgdp', 'cc',\n",
              "       'cg'],\n",
              "      dtype='object')"
            ]
          },
          "execution_count": 124,
          "metadata": {},
          "output_type": "execute_result"
        }
      ],
      "source": [
        "df.columns"
      ]
    },
    {
      "cell_type": "markdown",
      "metadata": {
        "id": "JwHbFNTWv0Er"
      },
      "source": [
        "## <p style=\"background-color:#9d4f8c; font-family:newtimeroman; color:#FFF9ED; font-size:175%; text-align:center; border-radius:10px 10px;\">Indexing, Slicing & Selection</p>\n",
        "\n",
        "<a id=\"6\"></a>\n",
        "<a href=\"#toc\" class=\"btn btn-primary btn-sm\" role=\"button\" aria-pressed=\"true\" \n",
        "style=\"color:blue; background-color:#dfa8e4\" data-toggle=\"popover\">Content</a>\n",
        "\n",
        "As stated and implemented by examples above, a Series is very similar to a NumPy array. [**What differentiates the NumPy array from a Series**](https://www.educba.com/pandas-vs-numpy/) is that **a Series can have axis labels**, meaning it can be indexed by a label, instead of just a number location. In otherwords, the essential difference is **the presence of the index**: while the **``Numpy Array``** has an implicitly defined integer index used to access the values, the **``Pandas Series``** has an explicitly defined index associated with the values (labels). Moreover, it doesn NOT need to hold numeric data, it can hold any arbitrary Python Object [Source](https://rpubs.com/pjozefek/659184).\n",
        "\n",
        "So, the key to using a Series is understanding its index. Pandas makes use of these index names or numbers by allowing for fast look up of information.\n",
        "\n",
        "The axis labeling information in pandas objects serves many purposes:\n",
        "\n",
        "- Identifies data (i.e. provides metadata) using known indicators, important for analysis, visualization, and interactive console display.\n",
        "- Enables automatic and explicit data alignment.\n",
        "- Allows intuitive getting and setting of subsets of the data set.\n",
        "\n",
        "In this part of our session, we will focus on the final point: namely, how to slice, dice, and generally get and set subsets of pandas objects. The primary focus will be on Series and DataFrame as they have received more development attention in this area. For more information, please visit [pandas-docs.github.io](https://pandas-docs.github.io/pandas-docs-travis/user_guide/indexing.html)\n",
        "\n",
        "The most robust and consistent way of slicing ranges along arbitrary axes is described in the [Selection by Position](https://pandas.pydata.org/pandas-docs/stable/user_guide/indexing.html#indexing-integer) section detailing the .iloc method. First, let us look at the semantics of slicing using the **[ ]** operator.\n",
        "\n",
        "[Some More Examples](https://sparkbyexamples.com/pandas/how-to-slice-columns-in-pandas-dataframe/#:~:text=By%20using%20pandas.,columns%2C%20the%20syntax%20is%20df.)"
      ]
    },
    {
      "cell_type": "code",
      "execution_count": null,
      "metadata": {
        "id": "-VrCcigMv0Er",
        "outputId": "a34633db-9bde-483a-8aaa-55e5d38f0439"
      },
      "outputs": [
        {
          "data": {
            "text/plain": [
              "0        Argentina\n",
              "1        Australia\n",
              "2            India\n",
              "3           Israel\n",
              "4           Malawi\n",
              "5     South Africa\n",
              "6    United States\n",
              "7          Uruguay\n",
              "Name: country, dtype: object"
            ]
          },
          "execution_count": 14,
          "metadata": {},
          "output_type": "execute_result"
        }
      ],
      "source": [
        "df[\"country\"]               # df[[\"country\"]] --> bunu yazarsak df hali"
      ]
    },
    {
      "cell_type": "code",
      "execution_count": null,
      "metadata": {
        "id": "xosYI4ihv0Er",
        "outputId": "d72d7f16-8a98-4b8c-c588-7b52a5fbc55a"
      },
      "outputs": [
        {
          "data": {
            "text/html": [
              "<div>\n",
              "<style scoped>\n",
              "    .dataframe tbody tr th:only-of-type {\n",
              "        vertical-align: middle;\n",
              "    }\n",
              "\n",
              "    .dataframe tbody tr th {\n",
              "        vertical-align: top;\n",
              "    }\n",
              "\n",
              "    .dataframe thead th {\n",
              "        text-align: right;\n",
              "    }\n",
              "</style>\n",
              "<table border=\"1\" class=\"dataframe\">\n",
              "  <thead>\n",
              "    <tr style=\"text-align: right;\">\n",
              "      <th></th>\n",
              "      <th>country</th>\n",
              "      <th>POP</th>\n",
              "    </tr>\n",
              "  </thead>\n",
              "  <tbody>\n",
              "    <tr>\n",
              "      <th>0</th>\n",
              "      <td>Argentina</td>\n",
              "      <td>37,335.65</td>\n",
              "    </tr>\n",
              "    <tr>\n",
              "      <th>1</th>\n",
              "      <td>Australia</td>\n",
              "      <td>19,053.19</td>\n",
              "    </tr>\n",
              "    <tr>\n",
              "      <th>2</th>\n",
              "      <td>India</td>\n",
              "      <td>1,006,300.30</td>\n",
              "    </tr>\n",
              "    <tr>\n",
              "      <th>3</th>\n",
              "      <td>Israel</td>\n",
              "      <td>6,114.57</td>\n",
              "    </tr>\n",
              "    <tr>\n",
              "      <th>4</th>\n",
              "      <td>Malawi</td>\n",
              "      <td>11,801.50</td>\n",
              "    </tr>\n",
              "    <tr>\n",
              "      <th>5</th>\n",
              "      <td>South Africa</td>\n",
              "      <td>45,064.10</td>\n",
              "    </tr>\n",
              "    <tr>\n",
              "      <th>6</th>\n",
              "      <td>United States</td>\n",
              "      <td>282,171.96</td>\n",
              "    </tr>\n",
              "    <tr>\n",
              "      <th>7</th>\n",
              "      <td>Uruguay</td>\n",
              "      <td>3,219.79</td>\n",
              "    </tr>\n",
              "  </tbody>\n",
              "</table>\n",
              "</div>"
            ],
            "text/plain": [
              "         country                  POP\n",
              "0      Argentina            37,335.65\n",
              "1      Australia            19,053.19\n",
              "2          India         1,006,300.30\n",
              "3         Israel             6,114.57\n",
              "4         Malawi            11,801.50\n",
              "5   South Africa            45,064.10\n",
              "6  United States           282,171.96\n",
              "7        Uruguay             3,219.79"
            ]
          },
          "execution_count": 16,
          "metadata": {},
          "output_type": "execute_result"
        }
      ],
      "source": [
        "df[['country', 'POP']]     # df['country', 'POP'] --> Hata"
      ]
    },
    {
      "cell_type": "code",
      "execution_count": null,
      "metadata": {
        "id": "nCQXbFuNv0Es",
        "outputId": "a43b59ee-666f-4966-90b6-f500017651b9"
      },
      "outputs": [
        {
          "data": {
            "text/html": [
              "<div>\n",
              "<style scoped>\n",
              "    .dataframe tbody tr th:only-of-type {\n",
              "        vertical-align: middle;\n",
              "    }\n",
              "\n",
              "    .dataframe tbody tr th {\n",
              "        vertical-align: top;\n",
              "    }\n",
              "\n",
              "    .dataframe thead th {\n",
              "        text-align: right;\n",
              "    }\n",
              "</style>\n",
              "<table border=\"1\" class=\"dataframe\">\n",
              "  <thead>\n",
              "    <tr style=\"text-align: right;\">\n",
              "      <th></th>\n",
              "      <th>country</th>\n",
              "      <th>POP</th>\n",
              "    </tr>\n",
              "  </thead>\n",
              "  <tbody>\n",
              "    <tr>\n",
              "      <th>0</th>\n",
              "      <td>Argentina</td>\n",
              "      <td>37,335.65</td>\n",
              "    </tr>\n",
              "    <tr>\n",
              "      <th>1</th>\n",
              "      <td>Australia</td>\n",
              "      <td>19,053.19</td>\n",
              "    </tr>\n",
              "    <tr>\n",
              "      <th>2</th>\n",
              "      <td>India</td>\n",
              "      <td>1,006,300.30</td>\n",
              "    </tr>\n",
              "    <tr>\n",
              "      <th>3</th>\n",
              "      <td>Israel</td>\n",
              "      <td>6,114.57</td>\n",
              "    </tr>\n",
              "    <tr>\n",
              "      <th>4</th>\n",
              "      <td>Malawi</td>\n",
              "      <td>11,801.50</td>\n",
              "    </tr>\n",
              "    <tr>\n",
              "      <th>5</th>\n",
              "      <td>South Africa</td>\n",
              "      <td>45,064.10</td>\n",
              "    </tr>\n",
              "    <tr>\n",
              "      <th>6</th>\n",
              "      <td>United States</td>\n",
              "      <td>282,171.96</td>\n",
              "    </tr>\n",
              "    <tr>\n",
              "      <th>7</th>\n",
              "      <td>Uruguay</td>\n",
              "      <td>3,219.79</td>\n",
              "    </tr>\n",
              "  </tbody>\n",
              "</table>\n",
              "</div>"
            ],
            "text/plain": [
              "         country                  POP\n",
              "0      Argentina            37,335.65\n",
              "1      Australia            19,053.19\n",
              "2          India         1,006,300.30\n",
              "3         Israel             6,114.57\n",
              "4         Malawi            11,801.50\n",
              "5   South Africa            45,064.10\n",
              "6  United States           282,171.96\n",
              "7        Uruguay             3,219.79"
            ]
          },
          "execution_count": 127,
          "metadata": {},
          "output_type": "execute_result"
        }
      ],
      "source": [
        "df[:][['country', 'POP']]    # Bir fark yok üstteki ile"
      ]
    },
    {
      "cell_type": "code",
      "execution_count": null,
      "metadata": {
        "id": "wgCxU_Q1v0Es",
        "outputId": "363d9e41-0d39-4fd4-b219-7ec34af2951a"
      },
      "outputs": [
        {
          "data": {
            "text/html": [
              "<div>\n",
              "<style scoped>\n",
              "    .dataframe tbody tr th:only-of-type {\n",
              "        vertical-align: middle;\n",
              "    }\n",
              "\n",
              "    .dataframe tbody tr th {\n",
              "        vertical-align: top;\n",
              "    }\n",
              "\n",
              "    .dataframe thead th {\n",
              "        text-align: right;\n",
              "    }\n",
              "</style>\n",
              "<table border=\"1\" class=\"dataframe\">\n",
              "  <thead>\n",
              "    <tr style=\"text-align: right;\">\n",
              "      <th></th>\n",
              "      <th>country</th>\n",
              "      <th>POP</th>\n",
              "    </tr>\n",
              "  </thead>\n",
              "  <tbody>\n",
              "    <tr>\n",
              "      <th>2</th>\n",
              "      <td>India</td>\n",
              "      <td>1,006,300.30</td>\n",
              "    </tr>\n",
              "    <tr>\n",
              "      <th>3</th>\n",
              "      <td>Israel</td>\n",
              "      <td>6,114.57</td>\n",
              "    </tr>\n",
              "  </tbody>\n",
              "</table>\n",
              "</div>"
            ],
            "text/plain": [
              "  country                  POP\n",
              "2   India         1,006,300.30\n",
              "3  Israel             6,114.57"
            ]
          },
          "execution_count": 128,
          "metadata": {},
          "output_type": "execute_result"
        }
      ],
      "source": [
        "df[2:4][['country', 'POP']]    # 2. indexten 4. indexe kadar(4. index dahil değil), country ve Pop sütunlarını al\n",
        "# NoT: Bu biraz kafa karıştırıcı, Bunları genelde loc ve iloc ile yapmalıyız"
      ]
    },
    {
      "cell_type": "markdown",
      "metadata": {
        "id": "rrWKl6YJv0Es"
      },
      "source": [
        "### [.loc[ ]](https://pandas.pydata.org/docs/reference/api/pandas.DataFrame.loc.html) → allows us to select data using **labels** (names) of rows (index) & columns\n",
        "\n",
        "### [.iloc[ ]](https://pandas.pydata.org/docs/reference/api/pandas.DataFrame.iloc.html) → allows us to select data using **index numbers** of rows (index) & columns. it's like classical indexing logic\n",
        "\n",
        "Let us first remember our df: "
      ]
    },
    {
      "cell_type": "code",
      "execution_count": null,
      "metadata": {
        "id": "inhbnWMyv0Es",
        "outputId": "199385db-1635-4913-ca12-552d1107f126"
      },
      "outputs": [
        {
          "data": {
            "text/html": [
              "<div>\n",
              "<style scoped>\n",
              "    .dataframe tbody tr th:only-of-type {\n",
              "        vertical-align: middle;\n",
              "    }\n",
              "\n",
              "    .dataframe tbody tr th {\n",
              "        vertical-align: top;\n",
              "    }\n",
              "\n",
              "    .dataframe thead th {\n",
              "        text-align: right;\n",
              "    }\n",
              "</style>\n",
              "<table border=\"1\" class=\"dataframe\">\n",
              "  <thead>\n",
              "    <tr style=\"text-align: right;\">\n",
              "      <th></th>\n",
              "      <th>country</th>\n",
              "      <th>country isocode</th>\n",
              "      <th>year</th>\n",
              "      <th>POP</th>\n",
              "      <th>XRAT</th>\n",
              "      <th>tcgdp</th>\n",
              "      <th>cc</th>\n",
              "      <th>cg</th>\n",
              "    </tr>\n",
              "  </thead>\n",
              "  <tbody>\n",
              "    <tr>\n",
              "      <th>0</th>\n",
              "      <td>Argentina</td>\n",
              "      <td>ARG</td>\n",
              "      <td>2000</td>\n",
              "      <td>37,335.65</td>\n",
              "      <td>1.00</td>\n",
              "      <td>295,072.22</td>\n",
              "      <td>75.72</td>\n",
              "      <td>5.58</td>\n",
              "    </tr>\n",
              "    <tr>\n",
              "      <th>1</th>\n",
              "      <td>Australia</td>\n",
              "      <td>AUS</td>\n",
              "      <td>2000</td>\n",
              "      <td>19,053.19</td>\n",
              "      <td>1.72</td>\n",
              "      <td>541,804.65</td>\n",
              "      <td>67.76</td>\n",
              "      <td>6.72</td>\n",
              "    </tr>\n",
              "    <tr>\n",
              "      <th>2</th>\n",
              "      <td>India</td>\n",
              "      <td>IND</td>\n",
              "      <td>2000</td>\n",
              "      <td>1,006,300.30</td>\n",
              "      <td>44.94</td>\n",
              "      <td>1,728,144.37</td>\n",
              "      <td>64.58</td>\n",
              "      <td>14.07</td>\n",
              "    </tr>\n",
              "    <tr>\n",
              "      <th>3</th>\n",
              "      <td>Israel</td>\n",
              "      <td>ISR</td>\n",
              "      <td>2000</td>\n",
              "      <td>6,114.57</td>\n",
              "      <td>4.08</td>\n",
              "      <td>129,253.89</td>\n",
              "      <td>64.44</td>\n",
              "      <td>10.27</td>\n",
              "    </tr>\n",
              "    <tr>\n",
              "      <th>4</th>\n",
              "      <td>Malawi</td>\n",
              "      <td>MWI</td>\n",
              "      <td>2000</td>\n",
              "      <td>11,801.50</td>\n",
              "      <td>59.54</td>\n",
              "      <td>5,026.22</td>\n",
              "      <td>74.71</td>\n",
              "      <td>11.66</td>\n",
              "    </tr>\n",
              "    <tr>\n",
              "      <th>5</th>\n",
              "      <td>South Africa</td>\n",
              "      <td>ZAF</td>\n",
              "      <td>2000</td>\n",
              "      <td>45,064.10</td>\n",
              "      <td>6.94</td>\n",
              "      <td>227,242.37</td>\n",
              "      <td>72.72</td>\n",
              "      <td>5.73</td>\n",
              "    </tr>\n",
              "    <tr>\n",
              "      <th>6</th>\n",
              "      <td>United States</td>\n",
              "      <td>USA</td>\n",
              "      <td>2000</td>\n",
              "      <td>282,171.96</td>\n",
              "      <td>1.00</td>\n",
              "      <td>9,898,700.00</td>\n",
              "      <td>72.35</td>\n",
              "      <td>6.03</td>\n",
              "    </tr>\n",
              "    <tr>\n",
              "      <th>7</th>\n",
              "      <td>Uruguay</td>\n",
              "      <td>URY</td>\n",
              "      <td>2000</td>\n",
              "      <td>3,219.79</td>\n",
              "      <td>12.10</td>\n",
              "      <td>25,255.96</td>\n",
              "      <td>78.98</td>\n",
              "      <td>5.11</td>\n",
              "    </tr>\n",
              "  </tbody>\n",
              "</table>\n",
              "</div>"
            ],
            "text/plain": [
              "         country country isocode  year                  POP  \\\n",
              "0      Argentina             ARG  2000            37,335.65   \n",
              "1      Australia             AUS  2000            19,053.19   \n",
              "2          India             IND  2000         1,006,300.30   \n",
              "3         Israel             ISR  2000             6,114.57   \n",
              "4         Malawi             MWI  2000            11,801.50   \n",
              "5   South Africa             ZAF  2000            45,064.10   \n",
              "6  United States             USA  2000           282,171.96   \n",
              "7        Uruguay             URY  2000             3,219.79   \n",
              "\n",
              "                  XRAT                tcgdp                   cc  \\\n",
              "0                 1.00           295,072.22                75.72   \n",
              "1                 1.72           541,804.65                67.76   \n",
              "2                44.94         1,728,144.37                64.58   \n",
              "3                 4.08           129,253.89                64.44   \n",
              "4                59.54             5,026.22                74.71   \n",
              "5                 6.94           227,242.37                72.72   \n",
              "6                 1.00         9,898,700.00                72.35   \n",
              "7                12.10            25,255.96                78.98   \n",
              "\n",
              "                    cg  \n",
              "0                 5.58  \n",
              "1                 6.72  \n",
              "2                14.07  \n",
              "3                10.27  \n",
              "4                11.66  \n",
              "5                 5.73  \n",
              "6                 6.03  \n",
              "7                 5.11  "
            ]
          },
          "execution_count": 129,
          "metadata": {},
          "output_type": "execute_result"
        }
      ],
      "source": [
        "df"
      ]
    },
    {
      "cell_type": "code",
      "execution_count": null,
      "metadata": {
        "id": "ni_G6kbZv0Es",
        "outputId": "6ed3f2a3-cda4-4fb5-8c20-ef95c5f9c52a"
      },
      "outputs": [
        {
          "data": {
            "text/html": [
              "<div>\n",
              "<style scoped>\n",
              "    .dataframe tbody tr th:only-of-type {\n",
              "        vertical-align: middle;\n",
              "    }\n",
              "\n",
              "    .dataframe tbody tr th {\n",
              "        vertical-align: top;\n",
              "    }\n",
              "\n",
              "    .dataframe thead th {\n",
              "        text-align: right;\n",
              "    }\n",
              "</style>\n",
              "<table border=\"1\" class=\"dataframe\">\n",
              "  <thead>\n",
              "    <tr style=\"text-align: right;\">\n",
              "      <th></th>\n",
              "      <th>country</th>\n",
              "      <th>country isocode</th>\n",
              "      <th>year</th>\n",
              "      <th>POP</th>\n",
              "      <th>XRAT</th>\n",
              "      <th>tcgdp</th>\n",
              "      <th>cc</th>\n",
              "      <th>cg</th>\n",
              "    </tr>\n",
              "  </thead>\n",
              "  <tbody>\n",
              "    <tr>\n",
              "      <th>2</th>\n",
              "      <td>India</td>\n",
              "      <td>IND</td>\n",
              "      <td>2000</td>\n",
              "      <td>1,006,300.30</td>\n",
              "      <td>44.94</td>\n",
              "      <td>1,728,144.37</td>\n",
              "      <td>64.58</td>\n",
              "      <td>14.07</td>\n",
              "    </tr>\n",
              "    <tr>\n",
              "      <th>3</th>\n",
              "      <td>Israel</td>\n",
              "      <td>ISR</td>\n",
              "      <td>2000</td>\n",
              "      <td>6,114.57</td>\n",
              "      <td>4.08</td>\n",
              "      <td>129,253.89</td>\n",
              "      <td>64.44</td>\n",
              "      <td>10.27</td>\n",
              "    </tr>\n",
              "    <tr>\n",
              "      <th>4</th>\n",
              "      <td>Malawi</td>\n",
              "      <td>MWI</td>\n",
              "      <td>2000</td>\n",
              "      <td>11,801.50</td>\n",
              "      <td>59.54</td>\n",
              "      <td>5,026.22</td>\n",
              "      <td>74.71</td>\n",
              "      <td>11.66</td>\n",
              "    </tr>\n",
              "  </tbody>\n",
              "</table>\n",
              "</div>"
            ],
            "text/plain": [
              "  country country isocode  year                  POP                 XRAT  \\\n",
              "2   India             IND  2000         1,006,300.30                44.94   \n",
              "3  Israel             ISR  2000             6,114.57                 4.08   \n",
              "4  Malawi             MWI  2000            11,801.50                59.54   \n",
              "\n",
              "                 tcgdp                   cc                   cg  \n",
              "2         1,728,144.37                64.58                14.07  \n",
              "3           129,253.89                64.44                10.27  \n",
              "4             5,026.22                74.71                11.66  "
            ]
          },
          "execution_count": 130,
          "metadata": {},
          "output_type": "execute_result"
        }
      ],
      "source": [
        "df.iloc[2:5] # 2. indexten 5. indexe kadar(5. index DAHIL DEĞİL)"
      ]
    },
    {
      "cell_type": "code",
      "execution_count": null,
      "metadata": {
        "id": "69f-xWWEv0Et",
        "outputId": "e8884fc7-c63c-4696-ecf4-8daf55ddb1d3"
      },
      "outputs": [
        {
          "data": {
            "text/html": [
              "<div>\n",
              "<style scoped>\n",
              "    .dataframe tbody tr th:only-of-type {\n",
              "        vertical-align: middle;\n",
              "    }\n",
              "\n",
              "    .dataframe tbody tr th {\n",
              "        vertical-align: top;\n",
              "    }\n",
              "\n",
              "    .dataframe thead th {\n",
              "        text-align: right;\n",
              "    }\n",
              "</style>\n",
              "<table border=\"1\" class=\"dataframe\">\n",
              "  <thead>\n",
              "    <tr style=\"text-align: right;\">\n",
              "      <th></th>\n",
              "      <th>country</th>\n",
              "      <th>country isocode</th>\n",
              "      <th>year</th>\n",
              "      <th>POP</th>\n",
              "      <th>XRAT</th>\n",
              "      <th>tcgdp</th>\n",
              "      <th>cc</th>\n",
              "      <th>cg</th>\n",
              "    </tr>\n",
              "  </thead>\n",
              "  <tbody>\n",
              "    <tr>\n",
              "      <th>2</th>\n",
              "      <td>India</td>\n",
              "      <td>IND</td>\n",
              "      <td>2000</td>\n",
              "      <td>1,006,300.30</td>\n",
              "      <td>44.94</td>\n",
              "      <td>1,728,144.37</td>\n",
              "      <td>64.58</td>\n",
              "      <td>14.07</td>\n",
              "    </tr>\n",
              "    <tr>\n",
              "      <th>3</th>\n",
              "      <td>Israel</td>\n",
              "      <td>ISR</td>\n",
              "      <td>2000</td>\n",
              "      <td>6,114.57</td>\n",
              "      <td>4.08</td>\n",
              "      <td>129,253.89</td>\n",
              "      <td>64.44</td>\n",
              "      <td>10.27</td>\n",
              "    </tr>\n",
              "    <tr>\n",
              "      <th>4</th>\n",
              "      <td>Malawi</td>\n",
              "      <td>MWI</td>\n",
              "      <td>2000</td>\n",
              "      <td>11,801.50</td>\n",
              "      <td>59.54</td>\n",
              "      <td>5,026.22</td>\n",
              "      <td>74.71</td>\n",
              "      <td>11.66</td>\n",
              "    </tr>\n",
              "    <tr>\n",
              "      <th>5</th>\n",
              "      <td>South Africa</td>\n",
              "      <td>ZAF</td>\n",
              "      <td>2000</td>\n",
              "      <td>45,064.10</td>\n",
              "      <td>6.94</td>\n",
              "      <td>227,242.37</td>\n",
              "      <td>72.72</td>\n",
              "      <td>5.73</td>\n",
              "    </tr>\n",
              "  </tbody>\n",
              "</table>\n",
              "</div>"
            ],
            "text/plain": [
              "        country country isocode  year                  POP  \\\n",
              "2         India             IND  2000         1,006,300.30   \n",
              "3        Israel             ISR  2000             6,114.57   \n",
              "4        Malawi             MWI  2000            11,801.50   \n",
              "5  South Africa             ZAF  2000            45,064.10   \n",
              "\n",
              "                  XRAT                tcgdp                   cc  \\\n",
              "2                44.94         1,728,144.37                64.58   \n",
              "3                 4.08           129,253.89                64.44   \n",
              "4                59.54             5,026.22                74.71   \n",
              "5                 6.94           227,242.37                72.72   \n",
              "\n",
              "                    cg  \n",
              "2                14.07  \n",
              "3                10.27  \n",
              "4                11.66  \n",
              "5                 5.73  "
            ]
          },
          "execution_count": 131,
          "metadata": {},
          "output_type": "execute_result"
        }
      ],
      "source": [
        "df.loc[2:5] # 2. indexten 5. indexe kadar(5. index DAHIL)"
      ]
    },
    {
      "cell_type": "markdown",
      "metadata": {
        "id": "RvdfqqWwv0Et"
      },
      "source": [
        "### **``QUESTION:``** **What happened? Why was South Africa included when** **``loc``** **used?**\n",
        "\n",
        "The first thing remembered is that **``.iloc[ ]``** is **exclusive** while **``.loc[ ]``** is **inclusive.**"
      ]
    },
    {
      "cell_type": "markdown",
      "metadata": {
        "id": "b3v11Wjzv0Et"
      },
      "source": [
        "## 1) **``Using Pandas.DataFrame.loc[]``** (By label)\n",
        "\n",
        "\n",
        "**1.1 – Slicing Columns by Names or Labels**\n",
        "\n",
        "By using **``pandas.DataFrame.loc[ ]``** you can slice columns by names or labels. To slice the columns, the syntax is **``df.loc[:, start:stop:step]``**; where start is the name of the first column to take, stop is the name of the last column to take, and step as the number of indices to advance after each extraction"
      ]
    },
    {
      "cell_type": "code",
      "execution_count": null,
      "metadata": {
        "id": "0xAKqsRkv0Et",
        "outputId": "a1590f72-a5e4-4c2a-e070-bf556a5224b1"
      },
      "outputs": [
        {
          "data": {
            "text/html": [
              "<div>\n",
              "<style scoped>\n",
              "    .dataframe tbody tr th:only-of-type {\n",
              "        vertical-align: middle;\n",
              "    }\n",
              "\n",
              "    .dataframe tbody tr th {\n",
              "        vertical-align: top;\n",
              "    }\n",
              "\n",
              "    .dataframe thead th {\n",
              "        text-align: right;\n",
              "    }\n",
              "</style>\n",
              "<table border=\"1\" class=\"dataframe\">\n",
              "  <thead>\n",
              "    <tr style=\"text-align: right;\">\n",
              "      <th></th>\n",
              "      <th>country</th>\n",
              "      <th>country isocode</th>\n",
              "      <th>year</th>\n",
              "      <th>POP</th>\n",
              "    </tr>\n",
              "  </thead>\n",
              "  <tbody>\n",
              "    <tr>\n",
              "      <th>0</th>\n",
              "      <td>Argentina</td>\n",
              "      <td>ARG</td>\n",
              "      <td>2000</td>\n",
              "      <td>37,335.65</td>\n",
              "    </tr>\n",
              "    <tr>\n",
              "      <th>1</th>\n",
              "      <td>Australia</td>\n",
              "      <td>AUS</td>\n",
              "      <td>2000</td>\n",
              "      <td>19,053.19</td>\n",
              "    </tr>\n",
              "    <tr>\n",
              "      <th>2</th>\n",
              "      <td>India</td>\n",
              "      <td>IND</td>\n",
              "      <td>2000</td>\n",
              "      <td>1,006,300.30</td>\n",
              "    </tr>\n",
              "    <tr>\n",
              "      <th>3</th>\n",
              "      <td>Israel</td>\n",
              "      <td>ISR</td>\n",
              "      <td>2000</td>\n",
              "      <td>6,114.57</td>\n",
              "    </tr>\n",
              "    <tr>\n",
              "      <th>4</th>\n",
              "      <td>Malawi</td>\n",
              "      <td>MWI</td>\n",
              "      <td>2000</td>\n",
              "      <td>11,801.50</td>\n",
              "    </tr>\n",
              "    <tr>\n",
              "      <th>5</th>\n",
              "      <td>South Africa</td>\n",
              "      <td>ZAF</td>\n",
              "      <td>2000</td>\n",
              "      <td>45,064.10</td>\n",
              "    </tr>\n",
              "    <tr>\n",
              "      <th>6</th>\n",
              "      <td>United States</td>\n",
              "      <td>USA</td>\n",
              "      <td>2000</td>\n",
              "      <td>282,171.96</td>\n",
              "    </tr>\n",
              "    <tr>\n",
              "      <th>7</th>\n",
              "      <td>Uruguay</td>\n",
              "      <td>URY</td>\n",
              "      <td>2000</td>\n",
              "      <td>3,219.79</td>\n",
              "    </tr>\n",
              "  </tbody>\n",
              "</table>\n",
              "</div>"
            ],
            "text/plain": [
              "         country country isocode  year                  POP\n",
              "0      Argentina             ARG  2000            37,335.65\n",
              "1      Australia             AUS  2000            19,053.19\n",
              "2          India             IND  2000         1,006,300.30\n",
              "3         Israel             ISR  2000             6,114.57\n",
              "4         Malawi             MWI  2000            11,801.50\n",
              "5   South Africa             ZAF  2000            45,064.10\n",
              "6  United States             USA  2000           282,171.96\n",
              "7        Uruguay             URY  2000             3,219.79"
            ]
          },
          "execution_count": 132,
          "metadata": {},
          "output_type": "execute_result"
        }
      ],
      "source": [
        "df.loc[:, \"country\": \"POP\"] # Bütün satırları al, \"country\" den \"POP\" a kadar olan sütunları al(\"POP DAHİL\" çünkü loc kullandık iloc değil)"
      ]
    },
    {
      "cell_type": "code",
      "execution_count": null,
      "metadata": {
        "id": "baoVnzTGv0Et",
        "outputId": "541d3b41-d077-4ad2-a06a-b6c08c5d0d65"
      },
      "outputs": [
        {
          "data": {
            "text/html": [
              "<div>\n",
              "<style scoped>\n",
              "    .dataframe tbody tr th:only-of-type {\n",
              "        vertical-align: middle;\n",
              "    }\n",
              "\n",
              "    .dataframe tbody tr th {\n",
              "        vertical-align: top;\n",
              "    }\n",
              "\n",
              "    .dataframe thead th {\n",
              "        text-align: right;\n",
              "    }\n",
              "</style>\n",
              "<table border=\"1\" class=\"dataframe\">\n",
              "  <thead>\n",
              "    <tr style=\"text-align: right;\">\n",
              "      <th></th>\n",
              "      <th>country</th>\n",
              "      <th>country isocode</th>\n",
              "      <th>year</th>\n",
              "      <th>POP</th>\n",
              "    </tr>\n",
              "  </thead>\n",
              "  <tbody>\n",
              "    <tr>\n",
              "      <th>2</th>\n",
              "      <td>India</td>\n",
              "      <td>IND</td>\n",
              "      <td>2000</td>\n",
              "      <td>1,006,300.30</td>\n",
              "    </tr>\n",
              "    <tr>\n",
              "      <th>3</th>\n",
              "      <td>Israel</td>\n",
              "      <td>ISR</td>\n",
              "      <td>2000</td>\n",
              "      <td>6,114.57</td>\n",
              "    </tr>\n",
              "    <tr>\n",
              "      <th>4</th>\n",
              "      <td>Malawi</td>\n",
              "      <td>MWI</td>\n",
              "      <td>2000</td>\n",
              "      <td>11,801.50</td>\n",
              "    </tr>\n",
              "    <tr>\n",
              "      <th>5</th>\n",
              "      <td>South Africa</td>\n",
              "      <td>ZAF</td>\n",
              "      <td>2000</td>\n",
              "      <td>45,064.10</td>\n",
              "    </tr>\n",
              "    <tr>\n",
              "      <th>6</th>\n",
              "      <td>United States</td>\n",
              "      <td>USA</td>\n",
              "      <td>2000</td>\n",
              "      <td>282,171.96</td>\n",
              "    </tr>\n",
              "  </tbody>\n",
              "</table>\n",
              "</div>"
            ],
            "text/plain": [
              "         country country isocode  year                  POP\n",
              "2          India             IND  2000         1,006,300.30\n",
              "3         Israel             ISR  2000             6,114.57\n",
              "4         Malawi             MWI  2000            11,801.50\n",
              "5   South Africa             ZAF  2000            45,064.10\n",
              "6  United States             USA  2000           282,171.96"
            ]
          },
          "execution_count": 133,
          "metadata": {},
          "output_type": "execute_result"
        }
      ],
      "source": [
        "df.loc[2:6, \"country\": \"POP\"] # 2. indexten 6. indexe kadar al(6. index dahil), \"country\" den \"POP\" a kadar olan sütunları al(\"POP DAHİL\" çünkü loc kullandık iloc değil)"
      ]
    },
    {
      "cell_type": "markdown",
      "metadata": {
        "id": "0vMrN2FUv0Eu"
      },
      "source": [
        "**1.2 – Slicing DataFrame Columns by Labels**\n",
        "\n",
        "To slice DataFrame columns by labels or names, all you need is to provide the multiple labels you wanted to slice as a list. Here we use the list of labels instead of the start:stop:step approach."
      ]
    },
    {
      "cell_type": "code",
      "execution_count": null,
      "metadata": {
        "id": "Mp9-rFx2v0Eu",
        "outputId": "cb52ec9d-5ae2-471c-cc22-49caec24f9e6"
      },
      "outputs": [
        {
          "data": {
            "text/html": [
              "<div>\n",
              "<style scoped>\n",
              "    .dataframe tbody tr th:only-of-type {\n",
              "        vertical-align: middle;\n",
              "    }\n",
              "\n",
              "    .dataframe tbody tr th {\n",
              "        vertical-align: top;\n",
              "    }\n",
              "\n",
              "    .dataframe thead th {\n",
              "        text-align: right;\n",
              "    }\n",
              "</style>\n",
              "<table border=\"1\" class=\"dataframe\">\n",
              "  <thead>\n",
              "    <tr style=\"text-align: right;\">\n",
              "      <th></th>\n",
              "      <th>country</th>\n",
              "      <th>country isocode</th>\n",
              "      <th>year</th>\n",
              "      <th>POP</th>\n",
              "    </tr>\n",
              "  </thead>\n",
              "  <tbody>\n",
              "    <tr>\n",
              "      <th>0</th>\n",
              "      <td>Argentina</td>\n",
              "      <td>ARG</td>\n",
              "      <td>2000</td>\n",
              "      <td>37,335.65</td>\n",
              "    </tr>\n",
              "    <tr>\n",
              "      <th>1</th>\n",
              "      <td>Australia</td>\n",
              "      <td>AUS</td>\n",
              "      <td>2000</td>\n",
              "      <td>19,053.19</td>\n",
              "    </tr>\n",
              "    <tr>\n",
              "      <th>2</th>\n",
              "      <td>India</td>\n",
              "      <td>IND</td>\n",
              "      <td>2000</td>\n",
              "      <td>1,006,300.30</td>\n",
              "    </tr>\n",
              "    <tr>\n",
              "      <th>3</th>\n",
              "      <td>Israel</td>\n",
              "      <td>ISR</td>\n",
              "      <td>2000</td>\n",
              "      <td>6,114.57</td>\n",
              "    </tr>\n",
              "    <tr>\n",
              "      <th>4</th>\n",
              "      <td>Malawi</td>\n",
              "      <td>MWI</td>\n",
              "      <td>2000</td>\n",
              "      <td>11,801.50</td>\n",
              "    </tr>\n",
              "    <tr>\n",
              "      <th>5</th>\n",
              "      <td>South Africa</td>\n",
              "      <td>ZAF</td>\n",
              "      <td>2000</td>\n",
              "      <td>45,064.10</td>\n",
              "    </tr>\n",
              "    <tr>\n",
              "      <th>6</th>\n",
              "      <td>United States</td>\n",
              "      <td>USA</td>\n",
              "      <td>2000</td>\n",
              "      <td>282,171.96</td>\n",
              "    </tr>\n",
              "    <tr>\n",
              "      <th>7</th>\n",
              "      <td>Uruguay</td>\n",
              "      <td>URY</td>\n",
              "      <td>2000</td>\n",
              "      <td>3,219.79</td>\n",
              "    </tr>\n",
              "  </tbody>\n",
              "</table>\n",
              "</div>"
            ],
            "text/plain": [
              "         country country isocode  year                  POP\n",
              "0      Argentina             ARG  2000            37,335.65\n",
              "1      Australia             AUS  2000            19,053.19\n",
              "2          India             IND  2000         1,006,300.30\n",
              "3         Israel             ISR  2000             6,114.57\n",
              "4         Malawi             MWI  2000            11,801.50\n",
              "5   South Africa             ZAF  2000            45,064.10\n",
              "6  United States             USA  2000           282,171.96\n",
              "7        Uruguay             URY  2000             3,219.79"
            ]
          },
          "execution_count": 61,
          "metadata": {},
          "output_type": "execute_result"
        }
      ],
      "source": [
        "df.loc[:, ['country', 'country isocode', 'year', 'POP']] # Tüm satırları al, kodda yazan 4 sütunu al.\n"
      ]
    },
    {
      "cell_type": "code",
      "execution_count": null,
      "metadata": {
        "id": "DF_rCz-1v0Eu",
        "outputId": "d0cf8c71-274b-49ee-9639-e8bcdddcb911"
      },
      "outputs": [
        {
          "data": {
            "text/html": [
              "<div>\n",
              "<style scoped>\n",
              "    .dataframe tbody tr th:only-of-type {\n",
              "        vertical-align: middle;\n",
              "    }\n",
              "\n",
              "    .dataframe tbody tr th {\n",
              "        vertical-align: top;\n",
              "    }\n",
              "\n",
              "    .dataframe thead th {\n",
              "        text-align: right;\n",
              "    }\n",
              "</style>\n",
              "<table border=\"1\" class=\"dataframe\">\n",
              "  <thead>\n",
              "    <tr style=\"text-align: right;\">\n",
              "      <th></th>\n",
              "      <th>country</th>\n",
              "      <th>country isocode</th>\n",
              "      <th>year</th>\n",
              "      <th>POP</th>\n",
              "    </tr>\n",
              "  </thead>\n",
              "  <tbody>\n",
              "    <tr>\n",
              "      <th>0</th>\n",
              "      <td>Argentina</td>\n",
              "      <td>ARG</td>\n",
              "      <td>2000</td>\n",
              "      <td>37,335.65</td>\n",
              "    </tr>\n",
              "    <tr>\n",
              "      <th>1</th>\n",
              "      <td>Australia</td>\n",
              "      <td>AUS</td>\n",
              "      <td>2000</td>\n",
              "      <td>19,053.19</td>\n",
              "    </tr>\n",
              "    <tr>\n",
              "      <th>2</th>\n",
              "      <td>India</td>\n",
              "      <td>IND</td>\n",
              "      <td>2000</td>\n",
              "      <td>1,006,300.30</td>\n",
              "    </tr>\n",
              "    <tr>\n",
              "      <th>3</th>\n",
              "      <td>Israel</td>\n",
              "      <td>ISR</td>\n",
              "      <td>2000</td>\n",
              "      <td>6,114.57</td>\n",
              "    </tr>\n",
              "    <tr>\n",
              "      <th>4</th>\n",
              "      <td>Malawi</td>\n",
              "      <td>MWI</td>\n",
              "      <td>2000</td>\n",
              "      <td>11,801.50</td>\n",
              "    </tr>\n",
              "    <tr>\n",
              "      <th>5</th>\n",
              "      <td>South Africa</td>\n",
              "      <td>ZAF</td>\n",
              "      <td>2000</td>\n",
              "      <td>45,064.10</td>\n",
              "    </tr>\n",
              "    <tr>\n",
              "      <th>6</th>\n",
              "      <td>United States</td>\n",
              "      <td>USA</td>\n",
              "      <td>2000</td>\n",
              "      <td>282,171.96</td>\n",
              "    </tr>\n",
              "    <tr>\n",
              "      <th>7</th>\n",
              "      <td>Uruguay</td>\n",
              "      <td>URY</td>\n",
              "      <td>2000</td>\n",
              "      <td>3,219.79</td>\n",
              "    </tr>\n",
              "  </tbody>\n",
              "</table>\n",
              "</div>"
            ],
            "text/plain": [
              "         country country isocode  year                  POP\n",
              "0      Argentina             ARG  2000            37,335.65\n",
              "1      Australia             AUS  2000            19,053.19\n",
              "2          India             IND  2000         1,006,300.30\n",
              "3         Israel             ISR  2000             6,114.57\n",
              "4         Malawi             MWI  2000            11,801.50\n",
              "5   South Africa             ZAF  2000            45,064.10\n",
              "6  United States             USA  2000           282,171.96\n",
              "7        Uruguay             URY  2000             3,219.79"
            ]
          },
          "execution_count": 134,
          "metadata": {},
          "output_type": "execute_result"
        }
      ],
      "source": [
        "df.loc[:, ('country', 'country isocode', 'year', 'POP')] # Bu 4 sütunu tuple içine koysaydık kod yine çalıştı"
      ]
    },
    {
      "cell_type": "markdown",
      "metadata": {
        "id": "xVQ-CCYXv0Eu"
      },
      "source": [
        "**1.3 – Slicing DataFrame Columns by Range**\n",
        "\n",
        "When you wanted to slice a DataFrame by the range of columns, provide start and stop column names.\n",
        "\n",
        "  - By not providing a start column, loc[] selects from the beginning.\n",
        "  - By not providing stop, loc[] selects all columns from the start label.\n",
        "  - Providing both start and stop, selects all columns in between."
      ]
    },
    {
      "cell_type": "code",
      "execution_count": null,
      "metadata": {
        "id": "oPnXm0u5v0Eu",
        "outputId": "80954215-a168-4f71-cd68-d25d1bd9202e"
      },
      "outputs": [
        {
          "data": {
            "text/html": [
              "<div>\n",
              "<style scoped>\n",
              "    .dataframe tbody tr th:only-of-type {\n",
              "        vertical-align: middle;\n",
              "    }\n",
              "\n",
              "    .dataframe tbody tr th {\n",
              "        vertical-align: top;\n",
              "    }\n",
              "\n",
              "    .dataframe thead th {\n",
              "        text-align: right;\n",
              "    }\n",
              "</style>\n",
              "<table border=\"1\" class=\"dataframe\">\n",
              "  <thead>\n",
              "    <tr style=\"text-align: right;\">\n",
              "      <th></th>\n",
              "      <th>country</th>\n",
              "      <th>country isocode</th>\n",
              "      <th>year</th>\n",
              "      <th>POP</th>\n",
              "    </tr>\n",
              "  </thead>\n",
              "  <tbody>\n",
              "    <tr>\n",
              "      <th>0</th>\n",
              "      <td>Argentina</td>\n",
              "      <td>ARG</td>\n",
              "      <td>2000</td>\n",
              "      <td>37,335.65</td>\n",
              "    </tr>\n",
              "    <tr>\n",
              "      <th>1</th>\n",
              "      <td>Australia</td>\n",
              "      <td>AUS</td>\n",
              "      <td>2000</td>\n",
              "      <td>19,053.19</td>\n",
              "    </tr>\n",
              "    <tr>\n",
              "      <th>2</th>\n",
              "      <td>India</td>\n",
              "      <td>IND</td>\n",
              "      <td>2000</td>\n",
              "      <td>1,006,300.30</td>\n",
              "    </tr>\n",
              "    <tr>\n",
              "      <th>3</th>\n",
              "      <td>Israel</td>\n",
              "      <td>ISR</td>\n",
              "      <td>2000</td>\n",
              "      <td>6,114.57</td>\n",
              "    </tr>\n",
              "    <tr>\n",
              "      <th>4</th>\n",
              "      <td>Malawi</td>\n",
              "      <td>MWI</td>\n",
              "      <td>2000</td>\n",
              "      <td>11,801.50</td>\n",
              "    </tr>\n",
              "    <tr>\n",
              "      <th>5</th>\n",
              "      <td>South Africa</td>\n",
              "      <td>ZAF</td>\n",
              "      <td>2000</td>\n",
              "      <td>45,064.10</td>\n",
              "    </tr>\n",
              "    <tr>\n",
              "      <th>6</th>\n",
              "      <td>United States</td>\n",
              "      <td>USA</td>\n",
              "      <td>2000</td>\n",
              "      <td>282,171.96</td>\n",
              "    </tr>\n",
              "    <tr>\n",
              "      <th>7</th>\n",
              "      <td>Uruguay</td>\n",
              "      <td>URY</td>\n",
              "      <td>2000</td>\n",
              "      <td>3,219.79</td>\n",
              "    </tr>\n",
              "  </tbody>\n",
              "</table>\n",
              "</div>"
            ],
            "text/plain": [
              "         country country isocode  year                  POP\n",
              "0      Argentina             ARG  2000            37,335.65\n",
              "1      Australia             AUS  2000            19,053.19\n",
              "2          India             IND  2000         1,006,300.30\n",
              "3         Israel             ISR  2000             6,114.57\n",
              "4         Malawi             MWI  2000            11,801.50\n",
              "5   South Africa             ZAF  2000            45,064.10\n",
              "6  United States             USA  2000           282,171.96\n",
              "7        Uruguay             URY  2000             3,219.79"
            ]
          },
          "execution_count": 62,
          "metadata": {},
          "output_type": "execute_result"
        }
      ],
      "source": [
        "# Slicing all columns between \"country\" an 'POP' columns\n",
        "\n",
        "df.loc[:, 'country':'POP'] # tüm satırları al, \"country\" sütunundan \"POP\" sütununa kadar olanları al(POP dahil çünkü loc kullandık)"
      ]
    },
    {
      "cell_type": "code",
      "execution_count": null,
      "metadata": {
        "id": "9wO4J2-Vv0Ev",
        "outputId": "32fd39e0-2a6a-4c62-9b27-208865064d46"
      },
      "outputs": [
        {
          "data": {
            "text/html": [
              "<div>\n",
              "<style scoped>\n",
              "    .dataframe tbody tr th:only-of-type {\n",
              "        vertical-align: middle;\n",
              "    }\n",
              "\n",
              "    .dataframe tbody tr th {\n",
              "        vertical-align: top;\n",
              "    }\n",
              "\n",
              "    .dataframe thead th {\n",
              "        text-align: right;\n",
              "    }\n",
              "</style>\n",
              "<table border=\"1\" class=\"dataframe\">\n",
              "  <thead>\n",
              "    <tr style=\"text-align: right;\">\n",
              "      <th></th>\n",
              "      <th>country isocode</th>\n",
              "      <th>year</th>\n",
              "      <th>POP</th>\n",
              "      <th>XRAT</th>\n",
              "      <th>tcgdp</th>\n",
              "      <th>cc</th>\n",
              "      <th>cg</th>\n",
              "    </tr>\n",
              "  </thead>\n",
              "  <tbody>\n",
              "    <tr>\n",
              "      <th>0</th>\n",
              "      <td>ARG</td>\n",
              "      <td>2000</td>\n",
              "      <td>37,335.65</td>\n",
              "      <td>1.00</td>\n",
              "      <td>295,072.22</td>\n",
              "      <td>75.72</td>\n",
              "      <td>5.58</td>\n",
              "    </tr>\n",
              "    <tr>\n",
              "      <th>1</th>\n",
              "      <td>AUS</td>\n",
              "      <td>2000</td>\n",
              "      <td>19,053.19</td>\n",
              "      <td>1.72</td>\n",
              "      <td>541,804.65</td>\n",
              "      <td>67.76</td>\n",
              "      <td>6.72</td>\n",
              "    </tr>\n",
              "    <tr>\n",
              "      <th>2</th>\n",
              "      <td>IND</td>\n",
              "      <td>2000</td>\n",
              "      <td>1,006,300.30</td>\n",
              "      <td>44.94</td>\n",
              "      <td>1,728,144.37</td>\n",
              "      <td>64.58</td>\n",
              "      <td>14.07</td>\n",
              "    </tr>\n",
              "    <tr>\n",
              "      <th>3</th>\n",
              "      <td>ISR</td>\n",
              "      <td>2000</td>\n",
              "      <td>6,114.57</td>\n",
              "      <td>4.08</td>\n",
              "      <td>129,253.89</td>\n",
              "      <td>64.44</td>\n",
              "      <td>10.27</td>\n",
              "    </tr>\n",
              "    <tr>\n",
              "      <th>4</th>\n",
              "      <td>MWI</td>\n",
              "      <td>2000</td>\n",
              "      <td>11,801.50</td>\n",
              "      <td>59.54</td>\n",
              "      <td>5,026.22</td>\n",
              "      <td>74.71</td>\n",
              "      <td>11.66</td>\n",
              "    </tr>\n",
              "    <tr>\n",
              "      <th>5</th>\n",
              "      <td>ZAF</td>\n",
              "      <td>2000</td>\n",
              "      <td>45,064.10</td>\n",
              "      <td>6.94</td>\n",
              "      <td>227,242.37</td>\n",
              "      <td>72.72</td>\n",
              "      <td>5.73</td>\n",
              "    </tr>\n",
              "    <tr>\n",
              "      <th>6</th>\n",
              "      <td>USA</td>\n",
              "      <td>2000</td>\n",
              "      <td>282,171.96</td>\n",
              "      <td>1.00</td>\n",
              "      <td>9,898,700.00</td>\n",
              "      <td>72.35</td>\n",
              "      <td>6.03</td>\n",
              "    </tr>\n",
              "    <tr>\n",
              "      <th>7</th>\n",
              "      <td>URY</td>\n",
              "      <td>2000</td>\n",
              "      <td>3,219.79</td>\n",
              "      <td>12.10</td>\n",
              "      <td>25,255.96</td>\n",
              "      <td>78.98</td>\n",
              "      <td>5.11</td>\n",
              "    </tr>\n",
              "  </tbody>\n",
              "</table>\n",
              "</div>"
            ],
            "text/plain": [
              "  country isocode  year                  POP                 XRAT  \\\n",
              "0             ARG  2000            37,335.65                 1.00   \n",
              "1             AUS  2000            19,053.19                 1.72   \n",
              "2             IND  2000         1,006,300.30                44.94   \n",
              "3             ISR  2000             6,114.57                 4.08   \n",
              "4             MWI  2000            11,801.50                59.54   \n",
              "5             ZAF  2000            45,064.10                 6.94   \n",
              "6             USA  2000           282,171.96                 1.00   \n",
              "7             URY  2000             3,219.79                12.10   \n",
              "\n",
              "                 tcgdp                   cc                   cg  \n",
              "0           295,072.22                75.72                 5.58  \n",
              "1           541,804.65                67.76                 6.72  \n",
              "2         1,728,144.37                64.58                14.07  \n",
              "3           129,253.89                64.44                10.27  \n",
              "4             5,026.22                74.71                11.66  \n",
              "5           227,242.37                72.72                 5.73  \n",
              "6         9,898,700.00                72.35                 6.03  \n",
              "7            25,255.96                78.98                 5.11  "
            ]
          },
          "execution_count": 63,
          "metadata": {},
          "output_type": "execute_result"
        }
      ],
      "source": [
        "# Slicing by start from 'country isocode' column\n",
        "\n",
        "df.loc[:, 'country isocode':] # tüm satırları al, \"country isocode\" dan son sütuna kadar al(son sütun dahil)"
      ]
    },
    {
      "cell_type": "code",
      "execution_count": null,
      "metadata": {
        "id": "gfSjElNqv0Ev",
        "outputId": "cc4c084b-6fc1-446d-94fc-f73977294bc8"
      },
      "outputs": [
        {
          "data": {
            "text/html": [
              "<div>\n",
              "<style scoped>\n",
              "    .dataframe tbody tr th:only-of-type {\n",
              "        vertical-align: middle;\n",
              "    }\n",
              "\n",
              "    .dataframe tbody tr th {\n",
              "        vertical-align: top;\n",
              "    }\n",
              "\n",
              "    .dataframe thead th {\n",
              "        text-align: right;\n",
              "    }\n",
              "</style>\n",
              "<table border=\"1\" class=\"dataframe\">\n",
              "  <thead>\n",
              "    <tr style=\"text-align: right;\">\n",
              "      <th></th>\n",
              "      <th>country</th>\n",
              "      <th>country isocode</th>\n",
              "      <th>year</th>\n",
              "      <th>POP</th>\n",
              "      <th>XRAT</th>\n",
              "    </tr>\n",
              "  </thead>\n",
              "  <tbody>\n",
              "    <tr>\n",
              "      <th>0</th>\n",
              "      <td>Argentina</td>\n",
              "      <td>ARG</td>\n",
              "      <td>2000</td>\n",
              "      <td>37,335.65</td>\n",
              "      <td>1.00</td>\n",
              "    </tr>\n",
              "    <tr>\n",
              "      <th>1</th>\n",
              "      <td>Australia</td>\n",
              "      <td>AUS</td>\n",
              "      <td>2000</td>\n",
              "      <td>19,053.19</td>\n",
              "      <td>1.72</td>\n",
              "    </tr>\n",
              "    <tr>\n",
              "      <th>2</th>\n",
              "      <td>India</td>\n",
              "      <td>IND</td>\n",
              "      <td>2000</td>\n",
              "      <td>1,006,300.30</td>\n",
              "      <td>44.94</td>\n",
              "    </tr>\n",
              "    <tr>\n",
              "      <th>3</th>\n",
              "      <td>Israel</td>\n",
              "      <td>ISR</td>\n",
              "      <td>2000</td>\n",
              "      <td>6,114.57</td>\n",
              "      <td>4.08</td>\n",
              "    </tr>\n",
              "    <tr>\n",
              "      <th>4</th>\n",
              "      <td>Malawi</td>\n",
              "      <td>MWI</td>\n",
              "      <td>2000</td>\n",
              "      <td>11,801.50</td>\n",
              "      <td>59.54</td>\n",
              "    </tr>\n",
              "    <tr>\n",
              "      <th>5</th>\n",
              "      <td>South Africa</td>\n",
              "      <td>ZAF</td>\n",
              "      <td>2000</td>\n",
              "      <td>45,064.10</td>\n",
              "      <td>6.94</td>\n",
              "    </tr>\n",
              "    <tr>\n",
              "      <th>6</th>\n",
              "      <td>United States</td>\n",
              "      <td>USA</td>\n",
              "      <td>2000</td>\n",
              "      <td>282,171.96</td>\n",
              "      <td>1.00</td>\n",
              "    </tr>\n",
              "    <tr>\n",
              "      <th>7</th>\n",
              "      <td>Uruguay</td>\n",
              "      <td>URY</td>\n",
              "      <td>2000</td>\n",
              "      <td>3,219.79</td>\n",
              "      <td>12.10</td>\n",
              "    </tr>\n",
              "  </tbody>\n",
              "</table>\n",
              "</div>"
            ],
            "text/plain": [
              "         country country isocode  year                  POP  \\\n",
              "0      Argentina             ARG  2000            37,335.65   \n",
              "1      Australia             AUS  2000            19,053.19   \n",
              "2          India             IND  2000         1,006,300.30   \n",
              "3         Israel             ISR  2000             6,114.57   \n",
              "4         Malawi             MWI  2000            11,801.50   \n",
              "5   South Africa             ZAF  2000            45,064.10   \n",
              "6  United States             USA  2000           282,171.96   \n",
              "7        Uruguay             URY  2000             3,219.79   \n",
              "\n",
              "                  XRAT  \n",
              "0                 1.00  \n",
              "1                 1.72  \n",
              "2                44.94  \n",
              "3                 4.08  \n",
              "4                59.54  \n",
              "5                 6.94  \n",
              "6                 1.00  \n",
              "7                12.10  "
            ]
          },
          "execution_count": 64,
          "metadata": {},
          "output_type": "execute_result"
        }
      ],
      "source": [
        "# Slicing by start from beginning and end at 'Duration' column\n",
        "\n",
        "df.loc[:, :'XRAT'] # Tüm satırları al, ilk sütundan \"XRAT\" sütununa kadar al(XRAT dahil)"
      ]
    },
    {
      "cell_type": "markdown",
      "metadata": {
        "id": "Kgj1qF41v0Ew"
      },
      "source": [
        "**1.4 – Slicing Certain Selective Columns in pandas**\n",
        "\n",
        "Sometimes you may want to select random certain columns from pandas DataFrame, you can do this by passing selected column names/labels as a list."
      ]
    },
    {
      "cell_type": "code",
      "execution_count": null,
      "metadata": {
        "id": "HuT1ulYuv0Ew",
        "outputId": "c6049fe5-ee40-4762-dd48-a215f0661ca2"
      },
      "outputs": [
        {
          "data": {
            "text/html": [
              "<div>\n",
              "<style scoped>\n",
              "    .dataframe tbody tr th:only-of-type {\n",
              "        vertical-align: middle;\n",
              "    }\n",
              "\n",
              "    .dataframe tbody tr th {\n",
              "        vertical-align: top;\n",
              "    }\n",
              "\n",
              "    .dataframe thead th {\n",
              "        text-align: right;\n",
              "    }\n",
              "</style>\n",
              "<table border=\"1\" class=\"dataframe\">\n",
              "  <thead>\n",
              "    <tr style=\"text-align: right;\">\n",
              "      <th></th>\n",
              "      <th>country</th>\n",
              "      <th>year</th>\n",
              "      <th>POP</th>\n",
              "    </tr>\n",
              "  </thead>\n",
              "  <tbody>\n",
              "    <tr>\n",
              "      <th>0</th>\n",
              "      <td>Argentina</td>\n",
              "      <td>2000</td>\n",
              "      <td>37,335.65</td>\n",
              "    </tr>\n",
              "    <tr>\n",
              "      <th>1</th>\n",
              "      <td>Australia</td>\n",
              "      <td>2000</td>\n",
              "      <td>19,053.19</td>\n",
              "    </tr>\n",
              "    <tr>\n",
              "      <th>2</th>\n",
              "      <td>India</td>\n",
              "      <td>2000</td>\n",
              "      <td>1,006,300.30</td>\n",
              "    </tr>\n",
              "    <tr>\n",
              "      <th>3</th>\n",
              "      <td>Israel</td>\n",
              "      <td>2000</td>\n",
              "      <td>6,114.57</td>\n",
              "    </tr>\n",
              "    <tr>\n",
              "      <th>4</th>\n",
              "      <td>Malawi</td>\n",
              "      <td>2000</td>\n",
              "      <td>11,801.50</td>\n",
              "    </tr>\n",
              "    <tr>\n",
              "      <th>5</th>\n",
              "      <td>South Africa</td>\n",
              "      <td>2000</td>\n",
              "      <td>45,064.10</td>\n",
              "    </tr>\n",
              "    <tr>\n",
              "      <th>6</th>\n",
              "      <td>United States</td>\n",
              "      <td>2000</td>\n",
              "      <td>282,171.96</td>\n",
              "    </tr>\n",
              "    <tr>\n",
              "      <th>7</th>\n",
              "      <td>Uruguay</td>\n",
              "      <td>2000</td>\n",
              "      <td>3,219.79</td>\n",
              "    </tr>\n",
              "  </tbody>\n",
              "</table>\n",
              "</div>"
            ],
            "text/plain": [
              "         country  year                  POP\n",
              "0      Argentina  2000            37,335.65\n",
              "1      Australia  2000            19,053.19\n",
              "2          India  2000         1,006,300.30\n",
              "3         Israel  2000             6,114.57\n",
              "4         Malawi  2000            11,801.50\n",
              "5   South Africa  2000            45,064.10\n",
              "6  United States  2000           282,171.96\n",
              "7        Uruguay  2000             3,219.79"
            ]
          },
          "execution_count": 65,
          "metadata": {},
          "output_type": "execute_result"
        }
      ],
      "source": [
        "df.loc[:, ['country', 'year', 'POP']] # Tüm satırları al, ve parantez içinde yazan sütunları al"
      ]
    },
    {
      "cell_type": "markdown",
      "metadata": {
        "id": "lxJz5v1vv0Ex"
      },
      "source": [
        "**1.5 – Selecting Every Alternate Column**\n",
        "\n",
        "Using **``loc[ ]``**, you can also slice columns by selecting every other column from pandas DataFrame."
      ]
    },
    {
      "cell_type": "code",
      "execution_count": null,
      "metadata": {
        "id": "vDDSOsYpv0Ex",
        "outputId": "2412bc1b-180d-468b-ecef-1452459c8d93"
      },
      "outputs": [
        {
          "data": {
            "text/html": [
              "<div>\n",
              "<style scoped>\n",
              "    .dataframe tbody tr th:only-of-type {\n",
              "        vertical-align: middle;\n",
              "    }\n",
              "\n",
              "    .dataframe tbody tr th {\n",
              "        vertical-align: top;\n",
              "    }\n",
              "\n",
              "    .dataframe thead th {\n",
              "        text-align: right;\n",
              "    }\n",
              "</style>\n",
              "<table border=\"1\" class=\"dataframe\">\n",
              "  <thead>\n",
              "    <tr style=\"text-align: right;\">\n",
              "      <th></th>\n",
              "      <th>country</th>\n",
              "      <th>year</th>\n",
              "      <th>XRAT</th>\n",
              "      <th>cc</th>\n",
              "    </tr>\n",
              "  </thead>\n",
              "  <tbody>\n",
              "    <tr>\n",
              "      <th>0</th>\n",
              "      <td>Argentina</td>\n",
              "      <td>2000</td>\n",
              "      <td>1.00</td>\n",
              "      <td>75.72</td>\n",
              "    </tr>\n",
              "    <tr>\n",
              "      <th>1</th>\n",
              "      <td>Australia</td>\n",
              "      <td>2000</td>\n",
              "      <td>1.72</td>\n",
              "      <td>67.76</td>\n",
              "    </tr>\n",
              "    <tr>\n",
              "      <th>2</th>\n",
              "      <td>India</td>\n",
              "      <td>2000</td>\n",
              "      <td>44.94</td>\n",
              "      <td>64.58</td>\n",
              "    </tr>\n",
              "    <tr>\n",
              "      <th>3</th>\n",
              "      <td>Israel</td>\n",
              "      <td>2000</td>\n",
              "      <td>4.08</td>\n",
              "      <td>64.44</td>\n",
              "    </tr>\n",
              "    <tr>\n",
              "      <th>4</th>\n",
              "      <td>Malawi</td>\n",
              "      <td>2000</td>\n",
              "      <td>59.54</td>\n",
              "      <td>74.71</td>\n",
              "    </tr>\n",
              "    <tr>\n",
              "      <th>5</th>\n",
              "      <td>South Africa</td>\n",
              "      <td>2000</td>\n",
              "      <td>6.94</td>\n",
              "      <td>72.72</td>\n",
              "    </tr>\n",
              "    <tr>\n",
              "      <th>6</th>\n",
              "      <td>United States</td>\n",
              "      <td>2000</td>\n",
              "      <td>1.00</td>\n",
              "      <td>72.35</td>\n",
              "    </tr>\n",
              "    <tr>\n",
              "      <th>7</th>\n",
              "      <td>Uruguay</td>\n",
              "      <td>2000</td>\n",
              "      <td>12.10</td>\n",
              "      <td>78.98</td>\n",
              "    </tr>\n",
              "  </tbody>\n",
              "</table>\n",
              "</div>"
            ],
            "text/plain": [
              "         country  year                 XRAT                   cc\n",
              "0      Argentina  2000                 1.00                75.72\n",
              "1      Australia  2000                 1.72                67.76\n",
              "2          India  2000                44.94                64.58\n",
              "3         Israel  2000                 4.08                64.44\n",
              "4         Malawi  2000                59.54                74.71\n",
              "5   South Africa  2000                 6.94                72.72\n",
              "6  United States  2000                 1.00                72.35\n",
              "7        Uruguay  2000                12.10                78.98"
            ]
          },
          "execution_count": 66,
          "metadata": {},
          "output_type": "execute_result"
        }
      ],
      "source": [
        "df.loc[:, ::2] # Tüm satırları al, ilk sütundan(ilk dahil) 2 şer sütun atlayarak sütunları al"
      ]
    },
    {
      "cell_type": "markdown",
      "metadata": {
        "id": "hNX77Eqmv0Ex"
      },
      "source": [
        "## 2) **``Using Pandas.DataFrame.iloc[]``** (By position)\n",
        "\n",
        "By using **``pandas.DataFrame.iloc[ ]``** you can slice DataFrame by column **position/index**. Always remember that index starts from 0. You can use **``pandas.DataFrame.iloc[ ]``** with the syntax **``[:, start:stop:step]``**; where **start** indicates the index of the first column to take, **stop** indicates the index of the last column to take, and **step** indicates the number of indices to advance after each extraction. Or, use the syntax: **``[:, [indices]]``** with indices as a list of column indices to take.\n",
        "\n",
        "**2.1 – Slicing Columns by Index Position**"
      ]
    },
    {
      "cell_type": "code",
      "execution_count": null,
      "metadata": {
        "id": "QPHrHp4qv0Ex",
        "outputId": "9810a570-0a37-4249-b65e-dee6ca2325e3"
      },
      "outputs": [
        {
          "data": {
            "text/html": [
              "<div>\n",
              "<style scoped>\n",
              "    .dataframe tbody tr th:only-of-type {\n",
              "        vertical-align: middle;\n",
              "    }\n",
              "\n",
              "    .dataframe tbody tr th {\n",
              "        vertical-align: top;\n",
              "    }\n",
              "\n",
              "    .dataframe thead th {\n",
              "        text-align: right;\n",
              "    }\n",
              "</style>\n",
              "<table border=\"1\" class=\"dataframe\">\n",
              "  <thead>\n",
              "    <tr style=\"text-align: right;\">\n",
              "      <th></th>\n",
              "      <th>country</th>\n",
              "      <th>country isocode</th>\n",
              "      <th>year</th>\n",
              "      <th>POP</th>\n",
              "      <th>XRAT</th>\n",
              "      <th>tcgdp</th>\n",
              "      <th>cc</th>\n",
              "      <th>cg</th>\n",
              "    </tr>\n",
              "  </thead>\n",
              "  <tbody>\n",
              "    <tr>\n",
              "      <th>0</th>\n",
              "      <td>Argentina</td>\n",
              "      <td>ARG</td>\n",
              "      <td>2000</td>\n",
              "      <td>37,335.65</td>\n",
              "      <td>1.00</td>\n",
              "      <td>295,072.22</td>\n",
              "      <td>75.72</td>\n",
              "      <td>5.58</td>\n",
              "    </tr>\n",
              "    <tr>\n",
              "      <th>1</th>\n",
              "      <td>Australia</td>\n",
              "      <td>AUS</td>\n",
              "      <td>2000</td>\n",
              "      <td>19,053.19</td>\n",
              "      <td>1.72</td>\n",
              "      <td>541,804.65</td>\n",
              "      <td>67.76</td>\n",
              "      <td>6.72</td>\n",
              "    </tr>\n",
              "    <tr>\n",
              "      <th>2</th>\n",
              "      <td>India</td>\n",
              "      <td>IND</td>\n",
              "      <td>2000</td>\n",
              "      <td>1,006,300.30</td>\n",
              "      <td>44.94</td>\n",
              "      <td>1,728,144.37</td>\n",
              "      <td>64.58</td>\n",
              "      <td>14.07</td>\n",
              "    </tr>\n",
              "    <tr>\n",
              "      <th>3</th>\n",
              "      <td>Israel</td>\n",
              "      <td>ISR</td>\n",
              "      <td>2000</td>\n",
              "      <td>6,114.57</td>\n",
              "      <td>4.08</td>\n",
              "      <td>129,253.89</td>\n",
              "      <td>64.44</td>\n",
              "      <td>10.27</td>\n",
              "    </tr>\n",
              "    <tr>\n",
              "      <th>4</th>\n",
              "      <td>Malawi</td>\n",
              "      <td>MWI</td>\n",
              "      <td>2000</td>\n",
              "      <td>11,801.50</td>\n",
              "      <td>59.54</td>\n",
              "      <td>5,026.22</td>\n",
              "      <td>74.71</td>\n",
              "      <td>11.66</td>\n",
              "    </tr>\n",
              "    <tr>\n",
              "      <th>5</th>\n",
              "      <td>South Africa</td>\n",
              "      <td>ZAF</td>\n",
              "      <td>2000</td>\n",
              "      <td>45,064.10</td>\n",
              "      <td>6.94</td>\n",
              "      <td>227,242.37</td>\n",
              "      <td>72.72</td>\n",
              "      <td>5.73</td>\n",
              "    </tr>\n",
              "    <tr>\n",
              "      <th>6</th>\n",
              "      <td>United States</td>\n",
              "      <td>USA</td>\n",
              "      <td>2000</td>\n",
              "      <td>282,171.96</td>\n",
              "      <td>1.00</td>\n",
              "      <td>9,898,700.00</td>\n",
              "      <td>72.35</td>\n",
              "      <td>6.03</td>\n",
              "    </tr>\n",
              "    <tr>\n",
              "      <th>7</th>\n",
              "      <td>Uruguay</td>\n",
              "      <td>URY</td>\n",
              "      <td>2000</td>\n",
              "      <td>3,219.79</td>\n",
              "      <td>12.10</td>\n",
              "      <td>25,255.96</td>\n",
              "      <td>78.98</td>\n",
              "      <td>5.11</td>\n",
              "    </tr>\n",
              "  </tbody>\n",
              "</table>\n",
              "</div>"
            ],
            "text/plain": [
              "         country country isocode  year                  POP  \\\n",
              "0      Argentina             ARG  2000            37,335.65   \n",
              "1      Australia             AUS  2000            19,053.19   \n",
              "2          India             IND  2000         1,006,300.30   \n",
              "3         Israel             ISR  2000             6,114.57   \n",
              "4         Malawi             MWI  2000            11,801.50   \n",
              "5   South Africa             ZAF  2000            45,064.10   \n",
              "6  United States             USA  2000           282,171.96   \n",
              "7        Uruguay             URY  2000             3,219.79   \n",
              "\n",
              "                  XRAT                tcgdp                   cc  \\\n",
              "0                 1.00           295,072.22                75.72   \n",
              "1                 1.72           541,804.65                67.76   \n",
              "2                44.94         1,728,144.37                64.58   \n",
              "3                 4.08           129,253.89                64.44   \n",
              "4                59.54             5,026.22                74.71   \n",
              "5                 6.94           227,242.37                72.72   \n",
              "6                 1.00         9,898,700.00                72.35   \n",
              "7                12.10            25,255.96                78.98   \n",
              "\n",
              "                    cg  \n",
              "0                 5.58  \n",
              "1                 6.72  \n",
              "2                14.07  \n",
              "3                10.27  \n",
              "4                11.66  \n",
              "5                 5.73  \n",
              "6                 6.03  \n",
              "7                 5.11  "
            ]
          },
          "execution_count": 67,
          "metadata": {},
          "output_type": "execute_result"
        }
      ],
      "source": [
        "# Let us first remember our df\n",
        "\n",
        "df"
      ]
    },
    {
      "cell_type": "markdown",
      "metadata": {
        "id": "N5Hb4gZav0Ex"
      },
      "source": [
        "We are going to use columns by their index positions, and retrieve slices of DataFrame. Below example retrieves \"country isocode\", \"POP\" and \"XRAT\" slices of columns at the DataFrame."
      ]
    },
    {
      "cell_type": "code",
      "execution_count": null,
      "metadata": {
        "id": "koEUpuFKv0Ey",
        "outputId": "62105577-1eb9-474a-a198-edd2ad14ebb8"
      },
      "outputs": [
        {
          "data": {
            "text/html": [
              "<div>\n",
              "<style scoped>\n",
              "    .dataframe tbody tr th:only-of-type {\n",
              "        vertical-align: middle;\n",
              "    }\n",
              "\n",
              "    .dataframe tbody tr th {\n",
              "        vertical-align: top;\n",
              "    }\n",
              "\n",
              "    .dataframe thead th {\n",
              "        text-align: right;\n",
              "    }\n",
              "</style>\n",
              "<table border=\"1\" class=\"dataframe\">\n",
              "  <thead>\n",
              "    <tr style=\"text-align: right;\">\n",
              "      <th></th>\n",
              "      <th>country isocode</th>\n",
              "      <th>POP</th>\n",
              "      <th>XRAT</th>\n",
              "    </tr>\n",
              "  </thead>\n",
              "  <tbody>\n",
              "    <tr>\n",
              "      <th>0</th>\n",
              "      <td>ARG</td>\n",
              "      <td>37,335.65</td>\n",
              "      <td>1.00</td>\n",
              "    </tr>\n",
              "    <tr>\n",
              "      <th>1</th>\n",
              "      <td>AUS</td>\n",
              "      <td>19,053.19</td>\n",
              "      <td>1.72</td>\n",
              "    </tr>\n",
              "    <tr>\n",
              "      <th>2</th>\n",
              "      <td>IND</td>\n",
              "      <td>1,006,300.30</td>\n",
              "      <td>44.94</td>\n",
              "    </tr>\n",
              "    <tr>\n",
              "      <th>3</th>\n",
              "      <td>ISR</td>\n",
              "      <td>6,114.57</td>\n",
              "      <td>4.08</td>\n",
              "    </tr>\n",
              "    <tr>\n",
              "      <th>4</th>\n",
              "      <td>MWI</td>\n",
              "      <td>11,801.50</td>\n",
              "      <td>59.54</td>\n",
              "    </tr>\n",
              "    <tr>\n",
              "      <th>5</th>\n",
              "      <td>ZAF</td>\n",
              "      <td>45,064.10</td>\n",
              "      <td>6.94</td>\n",
              "    </tr>\n",
              "    <tr>\n",
              "      <th>6</th>\n",
              "      <td>USA</td>\n",
              "      <td>282,171.96</td>\n",
              "      <td>1.00</td>\n",
              "    </tr>\n",
              "    <tr>\n",
              "      <th>7</th>\n",
              "      <td>URY</td>\n",
              "      <td>3,219.79</td>\n",
              "      <td>12.10</td>\n",
              "    </tr>\n",
              "  </tbody>\n",
              "</table>\n",
              "</div>"
            ],
            "text/plain": [
              "  country isocode                  POP                 XRAT\n",
              "0             ARG            37,335.65                 1.00\n",
              "1             AUS            19,053.19                 1.72\n",
              "2             IND         1,006,300.30                44.94\n",
              "3             ISR             6,114.57                 4.08\n",
              "4             MWI            11,801.50                59.54\n",
              "5             ZAF            45,064.10                 6.94\n",
              "6             USA           282,171.96                 1.00\n",
              "7             URY             3,219.79                12.10"
            ]
          },
          "execution_count": 68,
          "metadata": {},
          "output_type": "execute_result"
        }
      ],
      "source": [
        "# Slicing by selected column position\n",
        "\n",
        "df.iloc[:, [1, 3, 4]] # tüm satırları al, 1. 3. ve 4. sütunları al"
      ]
    },
    {
      "cell_type": "markdown",
      "metadata": {
        "id": "Z_qZv-F2v0Ey"
      },
      "source": [
        "**2.2 Column Slices by Position Range**\n",
        "\n",
        "Like slices by column labels, you can also slice a DataFrame by a range of positions."
      ]
    },
    {
      "cell_type": "code",
      "execution_count": null,
      "metadata": {
        "id": "kWMnaUMmv0Ey",
        "outputId": "cc7c5b3a-f99f-439e-ea38-446c4c3f04b9"
      },
      "outputs": [
        {
          "data": {
            "text/html": [
              "<div>\n",
              "<style scoped>\n",
              "    .dataframe tbody tr th:only-of-type {\n",
              "        vertical-align: middle;\n",
              "    }\n",
              "\n",
              "    .dataframe tbody tr th {\n",
              "        vertical-align: top;\n",
              "    }\n",
              "\n",
              "    .dataframe thead th {\n",
              "        text-align: right;\n",
              "    }\n",
              "</style>\n",
              "<table border=\"1\" class=\"dataframe\">\n",
              "  <thead>\n",
              "    <tr style=\"text-align: right;\">\n",
              "      <th></th>\n",
              "      <th>country isocode</th>\n",
              "      <th>year</th>\n",
              "      <th>POP</th>\n",
              "    </tr>\n",
              "  </thead>\n",
              "  <tbody>\n",
              "    <tr>\n",
              "      <th>0</th>\n",
              "      <td>ARG</td>\n",
              "      <td>2000</td>\n",
              "      <td>37,335.65</td>\n",
              "    </tr>\n",
              "    <tr>\n",
              "      <th>1</th>\n",
              "      <td>AUS</td>\n",
              "      <td>2000</td>\n",
              "      <td>19,053.19</td>\n",
              "    </tr>\n",
              "    <tr>\n",
              "      <th>2</th>\n",
              "      <td>IND</td>\n",
              "      <td>2000</td>\n",
              "      <td>1,006,300.30</td>\n",
              "    </tr>\n",
              "    <tr>\n",
              "      <th>3</th>\n",
              "      <td>ISR</td>\n",
              "      <td>2000</td>\n",
              "      <td>6,114.57</td>\n",
              "    </tr>\n",
              "    <tr>\n",
              "      <th>4</th>\n",
              "      <td>MWI</td>\n",
              "      <td>2000</td>\n",
              "      <td>11,801.50</td>\n",
              "    </tr>\n",
              "    <tr>\n",
              "      <th>5</th>\n",
              "      <td>ZAF</td>\n",
              "      <td>2000</td>\n",
              "      <td>45,064.10</td>\n",
              "    </tr>\n",
              "    <tr>\n",
              "      <th>6</th>\n",
              "      <td>USA</td>\n",
              "      <td>2000</td>\n",
              "      <td>282,171.96</td>\n",
              "    </tr>\n",
              "    <tr>\n",
              "      <th>7</th>\n",
              "      <td>URY</td>\n",
              "      <td>2000</td>\n",
              "      <td>3,219.79</td>\n",
              "    </tr>\n",
              "  </tbody>\n",
              "</table>\n",
              "</div>"
            ],
            "text/plain": [
              "  country isocode  year                  POP\n",
              "0             ARG  2000            37,335.65\n",
              "1             AUS  2000            19,053.19\n",
              "2             IND  2000         1,006,300.30\n",
              "3             ISR  2000             6,114.57\n",
              "4             MWI  2000            11,801.50\n",
              "5             ZAF  2000            45,064.10\n",
              "6             USA  2000           282,171.96\n",
              "7             URY  2000             3,219.79"
            ]
          },
          "execution_count": 69,
          "metadata": {},
          "output_type": "execute_result"
        }
      ],
      "source": [
        "# Slicing between indexes 1 (inclusive) and 4 (exclusive)\n",
        "\n",
        "df.iloc[:, 1:4]     # Tüm satırları al, 1. sütundan 4. sütuna kadar olan sütunları al(4. sütun dahil değil)"
      ]
    },
    {
      "cell_type": "code",
      "execution_count": null,
      "metadata": {
        "id": "1hTQ8sKIv0Ey",
        "outputId": "3936559f-c5db-4ac4-eab5-8704a0a2c60c"
      },
      "outputs": [
        {
          "data": {
            "text/html": [
              "<div>\n",
              "<style scoped>\n",
              "    .dataframe tbody tr th:only-of-type {\n",
              "        vertical-align: middle;\n",
              "    }\n",
              "\n",
              "    .dataframe tbody tr th {\n",
              "        vertical-align: top;\n",
              "    }\n",
              "\n",
              "    .dataframe thead th {\n",
              "        text-align: right;\n",
              "    }\n",
              "</style>\n",
              "<table border=\"1\" class=\"dataframe\">\n",
              "  <thead>\n",
              "    <tr style=\"text-align: right;\">\n",
              "      <th></th>\n",
              "      <th>country isocode</th>\n",
              "      <th>year</th>\n",
              "      <th>POP</th>\n",
              "      <th>XRAT</th>\n",
              "      <th>tcgdp</th>\n",
              "      <th>cc</th>\n",
              "      <th>cg</th>\n",
              "    </tr>\n",
              "  </thead>\n",
              "  <tbody>\n",
              "    <tr>\n",
              "      <th>0</th>\n",
              "      <td>ARG</td>\n",
              "      <td>2000</td>\n",
              "      <td>37,335.65</td>\n",
              "      <td>1.00</td>\n",
              "      <td>295,072.22</td>\n",
              "      <td>75.72</td>\n",
              "      <td>5.58</td>\n",
              "    </tr>\n",
              "    <tr>\n",
              "      <th>1</th>\n",
              "      <td>AUS</td>\n",
              "      <td>2000</td>\n",
              "      <td>19,053.19</td>\n",
              "      <td>1.72</td>\n",
              "      <td>541,804.65</td>\n",
              "      <td>67.76</td>\n",
              "      <td>6.72</td>\n",
              "    </tr>\n",
              "    <tr>\n",
              "      <th>2</th>\n",
              "      <td>IND</td>\n",
              "      <td>2000</td>\n",
              "      <td>1,006,300.30</td>\n",
              "      <td>44.94</td>\n",
              "      <td>1,728,144.37</td>\n",
              "      <td>64.58</td>\n",
              "      <td>14.07</td>\n",
              "    </tr>\n",
              "    <tr>\n",
              "      <th>3</th>\n",
              "      <td>ISR</td>\n",
              "      <td>2000</td>\n",
              "      <td>6,114.57</td>\n",
              "      <td>4.08</td>\n",
              "      <td>129,253.89</td>\n",
              "      <td>64.44</td>\n",
              "      <td>10.27</td>\n",
              "    </tr>\n",
              "    <tr>\n",
              "      <th>4</th>\n",
              "      <td>MWI</td>\n",
              "      <td>2000</td>\n",
              "      <td>11,801.50</td>\n",
              "      <td>59.54</td>\n",
              "      <td>5,026.22</td>\n",
              "      <td>74.71</td>\n",
              "      <td>11.66</td>\n",
              "    </tr>\n",
              "    <tr>\n",
              "      <th>5</th>\n",
              "      <td>ZAF</td>\n",
              "      <td>2000</td>\n",
              "      <td>45,064.10</td>\n",
              "      <td>6.94</td>\n",
              "      <td>227,242.37</td>\n",
              "      <td>72.72</td>\n",
              "      <td>5.73</td>\n",
              "    </tr>\n",
              "    <tr>\n",
              "      <th>6</th>\n",
              "      <td>USA</td>\n",
              "      <td>2000</td>\n",
              "      <td>282,171.96</td>\n",
              "      <td>1.00</td>\n",
              "      <td>9,898,700.00</td>\n",
              "      <td>72.35</td>\n",
              "      <td>6.03</td>\n",
              "    </tr>\n",
              "    <tr>\n",
              "      <th>7</th>\n",
              "      <td>URY</td>\n",
              "      <td>2000</td>\n",
              "      <td>3,219.79</td>\n",
              "      <td>12.10</td>\n",
              "      <td>25,255.96</td>\n",
              "      <td>78.98</td>\n",
              "      <td>5.11</td>\n",
              "    </tr>\n",
              "  </tbody>\n",
              "</table>\n",
              "</div>"
            ],
            "text/plain": [
              "  country isocode  year                  POP                 XRAT  \\\n",
              "0             ARG  2000            37,335.65                 1.00   \n",
              "1             AUS  2000            19,053.19                 1.72   \n",
              "2             IND  2000         1,006,300.30                44.94   \n",
              "3             ISR  2000             6,114.57                 4.08   \n",
              "4             MWI  2000            11,801.50                59.54   \n",
              "5             ZAF  2000            45,064.10                 6.94   \n",
              "6             USA  2000           282,171.96                 1.00   \n",
              "7             URY  2000             3,219.79                12.10   \n",
              "\n",
              "                 tcgdp                   cc                   cg  \n",
              "0           295,072.22                75.72                 5.58  \n",
              "1           541,804.65                67.76                 6.72  \n",
              "2         1,728,144.37                64.58                14.07  \n",
              "3           129,253.89                64.44                10.27  \n",
              "4             5,026.22                74.71                11.66  \n",
              "5           227,242.37                72.72                 5.73  \n",
              "6         9,898,700.00                72.35                 6.03  \n",
              "7            25,255.96                78.98                 5.11  "
            ]
          },
          "execution_count": 70,
          "metadata": {},
          "output_type": "execute_result"
        }
      ],
      "source": [
        "# Slicing from the 3rd index (inclusive) to end\n",
        "\n",
        "df.iloc[:, 1:] # Tüm satırları seç, 1. sütundan sondaki sütunlara kadar seç(Son sütun dahil)"
      ]
    },
    {
      "cell_type": "code",
      "execution_count": null,
      "metadata": {
        "id": "iZ2xwuzHv0Ez",
        "outputId": "cbe2dd7d-9079-40a7-ec82-9b597c56a5a5"
      },
      "outputs": [
        {
          "data": {
            "text/html": [
              "<div>\n",
              "<style scoped>\n",
              "    .dataframe tbody tr th:only-of-type {\n",
              "        vertical-align: middle;\n",
              "    }\n",
              "\n",
              "    .dataframe tbody tr th {\n",
              "        vertical-align: top;\n",
              "    }\n",
              "\n",
              "    .dataframe thead th {\n",
              "        text-align: right;\n",
              "    }\n",
              "</style>\n",
              "<table border=\"1\" class=\"dataframe\">\n",
              "  <thead>\n",
              "    <tr style=\"text-align: right;\">\n",
              "      <th></th>\n",
              "      <th>country</th>\n",
              "      <th>country isocode</th>\n",
              "    </tr>\n",
              "  </thead>\n",
              "  <tbody>\n",
              "    <tr>\n",
              "      <th>0</th>\n",
              "      <td>Argentina</td>\n",
              "      <td>ARG</td>\n",
              "    </tr>\n",
              "    <tr>\n",
              "      <th>1</th>\n",
              "      <td>Australia</td>\n",
              "      <td>AUS</td>\n",
              "    </tr>\n",
              "    <tr>\n",
              "      <th>2</th>\n",
              "      <td>India</td>\n",
              "      <td>IND</td>\n",
              "    </tr>\n",
              "    <tr>\n",
              "      <th>3</th>\n",
              "      <td>Israel</td>\n",
              "      <td>ISR</td>\n",
              "    </tr>\n",
              "    <tr>\n",
              "      <th>4</th>\n",
              "      <td>Malawi</td>\n",
              "      <td>MWI</td>\n",
              "    </tr>\n",
              "    <tr>\n",
              "      <th>5</th>\n",
              "      <td>South Africa</td>\n",
              "      <td>ZAF</td>\n",
              "    </tr>\n",
              "    <tr>\n",
              "      <th>6</th>\n",
              "      <td>United States</td>\n",
              "      <td>USA</td>\n",
              "    </tr>\n",
              "    <tr>\n",
              "      <th>7</th>\n",
              "      <td>Uruguay</td>\n",
              "      <td>URY</td>\n",
              "    </tr>\n",
              "  </tbody>\n",
              "</table>\n",
              "</div>"
            ],
            "text/plain": [
              "         country country isocode\n",
              "0      Argentina             ARG\n",
              "1      Australia             AUS\n",
              "2          India             IND\n",
              "3         Israel             ISR\n",
              "4         Malawi             MWI\n",
              "5   South Africa             ZAF\n",
              "6  United States             USA\n",
              "7        Uruguay             URY"
            ]
          },
          "execution_count": 18,
          "metadata": {},
          "output_type": "execute_result"
        }
      ],
      "source": [
        "# Slicing from the beginning to the 2nd index (exclusive)\n",
        "\n",
        "df.iloc[:, :2] # Tüm satırları seç, ilk sütundan 2. sütuna kadar olan sütunları seç(2. sütun dahil)"
      ]
    },
    {
      "cell_type": "markdown",
      "metadata": {
        "id": "_roEBbWOv0Ez"
      },
      "source": [
        "To get the **last column** use **``df.iloc[:, -1:]``** and to get just **first column** **``df.iloc[:, :1]``**"
      ]
    },
    {
      "cell_type": "code",
      "execution_count": null,
      "metadata": {
        "id": "6gKe1xQCv0Ez",
        "outputId": "aa653411-48a1-4b26-e852-1811515401a9"
      },
      "outputs": [
        {
          "data": {
            "text/plain": [
              "0                   5.58\n",
              "1                   6.72\n",
              "2                  14.07\n",
              "3                  10.27\n",
              "4                  11.66\n",
              "5                   5.73\n",
              "6                   6.03\n",
              "7                   5.11\n",
              "Name: cg, dtype: float64"
            ]
          },
          "execution_count": 72,
          "metadata": {},
          "output_type": "execute_result"
        }
      ],
      "source": [
        "df.iloc[:, -1] # tüm satırları seç, son sütunu seç # DIKKAT: Seri olarak geldi"
      ]
    },
    {
      "cell_type": "markdown",
      "metadata": {
        "id": "xHjXILcFv0Ez"
      },
      "source": [
        "## BONUS"
      ]
    },
    {
      "cell_type": "code",
      "execution_count": null,
      "metadata": {
        "id": "r2_pE49rv0Ez",
        "outputId": "93692f69-0d88-4585-b930-8682bbae57ca"
      },
      "outputs": [
        {
          "data": {
            "text/html": [
              "<div>\n",
              "<style scoped>\n",
              "    .dataframe tbody tr th:only-of-type {\n",
              "        vertical-align: middle;\n",
              "    }\n",
              "\n",
              "    .dataframe tbody tr th {\n",
              "        vertical-align: top;\n",
              "    }\n",
              "\n",
              "    .dataframe thead th {\n",
              "        text-align: right;\n",
              "    }\n",
              "</style>\n",
              "<table border=\"1\" class=\"dataframe\">\n",
              "  <thead>\n",
              "    <tr style=\"text-align: right;\">\n",
              "      <th></th>\n",
              "      <th>country</th>\n",
              "      <th>country isocode</th>\n",
              "      <th>year</th>\n",
              "      <th>POP</th>\n",
              "      <th>XRAT</th>\n",
              "      <th>tcgdp</th>\n",
              "      <th>cc</th>\n",
              "      <th>cg</th>\n",
              "    </tr>\n",
              "  </thead>\n",
              "  <tbody>\n",
              "    <tr>\n",
              "      <th>0</th>\n",
              "      <td>Argentina</td>\n",
              "      <td>ARG</td>\n",
              "      <td>2000</td>\n",
              "      <td>37,335.65</td>\n",
              "      <td>1.00</td>\n",
              "      <td>295,072.22</td>\n",
              "      <td>75.72</td>\n",
              "      <td>5.58</td>\n",
              "    </tr>\n",
              "    <tr>\n",
              "      <th>1</th>\n",
              "      <td>Australia</td>\n",
              "      <td>AUS</td>\n",
              "      <td>2000</td>\n",
              "      <td>19,053.19</td>\n",
              "      <td>1.72</td>\n",
              "      <td>541,804.65</td>\n",
              "      <td>67.76</td>\n",
              "      <td>6.72</td>\n",
              "    </tr>\n",
              "    <tr>\n",
              "      <th>2</th>\n",
              "      <td>India</td>\n",
              "      <td>IND</td>\n",
              "      <td>2000</td>\n",
              "      <td>1,006,300.30</td>\n",
              "      <td>44.94</td>\n",
              "      <td>1,728,144.37</td>\n",
              "      <td>64.58</td>\n",
              "      <td>14.07</td>\n",
              "    </tr>\n",
              "    <tr>\n",
              "      <th>3</th>\n",
              "      <td>Israel</td>\n",
              "      <td>ISR</td>\n",
              "      <td>2000</td>\n",
              "      <td>6,114.57</td>\n",
              "      <td>4.08</td>\n",
              "      <td>129,253.89</td>\n",
              "      <td>64.44</td>\n",
              "      <td>10.27</td>\n",
              "    </tr>\n",
              "    <tr>\n",
              "      <th>4</th>\n",
              "      <td>Malawi</td>\n",
              "      <td>MWI</td>\n",
              "      <td>2000</td>\n",
              "      <td>11,801.50</td>\n",
              "      <td>59.54</td>\n",
              "      <td>5,026.22</td>\n",
              "      <td>74.71</td>\n",
              "      <td>11.66</td>\n",
              "    </tr>\n",
              "    <tr>\n",
              "      <th>5</th>\n",
              "      <td>South Africa</td>\n",
              "      <td>ZAF</td>\n",
              "      <td>2000</td>\n",
              "      <td>45,064.10</td>\n",
              "      <td>6.94</td>\n",
              "      <td>227,242.37</td>\n",
              "      <td>72.72</td>\n",
              "      <td>5.73</td>\n",
              "    </tr>\n",
              "    <tr>\n",
              "      <th>6</th>\n",
              "      <td>United States</td>\n",
              "      <td>USA</td>\n",
              "      <td>2000</td>\n",
              "      <td>282,171.96</td>\n",
              "      <td>1.00</td>\n",
              "      <td>9,898,700.00</td>\n",
              "      <td>72.35</td>\n",
              "      <td>6.03</td>\n",
              "    </tr>\n",
              "    <tr>\n",
              "      <th>7</th>\n",
              "      <td>Uruguay</td>\n",
              "      <td>URY</td>\n",
              "      <td>2000</td>\n",
              "      <td>3,219.79</td>\n",
              "      <td>12.10</td>\n",
              "      <td>25,255.96</td>\n",
              "      <td>78.98</td>\n",
              "      <td>5.11</td>\n",
              "    </tr>\n",
              "  </tbody>\n",
              "</table>\n",
              "</div>"
            ],
            "text/plain": [
              "         country country isocode  year                  POP  \\\n",
              "0      Argentina             ARG  2000            37,335.65   \n",
              "1      Australia             AUS  2000            19,053.19   \n",
              "2          India             IND  2000         1,006,300.30   \n",
              "3         Israel             ISR  2000             6,114.57   \n",
              "4         Malawi             MWI  2000            11,801.50   \n",
              "5   South Africa             ZAF  2000            45,064.10   \n",
              "6  United States             USA  2000           282,171.96   \n",
              "7        Uruguay             URY  2000             3,219.79   \n",
              "\n",
              "                  XRAT                tcgdp                   cc  \\\n",
              "0                 1.00           295,072.22                75.72   \n",
              "1                 1.72           541,804.65                67.76   \n",
              "2                44.94         1,728,144.37                64.58   \n",
              "3                 4.08           129,253.89                64.44   \n",
              "4                59.54             5,026.22                74.71   \n",
              "5                 6.94           227,242.37                72.72   \n",
              "6                 1.00         9,898,700.00                72.35   \n",
              "7                12.10            25,255.96                78.98   \n",
              "\n",
              "                    cg  \n",
              "0                 5.58  \n",
              "1                 6.72  \n",
              "2                14.07  \n",
              "3                10.27  \n",
              "4                11.66  \n",
              "5                 5.73  \n",
              "6                 6.03  \n",
              "7                 5.11  "
            ]
          },
          "execution_count": 73,
          "metadata": {},
          "output_type": "execute_result"
        }
      ],
      "source": [
        "df"
      ]
    },
    {
      "cell_type": "code",
      "execution_count": null,
      "metadata": {
        "id": "sGNWfQQ5v0E0",
        "outputId": "8aab0548-e188-46da-ec4d-0af7d9cc6cb1"
      },
      "outputs": [
        {
          "data": {
            "text/plain": [
              "1006300.297"
            ]
          },
          "execution_count": 74,
          "metadata": {},
          "output_type": "execute_result"
        }
      ],
      "source": [
        "df.iat[2, 3]  # By position  # iat(iloc a benzer): index at : sayısal indexler üstünden çalışır\n",
        "# Matris mantığıyla çalışır 2. indexteki satır(2), 3. indexteki sütunun(POP) un kesiştiği yer"
      ]
    },
    {
      "cell_type": "code",
      "execution_count": null,
      "metadata": {
        "id": "Gnyy4Rmrv0E0",
        "outputId": "32080753-530c-43d4-d3c0-a88477990c1b"
      },
      "outputs": [
        {
          "data": {
            "text/plain": [
              "1006300.297"
            ]
          },
          "execution_count": 75,
          "metadata": {},
          "output_type": "execute_result"
        }
      ],
      "source": [
        "df.at[2, \"POP\"]  # By label # Bu da diğer hali \"loc\" a benzer"
      ]
    },
    {
      "cell_type": "markdown",
      "metadata": {
        "id": "xMsAb6VBv0E0"
      },
      "source": [
        "**``iat[]``** and **``at[]``** gives only a single value output (working with scalar only), so very fast, while **``iloc[]``** and **``loc[]``** can give multiple row output. [Source](https://pandas.pydata.org/pandas-docs/stable/user_guide/indexing.html)"
      ]
    },
    {
      "cell_type": "markdown",
      "metadata": {
        "id": "pw4SAKG8v0E0"
      },
      "source": [
        "## <p style=\"background-color:#FDFEFE; font-family:newtimeroman; color:#9d4f8c; font-size:150%; text-align:center; border-radius:10px 10px;\">The End of The Lab-01 Session</p>\n",
        "\n",
        "<a id=\"7\"></a>\n",
        "<a href=\"#toc\" class=\"btn btn-primary btn-sm\" role=\"button\" aria-pressed=\"true\" \n",
        "style=\"color:blue; background-color:#dfa8e4\" data-toggle=\"popover\">Content</a>"
      ]
    },
    {
      "cell_type": "markdown",
      "metadata": {
        "id": "Jqm1mt3qv0E1"
      },
      "source": [
        "<p style=\"text-align: center;\"><img src=\"https://docs.google.com/uc?id=1lY0Uj5R04yMY3-ZppPWxqCr5pvBLYPnV\" class=\"img-fluid\" \n",
        "alt=\"CLRSWY\"></p>\n",
        "\n",
        "## <p style=\"background-color:#FDFEFE; font-family:newtimeroman; color:#9d4f8c; font-size:100%; text-align:center; border-radius:10px 10px;\">WAY TO REINVENT YOURSELF</p>\n",
        "\n",
        "___"
      ]
    }
  ],
  "metadata": {
    "colab": {
      "name": "DAwPy-S3 (Pandas Series).ipynb",
      "provenance": []
    },
    "kernelspec": {
      "display_name": "Python 3 (ipykernel)",
      "language": "python",
      "name": "python3"
    },
    "language_info": {
      "codemirror_mode": {
        "name": "ipython",
        "version": 3
      },
      "file_extension": ".py",
      "mimetype": "text/x-python",
      "name": "python",
      "nbconvert_exporter": "python",
      "pygments_lexer": "ipython3",
      "version": "3.8.5"
    },
    "toc": {
      "base_numbering": 1,
      "nav_menu": {},
      "number_sections": false,
      "sideBar": true,
      "skip_h1_title": false,
      "title_cell": "Table of Contents",
      "title_sidebar": "Contents",
      "toc_cell": false,
      "toc_position": {
        "height": "671.804px",
        "left": "533px",
        "top": "170.051px",
        "width": "355.099px"
      },
      "toc_section_display": true,
      "toc_window_display": false
    }
  },
  "nbformat": 4,
  "nbformat_minor": 0
}