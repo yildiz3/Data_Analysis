{
  "cells": [
    {
      "cell_type": "code",
      "execution_count": 1,
      "id": "14a150cd",
      "metadata": {
        "id": "14a150cd"
      },
      "outputs": [],
      "source": [
        "import numpy as np\n",
        "import pandas as pd\n",
        "from scipy import stats\n",
        "\n",
        "import warnings\n",
        "warnings.filterwarnings(\"ignore\")"
      ]
    },
    {
      "cell_type": "code",
      "execution_count": 2,
      "id": "9e9ac70f",
      "metadata": {
        "id": "9e9ac70f"
      },
      "outputs": [],
      "source": [
        "import seaborn as sns\n",
        "import matplotlib.pyplot as plt\n",
        "from pandas.plotting import register_matplotlib_converters\n",
        "from pylab import rcParams\n",
        "sns.set_style(\"darkgrid\")"
      ]
    },
    {
      "cell_type": "code",
      "source": [
        "df_cur = pd.read_csv(\"/content/drive/MyDrive/currency_rates_082020_EUR (1).csv\")\n",
        "df_cur.head()"
      ],
      "metadata": {
        "colab": {
          "base_uri": "https://localhost:8080/",
          "height": 206
        },
        "id": "HwK5klFZaNNn",
        "outputId": "35b7e0be-9cb9-4a68-e9c8-0023e1545596"
      },
      "id": "HwK5klFZaNNn",
      "execution_count": 6,
      "outputs": [
        {
          "output_type": "execute_result",
          "data": {
            "text/plain": [
              "  currency      date  rate\n",
              "0      EUR  8/1/2020   1.0\n",
              "1      EUR  8/2/2020   1.0\n",
              "2      EUR  8/3/2020   1.0\n",
              "3      EUR  8/4/2020   1.0\n",
              "4      EUR  8/5/2020   1.0"
            ],
            "text/html": [
              "\n",
              "  <div id=\"df-eaa22d2a-caf9-4bf7-863c-cf7e2ab20a74\">\n",
              "    <div class=\"colab-df-container\">\n",
              "      <div>\n",
              "<style scoped>\n",
              "    .dataframe tbody tr th:only-of-type {\n",
              "        vertical-align: middle;\n",
              "    }\n",
              "\n",
              "    .dataframe tbody tr th {\n",
              "        vertical-align: top;\n",
              "    }\n",
              "\n",
              "    .dataframe thead th {\n",
              "        text-align: right;\n",
              "    }\n",
              "</style>\n",
              "<table border=\"1\" class=\"dataframe\">\n",
              "  <thead>\n",
              "    <tr style=\"text-align: right;\">\n",
              "      <th></th>\n",
              "      <th>currency</th>\n",
              "      <th>date</th>\n",
              "      <th>rate</th>\n",
              "    </tr>\n",
              "  </thead>\n",
              "  <tbody>\n",
              "    <tr>\n",
              "      <th>0</th>\n",
              "      <td>EUR</td>\n",
              "      <td>8/1/2020</td>\n",
              "      <td>1.0</td>\n",
              "    </tr>\n",
              "    <tr>\n",
              "      <th>1</th>\n",
              "      <td>EUR</td>\n",
              "      <td>8/2/2020</td>\n",
              "      <td>1.0</td>\n",
              "    </tr>\n",
              "    <tr>\n",
              "      <th>2</th>\n",
              "      <td>EUR</td>\n",
              "      <td>8/3/2020</td>\n",
              "      <td>1.0</td>\n",
              "    </tr>\n",
              "    <tr>\n",
              "      <th>3</th>\n",
              "      <td>EUR</td>\n",
              "      <td>8/4/2020</td>\n",
              "      <td>1.0</td>\n",
              "    </tr>\n",
              "    <tr>\n",
              "      <th>4</th>\n",
              "      <td>EUR</td>\n",
              "      <td>8/5/2020</td>\n",
              "      <td>1.0</td>\n",
              "    </tr>\n",
              "  </tbody>\n",
              "</table>\n",
              "</div>\n",
              "      <button class=\"colab-df-convert\" onclick=\"convertToInteractive('df-eaa22d2a-caf9-4bf7-863c-cf7e2ab20a74')\"\n",
              "              title=\"Convert this dataframe to an interactive table.\"\n",
              "              style=\"display:none;\">\n",
              "        \n",
              "  <svg xmlns=\"http://www.w3.org/2000/svg\" height=\"24px\"viewBox=\"0 0 24 24\"\n",
              "       width=\"24px\">\n",
              "    <path d=\"M0 0h24v24H0V0z\" fill=\"none\"/>\n",
              "    <path d=\"M18.56 5.44l.94 2.06.94-2.06 2.06-.94-2.06-.94-.94-2.06-.94 2.06-2.06.94zm-11 1L8.5 8.5l.94-2.06 2.06-.94-2.06-.94L8.5 2.5l-.94 2.06-2.06.94zm10 10l.94 2.06.94-2.06 2.06-.94-2.06-.94-.94-2.06-.94 2.06-2.06.94z\"/><path d=\"M17.41 7.96l-1.37-1.37c-.4-.4-.92-.59-1.43-.59-.52 0-1.04.2-1.43.59L10.3 9.45l-7.72 7.72c-.78.78-.78 2.05 0 2.83L4 21.41c.39.39.9.59 1.41.59.51 0 1.02-.2 1.41-.59l7.78-7.78 2.81-2.81c.8-.78.8-2.07 0-2.86zM5.41 20L4 18.59l7.72-7.72 1.47 1.35L5.41 20z\"/>\n",
              "  </svg>\n",
              "      </button>\n",
              "      \n",
              "  <style>\n",
              "    .colab-df-container {\n",
              "      display:flex;\n",
              "      flex-wrap:wrap;\n",
              "      gap: 12px;\n",
              "    }\n",
              "\n",
              "    .colab-df-convert {\n",
              "      background-color: #E8F0FE;\n",
              "      border: none;\n",
              "      border-radius: 50%;\n",
              "      cursor: pointer;\n",
              "      display: none;\n",
              "      fill: #1967D2;\n",
              "      height: 32px;\n",
              "      padding: 0 0 0 0;\n",
              "      width: 32px;\n",
              "    }\n",
              "\n",
              "    .colab-df-convert:hover {\n",
              "      background-color: #E2EBFA;\n",
              "      box-shadow: 0px 1px 2px rgba(60, 64, 67, 0.3), 0px 1px 3px 1px rgba(60, 64, 67, 0.15);\n",
              "      fill: #174EA6;\n",
              "    }\n",
              "\n",
              "    [theme=dark] .colab-df-convert {\n",
              "      background-color: #3B4455;\n",
              "      fill: #D2E3FC;\n",
              "    }\n",
              "\n",
              "    [theme=dark] .colab-df-convert:hover {\n",
              "      background-color: #434B5C;\n",
              "      box-shadow: 0px 1px 3px 1px rgba(0, 0, 0, 0.15);\n",
              "      filter: drop-shadow(0px 1px 2px rgba(0, 0, 0, 0.3));\n",
              "      fill: #FFFFFF;\n",
              "    }\n",
              "  </style>\n",
              "\n",
              "      <script>\n",
              "        const buttonEl =\n",
              "          document.querySelector('#df-eaa22d2a-caf9-4bf7-863c-cf7e2ab20a74 button.colab-df-convert');\n",
              "        buttonEl.style.display =\n",
              "          google.colab.kernel.accessAllowed ? 'block' : 'none';\n",
              "\n",
              "        async function convertToInteractive(key) {\n",
              "          const element = document.querySelector('#df-eaa22d2a-caf9-4bf7-863c-cf7e2ab20a74');\n",
              "          const dataTable =\n",
              "            await google.colab.kernel.invokeFunction('convertToInteractive',\n",
              "                                                     [key], {});\n",
              "          if (!dataTable) return;\n",
              "\n",
              "          const docLinkHtml = 'Like what you see? Visit the ' +\n",
              "            '<a target=\"_blank\" href=https://colab.research.google.com/notebooks/data_table.ipynb>data table notebook</a>'\n",
              "            + ' to learn more about interactive tables.';\n",
              "          element.innerHTML = '';\n",
              "          dataTable['output_type'] = 'display_data';\n",
              "          await google.colab.output.renderOutput(dataTable, element);\n",
              "          const docLink = document.createElement('div');\n",
              "          docLink.innerHTML = docLinkHtml;\n",
              "          element.appendChild(docLink);\n",
              "        }\n",
              "      </script>\n",
              "    </div>\n",
              "  </div>\n",
              "  "
            ]
          },
          "metadata": {},
          "execution_count": 6
        }
      ]
    },
    {
      "cell_type": "code",
      "source": [
        "from google.colab import drive\n",
        "drive.mount('/content/drive')"
      ],
      "metadata": {
        "colab": {
          "base_uri": "https://localhost:8080/"
        },
        "id": "pfGBANNDY5Xu",
        "outputId": "45ec9c67-6469-44d1-da7b-7dccbfa787bf"
      },
      "id": "pfGBANNDY5Xu",
      "execution_count": 4,
      "outputs": [
        {
          "output_type": "stream",
          "name": "stdout",
          "text": [
            "Mounted at /content/drive\n"
          ]
        }
      ]
    },
    {
      "cell_type": "code",
      "execution_count": 7,
      "id": "5c7d47ba",
      "metadata": {
        "colab": {
          "base_uri": "https://localhost:8080/",
          "height": 363
        },
        "id": "5c7d47ba",
        "outputId": "b805e86b-3857-466f-b83d-938ab1baaa71"
      },
      "outputs": [
        {
          "output_type": "execute_result",
          "data": {
            "text/plain": [
              "    currency       date        rate\n",
              "15       GBP   8/6/2020    0.903835\n",
              "28       USD   8/9/2020    1.178450\n",
              "117      PLN   8/8/2020    4.413600\n",
              "92       DKK   8/3/2020    7.447050\n",
              "111      PLN   8/2/2020    4.424015\n",
              "56       NZD   8/7/2020    1.786125\n",
              "219      BRL  8/10/2020    6.435100\n",
              "193      HUF   8/4/2020  346.272500\n",
              "153      NOK   8/4/2020   10.736700\n",
              "51       NZD   8/2/2020    1.775400"
            ],
            "text/html": [
              "\n",
              "  <div id=\"df-d7674be9-89db-48f3-b8e4-1154458eb914\">\n",
              "    <div class=\"colab-df-container\">\n",
              "      <div>\n",
              "<style scoped>\n",
              "    .dataframe tbody tr th:only-of-type {\n",
              "        vertical-align: middle;\n",
              "    }\n",
              "\n",
              "    .dataframe tbody tr th {\n",
              "        vertical-align: top;\n",
              "    }\n",
              "\n",
              "    .dataframe thead th {\n",
              "        text-align: right;\n",
              "    }\n",
              "</style>\n",
              "<table border=\"1\" class=\"dataframe\">\n",
              "  <thead>\n",
              "    <tr style=\"text-align: right;\">\n",
              "      <th></th>\n",
              "      <th>currency</th>\n",
              "      <th>date</th>\n",
              "      <th>rate</th>\n",
              "    </tr>\n",
              "  </thead>\n",
              "  <tbody>\n",
              "    <tr>\n",
              "      <th>15</th>\n",
              "      <td>GBP</td>\n",
              "      <td>8/6/2020</td>\n",
              "      <td>0.903835</td>\n",
              "    </tr>\n",
              "    <tr>\n",
              "      <th>28</th>\n",
              "      <td>USD</td>\n",
              "      <td>8/9/2020</td>\n",
              "      <td>1.178450</td>\n",
              "    </tr>\n",
              "    <tr>\n",
              "      <th>117</th>\n",
              "      <td>PLN</td>\n",
              "      <td>8/8/2020</td>\n",
              "      <td>4.413600</td>\n",
              "    </tr>\n",
              "    <tr>\n",
              "      <th>92</th>\n",
              "      <td>DKK</td>\n",
              "      <td>8/3/2020</td>\n",
              "      <td>7.447050</td>\n",
              "    </tr>\n",
              "    <tr>\n",
              "      <th>111</th>\n",
              "      <td>PLN</td>\n",
              "      <td>8/2/2020</td>\n",
              "      <td>4.424015</td>\n",
              "    </tr>\n",
              "    <tr>\n",
              "      <th>56</th>\n",
              "      <td>NZD</td>\n",
              "      <td>8/7/2020</td>\n",
              "      <td>1.786125</td>\n",
              "    </tr>\n",
              "    <tr>\n",
              "      <th>219</th>\n",
              "      <td>BRL</td>\n",
              "      <td>8/10/2020</td>\n",
              "      <td>6.435100</td>\n",
              "    </tr>\n",
              "    <tr>\n",
              "      <th>193</th>\n",
              "      <td>HUF</td>\n",
              "      <td>8/4/2020</td>\n",
              "      <td>346.272500</td>\n",
              "    </tr>\n",
              "    <tr>\n",
              "      <th>153</th>\n",
              "      <td>NOK</td>\n",
              "      <td>8/4/2020</td>\n",
              "      <td>10.736700</td>\n",
              "    </tr>\n",
              "    <tr>\n",
              "      <th>51</th>\n",
              "      <td>NZD</td>\n",
              "      <td>8/2/2020</td>\n",
              "      <td>1.775400</td>\n",
              "    </tr>\n",
              "  </tbody>\n",
              "</table>\n",
              "</div>\n",
              "      <button class=\"colab-df-convert\" onclick=\"convertToInteractive('df-d7674be9-89db-48f3-b8e4-1154458eb914')\"\n",
              "              title=\"Convert this dataframe to an interactive table.\"\n",
              "              style=\"display:none;\">\n",
              "        \n",
              "  <svg xmlns=\"http://www.w3.org/2000/svg\" height=\"24px\"viewBox=\"0 0 24 24\"\n",
              "       width=\"24px\">\n",
              "    <path d=\"M0 0h24v24H0V0z\" fill=\"none\"/>\n",
              "    <path d=\"M18.56 5.44l.94 2.06.94-2.06 2.06-.94-2.06-.94-.94-2.06-.94 2.06-2.06.94zm-11 1L8.5 8.5l.94-2.06 2.06-.94-2.06-.94L8.5 2.5l-.94 2.06-2.06.94zm10 10l.94 2.06.94-2.06 2.06-.94-2.06-.94-.94-2.06-.94 2.06-2.06.94z\"/><path d=\"M17.41 7.96l-1.37-1.37c-.4-.4-.92-.59-1.43-.59-.52 0-1.04.2-1.43.59L10.3 9.45l-7.72 7.72c-.78.78-.78 2.05 0 2.83L4 21.41c.39.39.9.59 1.41.59.51 0 1.02-.2 1.41-.59l7.78-7.78 2.81-2.81c.8-.78.8-2.07 0-2.86zM5.41 20L4 18.59l7.72-7.72 1.47 1.35L5.41 20z\"/>\n",
              "  </svg>\n",
              "      </button>\n",
              "      \n",
              "  <style>\n",
              "    .colab-df-container {\n",
              "      display:flex;\n",
              "      flex-wrap:wrap;\n",
              "      gap: 12px;\n",
              "    }\n",
              "\n",
              "    .colab-df-convert {\n",
              "      background-color: #E8F0FE;\n",
              "      border: none;\n",
              "      border-radius: 50%;\n",
              "      cursor: pointer;\n",
              "      display: none;\n",
              "      fill: #1967D2;\n",
              "      height: 32px;\n",
              "      padding: 0 0 0 0;\n",
              "      width: 32px;\n",
              "    }\n",
              "\n",
              "    .colab-df-convert:hover {\n",
              "      background-color: #E2EBFA;\n",
              "      box-shadow: 0px 1px 2px rgba(60, 64, 67, 0.3), 0px 1px 3px 1px rgba(60, 64, 67, 0.15);\n",
              "      fill: #174EA6;\n",
              "    }\n",
              "\n",
              "    [theme=dark] .colab-df-convert {\n",
              "      background-color: #3B4455;\n",
              "      fill: #D2E3FC;\n",
              "    }\n",
              "\n",
              "    [theme=dark] .colab-df-convert:hover {\n",
              "      background-color: #434B5C;\n",
              "      box-shadow: 0px 1px 3px 1px rgba(0, 0, 0, 0.15);\n",
              "      filter: drop-shadow(0px 1px 2px rgba(0, 0, 0, 0.3));\n",
              "      fill: #FFFFFF;\n",
              "    }\n",
              "  </style>\n",
              "\n",
              "      <script>\n",
              "        const buttonEl =\n",
              "          document.querySelector('#df-d7674be9-89db-48f3-b8e4-1154458eb914 button.colab-df-convert');\n",
              "        buttonEl.style.display =\n",
              "          google.colab.kernel.accessAllowed ? 'block' : 'none';\n",
              "\n",
              "        async function convertToInteractive(key) {\n",
              "          const element = document.querySelector('#df-d7674be9-89db-48f3-b8e4-1154458eb914');\n",
              "          const dataTable =\n",
              "            await google.colab.kernel.invokeFunction('convertToInteractive',\n",
              "                                                     [key], {});\n",
              "          if (!dataTable) return;\n",
              "\n",
              "          const docLinkHtml = 'Like what you see? Visit the ' +\n",
              "            '<a target=\"_blank\" href=https://colab.research.google.com/notebooks/data_table.ipynb>data table notebook</a>'\n",
              "            + ' to learn more about interactive tables.';\n",
              "          element.innerHTML = '';\n",
              "          dataTable['output_type'] = 'display_data';\n",
              "          await google.colab.output.renderOutput(dataTable, element);\n",
              "          const docLink = document.createElement('div');\n",
              "          docLink.innerHTML = docLinkHtml;\n",
              "          element.appendChild(docLink);\n",
              "        }\n",
              "      </script>\n",
              "    </div>\n",
              "  </div>\n",
              "  "
            ]
          },
          "metadata": {},
          "execution_count": 7
        }
      ],
      "source": [
        "df_cur.sample(10)"
      ]
    },
    {
      "cell_type": "code",
      "execution_count": 8,
      "id": "61ae4866",
      "metadata": {
        "colab": {
          "base_uri": "https://localhost:8080/"
        },
        "id": "61ae4866",
        "outputId": "3429909f-32a2-4abe-d72c-bdc182436797"
      },
      "outputs": [
        {
          "output_type": "stream",
          "name": "stdout",
          "text": [
            "<class 'pandas.core.frame.DataFrame'>\n",
            "RangeIndex: 220 entries, 0 to 219\n",
            "Data columns (total 3 columns):\n",
            " #   Column    Non-Null Count  Dtype  \n",
            "---  ------    --------------  -----  \n",
            " 0   currency  220 non-null    object \n",
            " 1   date      220 non-null    object \n",
            " 2   rate      220 non-null    float64\n",
            "dtypes: float64(1), object(2)\n",
            "memory usage: 5.3+ KB\n"
          ]
        }
      ],
      "source": [
        "df_cur.info()"
      ]
    },
    {
      "cell_type": "code",
      "execution_count": 9,
      "id": "b6ff00bb",
      "metadata": {
        "colab": {
          "base_uri": "https://localhost:8080/",
          "height": 206
        },
        "id": "b6ff00bb",
        "outputId": "86e0e1a1-2b8f-43d7-da09-fd4c8685eb0a"
      },
      "outputs": [
        {
          "output_type": "execute_result",
          "data": {
            "text/plain": [
              "     buyer_id buyer_country seller_id seller_country  product_code  \\\n",
              "0  qzpjsi9t0o            GB  6oufpaot             GB  ydecnydr6obf   \n",
              "1  o79pns1qwo            GB  50xki2yg             GB  38chj507o6h2   \n",
              "2  sjgbjdkhqx            GB  50xki2yg             GB  i9ynyxj5tdp8   \n",
              "3  o79pns1qwo            GB  s0p322hh             GB  t50xe7moye8v   \n",
              "4  o79pns1qwo            GB  dpkx192v             GB  hp4r9bjq68af   \n",
              "\n",
              "           category             brand currency  price        date  \n",
              "0           Dresses               NaN      GBP  19.11  2020-08-03  \n",
              "1         Outerwear  Adidas Originals      GBP  15.92  2020-08-09  \n",
              "2       Tops - Mens               NaN      GBP   6.37  2020-08-07  \n",
              "3       Tops - Mens          Berghaus      GBP  25.27  2020-08-09  \n",
              "4  Bottoms - Womens               NaN      GBP   8.90  2020-08-09  "
            ],
            "text/html": [
              "\n",
              "  <div id=\"df-86a8b487-0aef-464f-8ff9-ff13dbd9422c\">\n",
              "    <div class=\"colab-df-container\">\n",
              "      <div>\n",
              "<style scoped>\n",
              "    .dataframe tbody tr th:only-of-type {\n",
              "        vertical-align: middle;\n",
              "    }\n",
              "\n",
              "    .dataframe tbody tr th {\n",
              "        vertical-align: top;\n",
              "    }\n",
              "\n",
              "    .dataframe thead th {\n",
              "        text-align: right;\n",
              "    }\n",
              "</style>\n",
              "<table border=\"1\" class=\"dataframe\">\n",
              "  <thead>\n",
              "    <tr style=\"text-align: right;\">\n",
              "      <th></th>\n",
              "      <th>buyer_id</th>\n",
              "      <th>buyer_country</th>\n",
              "      <th>seller_id</th>\n",
              "      <th>seller_country</th>\n",
              "      <th>product_code</th>\n",
              "      <th>category</th>\n",
              "      <th>brand</th>\n",
              "      <th>currency</th>\n",
              "      <th>price</th>\n",
              "      <th>date</th>\n",
              "    </tr>\n",
              "  </thead>\n",
              "  <tbody>\n",
              "    <tr>\n",
              "      <th>0</th>\n",
              "      <td>qzpjsi9t0o</td>\n",
              "      <td>GB</td>\n",
              "      <td>6oufpaot</td>\n",
              "      <td>GB</td>\n",
              "      <td>ydecnydr6obf</td>\n",
              "      <td>Dresses</td>\n",
              "      <td>NaN</td>\n",
              "      <td>GBP</td>\n",
              "      <td>19.11</td>\n",
              "      <td>2020-08-03</td>\n",
              "    </tr>\n",
              "    <tr>\n",
              "      <th>1</th>\n",
              "      <td>o79pns1qwo</td>\n",
              "      <td>GB</td>\n",
              "      <td>50xki2yg</td>\n",
              "      <td>GB</td>\n",
              "      <td>38chj507o6h2</td>\n",
              "      <td>Outerwear</td>\n",
              "      <td>Adidas Originals</td>\n",
              "      <td>GBP</td>\n",
              "      <td>15.92</td>\n",
              "      <td>2020-08-09</td>\n",
              "    </tr>\n",
              "    <tr>\n",
              "      <th>2</th>\n",
              "      <td>sjgbjdkhqx</td>\n",
              "      <td>GB</td>\n",
              "      <td>50xki2yg</td>\n",
              "      <td>GB</td>\n",
              "      <td>i9ynyxj5tdp8</td>\n",
              "      <td>Tops - Mens</td>\n",
              "      <td>NaN</td>\n",
              "      <td>GBP</td>\n",
              "      <td>6.37</td>\n",
              "      <td>2020-08-07</td>\n",
              "    </tr>\n",
              "    <tr>\n",
              "      <th>3</th>\n",
              "      <td>o79pns1qwo</td>\n",
              "      <td>GB</td>\n",
              "      <td>s0p322hh</td>\n",
              "      <td>GB</td>\n",
              "      <td>t50xe7moye8v</td>\n",
              "      <td>Tops - Mens</td>\n",
              "      <td>Berghaus</td>\n",
              "      <td>GBP</td>\n",
              "      <td>25.27</td>\n",
              "      <td>2020-08-09</td>\n",
              "    </tr>\n",
              "    <tr>\n",
              "      <th>4</th>\n",
              "      <td>o79pns1qwo</td>\n",
              "      <td>GB</td>\n",
              "      <td>dpkx192v</td>\n",
              "      <td>GB</td>\n",
              "      <td>hp4r9bjq68af</td>\n",
              "      <td>Bottoms - Womens</td>\n",
              "      <td>NaN</td>\n",
              "      <td>GBP</td>\n",
              "      <td>8.90</td>\n",
              "      <td>2020-08-09</td>\n",
              "    </tr>\n",
              "  </tbody>\n",
              "</table>\n",
              "</div>\n",
              "      <button class=\"colab-df-convert\" onclick=\"convertToInteractive('df-86a8b487-0aef-464f-8ff9-ff13dbd9422c')\"\n",
              "              title=\"Convert this dataframe to an interactive table.\"\n",
              "              style=\"display:none;\">\n",
              "        \n",
              "  <svg xmlns=\"http://www.w3.org/2000/svg\" height=\"24px\"viewBox=\"0 0 24 24\"\n",
              "       width=\"24px\">\n",
              "    <path d=\"M0 0h24v24H0V0z\" fill=\"none\"/>\n",
              "    <path d=\"M18.56 5.44l.94 2.06.94-2.06 2.06-.94-2.06-.94-.94-2.06-.94 2.06-2.06.94zm-11 1L8.5 8.5l.94-2.06 2.06-.94-2.06-.94L8.5 2.5l-.94 2.06-2.06.94zm10 10l.94 2.06.94-2.06 2.06-.94-2.06-.94-.94-2.06-.94 2.06-2.06.94z\"/><path d=\"M17.41 7.96l-1.37-1.37c-.4-.4-.92-.59-1.43-.59-.52 0-1.04.2-1.43.59L10.3 9.45l-7.72 7.72c-.78.78-.78 2.05 0 2.83L4 21.41c.39.39.9.59 1.41.59.51 0 1.02-.2 1.41-.59l7.78-7.78 2.81-2.81c.8-.78.8-2.07 0-2.86zM5.41 20L4 18.59l7.72-7.72 1.47 1.35L5.41 20z\"/>\n",
              "  </svg>\n",
              "      </button>\n",
              "      \n",
              "  <style>\n",
              "    .colab-df-container {\n",
              "      display:flex;\n",
              "      flex-wrap:wrap;\n",
              "      gap: 12px;\n",
              "    }\n",
              "\n",
              "    .colab-df-convert {\n",
              "      background-color: #E8F0FE;\n",
              "      border: none;\n",
              "      border-radius: 50%;\n",
              "      cursor: pointer;\n",
              "      display: none;\n",
              "      fill: #1967D2;\n",
              "      height: 32px;\n",
              "      padding: 0 0 0 0;\n",
              "      width: 32px;\n",
              "    }\n",
              "\n",
              "    .colab-df-convert:hover {\n",
              "      background-color: #E2EBFA;\n",
              "      box-shadow: 0px 1px 2px rgba(60, 64, 67, 0.3), 0px 1px 3px 1px rgba(60, 64, 67, 0.15);\n",
              "      fill: #174EA6;\n",
              "    }\n",
              "\n",
              "    [theme=dark] .colab-df-convert {\n",
              "      background-color: #3B4455;\n",
              "      fill: #D2E3FC;\n",
              "    }\n",
              "\n",
              "    [theme=dark] .colab-df-convert:hover {\n",
              "      background-color: #434B5C;\n",
              "      box-shadow: 0px 1px 3px 1px rgba(0, 0, 0, 0.15);\n",
              "      filter: drop-shadow(0px 1px 2px rgba(0, 0, 0, 0.3));\n",
              "      fill: #FFFFFF;\n",
              "    }\n",
              "  </style>\n",
              "\n",
              "      <script>\n",
              "        const buttonEl =\n",
              "          document.querySelector('#df-86a8b487-0aef-464f-8ff9-ff13dbd9422c button.colab-df-convert');\n",
              "        buttonEl.style.display =\n",
              "          google.colab.kernel.accessAllowed ? 'block' : 'none';\n",
              "\n",
              "        async function convertToInteractive(key) {\n",
              "          const element = document.querySelector('#df-86a8b487-0aef-464f-8ff9-ff13dbd9422c');\n",
              "          const dataTable =\n",
              "            await google.colab.kernel.invokeFunction('convertToInteractive',\n",
              "                                                     [key], {});\n",
              "          if (!dataTable) return;\n",
              "\n",
              "          const docLinkHtml = 'Like what you see? Visit the ' +\n",
              "            '<a target=\"_blank\" href=https://colab.research.google.com/notebooks/data_table.ipynb>data table notebook</a>'\n",
              "            + ' to learn more about interactive tables.';\n",
              "          element.innerHTML = '';\n",
              "          dataTable['output_type'] = 'display_data';\n",
              "          await google.colab.output.renderOutput(dataTable, element);\n",
              "          const docLink = document.createElement('div');\n",
              "          docLink.innerHTML = docLinkHtml;\n",
              "          element.appendChild(docLink);\n",
              "        }\n",
              "      </script>\n",
              "    </div>\n",
              "  </div>\n",
              "  "
            ]
          },
          "metadata": {},
          "execution_count": 9
        }
      ],
      "source": [
        "df_sales = pd.read_csv(\"/content/drive/MyDrive/sales_082020 (1).csv\")\n",
        "df_sales.head()"
      ]
    },
    {
      "cell_type": "code",
      "execution_count": 10,
      "id": "3a0036a5",
      "metadata": {
        "colab": {
          "base_uri": "https://localhost:8080/"
        },
        "id": "3a0036a5",
        "outputId": "d286466a-954d-4642-99c0-c02d37135943"
      },
      "outputs": [
        {
          "output_type": "stream",
          "name": "stdout",
          "text": [
            "<class 'pandas.core.frame.DataFrame'>\n",
            "RangeIndex: 237671 entries, 0 to 237670\n",
            "Data columns (total 10 columns):\n",
            " #   Column          Non-Null Count   Dtype  \n",
            "---  ------          --------------   -----  \n",
            " 0   buyer_id        237671 non-null  object \n",
            " 1   buyer_country   237671 non-null  object \n",
            " 2   seller_id       237671 non-null  object \n",
            " 3   seller_country  237671 non-null  object \n",
            " 4   product_code    237671 non-null  object \n",
            " 5   category        237655 non-null  object \n",
            " 6   brand           119330 non-null  object \n",
            " 7   currency        237671 non-null  object \n",
            " 8   price           237671 non-null  float64\n",
            " 9   date            237671 non-null  object \n",
            "dtypes: float64(1), object(9)\n",
            "memory usage: 18.1+ MB\n"
          ]
        }
      ],
      "source": [
        "df_sales.info()"
      ]
    },
    {
      "cell_type": "code",
      "execution_count": 13,
      "id": "26562a93",
      "metadata": {
        "colab": {
          "base_uri": "https://localhost:8080/"
        },
        "id": "26562a93",
        "outputId": "db0602aa-397f-4211-b4ee-eae8ae30323c"
      },
      "outputs": [
        {
          "output_type": "execute_result",
          "data": {
            "text/plain": [
              "(237671, 10)"
            ]
          },
          "metadata": {},
          "execution_count": 13
        }
      ],
      "source": [
        "df_sales.shape"
      ]
    },
    {
      "cell_type": "code",
      "execution_count": 12,
      "id": "492b6497",
      "metadata": {
        "colab": {
          "base_uri": "https://localhost:8080/"
        },
        "id": "492b6497",
        "outputId": "bdb75f1b-5fd2-4161-9ae8-d9d73046640b"
      },
      "outputs": [
        {
          "output_type": "execute_result",
          "data": {
            "text/plain": [
              "237671"
            ]
          },
          "metadata": {},
          "execution_count": 12
        }
      ],
      "source": [
        "df_sales.shape[0]"
      ]
    },
    {
      "cell_type": "code",
      "execution_count": 14,
      "id": "7f219b7f",
      "metadata": {
        "colab": {
          "base_uri": "https://localhost:8080/"
        },
        "id": "7f219b7f",
        "outputId": "d8be6b77-dbdc-4fee-876b-70fcbd54b640"
      },
      "outputs": [
        {
          "output_type": "execute_result",
          "data": {
            "text/plain": [
              "237671"
            ]
          },
          "metadata": {},
          "execution_count": 14
        }
      ],
      "source": [
        "len(df_sales)"
      ]
    },
    {
      "cell_type": "code",
      "execution_count": 15,
      "id": "d5c25508",
      "metadata": {
        "colab": {
          "base_uri": "https://localhost:8080/"
        },
        "id": "d5c25508",
        "outputId": "d8bd18b4-0d20-48b2-caf7-385852241a8d"
      },
      "outputs": [
        {
          "output_type": "execute_result",
          "data": {
            "text/plain": [
              "10"
            ]
          },
          "metadata": {},
          "execution_count": 15
        }
      ],
      "source": [
        "df_sales.shape[1]"
      ]
    },
    {
      "cell_type": "code",
      "execution_count": 16,
      "id": "e87ba618",
      "metadata": {
        "colab": {
          "base_uri": "https://localhost:8080/",
          "height": 206
        },
        "id": "e87ba618",
        "outputId": "72038f0e-94b8-492d-ac3f-b2258e20f50a"
      },
      "outputs": [
        {
          "output_type": "execute_result",
          "data": {
            "text/plain": [
              "     buyer_id buyer_country seller_id seller_country  product_code  \\\n",
              "0  qzpjsi9t0o            GB  6oufpaot             GB  ydecnydr6obf   \n",
              "1  o79pns1qwo            GB  50xki2yg             GB  38chj507o6h2   \n",
              "2  sjgbjdkhqx            GB  50xki2yg             GB  i9ynyxj5tdp8   \n",
              "3  o79pns1qwo            GB  s0p322hh             GB  t50xe7moye8v   \n",
              "4  o79pns1qwo            GB  dpkx192v             GB  hp4r9bjq68af   \n",
              "\n",
              "           category             brand currency  price        date  \n",
              "0           Dresses               NaN      GBP  19.11  2020-08-03  \n",
              "1         Outerwear  Adidas Originals      GBP  15.92  2020-08-09  \n",
              "2       Tops - Mens               NaN      GBP   6.37  2020-08-07  \n",
              "3       Tops - Mens          Berghaus      GBP  25.27  2020-08-09  \n",
              "4  Bottoms - Womens               NaN      GBP   8.90  2020-08-09  "
            ],
            "text/html": [
              "\n",
              "  <div id=\"df-95eb0f60-92e5-472e-a4de-a3f717d946b1\">\n",
              "    <div class=\"colab-df-container\">\n",
              "      <div>\n",
              "<style scoped>\n",
              "    .dataframe tbody tr th:only-of-type {\n",
              "        vertical-align: middle;\n",
              "    }\n",
              "\n",
              "    .dataframe tbody tr th {\n",
              "        vertical-align: top;\n",
              "    }\n",
              "\n",
              "    .dataframe thead th {\n",
              "        text-align: right;\n",
              "    }\n",
              "</style>\n",
              "<table border=\"1\" class=\"dataframe\">\n",
              "  <thead>\n",
              "    <tr style=\"text-align: right;\">\n",
              "      <th></th>\n",
              "      <th>buyer_id</th>\n",
              "      <th>buyer_country</th>\n",
              "      <th>seller_id</th>\n",
              "      <th>seller_country</th>\n",
              "      <th>product_code</th>\n",
              "      <th>category</th>\n",
              "      <th>brand</th>\n",
              "      <th>currency</th>\n",
              "      <th>price</th>\n",
              "      <th>date</th>\n",
              "    </tr>\n",
              "  </thead>\n",
              "  <tbody>\n",
              "    <tr>\n",
              "      <th>0</th>\n",
              "      <td>qzpjsi9t0o</td>\n",
              "      <td>GB</td>\n",
              "      <td>6oufpaot</td>\n",
              "      <td>GB</td>\n",
              "      <td>ydecnydr6obf</td>\n",
              "      <td>Dresses</td>\n",
              "      <td>NaN</td>\n",
              "      <td>GBP</td>\n",
              "      <td>19.11</td>\n",
              "      <td>2020-08-03</td>\n",
              "    </tr>\n",
              "    <tr>\n",
              "      <th>1</th>\n",
              "      <td>o79pns1qwo</td>\n",
              "      <td>GB</td>\n",
              "      <td>50xki2yg</td>\n",
              "      <td>GB</td>\n",
              "      <td>38chj507o6h2</td>\n",
              "      <td>Outerwear</td>\n",
              "      <td>Adidas Originals</td>\n",
              "      <td>GBP</td>\n",
              "      <td>15.92</td>\n",
              "      <td>2020-08-09</td>\n",
              "    </tr>\n",
              "    <tr>\n",
              "      <th>2</th>\n",
              "      <td>sjgbjdkhqx</td>\n",
              "      <td>GB</td>\n",
              "      <td>50xki2yg</td>\n",
              "      <td>GB</td>\n",
              "      <td>i9ynyxj5tdp8</td>\n",
              "      <td>Tops - Mens</td>\n",
              "      <td>NaN</td>\n",
              "      <td>GBP</td>\n",
              "      <td>6.37</td>\n",
              "      <td>2020-08-07</td>\n",
              "    </tr>\n",
              "    <tr>\n",
              "      <th>3</th>\n",
              "      <td>o79pns1qwo</td>\n",
              "      <td>GB</td>\n",
              "      <td>s0p322hh</td>\n",
              "      <td>GB</td>\n",
              "      <td>t50xe7moye8v</td>\n",
              "      <td>Tops - Mens</td>\n",
              "      <td>Berghaus</td>\n",
              "      <td>GBP</td>\n",
              "      <td>25.27</td>\n",
              "      <td>2020-08-09</td>\n",
              "    </tr>\n",
              "    <tr>\n",
              "      <th>4</th>\n",
              "      <td>o79pns1qwo</td>\n",
              "      <td>GB</td>\n",
              "      <td>dpkx192v</td>\n",
              "      <td>GB</td>\n",
              "      <td>hp4r9bjq68af</td>\n",
              "      <td>Bottoms - Womens</td>\n",
              "      <td>NaN</td>\n",
              "      <td>GBP</td>\n",
              "      <td>8.90</td>\n",
              "      <td>2020-08-09</td>\n",
              "    </tr>\n",
              "  </tbody>\n",
              "</table>\n",
              "</div>\n",
              "      <button class=\"colab-df-convert\" onclick=\"convertToInteractive('df-95eb0f60-92e5-472e-a4de-a3f717d946b1')\"\n",
              "              title=\"Convert this dataframe to an interactive table.\"\n",
              "              style=\"display:none;\">\n",
              "        \n",
              "  <svg xmlns=\"http://www.w3.org/2000/svg\" height=\"24px\"viewBox=\"0 0 24 24\"\n",
              "       width=\"24px\">\n",
              "    <path d=\"M0 0h24v24H0V0z\" fill=\"none\"/>\n",
              "    <path d=\"M18.56 5.44l.94 2.06.94-2.06 2.06-.94-2.06-.94-.94-2.06-.94 2.06-2.06.94zm-11 1L8.5 8.5l.94-2.06 2.06-.94-2.06-.94L8.5 2.5l-.94 2.06-2.06.94zm10 10l.94 2.06.94-2.06 2.06-.94-2.06-.94-.94-2.06-.94 2.06-2.06.94z\"/><path d=\"M17.41 7.96l-1.37-1.37c-.4-.4-.92-.59-1.43-.59-.52 0-1.04.2-1.43.59L10.3 9.45l-7.72 7.72c-.78.78-.78 2.05 0 2.83L4 21.41c.39.39.9.59 1.41.59.51 0 1.02-.2 1.41-.59l7.78-7.78 2.81-2.81c.8-.78.8-2.07 0-2.86zM5.41 20L4 18.59l7.72-7.72 1.47 1.35L5.41 20z\"/>\n",
              "  </svg>\n",
              "      </button>\n",
              "      \n",
              "  <style>\n",
              "    .colab-df-container {\n",
              "      display:flex;\n",
              "      flex-wrap:wrap;\n",
              "      gap: 12px;\n",
              "    }\n",
              "\n",
              "    .colab-df-convert {\n",
              "      background-color: #E8F0FE;\n",
              "      border: none;\n",
              "      border-radius: 50%;\n",
              "      cursor: pointer;\n",
              "      display: none;\n",
              "      fill: #1967D2;\n",
              "      height: 32px;\n",
              "      padding: 0 0 0 0;\n",
              "      width: 32px;\n",
              "    }\n",
              "\n",
              "    .colab-df-convert:hover {\n",
              "      background-color: #E2EBFA;\n",
              "      box-shadow: 0px 1px 2px rgba(60, 64, 67, 0.3), 0px 1px 3px 1px rgba(60, 64, 67, 0.15);\n",
              "      fill: #174EA6;\n",
              "    }\n",
              "\n",
              "    [theme=dark] .colab-df-convert {\n",
              "      background-color: #3B4455;\n",
              "      fill: #D2E3FC;\n",
              "    }\n",
              "\n",
              "    [theme=dark] .colab-df-convert:hover {\n",
              "      background-color: #434B5C;\n",
              "      box-shadow: 0px 1px 3px 1px rgba(0, 0, 0, 0.15);\n",
              "      filter: drop-shadow(0px 1px 2px rgba(0, 0, 0, 0.3));\n",
              "      fill: #FFFFFF;\n",
              "    }\n",
              "  </style>\n",
              "\n",
              "      <script>\n",
              "        const buttonEl =\n",
              "          document.querySelector('#df-95eb0f60-92e5-472e-a4de-a3f717d946b1 button.colab-df-convert');\n",
              "        buttonEl.style.display =\n",
              "          google.colab.kernel.accessAllowed ? 'block' : 'none';\n",
              "\n",
              "        async function convertToInteractive(key) {\n",
              "          const element = document.querySelector('#df-95eb0f60-92e5-472e-a4de-a3f717d946b1');\n",
              "          const dataTable =\n",
              "            await google.colab.kernel.invokeFunction('convertToInteractive',\n",
              "                                                     [key], {});\n",
              "          if (!dataTable) return;\n",
              "\n",
              "          const docLinkHtml = 'Like what you see? Visit the ' +\n",
              "            '<a target=\"_blank\" href=https://colab.research.google.com/notebooks/data_table.ipynb>data table notebook</a>'\n",
              "            + ' to learn more about interactive tables.';\n",
              "          element.innerHTML = '';\n",
              "          dataTable['output_type'] = 'display_data';\n",
              "          await google.colab.output.renderOutput(dataTable, element);\n",
              "          const docLink = document.createElement('div');\n",
              "          docLink.innerHTML = docLinkHtml;\n",
              "          element.appendChild(docLink);\n",
              "        }\n",
              "      </script>\n",
              "    </div>\n",
              "  </div>\n",
              "  "
            ]
          },
          "metadata": {},
          "execution_count": 16
        }
      ],
      "source": [
        "df_sales.head()"
      ]
    },
    {
      "cell_type": "code",
      "execution_count": 17,
      "id": "06baa352",
      "metadata": {
        "colab": {
          "base_uri": "https://localhost:8080/"
        },
        "id": "06baa352",
        "outputId": "53a9fc8e-2b83-4716-aab2-c0d2b8b91104"
      },
      "outputs": [
        {
          "output_type": "execute_result",
          "data": {
            "text/plain": [
              "114227"
            ]
          },
          "metadata": {},
          "execution_count": 17
        }
      ],
      "source": [
        "len(df_sales[\"seller_id\"].unique())"
      ]
    },
    {
      "cell_type": "code",
      "execution_count": 18,
      "id": "4e7a4cf0",
      "metadata": {
        "colab": {
          "base_uri": "https://localhost:8080/"
        },
        "id": "4e7a4cf0",
        "outputId": "68752d7c-7f5d-4782-f654-bcdf999cb5d1"
      },
      "outputs": [
        {
          "output_type": "execute_result",
          "data": {
            "text/plain": [
              "114227"
            ]
          },
          "metadata": {},
          "execution_count": 18
        }
      ],
      "source": [
        "df_sales[\"seller_id\"].nunique()"
      ]
    },
    {
      "cell_type": "code",
      "execution_count": 19,
      "id": "55958044",
      "metadata": {
        "colab": {
          "base_uri": "https://localhost:8080/"
        },
        "id": "55958044",
        "outputId": "58520e36-90f7-4a56-902b-7ba9f965e901"
      },
      "outputs": [
        {
          "output_type": "execute_result",
          "data": {
            "text/plain": [
              "array(['GBP', 'USD', 'AUD', 'EUR', 'CAD', 'NZD', 'HKD', 'CHF', 'SEK',\n",
              "       'DKK', 'ILS', 'PLN', 'THB', 'MXN', 'JPY', 'NOK', 'SGD', 'MYR',\n",
              "       'TWD', 'HUF', 'CZK', 'BRL'], dtype=object)"
            ]
          },
          "metadata": {},
          "execution_count": 19
        }
      ],
      "source": [
        "df_sales[\"currency\"].unique()"
      ]
    },
    {
      "cell_type": "code",
      "execution_count": 20,
      "id": "9b39c55e",
      "metadata": {
        "id": "9b39c55e"
      },
      "outputs": [],
      "source": [
        "df_sales1 = df_sales.copy()"
      ]
    },
    {
      "cell_type": "code",
      "execution_count": 21,
      "id": "2f21e47e",
      "metadata": {
        "id": "2f21e47e"
      },
      "outputs": [],
      "source": [
        "df_cur1 = df_cur.copy()"
      ]
    },
    {
      "cell_type": "code",
      "execution_count": 22,
      "id": "955b1987",
      "metadata": {
        "id": "955b1987"
      },
      "outputs": [],
      "source": [
        "df_sales1.date = pd.to_datetime(df_sales1.date)"
      ]
    },
    {
      "cell_type": "code",
      "execution_count": null,
      "id": "ba272720",
      "metadata": {
        "id": "ba272720",
        "outputId": "c53e80b1-e601-4b96-86b3-7ea080720d24"
      },
      "outputs": [
        {
          "name": "stdout",
          "output_type": "stream",
          "text": [
            "<class 'pandas.core.frame.DataFrame'>\n",
            "RangeIndex: 237671 entries, 0 to 237670\n",
            "Data columns (total 10 columns):\n",
            " #   Column          Non-Null Count   Dtype         \n",
            "---  ------          --------------   -----         \n",
            " 0   buyer_id        237671 non-null  object        \n",
            " 1   buyer_country   237671 non-null  object        \n",
            " 2   seller_id       237671 non-null  object        \n",
            " 3   seller_country  237671 non-null  object        \n",
            " 4   product_code    237671 non-null  object        \n",
            " 5   category        237655 non-null  object        \n",
            " 6   brand           119330 non-null  object        \n",
            " 7   currency        237671 non-null  object        \n",
            " 8   price           237671 non-null  float64       \n",
            " 9   date            237671 non-null  datetime64[ns]\n",
            "dtypes: datetime64[ns](1), float64(1), object(8)\n",
            "memory usage: 18.1+ MB\n"
          ]
        }
      ],
      "source": [
        "df_sales1.info()"
      ]
    },
    {
      "cell_type": "code",
      "execution_count": 23,
      "id": "cb3add55",
      "metadata": {
        "id": "cb3add55"
      },
      "outputs": [],
      "source": [
        "df_cur1.date = pd.to_datetime(df_cur1.date)"
      ]
    },
    {
      "cell_type": "code",
      "execution_count": 24,
      "id": "c5741b73",
      "metadata": {
        "colab": {
          "base_uri": "https://localhost:8080/"
        },
        "id": "c5741b73",
        "outputId": "3a8cdca6-f908-42a5-f4d7-330cd21b1026"
      },
      "outputs": [
        {
          "output_type": "stream",
          "name": "stdout",
          "text": [
            "<class 'pandas.core.frame.DataFrame'>\n",
            "RangeIndex: 220 entries, 0 to 219\n",
            "Data columns (total 3 columns):\n",
            " #   Column    Non-Null Count  Dtype         \n",
            "---  ------    --------------  -----         \n",
            " 0   currency  220 non-null    object        \n",
            " 1   date      220 non-null    datetime64[ns]\n",
            " 2   rate      220 non-null    float64       \n",
            "dtypes: datetime64[ns](1), float64(1), object(1)\n",
            "memory usage: 5.3+ KB\n"
          ]
        }
      ],
      "source": [
        "df_cur1.info()"
      ]
    },
    {
      "cell_type": "code",
      "execution_count": 26,
      "id": "708c6f70",
      "metadata": {
        "colab": {
          "base_uri": "https://localhost:8080/",
          "height": 337
        },
        "id": "708c6f70",
        "outputId": "74549bb1-8006-45e1-84a2-c48c77c81ea9"
      },
      "outputs": [
        {
          "output_type": "execute_result",
          "data": {
            "text/plain": [
              "     buyer_id buyer_country seller_id seller_country  product_code  \\\n",
              "0  qzpjsi9t0o            GB  6oufpaot             GB  ydecnydr6obf   \n",
              "1  rd209r8c7c            GB  9p2ansc9             GB  wpxxf59cq7pc   \n",
              "2  pqbcrl8azx            GB  r9zmzem8             GB  ua9mmn86wsqy   \n",
              "3  j5en1rwmxp            GB  3o2nz88r             GB  tduo2uy8iszl   \n",
              "4  kjdezxeh1l            GB  7g56ublf             GB  39o00tcu89zq   \n",
              "\n",
              "           category             brand currency  price       date     rate  \n",
              "0           Dresses               NaN      GBP  19.11 2020-08-03  0.89935  \n",
              "1  Outerwear - Mens  Adidas Originals      GBP  24.91 2020-08-03  0.89935  \n",
              "2     Tops - Womens               NaN      GBP  19.31 2020-08-03  0.89935  \n",
              "3  Bottoms - Womens  Urban Outfitters      GBP  16.98 2020-08-03  0.89935  \n",
              "4             Other               NaN      GBP   2.85 2020-08-03  0.89935  "
            ],
            "text/html": [
              "\n",
              "  <div id=\"df-35e7c5d0-e2ef-47b0-a6de-65ca30ffeabd\">\n",
              "    <div class=\"colab-df-container\">\n",
              "      <div>\n",
              "<style scoped>\n",
              "    .dataframe tbody tr th:only-of-type {\n",
              "        vertical-align: middle;\n",
              "    }\n",
              "\n",
              "    .dataframe tbody tr th {\n",
              "        vertical-align: top;\n",
              "    }\n",
              "\n",
              "    .dataframe thead th {\n",
              "        text-align: right;\n",
              "    }\n",
              "</style>\n",
              "<table border=\"1\" class=\"dataframe\">\n",
              "  <thead>\n",
              "    <tr style=\"text-align: right;\">\n",
              "      <th></th>\n",
              "      <th>buyer_id</th>\n",
              "      <th>buyer_country</th>\n",
              "      <th>seller_id</th>\n",
              "      <th>seller_country</th>\n",
              "      <th>product_code</th>\n",
              "      <th>category</th>\n",
              "      <th>brand</th>\n",
              "      <th>currency</th>\n",
              "      <th>price</th>\n",
              "      <th>date</th>\n",
              "      <th>rate</th>\n",
              "    </tr>\n",
              "  </thead>\n",
              "  <tbody>\n",
              "    <tr>\n",
              "      <th>0</th>\n",
              "      <td>qzpjsi9t0o</td>\n",
              "      <td>GB</td>\n",
              "      <td>6oufpaot</td>\n",
              "      <td>GB</td>\n",
              "      <td>ydecnydr6obf</td>\n",
              "      <td>Dresses</td>\n",
              "      <td>NaN</td>\n",
              "      <td>GBP</td>\n",
              "      <td>19.11</td>\n",
              "      <td>2020-08-03</td>\n",
              "      <td>0.89935</td>\n",
              "    </tr>\n",
              "    <tr>\n",
              "      <th>1</th>\n",
              "      <td>rd209r8c7c</td>\n",
              "      <td>GB</td>\n",
              "      <td>9p2ansc9</td>\n",
              "      <td>GB</td>\n",
              "      <td>wpxxf59cq7pc</td>\n",
              "      <td>Outerwear - Mens</td>\n",
              "      <td>Adidas Originals</td>\n",
              "      <td>GBP</td>\n",
              "      <td>24.91</td>\n",
              "      <td>2020-08-03</td>\n",
              "      <td>0.89935</td>\n",
              "    </tr>\n",
              "    <tr>\n",
              "      <th>2</th>\n",
              "      <td>pqbcrl8azx</td>\n",
              "      <td>GB</td>\n",
              "      <td>r9zmzem8</td>\n",
              "      <td>GB</td>\n",
              "      <td>ua9mmn86wsqy</td>\n",
              "      <td>Tops - Womens</td>\n",
              "      <td>NaN</td>\n",
              "      <td>GBP</td>\n",
              "      <td>19.31</td>\n",
              "      <td>2020-08-03</td>\n",
              "      <td>0.89935</td>\n",
              "    </tr>\n",
              "    <tr>\n",
              "      <th>3</th>\n",
              "      <td>j5en1rwmxp</td>\n",
              "      <td>GB</td>\n",
              "      <td>3o2nz88r</td>\n",
              "      <td>GB</td>\n",
              "      <td>tduo2uy8iszl</td>\n",
              "      <td>Bottoms - Womens</td>\n",
              "      <td>Urban Outfitters</td>\n",
              "      <td>GBP</td>\n",
              "      <td>16.98</td>\n",
              "      <td>2020-08-03</td>\n",
              "      <td>0.89935</td>\n",
              "    </tr>\n",
              "    <tr>\n",
              "      <th>4</th>\n",
              "      <td>kjdezxeh1l</td>\n",
              "      <td>GB</td>\n",
              "      <td>7g56ublf</td>\n",
              "      <td>GB</td>\n",
              "      <td>39o00tcu89zq</td>\n",
              "      <td>Other</td>\n",
              "      <td>NaN</td>\n",
              "      <td>GBP</td>\n",
              "      <td>2.85</td>\n",
              "      <td>2020-08-03</td>\n",
              "      <td>0.89935</td>\n",
              "    </tr>\n",
              "  </tbody>\n",
              "</table>\n",
              "</div>\n",
              "      <button class=\"colab-df-convert\" onclick=\"convertToInteractive('df-35e7c5d0-e2ef-47b0-a6de-65ca30ffeabd')\"\n",
              "              title=\"Convert this dataframe to an interactive table.\"\n",
              "              style=\"display:none;\">\n",
              "        \n",
              "  <svg xmlns=\"http://www.w3.org/2000/svg\" height=\"24px\"viewBox=\"0 0 24 24\"\n",
              "       width=\"24px\">\n",
              "    <path d=\"M0 0h24v24H0V0z\" fill=\"none\"/>\n",
              "    <path d=\"M18.56 5.44l.94 2.06.94-2.06 2.06-.94-2.06-.94-.94-2.06-.94 2.06-2.06.94zm-11 1L8.5 8.5l.94-2.06 2.06-.94-2.06-.94L8.5 2.5l-.94 2.06-2.06.94zm10 10l.94 2.06.94-2.06 2.06-.94-2.06-.94-.94-2.06-.94 2.06-2.06.94z\"/><path d=\"M17.41 7.96l-1.37-1.37c-.4-.4-.92-.59-1.43-.59-.52 0-1.04.2-1.43.59L10.3 9.45l-7.72 7.72c-.78.78-.78 2.05 0 2.83L4 21.41c.39.39.9.59 1.41.59.51 0 1.02-.2 1.41-.59l7.78-7.78 2.81-2.81c.8-.78.8-2.07 0-2.86zM5.41 20L4 18.59l7.72-7.72 1.47 1.35L5.41 20z\"/>\n",
              "  </svg>\n",
              "      </button>\n",
              "      \n",
              "  <style>\n",
              "    .colab-df-container {\n",
              "      display:flex;\n",
              "      flex-wrap:wrap;\n",
              "      gap: 12px;\n",
              "    }\n",
              "\n",
              "    .colab-df-convert {\n",
              "      background-color: #E8F0FE;\n",
              "      border: none;\n",
              "      border-radius: 50%;\n",
              "      cursor: pointer;\n",
              "      display: none;\n",
              "      fill: #1967D2;\n",
              "      height: 32px;\n",
              "      padding: 0 0 0 0;\n",
              "      width: 32px;\n",
              "    }\n",
              "\n",
              "    .colab-df-convert:hover {\n",
              "      background-color: #E2EBFA;\n",
              "      box-shadow: 0px 1px 2px rgba(60, 64, 67, 0.3), 0px 1px 3px 1px rgba(60, 64, 67, 0.15);\n",
              "      fill: #174EA6;\n",
              "    }\n",
              "\n",
              "    [theme=dark] .colab-df-convert {\n",
              "      background-color: #3B4455;\n",
              "      fill: #D2E3FC;\n",
              "    }\n",
              "\n",
              "    [theme=dark] .colab-df-convert:hover {\n",
              "      background-color: #434B5C;\n",
              "      box-shadow: 0px 1px 3px 1px rgba(0, 0, 0, 0.15);\n",
              "      filter: drop-shadow(0px 1px 2px rgba(0, 0, 0, 0.3));\n",
              "      fill: #FFFFFF;\n",
              "    }\n",
              "  </style>\n",
              "\n",
              "      <script>\n",
              "        const buttonEl =\n",
              "          document.querySelector('#df-35e7c5d0-e2ef-47b0-a6de-65ca30ffeabd button.colab-df-convert');\n",
              "        buttonEl.style.display =\n",
              "          google.colab.kernel.accessAllowed ? 'block' : 'none';\n",
              "\n",
              "        async function convertToInteractive(key) {\n",
              "          const element = document.querySelector('#df-35e7c5d0-e2ef-47b0-a6de-65ca30ffeabd');\n",
              "          const dataTable =\n",
              "            await google.colab.kernel.invokeFunction('convertToInteractive',\n",
              "                                                     [key], {});\n",
              "          if (!dataTable) return;\n",
              "\n",
              "          const docLinkHtml = 'Like what you see? Visit the ' +\n",
              "            '<a target=\"_blank\" href=https://colab.research.google.com/notebooks/data_table.ipynb>data table notebook</a>'\n",
              "            + ' to learn more about interactive tables.';\n",
              "          element.innerHTML = '';\n",
              "          dataTable['output_type'] = 'display_data';\n",
              "          await google.colab.output.renderOutput(dataTable, element);\n",
              "          const docLink = document.createElement('div');\n",
              "          docLink.innerHTML = docLinkHtml;\n",
              "          element.appendChild(docLink);\n",
              "        }\n",
              "      </script>\n",
              "    </div>\n",
              "  </div>\n",
              "  "
            ]
          },
          "metadata": {},
          "execution_count": 26
        }
      ],
      "source": [
        "df_new = pd.merge(df_sales1, df_cur1, how=\"inner\", on=[\"currency\", \"date\"])\n",
        "df_new.head()"
      ]
    },
    {
      "cell_type": "code",
      "execution_count": 27,
      "id": "9b54a562",
      "metadata": {
        "colab": {
          "base_uri": "https://localhost:8080/",
          "height": 580
        },
        "id": "9b54a562",
        "outputId": "1b64f6a2-43ff-4e3b-ae23-1b14580e53bb"
      },
      "outputs": [
        {
          "output_type": "execute_result",
          "data": {
            "text/plain": [
              "          buyer_id buyer_country seller_id seller_country  product_code  \\\n",
              "123112  lcc8mj5sgn            US  ctrwmv9z             US  n10erxqzgvwe   \n",
              "182460  megsi2djzq            US  t8qh318a             US  xxnnnvjac3wt   \n",
              "61611   jso0qv9qke            GB  wkdebbzi             GB  xzvfz7wvyfr1   \n",
              "230794  grebkoypnz            US  ggbzhqym            RoW  qnlgua04w7pz   \n",
              "196488  5akwtmb4oo            US  27tqsza8             US  qk06xa7bic8g   \n",
              "50661   alzfn89g1b            GB  t36i6njc             GB  cnoh4gefjj2f   \n",
              "217928  1zvzytvr11            US  ciy5rr3n             US  uzog3tjo4dck   \n",
              "197320  45i82rhl24            US  z9hspiwl             US  9yttfqkspovf   \n",
              "49767   y58evcwoc0            GB  eac8xqad             GB  3rpyrk0jse7t   \n",
              "44503   y9vjp7qrav            GB  3mk88mby             GB  ufr8pkmdcnpj   \n",
              "\n",
              "             category              brand currency   price       date      rate  \n",
              "123112    Tops - Mens          Off-White      USD  288.87 2020-08-03  1.176250  \n",
              "182460  Tops - Womens    Brandy Melville      USD   19.14 2020-08-08  1.178700  \n",
              "61611   Tops - Womens                NaN      GBP   10.56 2020-08-07  0.902860  \n",
              "230794          Shoes                NaN      EUR   90.74 2020-08-09  1.000000  \n",
              "196488          Shoes           Converse      USD   75.96 2020-08-04  1.181445  \n",
              "50661   Tops - Womens                NaN      GBP   19.92 2020-08-07  0.902860  \n",
              "217928        Dresses  For Love & Lemons      USD  248.59 2020-08-07  1.178785  \n",
              "197320        Dresses                NaN      USD   18.45 2020-08-04  1.181445  \n",
              "49767   Tops - Womens         Missguided      GBP    8.45 2020-08-07  0.902860  \n",
              "44503       Jewellery                NaN      GBP    2.24 2020-08-07  0.902860  "
            ],
            "text/html": [
              "\n",
              "  <div id=\"df-0c2c8720-b6ca-4f3b-a85d-aa928155480b\">\n",
              "    <div class=\"colab-df-container\">\n",
              "      <div>\n",
              "<style scoped>\n",
              "    .dataframe tbody tr th:only-of-type {\n",
              "        vertical-align: middle;\n",
              "    }\n",
              "\n",
              "    .dataframe tbody tr th {\n",
              "        vertical-align: top;\n",
              "    }\n",
              "\n",
              "    .dataframe thead th {\n",
              "        text-align: right;\n",
              "    }\n",
              "</style>\n",
              "<table border=\"1\" class=\"dataframe\">\n",
              "  <thead>\n",
              "    <tr style=\"text-align: right;\">\n",
              "      <th></th>\n",
              "      <th>buyer_id</th>\n",
              "      <th>buyer_country</th>\n",
              "      <th>seller_id</th>\n",
              "      <th>seller_country</th>\n",
              "      <th>product_code</th>\n",
              "      <th>category</th>\n",
              "      <th>brand</th>\n",
              "      <th>currency</th>\n",
              "      <th>price</th>\n",
              "      <th>date</th>\n",
              "      <th>rate</th>\n",
              "    </tr>\n",
              "  </thead>\n",
              "  <tbody>\n",
              "    <tr>\n",
              "      <th>123112</th>\n",
              "      <td>lcc8mj5sgn</td>\n",
              "      <td>US</td>\n",
              "      <td>ctrwmv9z</td>\n",
              "      <td>US</td>\n",
              "      <td>n10erxqzgvwe</td>\n",
              "      <td>Tops - Mens</td>\n",
              "      <td>Off-White</td>\n",
              "      <td>USD</td>\n",
              "      <td>288.87</td>\n",
              "      <td>2020-08-03</td>\n",
              "      <td>1.176250</td>\n",
              "    </tr>\n",
              "    <tr>\n",
              "      <th>182460</th>\n",
              "      <td>megsi2djzq</td>\n",
              "      <td>US</td>\n",
              "      <td>t8qh318a</td>\n",
              "      <td>US</td>\n",
              "      <td>xxnnnvjac3wt</td>\n",
              "      <td>Tops - Womens</td>\n",
              "      <td>Brandy Melville</td>\n",
              "      <td>USD</td>\n",
              "      <td>19.14</td>\n",
              "      <td>2020-08-08</td>\n",
              "      <td>1.178700</td>\n",
              "    </tr>\n",
              "    <tr>\n",
              "      <th>61611</th>\n",
              "      <td>jso0qv9qke</td>\n",
              "      <td>GB</td>\n",
              "      <td>wkdebbzi</td>\n",
              "      <td>GB</td>\n",
              "      <td>xzvfz7wvyfr1</td>\n",
              "      <td>Tops - Womens</td>\n",
              "      <td>NaN</td>\n",
              "      <td>GBP</td>\n",
              "      <td>10.56</td>\n",
              "      <td>2020-08-07</td>\n",
              "      <td>0.902860</td>\n",
              "    </tr>\n",
              "    <tr>\n",
              "      <th>230794</th>\n",
              "      <td>grebkoypnz</td>\n",
              "      <td>US</td>\n",
              "      <td>ggbzhqym</td>\n",
              "      <td>RoW</td>\n",
              "      <td>qnlgua04w7pz</td>\n",
              "      <td>Shoes</td>\n",
              "      <td>NaN</td>\n",
              "      <td>EUR</td>\n",
              "      <td>90.74</td>\n",
              "      <td>2020-08-09</td>\n",
              "      <td>1.000000</td>\n",
              "    </tr>\n",
              "    <tr>\n",
              "      <th>196488</th>\n",
              "      <td>5akwtmb4oo</td>\n",
              "      <td>US</td>\n",
              "      <td>27tqsza8</td>\n",
              "      <td>US</td>\n",
              "      <td>qk06xa7bic8g</td>\n",
              "      <td>Shoes</td>\n",
              "      <td>Converse</td>\n",
              "      <td>USD</td>\n",
              "      <td>75.96</td>\n",
              "      <td>2020-08-04</td>\n",
              "      <td>1.181445</td>\n",
              "    </tr>\n",
              "    <tr>\n",
              "      <th>50661</th>\n",
              "      <td>alzfn89g1b</td>\n",
              "      <td>GB</td>\n",
              "      <td>t36i6njc</td>\n",
              "      <td>GB</td>\n",
              "      <td>cnoh4gefjj2f</td>\n",
              "      <td>Tops - Womens</td>\n",
              "      <td>NaN</td>\n",
              "      <td>GBP</td>\n",
              "      <td>19.92</td>\n",
              "      <td>2020-08-07</td>\n",
              "      <td>0.902860</td>\n",
              "    </tr>\n",
              "    <tr>\n",
              "      <th>217928</th>\n",
              "      <td>1zvzytvr11</td>\n",
              "      <td>US</td>\n",
              "      <td>ciy5rr3n</td>\n",
              "      <td>US</td>\n",
              "      <td>uzog3tjo4dck</td>\n",
              "      <td>Dresses</td>\n",
              "      <td>For Love &amp; Lemons</td>\n",
              "      <td>USD</td>\n",
              "      <td>248.59</td>\n",
              "      <td>2020-08-07</td>\n",
              "      <td>1.178785</td>\n",
              "    </tr>\n",
              "    <tr>\n",
              "      <th>197320</th>\n",
              "      <td>45i82rhl24</td>\n",
              "      <td>US</td>\n",
              "      <td>z9hspiwl</td>\n",
              "      <td>US</td>\n",
              "      <td>9yttfqkspovf</td>\n",
              "      <td>Dresses</td>\n",
              "      <td>NaN</td>\n",
              "      <td>USD</td>\n",
              "      <td>18.45</td>\n",
              "      <td>2020-08-04</td>\n",
              "      <td>1.181445</td>\n",
              "    </tr>\n",
              "    <tr>\n",
              "      <th>49767</th>\n",
              "      <td>y58evcwoc0</td>\n",
              "      <td>GB</td>\n",
              "      <td>eac8xqad</td>\n",
              "      <td>GB</td>\n",
              "      <td>3rpyrk0jse7t</td>\n",
              "      <td>Tops - Womens</td>\n",
              "      <td>Missguided</td>\n",
              "      <td>GBP</td>\n",
              "      <td>8.45</td>\n",
              "      <td>2020-08-07</td>\n",
              "      <td>0.902860</td>\n",
              "    </tr>\n",
              "    <tr>\n",
              "      <th>44503</th>\n",
              "      <td>y9vjp7qrav</td>\n",
              "      <td>GB</td>\n",
              "      <td>3mk88mby</td>\n",
              "      <td>GB</td>\n",
              "      <td>ufr8pkmdcnpj</td>\n",
              "      <td>Jewellery</td>\n",
              "      <td>NaN</td>\n",
              "      <td>GBP</td>\n",
              "      <td>2.24</td>\n",
              "      <td>2020-08-07</td>\n",
              "      <td>0.902860</td>\n",
              "    </tr>\n",
              "  </tbody>\n",
              "</table>\n",
              "</div>\n",
              "      <button class=\"colab-df-convert\" onclick=\"convertToInteractive('df-0c2c8720-b6ca-4f3b-a85d-aa928155480b')\"\n",
              "              title=\"Convert this dataframe to an interactive table.\"\n",
              "              style=\"display:none;\">\n",
              "        \n",
              "  <svg xmlns=\"http://www.w3.org/2000/svg\" height=\"24px\"viewBox=\"0 0 24 24\"\n",
              "       width=\"24px\">\n",
              "    <path d=\"M0 0h24v24H0V0z\" fill=\"none\"/>\n",
              "    <path d=\"M18.56 5.44l.94 2.06.94-2.06 2.06-.94-2.06-.94-.94-2.06-.94 2.06-2.06.94zm-11 1L8.5 8.5l.94-2.06 2.06-.94-2.06-.94L8.5 2.5l-.94 2.06-2.06.94zm10 10l.94 2.06.94-2.06 2.06-.94-2.06-.94-.94-2.06-.94 2.06-2.06.94z\"/><path d=\"M17.41 7.96l-1.37-1.37c-.4-.4-.92-.59-1.43-.59-.52 0-1.04.2-1.43.59L10.3 9.45l-7.72 7.72c-.78.78-.78 2.05 0 2.83L4 21.41c.39.39.9.59 1.41.59.51 0 1.02-.2 1.41-.59l7.78-7.78 2.81-2.81c.8-.78.8-2.07 0-2.86zM5.41 20L4 18.59l7.72-7.72 1.47 1.35L5.41 20z\"/>\n",
              "  </svg>\n",
              "      </button>\n",
              "      \n",
              "  <style>\n",
              "    .colab-df-container {\n",
              "      display:flex;\n",
              "      flex-wrap:wrap;\n",
              "      gap: 12px;\n",
              "    }\n",
              "\n",
              "    .colab-df-convert {\n",
              "      background-color: #E8F0FE;\n",
              "      border: none;\n",
              "      border-radius: 50%;\n",
              "      cursor: pointer;\n",
              "      display: none;\n",
              "      fill: #1967D2;\n",
              "      height: 32px;\n",
              "      padding: 0 0 0 0;\n",
              "      width: 32px;\n",
              "    }\n",
              "\n",
              "    .colab-df-convert:hover {\n",
              "      background-color: #E2EBFA;\n",
              "      box-shadow: 0px 1px 2px rgba(60, 64, 67, 0.3), 0px 1px 3px 1px rgba(60, 64, 67, 0.15);\n",
              "      fill: #174EA6;\n",
              "    }\n",
              "\n",
              "    [theme=dark] .colab-df-convert {\n",
              "      background-color: #3B4455;\n",
              "      fill: #D2E3FC;\n",
              "    }\n",
              "\n",
              "    [theme=dark] .colab-df-convert:hover {\n",
              "      background-color: #434B5C;\n",
              "      box-shadow: 0px 1px 3px 1px rgba(0, 0, 0, 0.15);\n",
              "      filter: drop-shadow(0px 1px 2px rgba(0, 0, 0, 0.3));\n",
              "      fill: #FFFFFF;\n",
              "    }\n",
              "  </style>\n",
              "\n",
              "      <script>\n",
              "        const buttonEl =\n",
              "          document.querySelector('#df-0c2c8720-b6ca-4f3b-a85d-aa928155480b button.colab-df-convert');\n",
              "        buttonEl.style.display =\n",
              "          google.colab.kernel.accessAllowed ? 'block' : 'none';\n",
              "\n",
              "        async function convertToInteractive(key) {\n",
              "          const element = document.querySelector('#df-0c2c8720-b6ca-4f3b-a85d-aa928155480b');\n",
              "          const dataTable =\n",
              "            await google.colab.kernel.invokeFunction('convertToInteractive',\n",
              "                                                     [key], {});\n",
              "          if (!dataTable) return;\n",
              "\n",
              "          const docLinkHtml = 'Like what you see? Visit the ' +\n",
              "            '<a target=\"_blank\" href=https://colab.research.google.com/notebooks/data_table.ipynb>data table notebook</a>'\n",
              "            + ' to learn more about interactive tables.';\n",
              "          element.innerHTML = '';\n",
              "          dataTable['output_type'] = 'display_data';\n",
              "          await google.colab.output.renderOutput(dataTable, element);\n",
              "          const docLink = document.createElement('div');\n",
              "          docLink.innerHTML = docLinkHtml;\n",
              "          element.appendChild(docLink);\n",
              "        }\n",
              "      </script>\n",
              "    </div>\n",
              "  </div>\n",
              "  "
            ]
          },
          "metadata": {},
          "execution_count": 27
        }
      ],
      "source": [
        "df_new.sample(10)"
      ]
    },
    {
      "cell_type": "code",
      "execution_count": 28,
      "id": "095acfa3",
      "metadata": {
        "colab": {
          "base_uri": "https://localhost:8080/",
          "height": 337
        },
        "id": "095acfa3",
        "outputId": "7aa973c1-6669-446c-f094-767d9121f05d"
      },
      "outputs": [
        {
          "output_type": "execute_result",
          "data": {
            "text/plain": [
              "     buyer_id buyer_country seller_id seller_country  product_code  \\\n",
              "0  qzpjsi9t0o            GB  6oufpaot             GB  ydecnydr6obf   \n",
              "1  rd209r8c7c            GB  9p2ansc9             GB  wpxxf59cq7pc   \n",
              "2  pqbcrl8azx            GB  r9zmzem8             GB  ua9mmn86wsqy   \n",
              "3  j5en1rwmxp            GB  3o2nz88r             GB  tduo2uy8iszl   \n",
              "4  kjdezxeh1l            GB  7g56ublf             GB  39o00tcu89zq   \n",
              "\n",
              "           category             brand currency  price       date     rate  \\\n",
              "0           Dresses               NaN      GBP  19.11 2020-08-03  0.89935   \n",
              "1  Outerwear - Mens  Adidas Originals      GBP  24.91 2020-08-03  0.89935   \n",
              "2     Tops - Womens               NaN      GBP  19.31 2020-08-03  0.89935   \n",
              "3  Bottoms - Womens  Urban Outfitters      GBP  16.98 2020-08-03  0.89935   \n",
              "4             Other               NaN      GBP   2.85 2020-08-03  0.89935   \n",
              "\n",
              "       total  \n",
              "0  21.248680  \n",
              "1  27.697782  \n",
              "2  21.471062  \n",
              "3  18.880302  \n",
              "4   3.168955  "
            ],
            "text/html": [
              "\n",
              "  <div id=\"df-cbbaca56-210d-41b3-b0c3-bde398fc69f6\">\n",
              "    <div class=\"colab-df-container\">\n",
              "      <div>\n",
              "<style scoped>\n",
              "    .dataframe tbody tr th:only-of-type {\n",
              "        vertical-align: middle;\n",
              "    }\n",
              "\n",
              "    .dataframe tbody tr th {\n",
              "        vertical-align: top;\n",
              "    }\n",
              "\n",
              "    .dataframe thead th {\n",
              "        text-align: right;\n",
              "    }\n",
              "</style>\n",
              "<table border=\"1\" class=\"dataframe\">\n",
              "  <thead>\n",
              "    <tr style=\"text-align: right;\">\n",
              "      <th></th>\n",
              "      <th>buyer_id</th>\n",
              "      <th>buyer_country</th>\n",
              "      <th>seller_id</th>\n",
              "      <th>seller_country</th>\n",
              "      <th>product_code</th>\n",
              "      <th>category</th>\n",
              "      <th>brand</th>\n",
              "      <th>currency</th>\n",
              "      <th>price</th>\n",
              "      <th>date</th>\n",
              "      <th>rate</th>\n",
              "      <th>total</th>\n",
              "    </tr>\n",
              "  </thead>\n",
              "  <tbody>\n",
              "    <tr>\n",
              "      <th>0</th>\n",
              "      <td>qzpjsi9t0o</td>\n",
              "      <td>GB</td>\n",
              "      <td>6oufpaot</td>\n",
              "      <td>GB</td>\n",
              "      <td>ydecnydr6obf</td>\n",
              "      <td>Dresses</td>\n",
              "      <td>NaN</td>\n",
              "      <td>GBP</td>\n",
              "      <td>19.11</td>\n",
              "      <td>2020-08-03</td>\n",
              "      <td>0.89935</td>\n",
              "      <td>21.248680</td>\n",
              "    </tr>\n",
              "    <tr>\n",
              "      <th>1</th>\n",
              "      <td>rd209r8c7c</td>\n",
              "      <td>GB</td>\n",
              "      <td>9p2ansc9</td>\n",
              "      <td>GB</td>\n",
              "      <td>wpxxf59cq7pc</td>\n",
              "      <td>Outerwear - Mens</td>\n",
              "      <td>Adidas Originals</td>\n",
              "      <td>GBP</td>\n",
              "      <td>24.91</td>\n",
              "      <td>2020-08-03</td>\n",
              "      <td>0.89935</td>\n",
              "      <td>27.697782</td>\n",
              "    </tr>\n",
              "    <tr>\n",
              "      <th>2</th>\n",
              "      <td>pqbcrl8azx</td>\n",
              "      <td>GB</td>\n",
              "      <td>r9zmzem8</td>\n",
              "      <td>GB</td>\n",
              "      <td>ua9mmn86wsqy</td>\n",
              "      <td>Tops - Womens</td>\n",
              "      <td>NaN</td>\n",
              "      <td>GBP</td>\n",
              "      <td>19.31</td>\n",
              "      <td>2020-08-03</td>\n",
              "      <td>0.89935</td>\n",
              "      <td>21.471062</td>\n",
              "    </tr>\n",
              "    <tr>\n",
              "      <th>3</th>\n",
              "      <td>j5en1rwmxp</td>\n",
              "      <td>GB</td>\n",
              "      <td>3o2nz88r</td>\n",
              "      <td>GB</td>\n",
              "      <td>tduo2uy8iszl</td>\n",
              "      <td>Bottoms - Womens</td>\n",
              "      <td>Urban Outfitters</td>\n",
              "      <td>GBP</td>\n",
              "      <td>16.98</td>\n",
              "      <td>2020-08-03</td>\n",
              "      <td>0.89935</td>\n",
              "      <td>18.880302</td>\n",
              "    </tr>\n",
              "    <tr>\n",
              "      <th>4</th>\n",
              "      <td>kjdezxeh1l</td>\n",
              "      <td>GB</td>\n",
              "      <td>7g56ublf</td>\n",
              "      <td>GB</td>\n",
              "      <td>39o00tcu89zq</td>\n",
              "      <td>Other</td>\n",
              "      <td>NaN</td>\n",
              "      <td>GBP</td>\n",
              "      <td>2.85</td>\n",
              "      <td>2020-08-03</td>\n",
              "      <td>0.89935</td>\n",
              "      <td>3.168955</td>\n",
              "    </tr>\n",
              "  </tbody>\n",
              "</table>\n",
              "</div>\n",
              "      <button class=\"colab-df-convert\" onclick=\"convertToInteractive('df-cbbaca56-210d-41b3-b0c3-bde398fc69f6')\"\n",
              "              title=\"Convert this dataframe to an interactive table.\"\n",
              "              style=\"display:none;\">\n",
              "        \n",
              "  <svg xmlns=\"http://www.w3.org/2000/svg\" height=\"24px\"viewBox=\"0 0 24 24\"\n",
              "       width=\"24px\">\n",
              "    <path d=\"M0 0h24v24H0V0z\" fill=\"none\"/>\n",
              "    <path d=\"M18.56 5.44l.94 2.06.94-2.06 2.06-.94-2.06-.94-.94-2.06-.94 2.06-2.06.94zm-11 1L8.5 8.5l.94-2.06 2.06-.94-2.06-.94L8.5 2.5l-.94 2.06-2.06.94zm10 10l.94 2.06.94-2.06 2.06-.94-2.06-.94-.94-2.06-.94 2.06-2.06.94z\"/><path d=\"M17.41 7.96l-1.37-1.37c-.4-.4-.92-.59-1.43-.59-.52 0-1.04.2-1.43.59L10.3 9.45l-7.72 7.72c-.78.78-.78 2.05 0 2.83L4 21.41c.39.39.9.59 1.41.59.51 0 1.02-.2 1.41-.59l7.78-7.78 2.81-2.81c.8-.78.8-2.07 0-2.86zM5.41 20L4 18.59l7.72-7.72 1.47 1.35L5.41 20z\"/>\n",
              "  </svg>\n",
              "      </button>\n",
              "      \n",
              "  <style>\n",
              "    .colab-df-container {\n",
              "      display:flex;\n",
              "      flex-wrap:wrap;\n",
              "      gap: 12px;\n",
              "    }\n",
              "\n",
              "    .colab-df-convert {\n",
              "      background-color: #E8F0FE;\n",
              "      border: none;\n",
              "      border-radius: 50%;\n",
              "      cursor: pointer;\n",
              "      display: none;\n",
              "      fill: #1967D2;\n",
              "      height: 32px;\n",
              "      padding: 0 0 0 0;\n",
              "      width: 32px;\n",
              "    }\n",
              "\n",
              "    .colab-df-convert:hover {\n",
              "      background-color: #E2EBFA;\n",
              "      box-shadow: 0px 1px 2px rgba(60, 64, 67, 0.3), 0px 1px 3px 1px rgba(60, 64, 67, 0.15);\n",
              "      fill: #174EA6;\n",
              "    }\n",
              "\n",
              "    [theme=dark] .colab-df-convert {\n",
              "      background-color: #3B4455;\n",
              "      fill: #D2E3FC;\n",
              "    }\n",
              "\n",
              "    [theme=dark] .colab-df-convert:hover {\n",
              "      background-color: #434B5C;\n",
              "      box-shadow: 0px 1px 3px 1px rgba(0, 0, 0, 0.15);\n",
              "      filter: drop-shadow(0px 1px 2px rgba(0, 0, 0, 0.3));\n",
              "      fill: #FFFFFF;\n",
              "    }\n",
              "  </style>\n",
              "\n",
              "      <script>\n",
              "        const buttonEl =\n",
              "          document.querySelector('#df-cbbaca56-210d-41b3-b0c3-bde398fc69f6 button.colab-df-convert');\n",
              "        buttonEl.style.display =\n",
              "          google.colab.kernel.accessAllowed ? 'block' : 'none';\n",
              "\n",
              "        async function convertToInteractive(key) {\n",
              "          const element = document.querySelector('#df-cbbaca56-210d-41b3-b0c3-bde398fc69f6');\n",
              "          const dataTable =\n",
              "            await google.colab.kernel.invokeFunction('convertToInteractive',\n",
              "                                                     [key], {});\n",
              "          if (!dataTable) return;\n",
              "\n",
              "          const docLinkHtml = 'Like what you see? Visit the ' +\n",
              "            '<a target=\"_blank\" href=https://colab.research.google.com/notebooks/data_table.ipynb>data table notebook</a>'\n",
              "            + ' to learn more about interactive tables.';\n",
              "          element.innerHTML = '';\n",
              "          dataTable['output_type'] = 'display_data';\n",
              "          await google.colab.output.renderOutput(dataTable, element);\n",
              "          const docLink = document.createElement('div');\n",
              "          docLink.innerHTML = docLinkHtml;\n",
              "          element.appendChild(docLink);\n",
              "        }\n",
              "      </script>\n",
              "    </div>\n",
              "  </div>\n",
              "  "
            ]
          },
          "metadata": {},
          "execution_count": 28
        }
      ],
      "source": [
        "df_new[\"total\"] = df_new.price / df_new[\"rate\"]\n",
        "\n",
        "df_new.head()"
      ]
    },
    {
      "cell_type": "code",
      "execution_count": 31,
      "id": "add796b4",
      "metadata": {
        "colab": {
          "base_uri": "https://localhost:8080/"
        },
        "id": "add796b4",
        "outputId": "cc6ad7a9-34e6-43e1-f840-4cb443a6ffce"
      },
      "outputs": [
        {
          "output_type": "execute_result",
          "data": {
            "text/plain": [
              "6471511.0"
            ]
          },
          "metadata": {},
          "execution_count": 31
        }
      ],
      "source": [
        "df_new[\"total\"].sum().round()"
      ]
    },
    {
      "cell_type": "code",
      "execution_count": null,
      "id": "0c253b2d",
      "metadata": {
        "id": "0c253b2d",
        "outputId": "a98fb660-093a-4576-9d61-86926008a6fa"
      },
      "outputs": [
        {
          "data": {
            "text/plain": [
              "Nike    9575\n",
              "Name: brand, dtype: int64"
            ]
          },
          "execution_count": 39,
          "metadata": {},
          "output_type": "execute_result"
        }
      ],
      "source": [
        "df_sales1.brand.value_counts().head(1)"
      ]
    },
    {
      "cell_type": "code",
      "execution_count": null,
      "id": "494d95e0",
      "metadata": {
        "id": "494d95e0",
        "outputId": "152bfc0a-dd3c-467b-c271-64846b799fdf"
      },
      "outputs": [
        {
          "data": {
            "text/html": [
              "<div>\n",
              "<style scoped>\n",
              "    .dataframe tbody tr th:only-of-type {\n",
              "        vertical-align: middle;\n",
              "    }\n",
              "\n",
              "    .dataframe tbody tr th {\n",
              "        vertical-align: top;\n",
              "    }\n",
              "\n",
              "    .dataframe thead th {\n",
              "        text-align: right;\n",
              "    }\n",
              "</style>\n",
              "<table border=\"1\" class=\"dataframe\">\n",
              "  <thead>\n",
              "    <tr style=\"text-align: right;\">\n",
              "      <th></th>\n",
              "      <th>buyer_id</th>\n",
              "      <th>buyer_country</th>\n",
              "      <th>seller_id</th>\n",
              "      <th>seller_country</th>\n",
              "      <th>product_code</th>\n",
              "      <th>category</th>\n",
              "      <th>brand</th>\n",
              "      <th>currency</th>\n",
              "      <th>price</th>\n",
              "      <th>date</th>\n",
              "      <th>rate</th>\n",
              "      <th>total</th>\n",
              "    </tr>\n",
              "  </thead>\n",
              "  <tbody>\n",
              "    <tr>\n",
              "      <th>44</th>\n",
              "      <td>vjgvh5sm1u</td>\n",
              "      <td>GB</td>\n",
              "      <td>3u54hwb8</td>\n",
              "      <td>GB</td>\n",
              "      <td>0xg6kw68tooi</td>\n",
              "      <td>Accessories</td>\n",
              "      <td>Nike</td>\n",
              "      <td>GBP</td>\n",
              "      <td>14.34</td>\n",
              "      <td>2020-08-03</td>\n",
              "      <td>0.899350</td>\n",
              "      <td>15.944849</td>\n",
              "    </tr>\n",
              "    <tr>\n",
              "      <th>52</th>\n",
              "      <td>nmoew72h1d</td>\n",
              "      <td>GB</td>\n",
              "      <td>fyebp9sr</td>\n",
              "      <td>GB</td>\n",
              "      <td>12vfmncsnv39</td>\n",
              "      <td>Bottoms - Womens</td>\n",
              "      <td>Nike</td>\n",
              "      <td>GBP</td>\n",
              "      <td>4.34</td>\n",
              "      <td>2020-08-03</td>\n",
              "      <td>0.899350</td>\n",
              "      <td>4.825707</td>\n",
              "    </tr>\n",
              "    <tr>\n",
              "      <th>101</th>\n",
              "      <td>rsmgwkeh5m</td>\n",
              "      <td>GB</td>\n",
              "      <td>h7ep7gdx</td>\n",
              "      <td>GB</td>\n",
              "      <td>lesgirq6lg9k</td>\n",
              "      <td>Tops - Mens</td>\n",
              "      <td>Nike</td>\n",
              "      <td>GBP</td>\n",
              "      <td>37.29</td>\n",
              "      <td>2020-08-03</td>\n",
              "      <td>0.899350</td>\n",
              "      <td>41.463279</td>\n",
              "    </tr>\n",
              "    <tr>\n",
              "      <th>124</th>\n",
              "      <td>tnzmuezef5</td>\n",
              "      <td>GB</td>\n",
              "      <td>4jzyosjb</td>\n",
              "      <td>GB</td>\n",
              "      <td>9v2hxh4s2zdh</td>\n",
              "      <td>Outerwear - Mens</td>\n",
              "      <td>Nike</td>\n",
              "      <td>GBP</td>\n",
              "      <td>92.82</td>\n",
              "      <td>2020-08-03</td>\n",
              "      <td>0.899350</td>\n",
              "      <td>103.207872</td>\n",
              "    </tr>\n",
              "    <tr>\n",
              "      <th>177</th>\n",
              "      <td>1lwl9d7hjv</td>\n",
              "      <td>GB</td>\n",
              "      <td>ozu8m56v</td>\n",
              "      <td>GB</td>\n",
              "      <td>3dzpk2q8rm9m</td>\n",
              "      <td>Outerwear - Mens</td>\n",
              "      <td>Nike</td>\n",
              "      <td>GBP</td>\n",
              "      <td>28.18</td>\n",
              "      <td>2020-08-03</td>\n",
              "      <td>0.899350</td>\n",
              "      <td>31.333741</td>\n",
              "    </tr>\n",
              "    <tr>\n",
              "      <th>...</th>\n",
              "      <td>...</td>\n",
              "      <td>...</td>\n",
              "      <td>...</td>\n",
              "      <td>...</td>\n",
              "      <td>...</td>\n",
              "      <td>...</td>\n",
              "      <td>...</td>\n",
              "      <td>...</td>\n",
              "      <td>...</td>\n",
              "      <td>...</td>\n",
              "      <td>...</td>\n",
              "      <td>...</td>\n",
              "    </tr>\n",
              "    <tr>\n",
              "      <th>237121</th>\n",
              "      <td>h4bctiqq19</td>\n",
              "      <td>CA</td>\n",
              "      <td>ncyc4zht</td>\n",
              "      <td>CA</td>\n",
              "      <td>6crrsebuqsd8</td>\n",
              "      <td>Tops - Womens</td>\n",
              "      <td>Nike</td>\n",
              "      <td>CAD</td>\n",
              "      <td>33.63</td>\n",
              "      <td>2020-08-04</td>\n",
              "      <td>1.570995</td>\n",
              "      <td>21.406815</td>\n",
              "    </tr>\n",
              "    <tr>\n",
              "      <th>237133</th>\n",
              "      <td>bhmkajmnq7</td>\n",
              "      <td>CA</td>\n",
              "      <td>0fa1868z</td>\n",
              "      <td>CA</td>\n",
              "      <td>prw8mi0edc45</td>\n",
              "      <td>Tops - Womens</td>\n",
              "      <td>Nike</td>\n",
              "      <td>CAD</td>\n",
              "      <td>11.32</td>\n",
              "      <td>2020-08-04</td>\n",
              "      <td>1.570995</td>\n",
              "      <td>7.205624</td>\n",
              "    </tr>\n",
              "    <tr>\n",
              "      <th>237174</th>\n",
              "      <td>mvdxscl1ne</td>\n",
              "      <td>CA</td>\n",
              "      <td>rt1iq2og</td>\n",
              "      <td>CA</td>\n",
              "      <td>yzoo2tbnr154</td>\n",
              "      <td>Shoes</td>\n",
              "      <td>Nike</td>\n",
              "      <td>CAD</td>\n",
              "      <td>21.71</td>\n",
              "      <td>2020-08-04</td>\n",
              "      <td>1.570995</td>\n",
              "      <td>13.819267</td>\n",
              "    </tr>\n",
              "    <tr>\n",
              "      <th>237366</th>\n",
              "      <td>5pdtj7v7zg</td>\n",
              "      <td>CA</td>\n",
              "      <td>eqatx18l</td>\n",
              "      <td>CA</td>\n",
              "      <td>265zvtgm51rc</td>\n",
              "      <td>Shoes</td>\n",
              "      <td>Nike</td>\n",
              "      <td>CAD</td>\n",
              "      <td>87.04</td>\n",
              "      <td>2020-08-07</td>\n",
              "      <td>1.577900</td>\n",
              "      <td>55.161924</td>\n",
              "    </tr>\n",
              "    <tr>\n",
              "      <th>237428</th>\n",
              "      <td>054kp10hma</td>\n",
              "      <td>CA</td>\n",
              "      <td>qpr68mwy</td>\n",
              "      <td>CA</td>\n",
              "      <td>dniv4v3ctxdh</td>\n",
              "      <td>Outerwear</td>\n",
              "      <td>Nike</td>\n",
              "      <td>CAD</td>\n",
              "      <td>39.08</td>\n",
              "      <td>2020-08-07</td>\n",
              "      <td>1.577900</td>\n",
              "      <td>24.767096</td>\n",
              "    </tr>\n",
              "  </tbody>\n",
              "</table>\n",
              "<p>9575 rows × 12 columns</p>\n",
              "</div>"
            ],
            "text/plain": [
              "          buyer_id buyer_country seller_id seller_country  product_code  \\\n",
              "44      vjgvh5sm1u            GB  3u54hwb8             GB  0xg6kw68tooi   \n",
              "52      nmoew72h1d            GB  fyebp9sr             GB  12vfmncsnv39   \n",
              "101     rsmgwkeh5m            GB  h7ep7gdx             GB  lesgirq6lg9k   \n",
              "124     tnzmuezef5            GB  4jzyosjb             GB  9v2hxh4s2zdh   \n",
              "177     1lwl9d7hjv            GB  ozu8m56v             GB  3dzpk2q8rm9m   \n",
              "...            ...           ...       ...            ...           ...   \n",
              "237121  h4bctiqq19            CA  ncyc4zht             CA  6crrsebuqsd8   \n",
              "237133  bhmkajmnq7            CA  0fa1868z             CA  prw8mi0edc45   \n",
              "237174  mvdxscl1ne            CA  rt1iq2og             CA  yzoo2tbnr154   \n",
              "237366  5pdtj7v7zg            CA  eqatx18l             CA  265zvtgm51rc   \n",
              "237428  054kp10hma            CA  qpr68mwy             CA  dniv4v3ctxdh   \n",
              "\n",
              "                category brand currency  price       date      rate  \\\n",
              "44           Accessories  Nike      GBP  14.34 2020-08-03  0.899350   \n",
              "52      Bottoms - Womens  Nike      GBP   4.34 2020-08-03  0.899350   \n",
              "101          Tops - Mens  Nike      GBP  37.29 2020-08-03  0.899350   \n",
              "124     Outerwear - Mens  Nike      GBP  92.82 2020-08-03  0.899350   \n",
              "177     Outerwear - Mens  Nike      GBP  28.18 2020-08-03  0.899350   \n",
              "...                  ...   ...      ...    ...        ...       ...   \n",
              "237121     Tops - Womens  Nike      CAD  33.63 2020-08-04  1.570995   \n",
              "237133     Tops - Womens  Nike      CAD  11.32 2020-08-04  1.570995   \n",
              "237174             Shoes  Nike      CAD  21.71 2020-08-04  1.570995   \n",
              "237366             Shoes  Nike      CAD  87.04 2020-08-07  1.577900   \n",
              "237428         Outerwear  Nike      CAD  39.08 2020-08-07  1.577900   \n",
              "\n",
              "             total  \n",
              "44       15.944849  \n",
              "52        4.825707  \n",
              "101      41.463279  \n",
              "124     103.207872  \n",
              "177      31.333741  \n",
              "...            ...  \n",
              "237121   21.406815  \n",
              "237133    7.205624  \n",
              "237174   13.819267  \n",
              "237366   55.161924  \n",
              "237428   24.767096  \n",
              "\n",
              "[9575 rows x 12 columns]"
            ]
          },
          "execution_count": 41,
          "metadata": {},
          "output_type": "execute_result"
        }
      ],
      "source": [
        "df_new[df_new[\"brand\"] == \"Nike\"]"
      ]
    },
    {
      "cell_type": "code",
      "execution_count": null,
      "id": "16d67ca2",
      "metadata": {
        "id": "16d67ca2",
        "outputId": "8a8dfffe-1f92-433a-ee42-8e4b7a363a88"
      },
      "outputs": [
        {
          "data": {
            "text/plain": [
              "385022.0"
            ]
          },
          "execution_count": 44,
          "metadata": {},
          "output_type": "execute_result"
        }
      ],
      "source": [
        "df_new[df_new[\"brand\"] == \"Nike\"].total.sum().round()"
      ]
    },
    {
      "cell_type": "code",
      "execution_count": 32,
      "id": "4bc4e106",
      "metadata": {
        "colab": {
          "base_uri": "https://localhost:8080/"
        },
        "id": "4bc4e106",
        "outputId": "2085a8f3-6e29-4a93-ba88-3911f95b03c5"
      },
      "outputs": [
        {
          "output_type": "execute_result",
          "data": {
            "text/plain": [
              "brand\n",
              "Nike                  385022.414067\n",
              "Adidas                114211.542782\n",
              "American Vintage       89939.908652\n",
              "Brandy Melville        87735.664806\n",
              "Dr. Martens            81491.623673\n",
              "                          ...      \n",
              "butter LONDON              5.457968\n",
              "Ann Demeulemeester         5.262487\n",
              "Popular Sports             4.452175\n",
              "360 Cashmere               2.852719\n",
              "36572                      0.950199\n",
              "Name: total, Length: 1134, dtype: float64"
            ]
          },
          "metadata": {},
          "execution_count": 32
        }
      ],
      "source": [
        "df_new.groupby(\"brand\").total.sum().sort_values(ascending=False)"
      ]
    },
    {
      "cell_type": "code",
      "execution_count": null,
      "id": "991bf597",
      "metadata": {
        "id": "991bf597"
      },
      "outputs": [],
      "source": [
        ""
      ]
    },
    {
      "cell_type": "code",
      "execution_count": null,
      "id": "87aed413",
      "metadata": {
        "id": "87aed413",
        "outputId": "da620e1f-5739-4705-9abf-d706d4507a6d"
      },
      "outputs": [
        {
          "data": {
            "text/plain": [
              "array(['Dresses', 'Outerwear', 'Tops - Mens', 'Bottoms - Womens',\n",
              "       'Tops - Womens', 'Outerwear - Mens', 'Accessories', 'Jewellery',\n",
              "       'Other', 'Film', 'Art', 'Music', 'Shoes', 'Lingerie',\n",
              "       'Bottoms - Mens', 'Home', 'Tech', 'Beauty', 'Sports equipment',\n",
              "       'Kids', 'Transportation', 'Books & magazines', 'Underwear',\n",
              "       'UNSPECIFIED', nan], dtype=object)"
            ]
          },
          "execution_count": 48,
          "metadata": {},
          "output_type": "execute_result"
        }
      ],
      "source": [
        "df_sales.category.unique()"
      ]
    },
    {
      "cell_type": "code",
      "execution_count": null,
      "id": "0a58a6db",
      "metadata": {
        "id": "0a58a6db",
        "outputId": "f34a9d0f-96c6-4152-8b97-a99b9b9f5bb8"
      },
      "outputs": [
        {
          "data": {
            "text/plain": [
              "array([nan, 'Adidas Originals', 'Berghaus', ..., 'Top Stitch',\n",
              "       'Kimora Lee Simmons', 'Vita Fede'], dtype=object)"
            ]
          },
          "execution_count": 49,
          "metadata": {},
          "output_type": "execute_result"
        }
      ],
      "source": [
        "df_sales.brand.unique()"
      ]
    },
    {
      "cell_type": "code",
      "execution_count": null,
      "id": "ac6783c7",
      "metadata": {
        "id": "ac6783c7",
        "outputId": "0d54b11b-a2a3-4c20-9f7c-5eabe2d3b440"
      },
      "outputs": [
        {
          "data": {
            "text/html": [
              "<div>\n",
              "<style scoped>\n",
              "    .dataframe tbody tr th:only-of-type {\n",
              "        vertical-align: middle;\n",
              "    }\n",
              "\n",
              "    .dataframe tbody tr th {\n",
              "        vertical-align: top;\n",
              "    }\n",
              "\n",
              "    .dataframe thead th {\n",
              "        text-align: right;\n",
              "    }\n",
              "</style>\n",
              "<table border=\"1\" class=\"dataframe\">\n",
              "  <thead>\n",
              "    <tr style=\"text-align: right;\">\n",
              "      <th></th>\n",
              "      <th>buyer_id</th>\n",
              "      <th>buyer_country</th>\n",
              "      <th>seller_id</th>\n",
              "      <th>seller_country</th>\n",
              "      <th>product_code</th>\n",
              "      <th>category</th>\n",
              "      <th>brand</th>\n",
              "      <th>currency</th>\n",
              "      <th>price</th>\n",
              "      <th>date</th>\n",
              "    </tr>\n",
              "  </thead>\n",
              "  <tbody>\n",
              "    <tr>\n",
              "      <th>0</th>\n",
              "      <td>qzpjsi9t0o</td>\n",
              "      <td>GB</td>\n",
              "      <td>6oufpaot</td>\n",
              "      <td>GB</td>\n",
              "      <td>ydecnydr6obf</td>\n",
              "      <td>Dresses</td>\n",
              "      <td>NaN</td>\n",
              "      <td>GBP</td>\n",
              "      <td>19.11</td>\n",
              "      <td>2020-08-03</td>\n",
              "    </tr>\n",
              "    <tr>\n",
              "      <th>1</th>\n",
              "      <td>o79pns1qwo</td>\n",
              "      <td>GB</td>\n",
              "      <td>50xki2yg</td>\n",
              "      <td>GB</td>\n",
              "      <td>38chj507o6h2</td>\n",
              "      <td>Outerwear</td>\n",
              "      <td>Adidas Originals</td>\n",
              "      <td>GBP</td>\n",
              "      <td>15.92</td>\n",
              "      <td>2020-08-09</td>\n",
              "    </tr>\n",
              "    <tr>\n",
              "      <th>2</th>\n",
              "      <td>sjgbjdkhqx</td>\n",
              "      <td>GB</td>\n",
              "      <td>50xki2yg</td>\n",
              "      <td>GB</td>\n",
              "      <td>i9ynyxj5tdp8</td>\n",
              "      <td>Tops - Mens</td>\n",
              "      <td>NaN</td>\n",
              "      <td>GBP</td>\n",
              "      <td>6.37</td>\n",
              "      <td>2020-08-07</td>\n",
              "    </tr>\n",
              "    <tr>\n",
              "      <th>3</th>\n",
              "      <td>o79pns1qwo</td>\n",
              "      <td>GB</td>\n",
              "      <td>s0p322hh</td>\n",
              "      <td>GB</td>\n",
              "      <td>t50xe7moye8v</td>\n",
              "      <td>Tops - Mens</td>\n",
              "      <td>Berghaus</td>\n",
              "      <td>GBP</td>\n",
              "      <td>25.27</td>\n",
              "      <td>2020-08-09</td>\n",
              "    </tr>\n",
              "    <tr>\n",
              "      <th>4</th>\n",
              "      <td>o79pns1qwo</td>\n",
              "      <td>GB</td>\n",
              "      <td>dpkx192v</td>\n",
              "      <td>GB</td>\n",
              "      <td>hp4r9bjq68af</td>\n",
              "      <td>Bottoms - Womens</td>\n",
              "      <td>NaN</td>\n",
              "      <td>GBP</td>\n",
              "      <td>8.90</td>\n",
              "      <td>2020-08-09</td>\n",
              "    </tr>\n",
              "  </tbody>\n",
              "</table>\n",
              "</div>"
            ],
            "text/plain": [
              "     buyer_id buyer_country seller_id seller_country  product_code  \\\n",
              "0  qzpjsi9t0o            GB  6oufpaot             GB  ydecnydr6obf   \n",
              "1  o79pns1qwo            GB  50xki2yg             GB  38chj507o6h2   \n",
              "2  sjgbjdkhqx            GB  50xki2yg             GB  i9ynyxj5tdp8   \n",
              "3  o79pns1qwo            GB  s0p322hh             GB  t50xe7moye8v   \n",
              "4  o79pns1qwo            GB  dpkx192v             GB  hp4r9bjq68af   \n",
              "\n",
              "           category             brand currency  price        date  \n",
              "0           Dresses               NaN      GBP  19.11  2020-08-03  \n",
              "1         Outerwear  Adidas Originals      GBP  15.92  2020-08-09  \n",
              "2       Tops - Mens               NaN      GBP   6.37  2020-08-07  \n",
              "3       Tops - Mens          Berghaus      GBP  25.27  2020-08-09  \n",
              "4  Bottoms - Womens               NaN      GBP   8.90  2020-08-09  "
            ]
          },
          "execution_count": 51,
          "metadata": {},
          "output_type": "execute_result"
        }
      ],
      "source": [
        "df_sales.head()"
      ]
    },
    {
      "cell_type": "code",
      "execution_count": null,
      "id": "a85a41ee",
      "metadata": {
        "id": "a85a41ee",
        "outputId": "55cc6a25-b791-46fa-8c62-6fdac2899b0a"
      },
      "outputs": [
        {
          "data": {
            "text/plain": [
              "0         False\n",
              "1         False\n",
              "2         False\n",
              "3         False\n",
              "4         False\n",
              "          ...  \n",
              "237666    False\n",
              "237667    False\n",
              "237668    False\n",
              "237669    False\n",
              "237670    False\n",
              "Length: 237671, dtype: bool"
            ]
          },
          "execution_count": 54,
          "metadata": {},
          "output_type": "execute_result"
        }
      ],
      "source": [
        "(df_sales.category == \"Jewellery\") & (df_sales.brand.isnull())"
      ]
    },
    {
      "cell_type": "code",
      "execution_count": null,
      "id": "c686e2c7",
      "metadata": {
        "id": "c686e2c7",
        "outputId": "96cb1f5d-84ef-4922-90ac-55cb1be0c438"
      },
      "outputs": [
        {
          "data": {
            "text/html": [
              "<div>\n",
              "<style scoped>\n",
              "    .dataframe tbody tr th:only-of-type {\n",
              "        vertical-align: middle;\n",
              "    }\n",
              "\n",
              "    .dataframe tbody tr th {\n",
              "        vertical-align: top;\n",
              "    }\n",
              "\n",
              "    .dataframe thead th {\n",
              "        text-align: right;\n",
              "    }\n",
              "</style>\n",
              "<table border=\"1\" class=\"dataframe\">\n",
              "  <thead>\n",
              "    <tr style=\"text-align: right;\">\n",
              "      <th></th>\n",
              "      <th>buyer_id</th>\n",
              "      <th>buyer_country</th>\n",
              "      <th>seller_id</th>\n",
              "      <th>seller_country</th>\n",
              "      <th>product_code</th>\n",
              "      <th>category</th>\n",
              "      <th>brand</th>\n",
              "      <th>currency</th>\n",
              "      <th>price</th>\n",
              "      <th>date</th>\n",
              "    </tr>\n",
              "  </thead>\n",
              "  <tbody>\n",
              "    <tr>\n",
              "      <th>23</th>\n",
              "      <td>94lh9gu3bu</td>\n",
              "      <td>US</td>\n",
              "      <td>dhsa2q6o</td>\n",
              "      <td>US</td>\n",
              "      <td>1m846u2l2dyl</td>\n",
              "      <td>Jewellery</td>\n",
              "      <td>NaN</td>\n",
              "      <td>USD</td>\n",
              "      <td>16.29</td>\n",
              "      <td>2020-08-03</td>\n",
              "    </tr>\n",
              "    <tr>\n",
              "      <th>48</th>\n",
              "      <td>u8da411658</td>\n",
              "      <td>AU</td>\n",
              "      <td>qn7p4cv2</td>\n",
              "      <td>AU</td>\n",
              "      <td>dd4d4p2h4us2</td>\n",
              "      <td>Jewellery</td>\n",
              "      <td>NaN</td>\n",
              "      <td>AUD</td>\n",
              "      <td>12.52</td>\n",
              "      <td>2020-08-07</td>\n",
              "    </tr>\n",
              "    <tr>\n",
              "      <th>49</th>\n",
              "      <td>9exo58j839</td>\n",
              "      <td>AU</td>\n",
              "      <td>qn7p4cv2</td>\n",
              "      <td>AU</td>\n",
              "      <td>6nogqtmgfjsn</td>\n",
              "      <td>Jewellery</td>\n",
              "      <td>NaN</td>\n",
              "      <td>AUD</td>\n",
              "      <td>8.48</td>\n",
              "      <td>2020-08-09</td>\n",
              "    </tr>\n",
              "    <tr>\n",
              "      <th>50</th>\n",
              "      <td>9exo58j839</td>\n",
              "      <td>AU</td>\n",
              "      <td>qn7p4cv2</td>\n",
              "      <td>AU</td>\n",
              "      <td>w5ixs8y20z3n</td>\n",
              "      <td>Jewellery</td>\n",
              "      <td>NaN</td>\n",
              "      <td>AUD</td>\n",
              "      <td>5.58</td>\n",
              "      <td>2020-08-09</td>\n",
              "    </tr>\n",
              "    <tr>\n",
              "      <th>51</th>\n",
              "      <td>9exo58j839</td>\n",
              "      <td>AU</td>\n",
              "      <td>qn7p4cv2</td>\n",
              "      <td>AU</td>\n",
              "      <td>g5usn39z8b7u</td>\n",
              "      <td>Jewellery</td>\n",
              "      <td>NaN</td>\n",
              "      <td>AUD</td>\n",
              "      <td>5.37</td>\n",
              "      <td>2020-08-09</td>\n",
              "    </tr>\n",
              "    <tr>\n",
              "      <th>...</th>\n",
              "      <td>...</td>\n",
              "      <td>...</td>\n",
              "      <td>...</td>\n",
              "      <td>...</td>\n",
              "      <td>...</td>\n",
              "      <td>...</td>\n",
              "      <td>...</td>\n",
              "      <td>...</td>\n",
              "      <td>...</td>\n",
              "      <td>...</td>\n",
              "    </tr>\n",
              "    <tr>\n",
              "      <th>237545</th>\n",
              "      <td>rabu7nz8gn</td>\n",
              "      <td>US</td>\n",
              "      <td>rv5nmiwq</td>\n",
              "      <td>US</td>\n",
              "      <td>ikfosml5pjas</td>\n",
              "      <td>Jewellery</td>\n",
              "      <td>NaN</td>\n",
              "      <td>USD</td>\n",
              "      <td>21.19</td>\n",
              "      <td>2020-08-05</td>\n",
              "    </tr>\n",
              "    <tr>\n",
              "      <th>237568</th>\n",
              "      <td>ytjobx2wzg</td>\n",
              "      <td>GB</td>\n",
              "      <td>qib5sh0l</td>\n",
              "      <td>GB</td>\n",
              "      <td>tn00dvezdp43</td>\n",
              "      <td>Jewellery</td>\n",
              "      <td>NaN</td>\n",
              "      <td>GBP</td>\n",
              "      <td>1.15</td>\n",
              "      <td>2020-08-05</td>\n",
              "    </tr>\n",
              "    <tr>\n",
              "      <th>237569</th>\n",
              "      <td>ytjobx2wzg</td>\n",
              "      <td>GB</td>\n",
              "      <td>qib5sh0l</td>\n",
              "      <td>GB</td>\n",
              "      <td>eykndnmcb4g6</td>\n",
              "      <td>Jewellery</td>\n",
              "      <td>NaN</td>\n",
              "      <td>GBP</td>\n",
              "      <td>1.15</td>\n",
              "      <td>2020-08-05</td>\n",
              "    </tr>\n",
              "    <tr>\n",
              "      <th>237616</th>\n",
              "      <td>p0jol2ieus</td>\n",
              "      <td>US</td>\n",
              "      <td>4pi8qok2</td>\n",
              "      <td>US</td>\n",
              "      <td>0ipj5zmes1cu</td>\n",
              "      <td>Jewellery</td>\n",
              "      <td>NaN</td>\n",
              "      <td>USD</td>\n",
              "      <td>18.67</td>\n",
              "      <td>2020-08-08</td>\n",
              "    </tr>\n",
              "    <tr>\n",
              "      <th>237643</th>\n",
              "      <td>q86525x69t</td>\n",
              "      <td>GB</td>\n",
              "      <td>33hffrhq</td>\n",
              "      <td>GB</td>\n",
              "      <td>426jwzj6b2uz</td>\n",
              "      <td>Jewellery</td>\n",
              "      <td>NaN</td>\n",
              "      <td>GBP</td>\n",
              "      <td>5.30</td>\n",
              "      <td>2020-08-05</td>\n",
              "    </tr>\n",
              "  </tbody>\n",
              "</table>\n",
              "<p>13525 rows × 10 columns</p>\n",
              "</div>"
            ],
            "text/plain": [
              "          buyer_id buyer_country seller_id seller_country  product_code  \\\n",
              "23      94lh9gu3bu            US  dhsa2q6o             US  1m846u2l2dyl   \n",
              "48      u8da411658            AU  qn7p4cv2             AU  dd4d4p2h4us2   \n",
              "49      9exo58j839            AU  qn7p4cv2             AU  6nogqtmgfjsn   \n",
              "50      9exo58j839            AU  qn7p4cv2             AU  w5ixs8y20z3n   \n",
              "51      9exo58j839            AU  qn7p4cv2             AU  g5usn39z8b7u   \n",
              "...            ...           ...       ...            ...           ...   \n",
              "237545  rabu7nz8gn            US  rv5nmiwq             US  ikfosml5pjas   \n",
              "237568  ytjobx2wzg            GB  qib5sh0l             GB  tn00dvezdp43   \n",
              "237569  ytjobx2wzg            GB  qib5sh0l             GB  eykndnmcb4g6   \n",
              "237616  p0jol2ieus            US  4pi8qok2             US  0ipj5zmes1cu   \n",
              "237643  q86525x69t            GB  33hffrhq             GB  426jwzj6b2uz   \n",
              "\n",
              "         category brand currency  price        date  \n",
              "23      Jewellery   NaN      USD  16.29  2020-08-03  \n",
              "48      Jewellery   NaN      AUD  12.52  2020-08-07  \n",
              "49      Jewellery   NaN      AUD   8.48  2020-08-09  \n",
              "50      Jewellery   NaN      AUD   5.58  2020-08-09  \n",
              "51      Jewellery   NaN      AUD   5.37  2020-08-09  \n",
              "...           ...   ...      ...    ...         ...  \n",
              "237545  Jewellery   NaN      USD  21.19  2020-08-05  \n",
              "237568  Jewellery   NaN      GBP   1.15  2020-08-05  \n",
              "237569  Jewellery   NaN      GBP   1.15  2020-08-05  \n",
              "237616  Jewellery   NaN      USD  18.67  2020-08-08  \n",
              "237643  Jewellery   NaN      GBP   5.30  2020-08-05  \n",
              "\n",
              "[13525 rows x 10 columns]"
            ]
          },
          "execution_count": 53,
          "metadata": {},
          "output_type": "execute_result"
        }
      ],
      "source": [
        "df_sales[(df_sales.category == \"Jewellery\") & (df_sales.brand.isnull())]"
      ]
    },
    {
      "cell_type": "code",
      "execution_count": null,
      "id": "26308d71",
      "metadata": {
        "id": "26308d71",
        "outputId": "1091de02-68cd-4c64-9bcd-227e538a4b60"
      },
      "outputs": [
        {
          "data": {
            "text/plain": [
              "10931"
            ]
          },
          "execution_count": 52,
          "metadata": {},
          "output_type": "execute_result"
        }
      ],
      "source": [
        "df_sales[(df_sales.category == \"Jewellery\") & (df_sales.brand.isnull())].product_code.nunique()"
      ]
    },
    {
      "cell_type": "code",
      "execution_count": null,
      "id": "23d4c76f",
      "metadata": {
        "id": "23d4c76f"
      },
      "outputs": [],
      "source": [
        ""
      ]
    },
    {
      "cell_type": "code",
      "execution_count": null,
      "id": "d0a8a2d2",
      "metadata": {
        "id": "d0a8a2d2",
        "outputId": "68345d4a-1e40-4606-c47e-c26e8f0b2e02"
      },
      "outputs": [
        {
          "data": {
            "text/plain": [
              "Nike                  9575\n",
              "Brandy Melville       5065\n",
              "Topshop               4561\n",
              "PrettyLittle Thing    4136\n",
              "Adidas                3905\n",
              "                      ... \n",
              "Duke                     1\n",
              "Haider Ackermann         1\n",
              "Born x Raised            1\n",
              "Cruyff                   1\n",
              "Chocoolate               1\n",
              "Name: brand, Length: 1134, dtype: int64"
            ]
          },
          "execution_count": 55,
          "metadata": {},
          "output_type": "execute_result"
        }
      ],
      "source": [
        "df_sales.brand.value_counts()"
      ]
    },
    {
      "cell_type": "code",
      "execution_count": null,
      "id": "323fbb73",
      "metadata": {
        "id": "323fbb73",
        "outputId": "17fba449-ca98-4289-869b-18b4eab602fd"
      },
      "outputs": [
        {
          "data": {
            "text/plain": [
              "Index(['Nike', 'Brandy Melville', 'Topshop', 'PrettyLittle Thing', 'Adidas',\n",
              "       'American Vintage', 'Zara', 'Urban Outfitters', 'ASOS', 'Vans',\n",
              "       ...\n",
              "       'do Sport', 'Current Seen', 'Melody Ehsani', 'Evan Picone',\n",
              "       'Lauren Brooke', 'Duke', 'Haider Ackermann', 'Born x Raised', 'Cruyff',\n",
              "       'Chocoolate'],\n",
              "      dtype='object', length=1134)"
            ]
          },
          "execution_count": 60,
          "metadata": {},
          "output_type": "execute_result"
        }
      ],
      "source": [
        "df_sales.brand.value_counts().index"
      ]
    },
    {
      "cell_type": "code",
      "execution_count": null,
      "id": "c8cdd414",
      "metadata": {
        "id": "c8cdd414",
        "outputId": "0fa56436-384a-4ecc-946c-1c386d6b183b"
      },
      "outputs": [
        {
          "data": {
            "text/plain": [
              "array([9575, 5065, 4561, ...,    1,    1,    1], dtype=int64)"
            ]
          },
          "execution_count": 61,
          "metadata": {},
          "output_type": "execute_result"
        }
      ],
      "source": [
        "df_sales.brand.value_counts().values"
      ]
    },
    {
      "cell_type": "code",
      "execution_count": 34,
      "id": "9aa1cd77",
      "metadata": {
        "colab": {
          "base_uri": "https://localhost:8080/"
        },
        "id": "9aa1cd77",
        "outputId": "9a376802-25e0-4948-8fd3-71562825d8f0"
      },
      "outputs": [
        {
          "output_type": "execute_result",
          "data": {
            "text/plain": [
              "Nike                  False\n",
              "Brandy Melville       False\n",
              "Topshop               False\n",
              "PrettyLittle Thing    False\n",
              "Adidas                False\n",
              "                      ...  \n",
              "Preen                 False\n",
              "Wacoal                False\n",
              "Shu Uemura            False\n",
              "Parker                False\n",
              "Vita Fede             False\n",
              "Name: brand, Length: 1134, dtype: bool"
            ]
          },
          "metadata": {},
          "execution_count": 34
        }
      ],
      "source": [
        "((df_sales.brand.value_counts() > 34) & (df_sales.brand.value_counts() < 56))"
      ]
    },
    {
      "cell_type": "code",
      "execution_count": null,
      "id": "baa9e7d2",
      "metadata": {
        "id": "baa9e7d2",
        "outputId": "ee0ef4de-d0ad-45e6-d172-877c0a26ec76"
      },
      "outputs": [
        {
          "data": {
            "text/plain": [
              "81"
            ]
          },
          "execution_count": 56,
          "metadata": {},
          "output_type": "execute_result"
        }
      ],
      "source": [
        ""
      ]
    },
    {
      "cell_type": "code",
      "execution_count": 33,
      "id": "d527d197",
      "metadata": {
        "colab": {
          "base_uri": "https://localhost:8080/"
        },
        "id": "d527d197",
        "outputId": "dc7079fc-7f45-44b6-b105-362e0ba583da"
      },
      "outputs": [
        {
          "output_type": "execute_result",
          "data": {
            "text/plain": [
              "81"
            ]
          },
          "metadata": {},
          "execution_count": 33
        }
      ],
      "source": [
        "((df_sales.brand.value_counts() > 34) & (df_sales.brand.value_counts() < 56)).sum()"
      ]
    },
    {
      "cell_type": "code",
      "execution_count": null,
      "id": "26d34f05",
      "metadata": {
        "id": "26d34f05",
        "outputId": "370b2ea6-7097-4d57-fec0-d0518e8c7fe4"
      },
      "outputs": [
        {
          "data": {
            "text/plain": [
              "81"
            ]
          },
          "execution_count": 63,
          "metadata": {},
          "output_type": "execute_result"
        }
      ],
      "source": [
        "(df_sales.groupby('brand')['brand'].count().apply(lambda x: 34 < x < 56)).sum()"
      ]
    },
    {
      "cell_type": "code",
      "execution_count": null,
      "id": "1bb5e9a6",
      "metadata": {
        "id": "1bb5e9a6"
      },
      "outputs": [],
      "source": [
        ""
      ]
    },
    {
      "cell_type": "code",
      "execution_count": 35,
      "id": "15499439",
      "metadata": {
        "colab": {
          "base_uri": "https://localhost:8080/",
          "height": 143
        },
        "id": "15499439",
        "outputId": "7359db2b-065f-4f62-a0d1-abf2cdfce375"
      },
      "outputs": [
        {
          "output_type": "execute_result",
          "data": {
            "text/plain": [
              "     buyer_id buyer_country seller_id seller_country  product_code  \\\n",
              "0  qzpjsi9t0o            GB  6oufpaot             GB  ydecnydr6obf   \n",
              "1  o79pns1qwo            GB  50xki2yg             GB  38chj507o6h2   \n",
              "2  sjgbjdkhqx            GB  50xki2yg             GB  i9ynyxj5tdp8   \n",
              "\n",
              "      category             brand currency  price        date  \n",
              "0      Dresses               NaN      GBP  19.11  2020-08-03  \n",
              "1    Outerwear  Adidas Originals      GBP  15.92  2020-08-09  \n",
              "2  Tops - Mens               NaN      GBP   6.37  2020-08-07  "
            ],
            "text/html": [
              "\n",
              "  <div id=\"df-a4563c3d-f754-442e-919a-6a5b1c843284\">\n",
              "    <div class=\"colab-df-container\">\n",
              "      <div>\n",
              "<style scoped>\n",
              "    .dataframe tbody tr th:only-of-type {\n",
              "        vertical-align: middle;\n",
              "    }\n",
              "\n",
              "    .dataframe tbody tr th {\n",
              "        vertical-align: top;\n",
              "    }\n",
              "\n",
              "    .dataframe thead th {\n",
              "        text-align: right;\n",
              "    }\n",
              "</style>\n",
              "<table border=\"1\" class=\"dataframe\">\n",
              "  <thead>\n",
              "    <tr style=\"text-align: right;\">\n",
              "      <th></th>\n",
              "      <th>buyer_id</th>\n",
              "      <th>buyer_country</th>\n",
              "      <th>seller_id</th>\n",
              "      <th>seller_country</th>\n",
              "      <th>product_code</th>\n",
              "      <th>category</th>\n",
              "      <th>brand</th>\n",
              "      <th>currency</th>\n",
              "      <th>price</th>\n",
              "      <th>date</th>\n",
              "    </tr>\n",
              "  </thead>\n",
              "  <tbody>\n",
              "    <tr>\n",
              "      <th>0</th>\n",
              "      <td>qzpjsi9t0o</td>\n",
              "      <td>GB</td>\n",
              "      <td>6oufpaot</td>\n",
              "      <td>GB</td>\n",
              "      <td>ydecnydr6obf</td>\n",
              "      <td>Dresses</td>\n",
              "      <td>NaN</td>\n",
              "      <td>GBP</td>\n",
              "      <td>19.11</td>\n",
              "      <td>2020-08-03</td>\n",
              "    </tr>\n",
              "    <tr>\n",
              "      <th>1</th>\n",
              "      <td>o79pns1qwo</td>\n",
              "      <td>GB</td>\n",
              "      <td>50xki2yg</td>\n",
              "      <td>GB</td>\n",
              "      <td>38chj507o6h2</td>\n",
              "      <td>Outerwear</td>\n",
              "      <td>Adidas Originals</td>\n",
              "      <td>GBP</td>\n",
              "      <td>15.92</td>\n",
              "      <td>2020-08-09</td>\n",
              "    </tr>\n",
              "    <tr>\n",
              "      <th>2</th>\n",
              "      <td>sjgbjdkhqx</td>\n",
              "      <td>GB</td>\n",
              "      <td>50xki2yg</td>\n",
              "      <td>GB</td>\n",
              "      <td>i9ynyxj5tdp8</td>\n",
              "      <td>Tops - Mens</td>\n",
              "      <td>NaN</td>\n",
              "      <td>GBP</td>\n",
              "      <td>6.37</td>\n",
              "      <td>2020-08-07</td>\n",
              "    </tr>\n",
              "  </tbody>\n",
              "</table>\n",
              "</div>\n",
              "      <button class=\"colab-df-convert\" onclick=\"convertToInteractive('df-a4563c3d-f754-442e-919a-6a5b1c843284')\"\n",
              "              title=\"Convert this dataframe to an interactive table.\"\n",
              "              style=\"display:none;\">\n",
              "        \n",
              "  <svg xmlns=\"http://www.w3.org/2000/svg\" height=\"24px\"viewBox=\"0 0 24 24\"\n",
              "       width=\"24px\">\n",
              "    <path d=\"M0 0h24v24H0V0z\" fill=\"none\"/>\n",
              "    <path d=\"M18.56 5.44l.94 2.06.94-2.06 2.06-.94-2.06-.94-.94-2.06-.94 2.06-2.06.94zm-11 1L8.5 8.5l.94-2.06 2.06-.94-2.06-.94L8.5 2.5l-.94 2.06-2.06.94zm10 10l.94 2.06.94-2.06 2.06-.94-2.06-.94-.94-2.06-.94 2.06-2.06.94z\"/><path d=\"M17.41 7.96l-1.37-1.37c-.4-.4-.92-.59-1.43-.59-.52 0-1.04.2-1.43.59L10.3 9.45l-7.72 7.72c-.78.78-.78 2.05 0 2.83L4 21.41c.39.39.9.59 1.41.59.51 0 1.02-.2 1.41-.59l7.78-7.78 2.81-2.81c.8-.78.8-2.07 0-2.86zM5.41 20L4 18.59l7.72-7.72 1.47 1.35L5.41 20z\"/>\n",
              "  </svg>\n",
              "      </button>\n",
              "      \n",
              "  <style>\n",
              "    .colab-df-container {\n",
              "      display:flex;\n",
              "      flex-wrap:wrap;\n",
              "      gap: 12px;\n",
              "    }\n",
              "\n",
              "    .colab-df-convert {\n",
              "      background-color: #E8F0FE;\n",
              "      border: none;\n",
              "      border-radius: 50%;\n",
              "      cursor: pointer;\n",
              "      display: none;\n",
              "      fill: #1967D2;\n",
              "      height: 32px;\n",
              "      padding: 0 0 0 0;\n",
              "      width: 32px;\n",
              "    }\n",
              "\n",
              "    .colab-df-convert:hover {\n",
              "      background-color: #E2EBFA;\n",
              "      box-shadow: 0px 1px 2px rgba(60, 64, 67, 0.3), 0px 1px 3px 1px rgba(60, 64, 67, 0.15);\n",
              "      fill: #174EA6;\n",
              "    }\n",
              "\n",
              "    [theme=dark] .colab-df-convert {\n",
              "      background-color: #3B4455;\n",
              "      fill: #D2E3FC;\n",
              "    }\n",
              "\n",
              "    [theme=dark] .colab-df-convert:hover {\n",
              "      background-color: #434B5C;\n",
              "      box-shadow: 0px 1px 3px 1px rgba(0, 0, 0, 0.15);\n",
              "      filter: drop-shadow(0px 1px 2px rgba(0, 0, 0, 0.3));\n",
              "      fill: #FFFFFF;\n",
              "    }\n",
              "  </style>\n",
              "\n",
              "      <script>\n",
              "        const buttonEl =\n",
              "          document.querySelector('#df-a4563c3d-f754-442e-919a-6a5b1c843284 button.colab-df-convert');\n",
              "        buttonEl.style.display =\n",
              "          google.colab.kernel.accessAllowed ? 'block' : 'none';\n",
              "\n",
              "        async function convertToInteractive(key) {\n",
              "          const element = document.querySelector('#df-a4563c3d-f754-442e-919a-6a5b1c843284');\n",
              "          const dataTable =\n",
              "            await google.colab.kernel.invokeFunction('convertToInteractive',\n",
              "                                                     [key], {});\n",
              "          if (!dataTable) return;\n",
              "\n",
              "          const docLinkHtml = 'Like what you see? Visit the ' +\n",
              "            '<a target=\"_blank\" href=https://colab.research.google.com/notebooks/data_table.ipynb>data table notebook</a>'\n",
              "            + ' to learn more about interactive tables.';\n",
              "          element.innerHTML = '';\n",
              "          dataTable['output_type'] = 'display_data';\n",
              "          await google.colab.output.renderOutput(dataTable, element);\n",
              "          const docLink = document.createElement('div');\n",
              "          docLink.innerHTML = docLinkHtml;\n",
              "          element.appendChild(docLink);\n",
              "        }\n",
              "      </script>\n",
              "    </div>\n",
              "  </div>\n",
              "  "
            ]
          },
          "metadata": {},
          "execution_count": 35
        }
      ],
      "source": [
        "df_sales.head(3)"
      ]
    },
    {
      "cell_type": "code",
      "execution_count": null,
      "id": "8bf7da87",
      "metadata": {
        "id": "8bf7da87",
        "outputId": "2c8c3138-8e1b-4631-d06c-5a4ebf4cc802"
      },
      "outputs": [
        {
          "data": {
            "text/plain": [
              "GB     134704\n",
              "US      82661\n",
              "AU       7868\n",
              "IE       4046\n",
              "RoW      2880\n",
              "IT       2532\n",
              "CA       2247\n",
              "DE        466\n",
              "FR        267\n",
              "Name: buyer_country, dtype: int64"
            ]
          },
          "execution_count": 65,
          "metadata": {},
          "output_type": "execute_result"
        }
      ],
      "source": [
        "df_sales.buyer_country.value_counts()"
      ]
    },
    {
      "cell_type": "code",
      "execution_count": null,
      "id": "e522c277",
      "metadata": {
        "id": "e522c277",
        "outputId": "2e70015a-4f50-465c-9d6d-90bb712adc6e"
      },
      "outputs": [
        {
          "data": {
            "text/plain": [
              "Tops - Womens        45450\n",
              "Tops - Mens          32611\n",
              "Bottoms - Womens     30001\n",
              "Shoes                21764\n",
              "Accessories          21153\n",
              "Dresses              19238\n",
              "Jewellery            14923\n",
              "Beauty                8746\n",
              "Other                 6599\n",
              "Outerwear             6321\n",
              "Bottoms - Mens        5763\n",
              "Lingerie              5301\n",
              "Outerwear - Mens      4156\n",
              "Tech                  3496\n",
              "Home                  3477\n",
              "Music                 2510\n",
              "Kids                  2135\n",
              "Art                   1777\n",
              "Books & magazines     1081\n",
              "Film                   466\n",
              "Sports equipment       413\n",
              "Underwear              177\n",
              "Transportation          90\n",
              "UNSPECIFIED              7\n",
              "Name: category, dtype: int64"
            ]
          },
          "execution_count": 66,
          "metadata": {},
          "output_type": "execute_result"
        }
      ],
      "source": [
        "df_sales.category.value_counts()"
      ]
    },
    {
      "cell_type": "code",
      "execution_count": null,
      "id": "65dfde70",
      "metadata": {
        "id": "65dfde70"
      },
      "outputs": [],
      "source": [
        ""
      ]
    },
    {
      "cell_type": "code",
      "execution_count": 38,
      "id": "8c19c7a0",
      "metadata": {
        "colab": {
          "base_uri": "https://localhost:8080/"
        },
        "id": "8c19c7a0",
        "outputId": "d3278727-eb0c-4984-e0ef-b897feec9b48"
      },
      "outputs": [
        {
          "output_type": "execute_result",
          "data": {
            "text/plain": [
              "658"
            ]
          },
          "metadata": {},
          "execution_count": 38
        }
      ],
      "source": [
        "df_sales[(df_sales[\"category\"] == \"Shoes\") & (df_sales[\"buyer_country\"] == \"AU\")].shape[0]"
      ]
    },
    {
      "cell_type": "code",
      "execution_count": 39,
      "id": "78545dd1",
      "metadata": {
        "colab": {
          "base_uri": "https://localhost:8080/"
        },
        "id": "78545dd1",
        "outputId": "cf24b4dc-3131-400d-898c-efd367e062e5"
      },
      "outputs": [
        {
          "output_type": "execute_result",
          "data": {
            "text/plain": [
              "658"
            ]
          },
          "metadata": {},
          "execution_count": 39
        }
      ],
      "source": [
        "len(df_sales[(df_sales[\"category\"] == \"Shoes\") & (df_sales[\"buyer_country\"] == \"AU\")])"
      ]
    },
    {
      "cell_type": "code",
      "execution_count": 40,
      "id": "6af41655",
      "metadata": {
        "colab": {
          "base_uri": "https://localhost:8080/"
        },
        "id": "6af41655",
        "outputId": "3707c97f-d6e6-4456-c51b-42fa25815f11"
      },
      "outputs": [
        {
          "output_type": "execute_result",
          "data": {
            "text/plain": [
              "brand\n",
              "Goyard            338.926936\n",
              "Loewe             334.530369\n",
              "Craig Green       266.792684\n",
              "TAG Heuer         224.586782\n",
              "Emilio Pucci      214.758636\n",
              "                     ...    \n",
              "Popular Sports      4.452175\n",
              "Max Factor          4.329298\n",
              "Bronica             3.329066\n",
              "360 Cashmere        0.950906\n",
              "36572               0.950199\n",
              "Name: total, Length: 1134, dtype: float64"
            ]
          },
          "metadata": {},
          "execution_count": 40
        }
      ],
      "source": [
        "df_new.groupby(\"brand\")[\"total\"].mean().sort_values(ascending=False)"
      ]
    },
    {
      "cell_type": "code",
      "execution_count": 43,
      "id": "76e380d8",
      "metadata": {
        "colab": {
          "base_uri": "https://localhost:8080/",
          "height": 661
        },
        "id": "76e380d8",
        "outputId": "4a4310a7-cca3-4e57-cfcc-72a2aad0fbda"
      },
      "outputs": [
        {
          "output_type": "execute_result",
          "data": {
            "text/plain": [
              "          buyer_id buyer_country seller_id seller_country  product_code  \\\n",
              "0       qzpjsi9t0o            GB  6oufpaot             GB  ydecnydr6obf   \n",
              "1       rd209r8c7c            GB  9p2ansc9             GB  wpxxf59cq7pc   \n",
              "2       pqbcrl8azx            GB  r9zmzem8             GB  ua9mmn86wsqy   \n",
              "3       j5en1rwmxp            GB  3o2nz88r             GB  tduo2uy8iszl   \n",
              "4       kjdezxeh1l            GB  7g56ublf             GB  39o00tcu89zq   \n",
              "...            ...           ...       ...            ...           ...   \n",
              "235867  4bdwbzrro6            GB  k3mm4vxx             GB  83ud4yc60daa   \n",
              "236300  opd00596sb            GB  an5r1hl6             GB  0ku1jrnf43o3   \n",
              "236796  yfi1i9skeo            GB  x20r5ih7             GB  cqevc7rcp5my   \n",
              "236924  0txj6lkg8n            GB  wpenf96j             GB  xczajl2pp9se   \n",
              "237633  k357zicv95            GB  pzbp73fd             GB  yemuo4mkv1ux   \n",
              "\n",
              "                category              brand currency   price       date  \\\n",
              "0                Dresses                NaN      GBP   19.11 2020-08-03   \n",
              "1       Outerwear - Mens   Adidas Originals      GBP   24.91 2020-08-03   \n",
              "2          Tops - Womens                NaN      GBP   19.31 2020-08-03   \n",
              "3       Bottoms - Womens   Urban Outfitters      GBP   16.98 2020-08-03   \n",
              "4                  Other                NaN      GBP    2.85 2020-08-03   \n",
              "...                  ...                ...      ...     ...        ...   \n",
              "235867       Accessories                NaN      EUR   19.03 2020-08-04   \n",
              "236300     Tops - Womens              Fendi      EUR   59.95 2020-08-04   \n",
              "236796       Tops - Mens  Octobers Very Own      CAD  422.54 2020-08-03   \n",
              "236924       Accessories      Louis Vuitton      NZD  117.11 2020-08-09   \n",
              "237633    Bottoms - Mens          Unbranded      SEK  212.27 2020-08-05   \n",
              "\n",
              "             rate       total  \n",
              "0        0.899350   21.248680  \n",
              "1        0.899350   27.697782  \n",
              "2        0.899350   21.471062  \n",
              "3        0.899350   18.880302  \n",
              "4        0.899350    3.168955  \n",
              "...           ...         ...  \n",
              "235867   1.000000   19.030000  \n",
              "236300   1.000000   59.950000  \n",
              "236796   1.575375  268.215504  \n",
              "236924   1.785000   65.607843  \n",
              "237633  10.272170   20.664572  \n",
              "\n",
              "[133876 rows x 12 columns]"
            ],
            "text/html": [
              "\n",
              "  <div id=\"df-d5f21055-cf1d-4f94-b6d2-4e20c960fb01\">\n",
              "    <div class=\"colab-df-container\">\n",
              "      <div>\n",
              "<style scoped>\n",
              "    .dataframe tbody tr th:only-of-type {\n",
              "        vertical-align: middle;\n",
              "    }\n",
              "\n",
              "    .dataframe tbody tr th {\n",
              "        vertical-align: top;\n",
              "    }\n",
              "\n",
              "    .dataframe thead th {\n",
              "        text-align: right;\n",
              "    }\n",
              "</style>\n",
              "<table border=\"1\" class=\"dataframe\">\n",
              "  <thead>\n",
              "    <tr style=\"text-align: right;\">\n",
              "      <th></th>\n",
              "      <th>buyer_id</th>\n",
              "      <th>buyer_country</th>\n",
              "      <th>seller_id</th>\n",
              "      <th>seller_country</th>\n",
              "      <th>product_code</th>\n",
              "      <th>category</th>\n",
              "      <th>brand</th>\n",
              "      <th>currency</th>\n",
              "      <th>price</th>\n",
              "      <th>date</th>\n",
              "      <th>rate</th>\n",
              "      <th>total</th>\n",
              "    </tr>\n",
              "  </thead>\n",
              "  <tbody>\n",
              "    <tr>\n",
              "      <th>0</th>\n",
              "      <td>qzpjsi9t0o</td>\n",
              "      <td>GB</td>\n",
              "      <td>6oufpaot</td>\n",
              "      <td>GB</td>\n",
              "      <td>ydecnydr6obf</td>\n",
              "      <td>Dresses</td>\n",
              "      <td>NaN</td>\n",
              "      <td>GBP</td>\n",
              "      <td>19.11</td>\n",
              "      <td>2020-08-03</td>\n",
              "      <td>0.899350</td>\n",
              "      <td>21.248680</td>\n",
              "    </tr>\n",
              "    <tr>\n",
              "      <th>1</th>\n",
              "      <td>rd209r8c7c</td>\n",
              "      <td>GB</td>\n",
              "      <td>9p2ansc9</td>\n",
              "      <td>GB</td>\n",
              "      <td>wpxxf59cq7pc</td>\n",
              "      <td>Outerwear - Mens</td>\n",
              "      <td>Adidas Originals</td>\n",
              "      <td>GBP</td>\n",
              "      <td>24.91</td>\n",
              "      <td>2020-08-03</td>\n",
              "      <td>0.899350</td>\n",
              "      <td>27.697782</td>\n",
              "    </tr>\n",
              "    <tr>\n",
              "      <th>2</th>\n",
              "      <td>pqbcrl8azx</td>\n",
              "      <td>GB</td>\n",
              "      <td>r9zmzem8</td>\n",
              "      <td>GB</td>\n",
              "      <td>ua9mmn86wsqy</td>\n",
              "      <td>Tops - Womens</td>\n",
              "      <td>NaN</td>\n",
              "      <td>GBP</td>\n",
              "      <td>19.31</td>\n",
              "      <td>2020-08-03</td>\n",
              "      <td>0.899350</td>\n",
              "      <td>21.471062</td>\n",
              "    </tr>\n",
              "    <tr>\n",
              "      <th>3</th>\n",
              "      <td>j5en1rwmxp</td>\n",
              "      <td>GB</td>\n",
              "      <td>3o2nz88r</td>\n",
              "      <td>GB</td>\n",
              "      <td>tduo2uy8iszl</td>\n",
              "      <td>Bottoms - Womens</td>\n",
              "      <td>Urban Outfitters</td>\n",
              "      <td>GBP</td>\n",
              "      <td>16.98</td>\n",
              "      <td>2020-08-03</td>\n",
              "      <td>0.899350</td>\n",
              "      <td>18.880302</td>\n",
              "    </tr>\n",
              "    <tr>\n",
              "      <th>4</th>\n",
              "      <td>kjdezxeh1l</td>\n",
              "      <td>GB</td>\n",
              "      <td>7g56ublf</td>\n",
              "      <td>GB</td>\n",
              "      <td>39o00tcu89zq</td>\n",
              "      <td>Other</td>\n",
              "      <td>NaN</td>\n",
              "      <td>GBP</td>\n",
              "      <td>2.85</td>\n",
              "      <td>2020-08-03</td>\n",
              "      <td>0.899350</td>\n",
              "      <td>3.168955</td>\n",
              "    </tr>\n",
              "    <tr>\n",
              "      <th>...</th>\n",
              "      <td>...</td>\n",
              "      <td>...</td>\n",
              "      <td>...</td>\n",
              "      <td>...</td>\n",
              "      <td>...</td>\n",
              "      <td>...</td>\n",
              "      <td>...</td>\n",
              "      <td>...</td>\n",
              "      <td>...</td>\n",
              "      <td>...</td>\n",
              "      <td>...</td>\n",
              "      <td>...</td>\n",
              "    </tr>\n",
              "    <tr>\n",
              "      <th>235867</th>\n",
              "      <td>4bdwbzrro6</td>\n",
              "      <td>GB</td>\n",
              "      <td>k3mm4vxx</td>\n",
              "      <td>GB</td>\n",
              "      <td>83ud4yc60daa</td>\n",
              "      <td>Accessories</td>\n",
              "      <td>NaN</td>\n",
              "      <td>EUR</td>\n",
              "      <td>19.03</td>\n",
              "      <td>2020-08-04</td>\n",
              "      <td>1.000000</td>\n",
              "      <td>19.030000</td>\n",
              "    </tr>\n",
              "    <tr>\n",
              "      <th>236300</th>\n",
              "      <td>opd00596sb</td>\n",
              "      <td>GB</td>\n",
              "      <td>an5r1hl6</td>\n",
              "      <td>GB</td>\n",
              "      <td>0ku1jrnf43o3</td>\n",
              "      <td>Tops - Womens</td>\n",
              "      <td>Fendi</td>\n",
              "      <td>EUR</td>\n",
              "      <td>59.95</td>\n",
              "      <td>2020-08-04</td>\n",
              "      <td>1.000000</td>\n",
              "      <td>59.950000</td>\n",
              "    </tr>\n",
              "    <tr>\n",
              "      <th>236796</th>\n",
              "      <td>yfi1i9skeo</td>\n",
              "      <td>GB</td>\n",
              "      <td>x20r5ih7</td>\n",
              "      <td>GB</td>\n",
              "      <td>cqevc7rcp5my</td>\n",
              "      <td>Tops - Mens</td>\n",
              "      <td>Octobers Very Own</td>\n",
              "      <td>CAD</td>\n",
              "      <td>422.54</td>\n",
              "      <td>2020-08-03</td>\n",
              "      <td>1.575375</td>\n",
              "      <td>268.215504</td>\n",
              "    </tr>\n",
              "    <tr>\n",
              "      <th>236924</th>\n",
              "      <td>0txj6lkg8n</td>\n",
              "      <td>GB</td>\n",
              "      <td>wpenf96j</td>\n",
              "      <td>GB</td>\n",
              "      <td>xczajl2pp9se</td>\n",
              "      <td>Accessories</td>\n",
              "      <td>Louis Vuitton</td>\n",
              "      <td>NZD</td>\n",
              "      <td>117.11</td>\n",
              "      <td>2020-08-09</td>\n",
              "      <td>1.785000</td>\n",
              "      <td>65.607843</td>\n",
              "    </tr>\n",
              "    <tr>\n",
              "      <th>237633</th>\n",
              "      <td>k357zicv95</td>\n",
              "      <td>GB</td>\n",
              "      <td>pzbp73fd</td>\n",
              "      <td>GB</td>\n",
              "      <td>yemuo4mkv1ux</td>\n",
              "      <td>Bottoms - Mens</td>\n",
              "      <td>Unbranded</td>\n",
              "      <td>SEK</td>\n",
              "      <td>212.27</td>\n",
              "      <td>2020-08-05</td>\n",
              "      <td>10.272170</td>\n",
              "      <td>20.664572</td>\n",
              "    </tr>\n",
              "  </tbody>\n",
              "</table>\n",
              "<p>133876 rows × 12 columns</p>\n",
              "</div>\n",
              "      <button class=\"colab-df-convert\" onclick=\"convertToInteractive('df-d5f21055-cf1d-4f94-b6d2-4e20c960fb01')\"\n",
              "              title=\"Convert this dataframe to an interactive table.\"\n",
              "              style=\"display:none;\">\n",
              "        \n",
              "  <svg xmlns=\"http://www.w3.org/2000/svg\" height=\"24px\"viewBox=\"0 0 24 24\"\n",
              "       width=\"24px\">\n",
              "    <path d=\"M0 0h24v24H0V0z\" fill=\"none\"/>\n",
              "    <path d=\"M18.56 5.44l.94 2.06.94-2.06 2.06-.94-2.06-.94-.94-2.06-.94 2.06-2.06.94zm-11 1L8.5 8.5l.94-2.06 2.06-.94-2.06-.94L8.5 2.5l-.94 2.06-2.06.94zm10 10l.94 2.06.94-2.06 2.06-.94-2.06-.94-.94-2.06-.94 2.06-2.06.94z\"/><path d=\"M17.41 7.96l-1.37-1.37c-.4-.4-.92-.59-1.43-.59-.52 0-1.04.2-1.43.59L10.3 9.45l-7.72 7.72c-.78.78-.78 2.05 0 2.83L4 21.41c.39.39.9.59 1.41.59.51 0 1.02-.2 1.41-.59l7.78-7.78 2.81-2.81c.8-.78.8-2.07 0-2.86zM5.41 20L4 18.59l7.72-7.72 1.47 1.35L5.41 20z\"/>\n",
              "  </svg>\n",
              "      </button>\n",
              "      \n",
              "  <style>\n",
              "    .colab-df-container {\n",
              "      display:flex;\n",
              "      flex-wrap:wrap;\n",
              "      gap: 12px;\n",
              "    }\n",
              "\n",
              "    .colab-df-convert {\n",
              "      background-color: #E8F0FE;\n",
              "      border: none;\n",
              "      border-radius: 50%;\n",
              "      cursor: pointer;\n",
              "      display: none;\n",
              "      fill: #1967D2;\n",
              "      height: 32px;\n",
              "      padding: 0 0 0 0;\n",
              "      width: 32px;\n",
              "    }\n",
              "\n",
              "    .colab-df-convert:hover {\n",
              "      background-color: #E2EBFA;\n",
              "      box-shadow: 0px 1px 2px rgba(60, 64, 67, 0.3), 0px 1px 3px 1px rgba(60, 64, 67, 0.15);\n",
              "      fill: #174EA6;\n",
              "    }\n",
              "\n",
              "    [theme=dark] .colab-df-convert {\n",
              "      background-color: #3B4455;\n",
              "      fill: #D2E3FC;\n",
              "    }\n",
              "\n",
              "    [theme=dark] .colab-df-convert:hover {\n",
              "      background-color: #434B5C;\n",
              "      box-shadow: 0px 1px 3px 1px rgba(0, 0, 0, 0.15);\n",
              "      filter: drop-shadow(0px 1px 2px rgba(0, 0, 0, 0.3));\n",
              "      fill: #FFFFFF;\n",
              "    }\n",
              "  </style>\n",
              "\n",
              "      <script>\n",
              "        const buttonEl =\n",
              "          document.querySelector('#df-d5f21055-cf1d-4f94-b6d2-4e20c960fb01 button.colab-df-convert');\n",
              "        buttonEl.style.display =\n",
              "          google.colab.kernel.accessAllowed ? 'block' : 'none';\n",
              "\n",
              "        async function convertToInteractive(key) {\n",
              "          const element = document.querySelector('#df-d5f21055-cf1d-4f94-b6d2-4e20c960fb01');\n",
              "          const dataTable =\n",
              "            await google.colab.kernel.invokeFunction('convertToInteractive',\n",
              "                                                     [key], {});\n",
              "          if (!dataTable) return;\n",
              "\n",
              "          const docLinkHtml = 'Like what you see? Visit the ' +\n",
              "            '<a target=\"_blank\" href=https://colab.research.google.com/notebooks/data_table.ipynb>data table notebook</a>'\n",
              "            + ' to learn more about interactive tables.';\n",
              "          element.innerHTML = '';\n",
              "          dataTable['output_type'] = 'display_data';\n",
              "          await google.colab.output.renderOutput(dataTable, element);\n",
              "          const docLink = document.createElement('div');\n",
              "          docLink.innerHTML = docLinkHtml;\n",
              "          element.appendChild(docLink);\n",
              "        }\n",
              "      </script>\n",
              "    </div>\n",
              "  </div>\n",
              "  "
            ]
          },
          "metadata": {},
          "execution_count": 43
        }
      ],
      "source": [
        "df_new[(df_new[\"seller_country\"] == \"GB\") & (df_new[\"buyer_country\"] == \"GB\")]"
      ]
    },
    {
      "cell_type": "code",
      "execution_count": 44,
      "id": "7d07d5cc",
      "metadata": {
        "colab": {
          "base_uri": "https://localhost:8080/"
        },
        "id": "7d07d5cc",
        "outputId": "dbeab64e-c549-4647-f8ac-d57ced3217af"
      },
      "outputs": [
        {
          "output_type": "execute_result",
          "data": {
            "text/plain": [
              "3526745.0"
            ]
          },
          "metadata": {},
          "execution_count": 44
        }
      ],
      "source": [
        "df_new[(df_new[\"seller_country\"] == \"GB\") & (df_new[\"buyer_country\"] == \"GB\")].total.sum().round()"
      ]
    },
    {
      "cell_type": "code",
      "execution_count": null,
      "id": "136b626b",
      "metadata": {
        "id": "136b626b"
      },
      "outputs": [],
      "source": [
        ""
      ]
    },
    {
      "cell_type": "code",
      "execution_count": 48,
      "id": "97eda761",
      "metadata": {
        "colab": {
          "base_uri": "https://localhost:8080/"
        },
        "id": "97eda761",
        "outputId": "9e549b1d-cae5-4c58-d330-df744d56d008"
      },
      "outputs": [
        {
          "output_type": "execute_result",
          "data": {
            "text/plain": [
              "2021779.311517296"
            ]
          },
          "metadata": {},
          "execution_count": 48
        }
      ],
      "source": [
        "a = df_new[(df_new[\"seller_country\"] == \"US\") & (df_new[\"buyer_country\"] == \"US\")].total.sum()\n",
        "a"
      ]
    },
    {
      "cell_type": "code",
      "execution_count": 47,
      "id": "364dfb97",
      "metadata": {
        "colab": {
          "base_uri": "https://localhost:8080/"
        },
        "id": "364dfb97",
        "outputId": "9b5f081f-648d-4356-89d1-d65227095559"
      },
      "outputs": [
        {
          "output_type": "execute_result",
          "data": {
            "text/plain": [
              "2106695.5606899997"
            ]
          },
          "metadata": {},
          "execution_count": 47
        }
      ],
      "source": [
        "b = df_new[df_new[\"seller_country\"] == \"US\"].total.sum()\n",
        "b"
      ]
    },
    {
      "cell_type": "code",
      "execution_count": 52,
      "id": "086e8166",
      "metadata": {
        "colab": {
          "base_uri": "https://localhost:8080/"
        },
        "id": "086e8166",
        "outputId": "f2826009-601d-4d74-fe29-a87422c60ebb"
      },
      "outputs": [
        {
          "output_type": "execute_result",
          "data": {
            "text/plain": [
              "95.97"
            ]
          },
          "metadata": {},
          "execution_count": 52
        }
      ],
      "source": [
        "round(a / b *100, )"
      ]
    },
    {
      "cell_type": "code",
      "execution_count": null,
      "id": "9e8a7691",
      "metadata": {
        "id": "9e8a7691"
      },
      "outputs": [],
      "source": [
        ""
      ]
    },
    {
      "cell_type": "code",
      "execution_count": null,
      "id": "0d6b9c78",
      "metadata": {
        "id": "0d6b9c78"
      },
      "outputs": [],
      "source": [
        ""
      ]
    }
  ],
  "metadata": {
    "kernelspec": {
      "display_name": "Python 3",
      "language": "python",
      "name": "python3"
    },
    "language_info": {
      "codemirror_mode": {
        "name": "ipython",
        "version": 3
      },
      "file_extension": ".py",
      "mimetype": "text/x-python",
      "name": "python",
      "nbconvert_exporter": "python",
      "pygments_lexer": "ipython3",
      "version": "3.8.13"
    },
    "toc": {
      "base_numbering": 1,
      "nav_menu": {},
      "number_sections": true,
      "sideBar": true,
      "skip_h1_title": false,
      "title_cell": "Table of Contents",
      "title_sidebar": "Contents",
      "toc_cell": false,
      "toc_position": {},
      "toc_section_display": true,
      "toc_window_display": false
    },
    "colab": {
      "name": "Time_Sensetive_Inclass_Solution (1).ipynb",
      "provenance": []
    }
  },
  "nbformat": 4,
  "nbformat_minor": 5
}