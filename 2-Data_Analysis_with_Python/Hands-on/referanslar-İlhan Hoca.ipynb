{
 "cells": [
  {
   "cell_type": "markdown",
   "id": "158bb86d",
   "metadata": {},
   "source": [
    "**BU KISIMDA YAPILACAK TÜM İŞLEMLER İÇİN MARKDOWN SEÇİLMELİDİR. CODE SEÇİLİ OLURSA ÇALIŞMAZ VEYA HATA VERİR**"
   ]
  },
  {
   "cell_type": "markdown",
   "id": "277ad232",
   "metadata": {},
   "source": [
    "# RESİM"
   ]
  },
  {
   "cell_type": "markdown",
   "id": "c8d6e007",
   "metadata": {},
   "source": [
    "## Resim yerleştirme"
   ]
  },
  {
   "cell_type": "markdown",
   "id": "2ffcf1aa",
   "metadata": {},
   "source": [
    "<div align=center><img src=\"https://clarusway.com/wp-content/uploads/2022/02/Adsiz-tasarim-4-300x78.png\" width=200></div>\n",
    "\n",
    "width=200 ile aldığım resmin genişliğini düzenledim"
   ]
  },
  {
   "cell_type": "markdown",
   "id": "c8bc5d27",
   "metadata": {},
   "source": [
    "<div align=center><img src=\"https://clarusway.com/wp-content/uploads/2022/02/Adsiz-tasarim-4-300x78.png\" width=200></div>"
   ]
  },
  {
   "cell_type": "markdown",
   "id": "fe3a1177",
   "metadata": {},
   "source": [
    "## Resme link yerleştirme"
   ]
  },
  {
   "cell_type": "markdown",
   "id": "e31ab67d",
   "metadata": {},
   "source": [
    "#bu kısımda resme link koydum\n",
    "<br>   \n",
    "<div align=center><p>\n",
    "<a target=\"_blank\" href=\"https://clarusway.com/\"><img src=\"https://clarusway.com/wp-content/uploads/2022/02/Adsiz-tasarim-4-300x78.png\" width=200></a>\n",
    "</p></div>\n",
    "</br>\n"
   ]
  },
  {
   "cell_type": "markdown",
   "id": "0b230004",
   "metadata": {},
   "source": [
    "<br>   \n",
    "<div align=center><p>\n",
    "<a target=\"_blank\" href=\"https://clarusway.com/\"><img src=\"https://clarusway.com/wp-content/uploads/2022/02/Adsiz-tasarim-4-300x78.png\" width=200></a>\n",
    "</p></div>\n",
    "</br>"
   ]
  },
  {
   "cell_type": "markdown",
   "id": "cd9d871b",
   "metadata": {},
   "source": [
    "# İç İşaretler"
   ]
  },
  {
   "cell_type": "markdown",
   "id": "a8b41aab",
   "metadata": {},
   "source": [
    "## Metin içinde link verme"
   ]
  },
  {
   "cell_type": "markdown",
   "id": "637cce87",
   "metadata": {},
   "source": [
    "link olacak kısmı köşeli paranteze al. sonra arada boşluk olmayacak şekilde linki parantezle yaz"
   ]
  },
  {
   "cell_type": "markdown",
   "id": "c41e9515",
   "metadata": {},
   "source": [
    "You can start with the first part of the tutorial [here](https://www.kaggle.com/rtatman/getting-started-in-r-first-steps/)."
   ]
  },
  {
   "cell_type": "markdown",
   "id": "c3a1b48a",
   "metadata": {},
   "source": [
    "You can start with the first part of the tutorial [here](https://www.kaggle.com/rtatman/getting-started-in-r-first-steps/)."
   ]
  },
  {
   "cell_type": "markdown",
   "id": "b53271a2",
   "metadata": {},
   "source": [
    "## Madde işaretleri kullanma"
   ]
  },
  {
   "cell_type": "markdown",
   "id": "0305416c",
   "metadata": {},
   "source": [
    "madde işaretleri ile kullanılacak yerin başına *, - koyulur"
   ]
  },
  {
   "cell_type": "markdown",
   "id": "b0e2d788",
   "metadata": {},
   "source": [
    "In this part of the tutorial, we'll:\n",
    "* learn how to graph our data\n",
    "* save our graphs"
   ]
  },
  {
   "cell_type": "markdown",
   "id": "00476f56",
   "metadata": {},
   "source": [
    "In this part of the tutorial, we'll:\n",
    "* learn how to graph our data\n",
    "* save our graphs"
   ]
  },
  {
   "cell_type": "markdown",
   "id": "a0c0b35b",
   "metadata": {},
   "source": [
    "In this part of the tutorial, we'll:\n",
    "- learn how to graph our data\n",
    "- save our graphs"
   ]
  },
  {
   "cell_type": "markdown",
   "id": "754853b3",
   "metadata": {},
   "source": [
    "In this part of the tutorial, we'll:\n",
    "- learn how to graph our data\n",
    "- save our graphs"
   ]
  },
  {
   "cell_type": "markdown",
   "id": "6401df29",
   "metadata": {},
   "source": [
    "## Numaralandırma"
   ]
  },
  {
   "cell_type": "markdown",
   "id": "715ed248",
   "metadata": {},
   "source": [
    "Numaralanacak yerin satır başında numara ile başlıyoruz"
   ]
  },
  {
   "cell_type": "markdown",
   "id": "4e7be9e5",
   "metadata": {},
   "source": [
    "Plots in ggplot2 are \"built up\" using multiple functions connected with the plus sign (+). The first function, ggplot(), just draws the outline of the plot, including the the axes and tick marks. It takes two arguments.\n",
    "1. The dataset that you want to plot. \n",
    "2. A function, aes(), short for aesthetic. This function itself takes multiple arguments. Let's start by using x & y, which will tell the function which columns of the data_frame to plot on the x axis and y axis."
   ]
  },
  {
   "cell_type": "markdown",
   "id": "06b3171e",
   "metadata": {},
   "source": [
    "Plots in ggplot2 are \"built up\" using multiple functions connected with the plus sign (+). The first function, ggplot(), just draws the outline of the plot, including the the axes and tick marks. It takes two arguments.\n",
    "1. The dataset that you want to plot. \n",
    "2. A function, aes(), short for aesthetic. This function itself takes multiple arguments. Let's start by using x & y, which will tell the function which columns of the data_frame to plot on the x axis and y axis."
   ]
  },
  {
   "cell_type": "markdown",
   "id": "3dbfb803",
   "metadata": {},
   "source": [
    "## Kalın yazdırma"
   ]
  },
  {
   "cell_type": "markdown",
   "id": "3df76c24",
   "metadata": {},
   "source": [
    "Kalın yapılmak istenen harf, kelime, cümle, paragraf vs. ** ** -çift yıldızlar- arasına yazılır.Yıldızlar ile metin arasında boşluk olmamalıdır."
   ]
  },
  {
   "cell_type": "markdown",
   "id": "0c029b82",
   "metadata": {},
   "source": [
    "**This notebook is interactive! It will have errors until you fork it and add all the code it needs to run correctly. Don't worry: if you've been working through this tutorial you already know everything you need to get it working correctly and I'll give you instructions and reminders to help you out.**"
   ]
  },
  {
   "cell_type": "markdown",
   "id": "61d6e8eb",
   "metadata": {},
   "source": [
    "## İtalik yazdırma"
   ]
  },
  {
   "cell_type": "markdown",
   "id": "ae99d4e3",
   "metadata": {},
   "source": [
    "* İtalik yazdırmak istediğimiz kısım * * -tek yıldızlar- arasına yazılır\n",
    "* Birden çok şeyi aynı anda kullanabiliriz"
   ]
  },
  {
   "cell_type": "markdown",
   "id": "4893a31b",
   "metadata": {},
   "source": [
    "* I've **done some of the steps** that we didn't *talk about in a lot of detail* for you\n",
    "- Örneğin hem kalın, hem italik, hem madde imli"
   ]
  },
  {
   "cell_type": "markdown",
   "id": "9962f0ec",
   "metadata": {},
   "source": [
    "* I've **done some of the steps** that we didn't *talk about in a lot of detail* for you"
   ]
  },
  {
   "cell_type": "markdown",
   "id": "f1907ec6",
   "metadata": {},
   "source": [
    "## İçe kaydırma"
   ]
  },
  {
   "cell_type": "markdown",
   "id": "5b484cf3",
   "metadata": {},
   "source": [
    "İçe kaydırmak için kaydırmak istediğimiz paragraf başına büyük işareti > koyuyoruz. >> bu sayıyı artırdıkça içe kayar."
   ]
  },
  {
   "cell_type": "markdown",
   "id": "529ff909",
   "metadata": {},
   "source": [
    "> **Hint**: Different geoms require different aesthetics. If your code runs but doesn't return a plot, it's usually because you've given ggplot() one set of aesthetics, \n",
    "\n",
    ">> but the geom you're using need a different set. geom_histogram(), for example, only needs to  know what to plot on the x axis. If you tell it to plot something on the x axis and something else on the y axis, it won't return the plot you're expecting.\n"
   ]
  },
  {
   "cell_type": "markdown",
   "id": "3285ea97",
   "metadata": {},
   "source": [
    "> **Hint**: Different geoms require different aesthetics. If your code runs but doesn't return a plot, it's usually because you've given ggplot() one set of aesthetics, \n",
    "\n",
    ">> but the geom you're using need a different set. geom_histogram(), for example, only needs to  know what to plot on the x axis. If you tell it to plot something on the x axis and something else on the y axis, it won't return the plot you're expecting."
   ]
  },
  {
   "cell_type": "markdown",
   "id": "ad9e86d8",
   "metadata": {},
   "source": [
    "## Büyük başlık yazdırma"
   ]
  },
  {
   "cell_type": "markdown",
   "id": "00e254a4",
   "metadata": {},
   "source": [
    "<p style=\"background-color:#FDFEFE; font-family:arial; color:#09042b; font-size:350%; text-align:center; border-radius:10px 10px;\"></p> #üstte aynı ölçülerde boşluk bıraktım. Silinebilir duruma göre\n",
    "\n",
    "<p style=\"background-color:#FDFEFE; font-family:arial; color:#09042b; font-size:400%; text-align:center; border-radius:10px 10px;\"> Başlık 1</p>\n",
    "\n",
    "<p style=\"background-color:#FDFEFE; font-family:arial; color:#09042b; font-size:350%; text-align:center; border-radius:10px 10px;\"> Başlık 2 </p>  #font_size dan boyut ayarlanabilir\n",
    "\n",
    "<p style=\"background-color:#FDFEFE; font-family:arial; color:#09042b; font-size:350%; text-align:center; border-radius:10px 10px;\"></p>  #altta aynı ölçülerde boşluk bıraktım. Silinebilir duruma göre"
   ]
  },
  {
   "cell_type": "markdown",
   "id": "0eb1bf29",
   "metadata": {},
   "source": [
    "<p style=\"background-color:#FDFEFE; font-family:arial; color:#09042b; font-size:350%; text-align:center; border-radius:10px 10px;\"></p>\n",
    "\n",
    "<p style=\"background-color:#FDFEFE; font-family:arial; color:#09042b; font-size:400%; text-align:center; border-radius:10px 10px;\"> Başlık 1</p>\n",
    "\n",
    "<p style=\"background-color:#FDFEFE; font-family:arial; color:#09042b; font-size:350%; text-align:center; border-radius:10px 10px;\"> Başlık 2 </p>\n",
    "\n",
    "<p style=\"background-color:#FDFEFE; font-family:arial; color:#09042b; font-size:350%; text-align:center; border-radius:10px 10px;\"></p>"
   ]
  },
  {
   "cell_type": "markdown",
   "id": "49d1b94f",
   "metadata": {},
   "source": [
    "## Başlıkların İçini Doldurma"
   ]
  },
  {
   "cell_type": "markdown",
   "id": "3a12a41e",
   "metadata": {},
   "source": [
    "[**Renk Numaraları için bakabilirsiniz**](https://www.99colors.net/hex/FF2626)"
   ]
  },
  {
   "cell_type": "markdown",
   "id": "f755c763",
   "metadata": {},
   "source": [
    "sarı-siyah renkler\n",
    "başlık boyutunu ayarladık\n",
    "### <p style=\"background-color:#262222; font-family:arial; color:#d0fc08; font-size:175%; text-align:center; border-radius:10px 10px;\">About Dataset</p>\n",
    "\n",
    "#alttaki butonla ilgili kısım istenirse çıkarılabilir\n",
    "<a id=\"0\"></a>\n",
    "<a href=\"#toc\" class=\"btn btn-primary btn-sm\" role=\"button\" aria-pressed=\"true\" \n",
    "style=\"color:#d0fc08; background-color:#262222\" data-toggle=\"popover\">Content</a>"
   ]
  },
  {
   "cell_type": "markdown",
   "id": "77cafb06",
   "metadata": {},
   "source": [
    "### <p style=\"background-color:#262222; font-family:arial; color:#d0fc08; font-size:175%; text-align:center; border-radius:10px 10px;\">About Dataset</p>\n",
    "\n",
    "<a id=\"0\"></a>\n",
    "<a href=\"#toc\" class=\"btn btn-primary btn-sm\" role=\"button\" aria-pressed=\"true\" \n",
    "style=\"color:#d0fc08; background-color:#262222\" data-toggle=\"popover\">Content</a>"
   ]
  },
  {
   "cell_type": "markdown",
   "id": "57a47337",
   "metadata": {},
   "source": [
    "kırmızı-beyaz renkler , background-color:red   color:white font ve font-size da değişebilir\n",
    "### <p style=\"background-color:red; font-family:arial; color:white; font-size:175%; text-align:center; border-radius:10px 10px;\">About Dataset</p>"
   ]
  },
  {
   "cell_type": "markdown",
   "id": "1a877a53",
   "metadata": {},
   "source": [
    "kırmızı-beyaz renkler , background-color:red   color:white font ve font-size da değişebilir\n",
    "### <p style=\"background-color:red; font-family:arial; color:white; font-size:175%; text-align:center; border-radius:10px 10px; opacity: 0.9\">About Dataset</p>"
   ]
  },
  {
   "cell_type": "markdown",
   "id": "7be5d2dd",
   "metadata": {},
   "source": [
    "### <p style=\"background-color:red; font-family:arial; color:white; font-size:175%; text-align:center; border-radius:10px 10px\">About Dataset</p>"
   ]
  },
  {
   "cell_type": "markdown",
   "id": "80eb5743",
   "metadata": {},
   "source": [
    "kırmızı-beyaz renkler , background-color:red   color:white font ve font-size da değişebilir opacity ekledim\n",
    "### <p style=\"background-color:red; font-family:arial; color:white; font-size:175%; text-align:center; border-radius:10px 10px; opacity: 0.9\">About Dataset</p>"
   ]
  },
  {
   "cell_type": "markdown",
   "id": "b708c70c",
   "metadata": {},
   "source": [
    "### <p style=\"background-color:red; font-family:arial; color:white; font-size:175%; text-align:center; border-radius:10px 10px; opacity: 0.9\">About Dataset</p>"
   ]
  },
  {
   "cell_type": "markdown",
   "id": "65c79c7b",
   "metadata": {},
   "source": [
    "### <p style=\"background-color:tomato; font-family:arial; color:white; font-size:175%; text-align:center; border-radius:10px 10px;\">About Dataset</p>"
   ]
  },
  {
   "cell_type": "markdown",
   "id": "194deb69",
   "metadata": {},
   "source": [
    "### <p style=\"background-color:#54575c; font-family:arial; color:white; font-size:175%; text-align:center; border-radius:10px 10px;\">About Dataset</p>"
   ]
  },
  {
   "cell_type": "markdown",
   "id": "c870c5d7",
   "metadata": {},
   "source": [
    "### <p style=\"background-color:#8B0000; font-family:arial; color:white; font-size:175%; text-align:center; border-radius:10px 10px; opacity: 0.9\">About Dataset</p>"
   ]
  },
  {
   "cell_type": "markdown",
   "id": "9ce05435",
   "metadata": {},
   "source": [
    "### <p style=\"background-color:#FF2626; font-family:arial; color:white; font-size:175%; text-align:center; border-radius:10px 10px; opacity: 0.9\">About Dataset</p>"
   ]
  },
  {
   "cell_type": "markdown",
   "id": "a82abb21",
   "metadata": {},
   "source": [
    "# İçindekiler Tablosu oluşturma"
   ]
  },
  {
   "cell_type": "markdown",
   "id": "5fc29970",
   "metadata": {},
   "source": [
    " Table of Contents\n",
    "1. [Chapter 1 - How a Data Scientist Beat the Odds](#ch1) #(#ch1) unique değerler yazıyoruz\n",
    "2. [Chapter 3 - Step 1: Define the Problem and Step 2: Gather the Data](#ch2)"
   ]
  },
  {
   "cell_type": "markdown",
   "id": "ad4434b2",
   "metadata": {},
   "source": [
    " Table of Contents\n",
    "1. [Chapter 1 - How a Data Scientist Beat the Odds](#ch1)\n",
    "2. [Chapter 3 - Step 1: Define the Problem and Step 2: Gather the Data](#ch2)"
   ]
  },
  {
   "cell_type": "markdown",
   "id": "59f2b374",
   "metadata": {},
   "source": [
    "<a id=\"ch1\"></a>   #bu kısımda id ye değerlerimizi atıyoruz\n",
    "**How a Data Scientist Beat the Odds**\n",
    "It's the classical problem, predict the outcome of a binary event. In laymen terms this means, it either occurred or did not occur. For example, you won or did not win, you passed the test or did not pass the test, you were accepted or not accepted, and you get the point."
   ]
  },
  {
   "cell_type": "markdown",
   "id": "52202aad",
   "metadata": {},
   "source": [
    "<a id=\"ch1\"></a>\n",
    "**How a Data Scientist Beat the Odds**\n",
    "\n",
    "It's the classical problem, predict the outcome of a binary event. In laymen terms this means, it either occurred or did not occur. For example, you won or did not win, you passed the test or did not pass the test, you were accepted or not accepted, and you get the point."
   ]
  },
  {
   "cell_type": "markdown",
   "id": "77316ab6",
   "metadata": {},
   "source": [
    "<a id=\"ch2\"></a>\n",
    "**Step 1: Define the Problem**\n",
    "For this project, the problem statement is given to us on a golden plater, develop an algorithm to predict the survival outcome of passengers on the Titanic."
   ]
  },
  {
   "cell_type": "markdown",
   "id": "7e73d7c8",
   "metadata": {},
   "source": [
    "<a id=\"ch2\"></a>\n",
    "**Step 1: Define the Problem**\n",
    "For this project, the problem statement is given to us on a golden plater, develop an algorithm to predict the survival outcome of passengers on the Titanic."
   ]
  },
  {
   "cell_type": "markdown",
   "id": "be951aa7",
   "metadata": {},
   "source": [
    "# Örnek Notebook"
   ]
  },
  {
   "cell_type": "markdown",
   "id": "7802412e",
   "metadata": {},
   "source": [
    "[Link1](https://www.kaggle.com/code/hanimounla/a-data-science-framework-to-achieve-99-accuracy)"
   ]
  },
  {
   "cell_type": "code",
   "execution_count": null,
   "id": "7e973630",
   "metadata": {},
   "outputs": [],
   "source": []
  }
 ],
 "metadata": {
  "kernelspec": {
   "display_name": "Python 3 (ipykernel)",
   "language": "python",
   "name": "python3"
  },
  "language_info": {
   "codemirror_mode": {
    "name": "ipython",
    "version": 3
   },
   "file_extension": ".py",
   "mimetype": "text/x-python",
   "name": "python",
   "nbconvert_exporter": "python",
   "pygments_lexer": "ipython3",
   "version": "3.9.7"
  },
  "toc": {
   "base_numbering": 1,
   "nav_menu": {},
   "number_sections": true,
   "sideBar": true,
   "skip_h1_title": false,
   "title_cell": "Table of Contents",
   "title_sidebar": "Contents",
   "toc_cell": false,
   "toc_position": {
    "height": "calc(100% - 180px)",
    "left": "10px",
    "top": "150px",
    "width": "264.188px"
   },
   "toc_section_display": true,
   "toc_window_display": true
  }
 },
 "nbformat": 4,
 "nbformat_minor": 5
}
